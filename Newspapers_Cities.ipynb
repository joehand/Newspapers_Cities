{
 "metadata": {
  "name": "Newspapers_Cities"
 },
 "nbformat": 3,
 "nbformat_minor": 0,
 "worksheets": [
  {
   "cells": [
    {
     "cell_type": "code",
     "collapsed": false,
     "input": [
      "from pandas import Series, DataFrame\n",
      "import pandas as pd\n",
      "import json\n",
      "import urllib\n",
      "from scipy import stats\n",
      "import scipy as sp\n",
      "import numpy as np"
     ],
     "language": "python",
     "metadata": {},
     "outputs": [],
     "prompt_number": 4
    },
    {
     "cell_type": "code",
     "collapsed": false,
     "input": [
      "places = pd.read_csv('places_census2010.txt', sep='\t')"
     ],
     "language": "python",
     "metadata": {},
     "outputs": [],
     "prompt_number": 3
    },
    {
     "cell_type": "code",
     "collapsed": false,
     "input": [
      "places['TYPE'] = places['NAME'].map(lambda x: x.split()[-1].lower()) #separate out last word in name which is type of place\n",
      "places['NAME'] = places['NAME'].map(lambda x: ' '.join(x.split()[:-1]))"
     ],
     "language": "python",
     "metadata": {},
     "outputs": [],
     "prompt_number": 4
    },
    {
     "cell_type": "code",
     "collapsed": false,
     "input": [
      "census_cities = places[places['TYPE'] == 'city']\n",
      "census_cities"
     ],
     "language": "python",
     "metadata": {},
     "outputs": [
      {
       "html": [
        "<pre>\n",
        "&lt;class 'pandas.core.frame.DataFrame'&gt;\n",
        "Int64Index: 10159 entries, 1 to 29257\n",
        "Data columns (total 15 columns):\n",
        "USPS                                                                                               10159  non-null values\n",
        "GEOID                                                                                              10159  non-null values\n",
        "ANSICODE                                                                                           10159  non-null values\n",
        "NAME                                                                                               10159  non-null values\n",
        "LSAD                                                                                               10159  non-null values\n",
        "FUNCSTAT                                                                                           10159  non-null values\n",
        "POP10                                                                                              10159  non-null values\n",
        "HU10                                                                                               10159  non-null values\n",
        "ALAND                                                                                              10159  non-null values\n",
        "AWATER                                                                                             10159  non-null values\n",
        "ALAND_SQMI                                                                                         10159  non-null values\n",
        "AWATER_SQMI                                                                                        10159  non-null values\n",
        "INTPTLAT                                                                                           10159  non-null values\n",
        "INTPTLONG                                                                                          10159  non-null values\n",
        "TYPE                                                                                               10159  non-null values\n",
        "dtypes: float64(4), int64(6), object(5)\n",
        "</pre>"
       ],
       "output_type": "pyout",
       "prompt_number": 236,
       "text": [
        "<class 'pandas.core.frame.DataFrame'>\n",
        "Int64Index: 10159 entries, 1 to 29257\n",
        "Data columns (total 15 columns):\n",
        "USPS                                                                                               10159  non-null values\n",
        "GEOID                                                                                              10159  non-null values\n",
        "ANSICODE                                                                                           10159  non-null values\n",
        "NAME                                                                                               10159  non-null values\n",
        "LSAD                                                                                               10159  non-null values\n",
        "FUNCSTAT                                                                                           10159  non-null values\n",
        "POP10                                                                                              10159  non-null values\n",
        "HU10                                                                                               10159  non-null values\n",
        "ALAND                                                                                              10159  non-null values\n",
        "AWATER                                                                                             10159  non-null values\n",
        "ALAND_SQMI                                                                                         10159  non-null values\n",
        "AWATER_SQMI                                                                                        10159  non-null values\n",
        "INTPTLAT                                                                                           10159  non-null values\n",
        "INTPTLONG                                                                                          10159  non-null values\n",
        "TYPE                                                                                               10159  non-null values\n",
        "dtypes: float64(4), int64(6), object(5)"
       ]
      }
     ],
     "prompt_number": 236
    },
    {
     "cell_type": "code",
     "collapsed": false,
     "input": [
      "code_to_state = {'AL': 'Alabama', 'AK': 'Alaska', 'AZ': 'Arizona', 'AR': 'Arkansas', 'CA': 'California', 'CO': 'Colorado', 'CT': 'Connecticut', 'DE': 'Delaware', 'DC': 'District of Columbia', 'FL': 'Florida', 'GA': 'Georgia', 'HI': 'Hawaii', 'ID': 'Idaho', 'IL': 'Illinois', 'IN': 'Indiana', 'IA': 'Iowa', 'KS': 'Kansas', 'KY': 'Kentucky', 'LA': 'Louisiana', 'ME': 'Maine', 'MD': 'Maryland', 'MA': 'Massachusetts', 'MI': 'Michigan', 'MN': 'Minnesota', 'MO': 'Missouri', 'MS': 'Mississippi', 'MT': 'Montana', 'NE': 'Nebraska', 'NV': 'Nevada', 'NH': 'New Hampshire', 'NJ': 'New Jersey', 'NM': 'New Mexico', 'NY': 'New York', 'NC': 'North Carolina', 'ND': 'North Dakota', 'OH': 'Ohio', 'OK': 'Oklahoma', 'OR': 'Oregon', 'PA': 'Pennsylvania', 'RI': 'Rhode Island', 'SC': 'South Carolina', 'SD': 'South Dakota', 'TN': 'Tennessee', 'TX': 'Texas', 'UT': 'Utah', 'VT': 'Vermont', 'VA': 'Virginia', 'WA': 'Washington', 'WV': 'West Virginia', 'WI': 'Wisconsin', 'WY': 'Wyoming'}"
     ],
     "language": "python",
     "metadata": {},
     "outputs": [],
     "prompt_number": 85
    },
    {
     "cell_type": "markdown",
     "metadata": {},
     "source": [
      "# Library of Congress Newspapers API\n",
      "\n",
      "[API Documentation](http://chroniclingamerica.loc.gov/about/api/)\n",
      "\n",
      "Example Search for State/City:\n",
      "\n",
      "`http://chroniclingamerica.loc.gov/search/titles/results/?state=Michigan&county=&city=Detroit&format=json`\n",
      "\n",
      "This will give all newspapers titles in that state and city. State/City names need to be exact capitalization/spacing to work.\n",
      "\n",
      "***Note:*** Newspapers can have MULTIPLE cities or states"
     ]
    },
    {
     "cell_type": "code",
     "collapsed": false,
     "input": [
      "class LOC(object):\n",
      "    \"\"\"Library of Congress, Chronicling America API wrapper! Woot go newspapers.\n",
      "    \"\"\"\n",
      "\n",
      "    def __init__(self, verbose=False):\n",
      "        self.verbose = verbose\n",
      "        \n",
      "        # Search URLS\n",
      "        self.titlesUrl = 'http://chroniclingamerica.loc.gov/search/titles/results/'\n",
      "        self.pagesUrl = 'http://chroniclingamerica.loc.gov/search/pages/results/'\n",
      "        \n",
      "        # TODO: Look into Auto Suggest Results API (how is this different from above?)\n",
      "        # Docs - http://chroniclingamerica.loc.gov/about/api/#autosuggest\n",
      "        #\n",
      "        # The response will be application/x-suggestions+json\n",
      "        # url example = http://chroniclingamerica.loc.gov/suggest/titles/?q=Florida\n",
      "        \n",
      "        # Specific Resource URL (add .json to end of ID to get JSON file)\n",
      "        # http://chroniclingamerica.loc.gov/lccn/sn86069873.json\n",
      "        self.resourceUrl = 'http://chroniclingamerica.loc.gov/lccn/'\n",
      "        # Other resource URL possilities:\n",
      "        # Specific date/edition: http://chroniclingamerica.loc.gov/lccn/sn86069873/1900-01-05/ed-1.json\n",
      "        # Specific page: http://chroniclingamerica.loc.gov/lccn/sn86069873/1900-01-05/ed-1/seq-3.json\n",
      "        \n",
      "        # Other URLs we may use\n",
      "        self.digPapersUrl = 'http://chroniclingamerica.loc.gov/newspapers.json' #Links for all digital newspapers\n",
      "        self.batchUrl = 'http://chroniclingamerica.loc.gov/batches.json' #Links for all batches of digitization\n",
      "\n",
      "        self.defaultParams = {\n",
      "                                'format' : 'json'\n",
      "                              }\n",
      "        \n",
      "        super(LOC, self).__init__()\n",
      "        \n",
      "    @staticmethod\n",
      "    def _construct_url(base_url, params=None):\n",
      "        \"\"\"Create a url given base api url and parameters\n",
      "        \"\"\"\n",
      "        params = params or {}\n",
      "        return '%s?%s' % (base_url, urllib.urlencode(params))\n",
      "    \n",
      "    @staticmethod\n",
      "    def _request(full_url):\n",
      "        \"\"\"Internal Request method: Fetch JSON data from full API url\n",
      "        \"\"\"\n",
      "        return json.loads(urllib.urlopen(full_url).read())\n",
      "\n",
      "    def search_titles(self, **params):\n",
      "        \"\"\" Search all of the Newspaper titles in LOC database. \n",
      "            Uses the LOC API, returns JSON array of items.\n",
      "            Gets all results for query unless you specify a single page\n",
      "            You can use HTML Page to find your API Query (http://chroniclingamerica.loc.gov/search/titles/)\n",
      "            Options:\n",
      "                -state (e.g. Colorado - First letter of each word capitalized)\n",
      "                -county\n",
      "                -city\n",
      "                -year1 (start year of search)\n",
      "                -year2 (end year of search)\n",
      "                -terms (keywords to search for in title)\n",
      "                -frequency (e.g. Daily, Weekly, etc)\n",
      "                -language\n",
      "                -ethnicity\n",
      "                -labor (labor press, e.g. Cannary workers)\n",
      "                -material_type\n",
      "                -lccn\n",
      "                -page (get specific page, if not specified will get all)\n",
      "                -format (json default, or atom maybe?)\n",
      "            TODO: get full list of terms for finite options\n",
      "        \"\"\"\n",
      "        results = []\n",
      "        \n",
      "        params = params or {}\n",
      "        params.update(self.defaultParams)\n",
      "\n",
      "        if self.verbose:\n",
      "            print(params)\n",
      "            \n",
      "        url = self._construct_url(self.titlesUrl, params=params)\n",
      "            \n",
      "        response = self._request(url)\n",
      "        results.extend(response['items'])\n",
      "        \n",
      "        if self.verbose:\n",
      "            print('Total items to get: ' + str(response['totalItems']))\n",
      "            print('%s: %s' % (url, response['endIndex']))\n",
      "\n",
      "        if response['totalItems'] == response['endIndex'] or 'page' in params:\n",
      "            return results\n",
      "        else:\n",
      "            params['page'] = 1\n",
      "       \n",
      "        while response['totalItems'] > response['endIndex']:\n",
      "            params['page'] = params['page'] + 1\n",
      "            \n",
      "            url = self._construct_url(self.titlesUrl, params=params)\n",
      "            response = self._request(url)\n",
      "       \n",
      "            if self.verbose:\n",
      "                print('%s: %s' % (url, response['endIndex']))\n",
      "\n",
      "            results.extend(response['items'])\n",
      "                \n",
      "        return results"
     ],
     "language": "python",
     "metadata": {},
     "outputs": [],
     "prompt_number": 57
    },
    {
     "cell_type": "code",
     "collapsed": false,
     "input": [
      "locTest = LOC(verbose=True)\n",
      "locTest.search_titles()"
     ],
     "language": "python",
     "metadata": {},
     "outputs": [
      {
       "output_type": "stream",
       "stream": "stdout",
       "text": [
        "{'format': 'json'}\n",
        "Total items to get: 151792"
       ]
      },
      {
       "output_type": "stream",
       "stream": "stdout",
       "text": [
        "\n",
        "http://chroniclingamerica.loc.gov/search/titles/results/?format=json: 50\n",
        "http://chroniclingamerica.loc.gov/search/titles/results/?page=2&format=json: 100"
       ]
      },
      {
       "output_type": "stream",
       "stream": "stdout",
       "text": [
        "\n",
        "http://chroniclingamerica.loc.gov/search/titles/results/?page=3&format=json: 150"
       ]
      },
      {
       "output_type": "stream",
       "stream": "stdout",
       "text": [
        "\n",
        "http://chroniclingamerica.loc.gov/search/titles/results/?page=4&format=json: 200"
       ]
      },
      {
       "output_type": "stream",
       "stream": "stdout",
       "text": [
        "\n",
        "http://chroniclingamerica.loc.gov/search/titles/results/?page=5&format=json: 250"
       ]
      },
      {
       "output_type": "stream",
       "stream": "stdout",
       "text": [
        "\n",
        "http://chroniclingamerica.loc.gov/search/titles/results/?page=6&format=json: 300"
       ]
      },
      {
       "ename": "KeyboardInterrupt",
       "evalue": "",
       "output_type": "pyerr",
       "traceback": [
        "\u001b[0;31m---------------------------------------------------------------------------\u001b[0m\n\u001b[0;31mKeyboardInterrupt\u001b[0m                         Traceback (most recent call last)",
        "\u001b[0;32m<ipython-input-58-ac4a79e4e32e>\u001b[0m in \u001b[0;36m<module>\u001b[0;34m()\u001b[0m\n\u001b[1;32m      1\u001b[0m \u001b[0mlocTest\u001b[0m \u001b[0;34m=\u001b[0m \u001b[0mLOC\u001b[0m\u001b[0;34m(\u001b[0m\u001b[0mverbose\u001b[0m\u001b[0;34m=\u001b[0m\u001b[0mTrue\u001b[0m\u001b[0;34m)\u001b[0m\u001b[0;34m\u001b[0m\u001b[0m\n\u001b[0;32m----> 2\u001b[0;31m \u001b[0mlocTest\u001b[0m\u001b[0;34m.\u001b[0m\u001b[0msearch_titles\u001b[0m\u001b[0;34m(\u001b[0m\u001b[0;34m)\u001b[0m\u001b[0;34m\u001b[0m\u001b[0m\n\u001b[0m",
        "\u001b[0;32m<ipython-input-57-c72d81a625ff>\u001b[0m in \u001b[0;36msearch_titles\u001b[0;34m(self, **params)\u001b[0m\n\u001b[1;32m     94\u001b[0m \u001b[0;34m\u001b[0m\u001b[0m\n\u001b[1;32m     95\u001b[0m             \u001b[0murl\u001b[0m \u001b[0;34m=\u001b[0m \u001b[0mself\u001b[0m\u001b[0;34m.\u001b[0m\u001b[0m_construct_url\u001b[0m\u001b[0;34m(\u001b[0m\u001b[0mself\u001b[0m\u001b[0;34m.\u001b[0m\u001b[0mtitlesUrl\u001b[0m\u001b[0;34m,\u001b[0m \u001b[0mparams\u001b[0m\u001b[0;34m=\u001b[0m\u001b[0mparams\u001b[0m\u001b[0;34m)\u001b[0m\u001b[0;34m\u001b[0m\u001b[0m\n\u001b[0;32m---> 96\u001b[0;31m             \u001b[0mresponse\u001b[0m \u001b[0;34m=\u001b[0m \u001b[0mself\u001b[0m\u001b[0;34m.\u001b[0m\u001b[0m_request\u001b[0m\u001b[0;34m(\u001b[0m\u001b[0murl\u001b[0m\u001b[0;34m)\u001b[0m\u001b[0;34m\u001b[0m\u001b[0m\n\u001b[0m\u001b[1;32m     97\u001b[0m \u001b[0;34m\u001b[0m\u001b[0m\n\u001b[1;32m     98\u001b[0m             \u001b[0;32mif\u001b[0m \u001b[0mself\u001b[0m\u001b[0;34m.\u001b[0m\u001b[0mverbose\u001b[0m\u001b[0;34m:\u001b[0m\u001b[0;34m\u001b[0m\u001b[0m\n",
        "\u001b[0;32m<ipython-input-57-c72d81a625ff>\u001b[0m in \u001b[0;36m_request\u001b[0;34m(full_url)\u001b[0m\n\u001b[1;32m     44\u001b[0m         \"\"\"Internal Request method: Fetch JSON data from full API url\n\u001b[1;32m     45\u001b[0m         \"\"\"\n\u001b[0;32m---> 46\u001b[0;31m         \u001b[0;32mreturn\u001b[0m \u001b[0mjson\u001b[0m\u001b[0;34m.\u001b[0m\u001b[0mloads\u001b[0m\u001b[0;34m(\u001b[0m\u001b[0murllib\u001b[0m\u001b[0;34m.\u001b[0m\u001b[0murlopen\u001b[0m\u001b[0;34m(\u001b[0m\u001b[0mfull_url\u001b[0m\u001b[0;34m)\u001b[0m\u001b[0;34m.\u001b[0m\u001b[0mread\u001b[0m\u001b[0;34m(\u001b[0m\u001b[0;34m)\u001b[0m\u001b[0;34m)\u001b[0m\u001b[0;34m\u001b[0m\u001b[0m\n\u001b[0m\u001b[1;32m     47\u001b[0m \u001b[0;34m\u001b[0m\u001b[0m\n\u001b[1;32m     48\u001b[0m     \u001b[0;32mdef\u001b[0m \u001b[0msearch_titles\u001b[0m\u001b[0;34m(\u001b[0m\u001b[0mself\u001b[0m\u001b[0;34m,\u001b[0m \u001b[0;34m**\u001b[0m\u001b[0mparams\u001b[0m\u001b[0;34m)\u001b[0m\u001b[0;34m:\u001b[0m\u001b[0;34m\u001b[0m\u001b[0m\n",
        "\u001b[0;32m/System/Library/Frameworks/Python.framework/Versions/2.7/lib/python2.7/urllib.pyc\u001b[0m in \u001b[0;36murlopen\u001b[0;34m(url, data, proxies)\u001b[0m\n\u001b[1;32m     82\u001b[0m         \u001b[0mopener\u001b[0m \u001b[0;34m=\u001b[0m \u001b[0m_urlopener\u001b[0m\u001b[0;34m\u001b[0m\u001b[0m\n\u001b[1;32m     83\u001b[0m     \u001b[0;32mif\u001b[0m \u001b[0mdata\u001b[0m \u001b[0;32mis\u001b[0m \u001b[0mNone\u001b[0m\u001b[0;34m:\u001b[0m\u001b[0;34m\u001b[0m\u001b[0m\n\u001b[0;32m---> 84\u001b[0;31m         \u001b[0;32mreturn\u001b[0m \u001b[0mopener\u001b[0m\u001b[0;34m.\u001b[0m\u001b[0mopen\u001b[0m\u001b[0;34m(\u001b[0m\u001b[0murl\u001b[0m\u001b[0;34m)\u001b[0m\u001b[0;34m\u001b[0m\u001b[0m\n\u001b[0m\u001b[1;32m     85\u001b[0m     \u001b[0;32melse\u001b[0m\u001b[0;34m:\u001b[0m\u001b[0;34m\u001b[0m\u001b[0m\n\u001b[1;32m     86\u001b[0m         \u001b[0;32mreturn\u001b[0m \u001b[0mopener\u001b[0m\u001b[0;34m.\u001b[0m\u001b[0mopen\u001b[0m\u001b[0;34m(\u001b[0m\u001b[0murl\u001b[0m\u001b[0;34m,\u001b[0m \u001b[0mdata\u001b[0m\u001b[0;34m)\u001b[0m\u001b[0;34m\u001b[0m\u001b[0m\n",
        "\u001b[0;32m/System/Library/Frameworks/Python.framework/Versions/2.7/lib/python2.7/urllib.pyc\u001b[0m in \u001b[0;36mopen\u001b[0;34m(self, fullurl, data)\u001b[0m\n\u001b[1;32m    203\u001b[0m         \u001b[0;32mtry\u001b[0m\u001b[0;34m:\u001b[0m\u001b[0;34m\u001b[0m\u001b[0m\n\u001b[1;32m    204\u001b[0m             \u001b[0;32mif\u001b[0m \u001b[0mdata\u001b[0m \u001b[0;32mis\u001b[0m \u001b[0mNone\u001b[0m\u001b[0;34m:\u001b[0m\u001b[0;34m\u001b[0m\u001b[0m\n\u001b[0;32m--> 205\u001b[0;31m                 \u001b[0;32mreturn\u001b[0m \u001b[0mgetattr\u001b[0m\u001b[0;34m(\u001b[0m\u001b[0mself\u001b[0m\u001b[0;34m,\u001b[0m \u001b[0mname\u001b[0m\u001b[0;34m)\u001b[0m\u001b[0;34m(\u001b[0m\u001b[0murl\u001b[0m\u001b[0;34m)\u001b[0m\u001b[0;34m\u001b[0m\u001b[0m\n\u001b[0m\u001b[1;32m    206\u001b[0m             \u001b[0;32melse\u001b[0m\u001b[0;34m:\u001b[0m\u001b[0;34m\u001b[0m\u001b[0m\n\u001b[1;32m    207\u001b[0m                 \u001b[0;32mreturn\u001b[0m \u001b[0mgetattr\u001b[0m\u001b[0;34m(\u001b[0m\u001b[0mself\u001b[0m\u001b[0;34m,\u001b[0m \u001b[0mname\u001b[0m\u001b[0;34m)\u001b[0m\u001b[0;34m(\u001b[0m\u001b[0murl\u001b[0m\u001b[0;34m,\u001b[0m \u001b[0mdata\u001b[0m\u001b[0;34m)\u001b[0m\u001b[0;34m\u001b[0m\u001b[0m\n",
        "\u001b[0;32m/System/Library/Frameworks/Python.framework/Versions/2.7/lib/python2.7/urllib.pyc\u001b[0m in \u001b[0;36mopen_http\u001b[0;34m(self, url, data)\u001b[0m\n\u001b[1;32m    340\u001b[0m         \u001b[0;32mif\u001b[0m \u001b[0mrealhost\u001b[0m\u001b[0;34m:\u001b[0m \u001b[0mh\u001b[0m\u001b[0;34m.\u001b[0m\u001b[0mputheader\u001b[0m\u001b[0;34m(\u001b[0m\u001b[0;34m'Host'\u001b[0m\u001b[0;34m,\u001b[0m \u001b[0mrealhost\u001b[0m\u001b[0;34m)\u001b[0m\u001b[0;34m\u001b[0m\u001b[0m\n\u001b[1;32m    341\u001b[0m         \u001b[0;32mfor\u001b[0m \u001b[0margs\u001b[0m \u001b[0;32min\u001b[0m \u001b[0mself\u001b[0m\u001b[0;34m.\u001b[0m\u001b[0maddheaders\u001b[0m\u001b[0;34m:\u001b[0m \u001b[0mh\u001b[0m\u001b[0;34m.\u001b[0m\u001b[0mputheader\u001b[0m\u001b[0;34m(\u001b[0m\u001b[0;34m*\u001b[0m\u001b[0margs\u001b[0m\u001b[0;34m)\u001b[0m\u001b[0;34m\u001b[0m\u001b[0m\n\u001b[0;32m--> 342\u001b[0;31m         \u001b[0mh\u001b[0m\u001b[0;34m.\u001b[0m\u001b[0mendheaders\u001b[0m\u001b[0;34m(\u001b[0m\u001b[0mdata\u001b[0m\u001b[0;34m)\u001b[0m\u001b[0;34m\u001b[0m\u001b[0m\n\u001b[0m\u001b[1;32m    343\u001b[0m         \u001b[0merrcode\u001b[0m\u001b[0;34m,\u001b[0m \u001b[0merrmsg\u001b[0m\u001b[0;34m,\u001b[0m \u001b[0mheaders\u001b[0m \u001b[0;34m=\u001b[0m \u001b[0mh\u001b[0m\u001b[0;34m.\u001b[0m\u001b[0mgetreply\u001b[0m\u001b[0;34m(\u001b[0m\u001b[0;34m)\u001b[0m\u001b[0;34m\u001b[0m\u001b[0m\n\u001b[1;32m    344\u001b[0m         \u001b[0mfp\u001b[0m \u001b[0;34m=\u001b[0m \u001b[0mh\u001b[0m\u001b[0;34m.\u001b[0m\u001b[0mgetfile\u001b[0m\u001b[0;34m(\u001b[0m\u001b[0;34m)\u001b[0m\u001b[0;34m\u001b[0m\u001b[0m\n",
        "\u001b[0;32m/System/Library/Frameworks/Python.framework/Versions/2.7/lib/python2.7/httplib.pyc\u001b[0m in \u001b[0;36mendheaders\u001b[0;34m(self, message_body)\u001b[0m\n\u001b[1;32m    949\u001b[0m         \u001b[0;32melse\u001b[0m\u001b[0;34m:\u001b[0m\u001b[0;34m\u001b[0m\u001b[0m\n\u001b[1;32m    950\u001b[0m             \u001b[0;32mraise\u001b[0m \u001b[0mCannotSendHeader\u001b[0m\u001b[0;34m(\u001b[0m\u001b[0;34m)\u001b[0m\u001b[0;34m\u001b[0m\u001b[0m\n\u001b[0;32m--> 951\u001b[0;31m         \u001b[0mself\u001b[0m\u001b[0;34m.\u001b[0m\u001b[0m_send_output\u001b[0m\u001b[0;34m(\u001b[0m\u001b[0mmessage_body\u001b[0m\u001b[0;34m)\u001b[0m\u001b[0;34m\u001b[0m\u001b[0m\n\u001b[0m\u001b[1;32m    952\u001b[0m \u001b[0;34m\u001b[0m\u001b[0m\n\u001b[1;32m    953\u001b[0m     \u001b[0;32mdef\u001b[0m \u001b[0mrequest\u001b[0m\u001b[0;34m(\u001b[0m\u001b[0mself\u001b[0m\u001b[0;34m,\u001b[0m \u001b[0mmethod\u001b[0m\u001b[0;34m,\u001b[0m \u001b[0murl\u001b[0m\u001b[0;34m,\u001b[0m \u001b[0mbody\u001b[0m\u001b[0;34m=\u001b[0m\u001b[0mNone\u001b[0m\u001b[0;34m,\u001b[0m \u001b[0mheaders\u001b[0m\u001b[0;34m=\u001b[0m\u001b[0;34m{\u001b[0m\u001b[0;34m}\u001b[0m\u001b[0;34m)\u001b[0m\u001b[0;34m:\u001b[0m\u001b[0;34m\u001b[0m\u001b[0m\n",
        "\u001b[0;32m/System/Library/Frameworks/Python.framework/Versions/2.7/lib/python2.7/httplib.pyc\u001b[0m in \u001b[0;36m_send_output\u001b[0;34m(self, message_body)\u001b[0m\n\u001b[1;32m    809\u001b[0m             \u001b[0mmsg\u001b[0m \u001b[0;34m+=\u001b[0m \u001b[0mmessage_body\u001b[0m\u001b[0;34m\u001b[0m\u001b[0m\n\u001b[1;32m    810\u001b[0m             \u001b[0mmessage_body\u001b[0m \u001b[0;34m=\u001b[0m \u001b[0mNone\u001b[0m\u001b[0;34m\u001b[0m\u001b[0m\n\u001b[0;32m--> 811\u001b[0;31m         \u001b[0mself\u001b[0m\u001b[0;34m.\u001b[0m\u001b[0msend\u001b[0m\u001b[0;34m(\u001b[0m\u001b[0mmsg\u001b[0m\u001b[0;34m)\u001b[0m\u001b[0;34m\u001b[0m\u001b[0m\n\u001b[0m\u001b[1;32m    812\u001b[0m         \u001b[0;32mif\u001b[0m \u001b[0mmessage_body\u001b[0m \u001b[0;32mis\u001b[0m \u001b[0;32mnot\u001b[0m \u001b[0mNone\u001b[0m\u001b[0;34m:\u001b[0m\u001b[0;34m\u001b[0m\u001b[0m\n\u001b[1;32m    813\u001b[0m             \u001b[0;31m#message_body was not a string (i.e. it is a file) and\u001b[0m\u001b[0;34m\u001b[0m\u001b[0;34m\u001b[0m\u001b[0m\n",
        "\u001b[0;32m/System/Library/Frameworks/Python.framework/Versions/2.7/lib/python2.7/httplib.pyc\u001b[0m in \u001b[0;36msend\u001b[0;34m(self, data)\u001b[0m\n\u001b[1;32m    771\u001b[0m         \u001b[0;32mif\u001b[0m \u001b[0mself\u001b[0m\u001b[0;34m.\u001b[0m\u001b[0msock\u001b[0m \u001b[0;32mis\u001b[0m \u001b[0mNone\u001b[0m\u001b[0;34m:\u001b[0m\u001b[0;34m\u001b[0m\u001b[0m\n\u001b[1;32m    772\u001b[0m             \u001b[0;32mif\u001b[0m \u001b[0mself\u001b[0m\u001b[0;34m.\u001b[0m\u001b[0mauto_open\u001b[0m\u001b[0;34m:\u001b[0m\u001b[0;34m\u001b[0m\u001b[0m\n\u001b[0;32m--> 773\u001b[0;31m                 \u001b[0mself\u001b[0m\u001b[0;34m.\u001b[0m\u001b[0mconnect\u001b[0m\u001b[0;34m(\u001b[0m\u001b[0;34m)\u001b[0m\u001b[0;34m\u001b[0m\u001b[0m\n\u001b[0m\u001b[1;32m    774\u001b[0m             \u001b[0;32melse\u001b[0m\u001b[0;34m:\u001b[0m\u001b[0;34m\u001b[0m\u001b[0m\n\u001b[1;32m    775\u001b[0m                 \u001b[0;32mraise\u001b[0m \u001b[0mNotConnected\u001b[0m\u001b[0;34m(\u001b[0m\u001b[0;34m)\u001b[0m\u001b[0;34m\u001b[0m\u001b[0m\n",
        "\u001b[0;32m/System/Library/Frameworks/Python.framework/Versions/2.7/lib/python2.7/httplib.pyc\u001b[0m in \u001b[0;36mconnect\u001b[0;34m(self)\u001b[0m\n\u001b[1;32m    752\u001b[0m         \u001b[0;34m\"\"\"Connect to the host and port specified in __init__.\"\"\"\u001b[0m\u001b[0;34m\u001b[0m\u001b[0m\n\u001b[1;32m    753\u001b[0m         self.sock = socket.create_connection((self.host,self.port),\n\u001b[0;32m--> 754\u001b[0;31m                                              self.timeout, self.source_address)\n\u001b[0m\u001b[1;32m    755\u001b[0m \u001b[0;34m\u001b[0m\u001b[0m\n\u001b[1;32m    756\u001b[0m         \u001b[0;32mif\u001b[0m \u001b[0mself\u001b[0m\u001b[0;34m.\u001b[0m\u001b[0m_tunnel_host\u001b[0m\u001b[0;34m:\u001b[0m\u001b[0;34m\u001b[0m\u001b[0m\n",
        "\u001b[0;32m/System/Library/Frameworks/Python.framework/Versions/2.7/lib/python2.7/socket.pyc\u001b[0m in \u001b[0;36mcreate_connection\u001b[0;34m(address, timeout, source_address)\u001b[0m\n\u001b[1;32m    560\u001b[0m             \u001b[0;32mif\u001b[0m \u001b[0msource_address\u001b[0m\u001b[0;34m:\u001b[0m\u001b[0;34m\u001b[0m\u001b[0m\n\u001b[1;32m    561\u001b[0m                 \u001b[0msock\u001b[0m\u001b[0;34m.\u001b[0m\u001b[0mbind\u001b[0m\u001b[0;34m(\u001b[0m\u001b[0msource_address\u001b[0m\u001b[0;34m)\u001b[0m\u001b[0;34m\u001b[0m\u001b[0m\n\u001b[0;32m--> 562\u001b[0;31m             \u001b[0msock\u001b[0m\u001b[0;34m.\u001b[0m\u001b[0mconnect\u001b[0m\u001b[0;34m(\u001b[0m\u001b[0msa\u001b[0m\u001b[0;34m)\u001b[0m\u001b[0;34m\u001b[0m\u001b[0m\n\u001b[0m\u001b[1;32m    563\u001b[0m             \u001b[0;32mreturn\u001b[0m \u001b[0msock\u001b[0m\u001b[0;34m\u001b[0m\u001b[0m\n\u001b[1;32m    564\u001b[0m \u001b[0;34m\u001b[0m\u001b[0m\n",
        "\u001b[0;32m/System/Library/Frameworks/Python.framework/Versions/2.7/lib/python2.7/socket.pyc\u001b[0m in \u001b[0;36mmeth\u001b[0;34m(name, self, *args)\u001b[0m\n\u001b[1;32m    222\u001b[0m \u001b[0;34m\u001b[0m\u001b[0m\n\u001b[1;32m    223\u001b[0m \u001b[0;32mdef\u001b[0m \u001b[0mmeth\u001b[0m\u001b[0;34m(\u001b[0m\u001b[0mname\u001b[0m\u001b[0;34m,\u001b[0m\u001b[0mself\u001b[0m\u001b[0;34m,\u001b[0m\u001b[0;34m*\u001b[0m\u001b[0margs\u001b[0m\u001b[0;34m)\u001b[0m\u001b[0;34m:\u001b[0m\u001b[0;34m\u001b[0m\u001b[0m\n\u001b[0;32m--> 224\u001b[0;31m     \u001b[0;32mreturn\u001b[0m \u001b[0mgetattr\u001b[0m\u001b[0;34m(\u001b[0m\u001b[0mself\u001b[0m\u001b[0;34m.\u001b[0m\u001b[0m_sock\u001b[0m\u001b[0;34m,\u001b[0m\u001b[0mname\u001b[0m\u001b[0;34m)\u001b[0m\u001b[0;34m(\u001b[0m\u001b[0;34m*\u001b[0m\u001b[0margs\u001b[0m\u001b[0;34m)\u001b[0m\u001b[0;34m\u001b[0m\u001b[0m\n\u001b[0m\u001b[1;32m    225\u001b[0m \u001b[0;34m\u001b[0m\u001b[0m\n\u001b[1;32m    226\u001b[0m \u001b[0;32mfor\u001b[0m \u001b[0m_m\u001b[0m \u001b[0;32min\u001b[0m \u001b[0m_socketmethods\u001b[0m\u001b[0;34m:\u001b[0m\u001b[0;34m\u001b[0m\u001b[0m\n",
        "\u001b[0;31mKeyboardInterrupt\u001b[0m: "
       ]
      },
      {
       "output_type": "stream",
       "stream": "stdout",
       "text": [
        "\n"
       ]
      }
     ],
     "prompt_number": 58
    },
    {
     "cell_type": "code",
     "collapsed": false,
     "input": [
      "loc = LOC(verbose=True)\n",
      "data = []\n",
      "\n",
      "for state, group in cities.groupby('USPS'):\n",
      "    state = code_to_state[state]\n",
      "    print state + '\\n' \n",
      "\n",
      "    query = {\n",
      "             'state': state\n",
      "    }\n",
      "    \n",
      "    data.extend(loc.search_titles(query = query))\n",
      "\n",
      "newspapers = DataFrame(data)"
     ],
     "language": "python",
     "metadata": {},
     "outputs": [
      {
       "output_type": "stream",
       "stream": "stdout",
       "text": [
        "Alaska\n",
        "\n",
        "{'state': 'Alaska', 'format': 'json'}\n",
        "759"
       ]
      },
      {
       "output_type": "stream",
       "stream": "stdout",
       "text": [
        "\n",
        "http://chroniclingamerica.loc.gov/search/titles/results/?state=Alaska&page=2&format=json: 50"
       ]
      },
      {
       "output_type": "stream",
       "stream": "stdout",
       "text": [
        "\n",
        "http://chroniclingamerica.loc.gov/search/titles/results/?state=Alaska&page=3&format=json: 50"
       ]
      },
      {
       "output_type": "stream",
       "stream": "stdout",
       "text": [
        "\n",
        "http://chroniclingamerica.loc.gov/search/titles/results/?state=Alaska&page=4&format=json: 50"
       ]
      },
      {
       "output_type": "stream",
       "stream": "stdout",
       "text": [
        "\n",
        "http://chroniclingamerica.loc.gov/search/titles/results/?state=Alaska&page=5&format=json: 50"
       ]
      },
      {
       "output_type": "stream",
       "stream": "stdout",
       "text": [
        "\n",
        "http://chroniclingamerica.loc.gov/search/titles/results/?state=Alaska&page=6&format=json: 50"
       ]
      },
      {
       "output_type": "stream",
       "stream": "stdout",
       "text": [
        "\n",
        "http://chroniclingamerica.loc.gov/search/titles/results/?state=Alaska&page=7&format=json: 50"
       ]
      },
      {
       "output_type": "stream",
       "stream": "stdout",
       "text": [
        "\n",
        "http://chroniclingamerica.loc.gov/search/titles/results/?state=Alaska&page=8&format=json: 50"
       ]
      },
      {
       "output_type": "stream",
       "stream": "stdout",
       "text": [
        "\n",
        "http://chroniclingamerica.loc.gov/search/titles/results/?state=Alaska&page=9&format=json: 50"
       ]
      },
      {
       "output_type": "stream",
       "stream": "stdout",
       "text": [
        "\n",
        "http://chroniclingamerica.loc.gov/search/titles/results/?state=Alaska&page=10&format=json: 50"
       ]
      },
      {
       "output_type": "stream",
       "stream": "stdout",
       "text": [
        "\n",
        "http://chroniclingamerica.loc.gov/search/titles/results/?state=Alaska&page=11&format=json: 50"
       ]
      },
      {
       "output_type": "stream",
       "stream": "stdout",
       "text": [
        "\n",
        "http://chroniclingamerica.loc.gov/search/titles/results/?state=Alaska&page=12&format=json: 50"
       ]
      },
      {
       "output_type": "stream",
       "stream": "stdout",
       "text": [
        "\n",
        "http://chroniclingamerica.loc.gov/search/titles/results/?state=Alaska&page=13&format=json: 50"
       ]
      },
      {
       "output_type": "stream",
       "stream": "stdout",
       "text": [
        "\n",
        "http://chroniclingamerica.loc.gov/search/titles/results/?state=Alaska&page=14&format=json: 50"
       ]
      },
      {
       "output_type": "stream",
       "stream": "stdout",
       "text": [
        "\n",
        "http://chroniclingamerica.loc.gov/search/titles/results/?state=Alaska&page=15&format=json: 50"
       ]
      },
      {
       "output_type": "stream",
       "stream": "stdout",
       "text": [
        "\n",
        "http://chroniclingamerica.loc.gov/search/titles/results/?state=Alaska&page=16&format=json: 9"
       ]
      },
      {
       "output_type": "stream",
       "stream": "stdout",
       "text": [
        "\n",
        "Alabama\n",
        "\n",
        "{'state': 'Alabama', 'format': 'json'}\n",
        "2344"
       ]
      },
      {
       "output_type": "stream",
       "stream": "stdout",
       "text": [
        "\n",
        "http://chroniclingamerica.loc.gov/search/titles/results/?state=Alabama&page=2&format=json: 50"
       ]
      },
      {
       "output_type": "stream",
       "stream": "stdout",
       "text": [
        "\n",
        "http://chroniclingamerica.loc.gov/search/titles/results/?state=Alabama&page=3&format=json: 50"
       ]
      },
      {
       "output_type": "stream",
       "stream": "stdout",
       "text": [
        "\n",
        "http://chroniclingamerica.loc.gov/search/titles/results/?state=Alabama&page=4&format=json: 50"
       ]
      },
      {
       "output_type": "stream",
       "stream": "stdout",
       "text": [
        "\n",
        "http://chroniclingamerica.loc.gov/search/titles/results/?state=Alabama&page=5&format=json: 50"
       ]
      },
      {
       "output_type": "stream",
       "stream": "stdout",
       "text": [
        "\n",
        "http://chroniclingamerica.loc.gov/search/titles/results/?state=Alabama&page=6&format=json: 50"
       ]
      },
      {
       "output_type": "stream",
       "stream": "stdout",
       "text": [
        "\n",
        "http://chroniclingamerica.loc.gov/search/titles/results/?state=Alabama&page=7&format=json: 50"
       ]
      },
      {
       "output_type": "stream",
       "stream": "stdout",
       "text": [
        "\n",
        "http://chroniclingamerica.loc.gov/search/titles/results/?state=Alabama&page=8&format=json: 50"
       ]
      },
      {
       "output_type": "stream",
       "stream": "stdout",
       "text": [
        "\n",
        "http://chroniclingamerica.loc.gov/search/titles/results/?state=Alabama&page=9&format=json: 50"
       ]
      },
      {
       "output_type": "stream",
       "stream": "stdout",
       "text": [
        "\n",
        "http://chroniclingamerica.loc.gov/search/titles/results/?state=Alabama&page=10&format=json: 50"
       ]
      },
      {
       "output_type": "stream",
       "stream": "stdout",
       "text": [
        "\n",
        "http://chroniclingamerica.loc.gov/search/titles/results/?state=Alabama&page=11&format=json: 50"
       ]
      },
      {
       "output_type": "stream",
       "stream": "stdout",
       "text": [
        "\n",
        "http://chroniclingamerica.loc.gov/search/titles/results/?state=Alabama&page=12&format=json: 50"
       ]
      },
      {
       "output_type": "stream",
       "stream": "stdout",
       "text": [
        "\n",
        "http://chroniclingamerica.loc.gov/search/titles/results/?state=Alabama&page=13&format=json: 50"
       ]
      },
      {
       "output_type": "stream",
       "stream": "stdout",
       "text": [
        "\n",
        "http://chroniclingamerica.loc.gov/search/titles/results/?state=Alabama&page=14&format=json: 50"
       ]
      },
      {
       "output_type": "stream",
       "stream": "stdout",
       "text": [
        "\n",
        "http://chroniclingamerica.loc.gov/search/titles/results/?state=Alabama&page=15&format=json: 50"
       ]
      },
      {
       "output_type": "stream",
       "stream": "stdout",
       "text": [
        "\n",
        "http://chroniclingamerica.loc.gov/search/titles/results/?state=Alabama&page=16&format=json: 50"
       ]
      },
      {
       "output_type": "stream",
       "stream": "stdout",
       "text": [
        "\n",
        "http://chroniclingamerica.loc.gov/search/titles/results/?state=Alabama&page=17&format=json: 50"
       ]
      },
      {
       "output_type": "stream",
       "stream": "stdout",
       "text": [
        "\n",
        "http://chroniclingamerica.loc.gov/search/titles/results/?state=Alabama&page=18&format=json: 50"
       ]
      },
      {
       "output_type": "stream",
       "stream": "stdout",
       "text": [
        "\n",
        "http://chroniclingamerica.loc.gov/search/titles/results/?state=Alabama&page=19&format=json: 50"
       ]
      },
      {
       "output_type": "stream",
       "stream": "stdout",
       "text": [
        "\n",
        "http://chroniclingamerica.loc.gov/search/titles/results/?state=Alabama&page=20&format=json: 50"
       ]
      },
      {
       "output_type": "stream",
       "stream": "stdout",
       "text": [
        "\n",
        "http://chroniclingamerica.loc.gov/search/titles/results/?state=Alabama&page=21&format=json: 50"
       ]
      },
      {
       "output_type": "stream",
       "stream": "stdout",
       "text": [
        "\n",
        "http://chroniclingamerica.loc.gov/search/titles/results/?state=Alabama&page=22&format=json: 50"
       ]
      },
      {
       "output_type": "stream",
       "stream": "stdout",
       "text": [
        "\n",
        "http://chroniclingamerica.loc.gov/search/titles/results/?state=Alabama&page=23&format=json: 50"
       ]
      },
      {
       "output_type": "stream",
       "stream": "stdout",
       "text": [
        "\n",
        "http://chroniclingamerica.loc.gov/search/titles/results/?state=Alabama&page=24&format=json: 50"
       ]
      },
      {
       "output_type": "stream",
       "stream": "stdout",
       "text": [
        "\n",
        "http://chroniclingamerica.loc.gov/search/titles/results/?state=Alabama&page=25&format=json: 50"
       ]
      },
      {
       "output_type": "stream",
       "stream": "stdout",
       "text": [
        "\n",
        "http://chroniclingamerica.loc.gov/search/titles/results/?state=Alabama&page=26&format=json: 50"
       ]
      },
      {
       "output_type": "stream",
       "stream": "stdout",
       "text": [
        "\n",
        "http://chroniclingamerica.loc.gov/search/titles/results/?state=Alabama&page=27&format=json: 50"
       ]
      },
      {
       "output_type": "stream",
       "stream": "stdout",
       "text": [
        "\n",
        "http://chroniclingamerica.loc.gov/search/titles/results/?state=Alabama&page=28&format=json: 50"
       ]
      },
      {
       "output_type": "stream",
       "stream": "stdout",
       "text": [
        "\n",
        "http://chroniclingamerica.loc.gov/search/titles/results/?state=Alabama&page=29&format=json: 50"
       ]
      },
      {
       "output_type": "stream",
       "stream": "stdout",
       "text": [
        "\n",
        "http://chroniclingamerica.loc.gov/search/titles/results/?state=Alabama&page=30&format=json: 50"
       ]
      },
      {
       "output_type": "stream",
       "stream": "stdout",
       "text": [
        "\n",
        "http://chroniclingamerica.loc.gov/search/titles/results/?state=Alabama&page=31&format=json: 50"
       ]
      },
      {
       "output_type": "stream",
       "stream": "stdout",
       "text": [
        "\n",
        "http://chroniclingamerica.loc.gov/search/titles/results/?state=Alabama&page=32&format=json: 50"
       ]
      },
      {
       "output_type": "stream",
       "stream": "stdout",
       "text": [
        "\n",
        "http://chroniclingamerica.loc.gov/search/titles/results/?state=Alabama&page=33&format=json: 50"
       ]
      },
      {
       "output_type": "stream",
       "stream": "stdout",
       "text": [
        "\n",
        "http://chroniclingamerica.loc.gov/search/titles/results/?state=Alabama&page=34&format=json: 50"
       ]
      },
      {
       "output_type": "stream",
       "stream": "stdout",
       "text": [
        "\n",
        "http://chroniclingamerica.loc.gov/search/titles/results/?state=Alabama&page=35&format=json: 50"
       ]
      },
      {
       "output_type": "stream",
       "stream": "stdout",
       "text": [
        "\n",
        "http://chroniclingamerica.loc.gov/search/titles/results/?state=Alabama&page=36&format=json: 50"
       ]
      },
      {
       "output_type": "stream",
       "stream": "stdout",
       "text": [
        "\n",
        "http://chroniclingamerica.loc.gov/search/titles/results/?state=Alabama&page=37&format=json: 50"
       ]
      },
      {
       "output_type": "stream",
       "stream": "stdout",
       "text": [
        "\n",
        "http://chroniclingamerica.loc.gov/search/titles/results/?state=Alabama&page=38&format=json: 50"
       ]
      },
      {
       "output_type": "stream",
       "stream": "stdout",
       "text": [
        "\n",
        "http://chroniclingamerica.loc.gov/search/titles/results/?state=Alabama&page=39&format=json: 50"
       ]
      },
      {
       "output_type": "stream",
       "stream": "stdout",
       "text": [
        "\n",
        "http://chroniclingamerica.loc.gov/search/titles/results/?state=Alabama&page=40&format=json: 50"
       ]
      },
      {
       "output_type": "stream",
       "stream": "stdout",
       "text": [
        "\n",
        "http://chroniclingamerica.loc.gov/search/titles/results/?state=Alabama&page=41&format=json: 50"
       ]
      },
      {
       "output_type": "stream",
       "stream": "stdout",
       "text": [
        "\n",
        "http://chroniclingamerica.loc.gov/search/titles/results/?state=Alabama&page=42&format=json: 50"
       ]
      },
      {
       "output_type": "stream",
       "stream": "stdout",
       "text": [
        "\n",
        "http://chroniclingamerica.loc.gov/search/titles/results/?state=Alabama&page=43&format=json: 50"
       ]
      },
      {
       "output_type": "stream",
       "stream": "stdout",
       "text": [
        "\n",
        "http://chroniclingamerica.loc.gov/search/titles/results/?state=Alabama&page=44&format=json: 50"
       ]
      },
      {
       "output_type": "stream",
       "stream": "stdout",
       "text": [
        "\n",
        "http://chroniclingamerica.loc.gov/search/titles/results/?state=Alabama&page=45&format=json: 50"
       ]
      },
      {
       "output_type": "stream",
       "stream": "stdout",
       "text": [
        "\n",
        "http://chroniclingamerica.loc.gov/search/titles/results/?state=Alabama&page=46&format=json: 50"
       ]
      },
      {
       "output_type": "stream",
       "stream": "stdout",
       "text": [
        "\n",
        "http://chroniclingamerica.loc.gov/search/titles/results/?state=Alabama&page=47&format=json: 44"
       ]
      },
      {
       "output_type": "stream",
       "stream": "stdout",
       "text": [
        "\n",
        "Arkansas\n",
        "\n",
        "{'state': 'Arkansas', 'format': 'json'}\n",
        "1954"
       ]
      },
      {
       "output_type": "stream",
       "stream": "stdout",
       "text": [
        "\n",
        "http://chroniclingamerica.loc.gov/search/titles/results/?state=Arkansas&page=2&format=json: 50"
       ]
      },
      {
       "output_type": "stream",
       "stream": "stdout",
       "text": [
        "\n",
        "http://chroniclingamerica.loc.gov/search/titles/results/?state=Arkansas&page=3&format=json: 50"
       ]
      },
      {
       "output_type": "stream",
       "stream": "stdout",
       "text": [
        "\n",
        "http://chroniclingamerica.loc.gov/search/titles/results/?state=Arkansas&page=4&format=json: 50"
       ]
      },
      {
       "output_type": "stream",
       "stream": "stdout",
       "text": [
        "\n",
        "http://chroniclingamerica.loc.gov/search/titles/results/?state=Arkansas&page=5&format=json: 50"
       ]
      },
      {
       "output_type": "stream",
       "stream": "stdout",
       "text": [
        "\n",
        "http://chroniclingamerica.loc.gov/search/titles/results/?state=Arkansas&page=6&format=json: 50"
       ]
      },
      {
       "output_type": "stream",
       "stream": "stdout",
       "text": [
        "\n",
        "http://chroniclingamerica.loc.gov/search/titles/results/?state=Arkansas&page=7&format=json: 50"
       ]
      },
      {
       "output_type": "stream",
       "stream": "stdout",
       "text": [
        "\n",
        "http://chroniclingamerica.loc.gov/search/titles/results/?state=Arkansas&page=8&format=json: 50"
       ]
      },
      {
       "output_type": "stream",
       "stream": "stdout",
       "text": [
        "\n",
        "http://chroniclingamerica.loc.gov/search/titles/results/?state=Arkansas&page=9&format=json: 50"
       ]
      },
      {
       "output_type": "stream",
       "stream": "stdout",
       "text": [
        "\n",
        "http://chroniclingamerica.loc.gov/search/titles/results/?state=Arkansas&page=10&format=json: 50"
       ]
      },
      {
       "output_type": "stream",
       "stream": "stdout",
       "text": [
        "\n",
        "http://chroniclingamerica.loc.gov/search/titles/results/?state=Arkansas&page=11&format=json: 50"
       ]
      },
      {
       "output_type": "stream",
       "stream": "stdout",
       "text": [
        "\n",
        "http://chroniclingamerica.loc.gov/search/titles/results/?state=Arkansas&page=12&format=json: 50"
       ]
      },
      {
       "output_type": "stream",
       "stream": "stdout",
       "text": [
        "\n",
        "http://chroniclingamerica.loc.gov/search/titles/results/?state=Arkansas&page=13&format=json: 50"
       ]
      },
      {
       "output_type": "stream",
       "stream": "stdout",
       "text": [
        "\n",
        "http://chroniclingamerica.loc.gov/search/titles/results/?state=Arkansas&page=14&format=json: 50"
       ]
      },
      {
       "output_type": "stream",
       "stream": "stdout",
       "text": [
        "\n",
        "http://chroniclingamerica.loc.gov/search/titles/results/?state=Arkansas&page=15&format=json: 50"
       ]
      },
      {
       "output_type": "stream",
       "stream": "stdout",
       "text": [
        "\n",
        "http://chroniclingamerica.loc.gov/search/titles/results/?state=Arkansas&page=16&format=json: 50"
       ]
      },
      {
       "output_type": "stream",
       "stream": "stdout",
       "text": [
        "\n",
        "http://chroniclingamerica.loc.gov/search/titles/results/?state=Arkansas&page=17&format=json: 50"
       ]
      },
      {
       "output_type": "stream",
       "stream": "stdout",
       "text": [
        "\n",
        "http://chroniclingamerica.loc.gov/search/titles/results/?state=Arkansas&page=18&format=json: 50"
       ]
      },
      {
       "output_type": "stream",
       "stream": "stdout",
       "text": [
        "\n",
        "http://chroniclingamerica.loc.gov/search/titles/results/?state=Arkansas&page=19&format=json: 50"
       ]
      },
      {
       "output_type": "stream",
       "stream": "stdout",
       "text": [
        "\n",
        "http://chroniclingamerica.loc.gov/search/titles/results/?state=Arkansas&page=20&format=json: 50"
       ]
      },
      {
       "output_type": "stream",
       "stream": "stdout",
       "text": [
        "\n",
        "http://chroniclingamerica.loc.gov/search/titles/results/?state=Arkansas&page=21&format=json: 50"
       ]
      },
      {
       "output_type": "stream",
       "stream": "stdout",
       "text": [
        "\n",
        "http://chroniclingamerica.loc.gov/search/titles/results/?state=Arkansas&page=22&format=json: 50"
       ]
      },
      {
       "output_type": "stream",
       "stream": "stdout",
       "text": [
        "\n",
        "http://chroniclingamerica.loc.gov/search/titles/results/?state=Arkansas&page=23&format=json: 50"
       ]
      },
      {
       "output_type": "stream",
       "stream": "stdout",
       "text": [
        "\n",
        "http://chroniclingamerica.loc.gov/search/titles/results/?state=Arkansas&page=24&format=json: 50"
       ]
      },
      {
       "output_type": "stream",
       "stream": "stdout",
       "text": [
        "\n",
        "http://chroniclingamerica.loc.gov/search/titles/results/?state=Arkansas&page=25&format=json: 50"
       ]
      },
      {
       "output_type": "stream",
       "stream": "stdout",
       "text": [
        "\n",
        "http://chroniclingamerica.loc.gov/search/titles/results/?state=Arkansas&page=26&format=json: 50"
       ]
      },
      {
       "output_type": "stream",
       "stream": "stdout",
       "text": [
        "\n",
        "http://chroniclingamerica.loc.gov/search/titles/results/?state=Arkansas&page=27&format=json: 50"
       ]
      },
      {
       "output_type": "stream",
       "stream": "stdout",
       "text": [
        "\n",
        "http://chroniclingamerica.loc.gov/search/titles/results/?state=Arkansas&page=28&format=json: 50"
       ]
      },
      {
       "output_type": "stream",
       "stream": "stdout",
       "text": [
        "\n",
        "http://chroniclingamerica.loc.gov/search/titles/results/?state=Arkansas&page=29&format=json: 50"
       ]
      },
      {
       "output_type": "stream",
       "stream": "stdout",
       "text": [
        "\n",
        "http://chroniclingamerica.loc.gov/search/titles/results/?state=Arkansas&page=30&format=json: 50"
       ]
      },
      {
       "output_type": "stream",
       "stream": "stdout",
       "text": [
        "\n",
        "http://chroniclingamerica.loc.gov/search/titles/results/?state=Arkansas&page=31&format=json: 50"
       ]
      },
      {
       "output_type": "stream",
       "stream": "stdout",
       "text": [
        "\n",
        "http://chroniclingamerica.loc.gov/search/titles/results/?state=Arkansas&page=32&format=json: 50"
       ]
      },
      {
       "output_type": "stream",
       "stream": "stdout",
       "text": [
        "\n",
        "http://chroniclingamerica.loc.gov/search/titles/results/?state=Arkansas&page=33&format=json: 50"
       ]
      },
      {
       "output_type": "stream",
       "stream": "stdout",
       "text": [
        "\n",
        "http://chroniclingamerica.loc.gov/search/titles/results/?state=Arkansas&page=34&format=json: 50"
       ]
      },
      {
       "output_type": "stream",
       "stream": "stdout",
       "text": [
        "\n",
        "http://chroniclingamerica.loc.gov/search/titles/results/?state=Arkansas&page=35&format=json: 50"
       ]
      },
      {
       "output_type": "stream",
       "stream": "stdout",
       "text": [
        "\n",
        "http://chroniclingamerica.loc.gov/search/titles/results/?state=Arkansas&page=36&format=json: 50"
       ]
      },
      {
       "output_type": "stream",
       "stream": "stdout",
       "text": [
        "\n",
        "http://chroniclingamerica.loc.gov/search/titles/results/?state=Arkansas&page=37&format=json: 50"
       ]
      },
      {
       "output_type": "stream",
       "stream": "stdout",
       "text": [
        "\n",
        "http://chroniclingamerica.loc.gov/search/titles/results/?state=Arkansas&page=38&format=json: 50"
       ]
      },
      {
       "output_type": "stream",
       "stream": "stdout",
       "text": [
        "\n",
        "http://chroniclingamerica.loc.gov/search/titles/results/?state=Arkansas&page=39&format=json: 50"
       ]
      },
      {
       "output_type": "stream",
       "stream": "stdout",
       "text": [
        "\n",
        "http://chroniclingamerica.loc.gov/search/titles/results/?state=Arkansas&page=40&format=json: 4"
       ]
      },
      {
       "output_type": "stream",
       "stream": "stdout",
       "text": [
        "\n",
        "Arizona\n",
        "\n",
        "{'state': 'Arizona', 'format': 'json'}\n",
        "1728"
       ]
      },
      {
       "output_type": "stream",
       "stream": "stdout",
       "text": [
        "\n",
        "http://chroniclingamerica.loc.gov/search/titles/results/?state=Arizona&page=2&format=json: 50"
       ]
      },
      {
       "output_type": "stream",
       "stream": "stdout",
       "text": [
        "\n",
        "http://chroniclingamerica.loc.gov/search/titles/results/?state=Arizona&page=3&format=json: 50"
       ]
      },
      {
       "output_type": "stream",
       "stream": "stdout",
       "text": [
        "\n",
        "http://chroniclingamerica.loc.gov/search/titles/results/?state=Arizona&page=4&format=json: 50"
       ]
      },
      {
       "output_type": "stream",
       "stream": "stdout",
       "text": [
        "\n",
        "http://chroniclingamerica.loc.gov/search/titles/results/?state=Arizona&page=5&format=json: 50"
       ]
      },
      {
       "output_type": "stream",
       "stream": "stdout",
       "text": [
        "\n",
        "http://chroniclingamerica.loc.gov/search/titles/results/?state=Arizona&page=6&format=json: 50"
       ]
      },
      {
       "output_type": "stream",
       "stream": "stdout",
       "text": [
        "\n",
        "http://chroniclingamerica.loc.gov/search/titles/results/?state=Arizona&page=7&format=json: 50"
       ]
      },
      {
       "output_type": "stream",
       "stream": "stdout",
       "text": [
        "\n",
        "http://chroniclingamerica.loc.gov/search/titles/results/?state=Arizona&page=8&format=json: 50"
       ]
      },
      {
       "output_type": "stream",
       "stream": "stdout",
       "text": [
        "\n",
        "http://chroniclingamerica.loc.gov/search/titles/results/?state=Arizona&page=9&format=json: 50"
       ]
      },
      {
       "output_type": "stream",
       "stream": "stdout",
       "text": [
        "\n",
        "http://chroniclingamerica.loc.gov/search/titles/results/?state=Arizona&page=10&format=json: 50"
       ]
      },
      {
       "output_type": "stream",
       "stream": "stdout",
       "text": [
        "\n",
        "http://chroniclingamerica.loc.gov/search/titles/results/?state=Arizona&page=11&format=json: 50"
       ]
      },
      {
       "output_type": "stream",
       "stream": "stdout",
       "text": [
        "\n",
        "http://chroniclingamerica.loc.gov/search/titles/results/?state=Arizona&page=12&format=json: 50"
       ]
      },
      {
       "output_type": "stream",
       "stream": "stdout",
       "text": [
        "\n",
        "http://chroniclingamerica.loc.gov/search/titles/results/?state=Arizona&page=13&format=json: 50"
       ]
      },
      {
       "output_type": "stream",
       "stream": "stdout",
       "text": [
        "\n",
        "http://chroniclingamerica.loc.gov/search/titles/results/?state=Arizona&page=14&format=json: 50"
       ]
      },
      {
       "output_type": "stream",
       "stream": "stdout",
       "text": [
        "\n",
        "http://chroniclingamerica.loc.gov/search/titles/results/?state=Arizona&page=15&format=json: 50"
       ]
      },
      {
       "output_type": "stream",
       "stream": "stdout",
       "text": [
        "\n",
        "http://chroniclingamerica.loc.gov/search/titles/results/?state=Arizona&page=16&format=json: 50"
       ]
      },
      {
       "output_type": "stream",
       "stream": "stdout",
       "text": [
        "\n",
        "http://chroniclingamerica.loc.gov/search/titles/results/?state=Arizona&page=17&format=json: 50"
       ]
      },
      {
       "output_type": "stream",
       "stream": "stdout",
       "text": [
        "\n",
        "http://chroniclingamerica.loc.gov/search/titles/results/?state=Arizona&page=18&format=json: 50"
       ]
      },
      {
       "output_type": "stream",
       "stream": "stdout",
       "text": [
        "\n",
        "http://chroniclingamerica.loc.gov/search/titles/results/?state=Arizona&page=19&format=json: 50"
       ]
      },
      {
       "output_type": "stream",
       "stream": "stdout",
       "text": [
        "\n",
        "http://chroniclingamerica.loc.gov/search/titles/results/?state=Arizona&page=20&format=json: 50"
       ]
      },
      {
       "output_type": "stream",
       "stream": "stdout",
       "text": [
        "\n",
        "http://chroniclingamerica.loc.gov/search/titles/results/?state=Arizona&page=21&format=json: 50"
       ]
      },
      {
       "output_type": "stream",
       "stream": "stdout",
       "text": [
        "\n",
        "http://chroniclingamerica.loc.gov/search/titles/results/?state=Arizona&page=22&format=json: 50"
       ]
      },
      {
       "output_type": "stream",
       "stream": "stdout",
       "text": [
        "\n",
        "http://chroniclingamerica.loc.gov/search/titles/results/?state=Arizona&page=23&format=json: 50"
       ]
      },
      {
       "output_type": "stream",
       "stream": "stdout",
       "text": [
        "\n",
        "http://chroniclingamerica.loc.gov/search/titles/results/?state=Arizona&page=24&format=json: 50"
       ]
      },
      {
       "output_type": "stream",
       "stream": "stdout",
       "text": [
        "\n",
        "http://chroniclingamerica.loc.gov/search/titles/results/?state=Arizona&page=25&format=json: 50"
       ]
      },
      {
       "output_type": "stream",
       "stream": "stdout",
       "text": [
        "\n",
        "http://chroniclingamerica.loc.gov/search/titles/results/?state=Arizona&page=26&format=json: 50"
       ]
      },
      {
       "output_type": "stream",
       "stream": "stdout",
       "text": [
        "\n",
        "http://chroniclingamerica.loc.gov/search/titles/results/?state=Arizona&page=27&format=json: 50"
       ]
      },
      {
       "output_type": "stream",
       "stream": "stdout",
       "text": [
        "\n",
        "http://chroniclingamerica.loc.gov/search/titles/results/?state=Arizona&page=28&format=json: 50"
       ]
      },
      {
       "output_type": "stream",
       "stream": "stdout",
       "text": [
        "\n",
        "http://chroniclingamerica.loc.gov/search/titles/results/?state=Arizona&page=29&format=json: 50"
       ]
      },
      {
       "output_type": "stream",
       "stream": "stdout",
       "text": [
        "\n",
        "http://chroniclingamerica.loc.gov/search/titles/results/?state=Arizona&page=30&format=json: 50"
       ]
      },
      {
       "output_type": "stream",
       "stream": "stdout",
       "text": [
        "\n",
        "http://chroniclingamerica.loc.gov/search/titles/results/?state=Arizona&page=31&format=json: 50"
       ]
      },
      {
       "output_type": "stream",
       "stream": "stdout",
       "text": [
        "\n",
        "http://chroniclingamerica.loc.gov/search/titles/results/?state=Arizona&page=32&format=json: 50"
       ]
      },
      {
       "output_type": "stream",
       "stream": "stdout",
       "text": [
        "\n",
        "http://chroniclingamerica.loc.gov/search/titles/results/?state=Arizona&page=33&format=json: 50"
       ]
      },
      {
       "output_type": "stream",
       "stream": "stdout",
       "text": [
        "\n",
        "http://chroniclingamerica.loc.gov/search/titles/results/?state=Arizona&page=34&format=json: 50"
       ]
      },
      {
       "output_type": "stream",
       "stream": "stdout",
       "text": [
        "\n",
        "http://chroniclingamerica.loc.gov/search/titles/results/?state=Arizona&page=35&format=json: 28"
       ]
      },
      {
       "output_type": "stream",
       "stream": "stdout",
       "text": [
        "\n",
        "California\n",
        "\n",
        "{'state': 'California', 'format': 'json'}\n",
        "9824"
       ]
      },
      {
       "output_type": "stream",
       "stream": "stdout",
       "text": [
        "\n",
        "http://chroniclingamerica.loc.gov/search/titles/results/?state=California&page=2&format=json: 50"
       ]
      },
      {
       "output_type": "stream",
       "stream": "stdout",
       "text": [
        "\n",
        "http://chroniclingamerica.loc.gov/search/titles/results/?state=California&page=3&format=json: 50"
       ]
      },
      {
       "output_type": "stream",
       "stream": "stdout",
       "text": [
        "\n",
        "http://chroniclingamerica.loc.gov/search/titles/results/?state=California&page=4&format=json: 50"
       ]
      },
      {
       "output_type": "stream",
       "stream": "stdout",
       "text": [
        "\n",
        "http://chroniclingamerica.loc.gov/search/titles/results/?state=California&page=5&format=json: 50"
       ]
      },
      {
       "output_type": "stream",
       "stream": "stdout",
       "text": [
        "\n",
        "http://chroniclingamerica.loc.gov/search/titles/results/?state=California&page=6&format=json: 50"
       ]
      },
      {
       "output_type": "stream",
       "stream": "stdout",
       "text": [
        "\n",
        "http://chroniclingamerica.loc.gov/search/titles/results/?state=California&page=7&format=json: 50"
       ]
      },
      {
       "output_type": "stream",
       "stream": "stdout",
       "text": [
        "\n",
        "http://chroniclingamerica.loc.gov/search/titles/results/?state=California&page=8&format=json: 50"
       ]
      },
      {
       "output_type": "stream",
       "stream": "stdout",
       "text": [
        "\n",
        "http://chroniclingamerica.loc.gov/search/titles/results/?state=California&page=9&format=json: 50"
       ]
      },
      {
       "output_type": "stream",
       "stream": "stdout",
       "text": [
        "\n",
        "http://chroniclingamerica.loc.gov/search/titles/results/?state=California&page=10&format=json: 50"
       ]
      },
      {
       "output_type": "stream",
       "stream": "stdout",
       "text": [
        "\n",
        "http://chroniclingamerica.loc.gov/search/titles/results/?state=California&page=11&format=json: 50"
       ]
      },
      {
       "output_type": "stream",
       "stream": "stdout",
       "text": [
        "\n",
        "http://chroniclingamerica.loc.gov/search/titles/results/?state=California&page=12&format=json: 50"
       ]
      },
      {
       "output_type": "stream",
       "stream": "stdout",
       "text": [
        "\n",
        "http://chroniclingamerica.loc.gov/search/titles/results/?state=California&page=13&format=json: 50"
       ]
      },
      {
       "output_type": "stream",
       "stream": "stdout",
       "text": [
        "\n",
        "http://chroniclingamerica.loc.gov/search/titles/results/?state=California&page=14&format=json: 50"
       ]
      },
      {
       "output_type": "stream",
       "stream": "stdout",
       "text": [
        "\n",
        "http://chroniclingamerica.loc.gov/search/titles/results/?state=California&page=15&format=json: 50"
       ]
      },
      {
       "output_type": "stream",
       "stream": "stdout",
       "text": [
        "\n",
        "http://chroniclingamerica.loc.gov/search/titles/results/?state=California&page=16&format=json: 50"
       ]
      },
      {
       "output_type": "stream",
       "stream": "stdout",
       "text": [
        "\n",
        "http://chroniclingamerica.loc.gov/search/titles/results/?state=California&page=17&format=json: 50"
       ]
      },
      {
       "output_type": "stream",
       "stream": "stdout",
       "text": [
        "\n",
        "http://chroniclingamerica.loc.gov/search/titles/results/?state=California&page=18&format=json: 50"
       ]
      },
      {
       "output_type": "stream",
       "stream": "stdout",
       "text": [
        "\n",
        "http://chroniclingamerica.loc.gov/search/titles/results/?state=California&page=19&format=json: 50"
       ]
      },
      {
       "output_type": "stream",
       "stream": "stdout",
       "text": [
        "\n",
        "http://chroniclingamerica.loc.gov/search/titles/results/?state=California&page=20&format=json: 50"
       ]
      },
      {
       "output_type": "stream",
       "stream": "stdout",
       "text": [
        "\n",
        "http://chroniclingamerica.loc.gov/search/titles/results/?state=California&page=21&format=json: 50"
       ]
      },
      {
       "output_type": "stream",
       "stream": "stdout",
       "text": [
        "\n",
        "http://chroniclingamerica.loc.gov/search/titles/results/?state=California&page=22&format=json: 50"
       ]
      },
      {
       "output_type": "stream",
       "stream": "stdout",
       "text": [
        "\n",
        "http://chroniclingamerica.loc.gov/search/titles/results/?state=California&page=23&format=json: 50"
       ]
      },
      {
       "output_type": "stream",
       "stream": "stdout",
       "text": [
        "\n",
        "http://chroniclingamerica.loc.gov/search/titles/results/?state=California&page=24&format=json: 50"
       ]
      },
      {
       "output_type": "stream",
       "stream": "stdout",
       "text": [
        "\n",
        "http://chroniclingamerica.loc.gov/search/titles/results/?state=California&page=25&format=json: 50"
       ]
      },
      {
       "output_type": "stream",
       "stream": "stdout",
       "text": [
        "\n",
        "http://chroniclingamerica.loc.gov/search/titles/results/?state=California&page=26&format=json: 50"
       ]
      },
      {
       "output_type": "stream",
       "stream": "stdout",
       "text": [
        "\n",
        "http://chroniclingamerica.loc.gov/search/titles/results/?state=California&page=27&format=json: 50"
       ]
      },
      {
       "output_type": "stream",
       "stream": "stdout",
       "text": [
        "\n",
        "http://chroniclingamerica.loc.gov/search/titles/results/?state=California&page=28&format=json: 50"
       ]
      },
      {
       "output_type": "stream",
       "stream": "stdout",
       "text": [
        "\n",
        "http://chroniclingamerica.loc.gov/search/titles/results/?state=California&page=29&format=json: 50"
       ]
      },
      {
       "output_type": "stream",
       "stream": "stdout",
       "text": [
        "\n",
        "http://chroniclingamerica.loc.gov/search/titles/results/?state=California&page=30&format=json: 50"
       ]
      },
      {
       "output_type": "stream",
       "stream": "stdout",
       "text": [
        "\n",
        "http://chroniclingamerica.loc.gov/search/titles/results/?state=California&page=31&format=json: 50"
       ]
      },
      {
       "output_type": "stream",
       "stream": "stdout",
       "text": [
        "\n",
        "http://chroniclingamerica.loc.gov/search/titles/results/?state=California&page=32&format=json: 50"
       ]
      },
      {
       "output_type": "stream",
       "stream": "stdout",
       "text": [
        "\n",
        "http://chroniclingamerica.loc.gov/search/titles/results/?state=California&page=33&format=json: 50"
       ]
      },
      {
       "output_type": "stream",
       "stream": "stdout",
       "text": [
        "\n",
        "http://chroniclingamerica.loc.gov/search/titles/results/?state=California&page=34&format=json: 50"
       ]
      },
      {
       "output_type": "stream",
       "stream": "stdout",
       "text": [
        "\n",
        "http://chroniclingamerica.loc.gov/search/titles/results/?state=California&page=35&format=json: 50"
       ]
      },
      {
       "output_type": "stream",
       "stream": "stdout",
       "text": [
        "\n",
        "http://chroniclingamerica.loc.gov/search/titles/results/?state=California&page=36&format=json: 50"
       ]
      },
      {
       "output_type": "stream",
       "stream": "stdout",
       "text": [
        "\n",
        "http://chroniclingamerica.loc.gov/search/titles/results/?state=California&page=37&format=json: 50"
       ]
      },
      {
       "output_type": "stream",
       "stream": "stdout",
       "text": [
        "\n",
        "http://chroniclingamerica.loc.gov/search/titles/results/?state=California&page=38&format=json: 50"
       ]
      },
      {
       "output_type": "stream",
       "stream": "stdout",
       "text": [
        "\n",
        "http://chroniclingamerica.loc.gov/search/titles/results/?state=California&page=39&format=json: 50"
       ]
      },
      {
       "output_type": "stream",
       "stream": "stdout",
       "text": [
        "\n",
        "http://chroniclingamerica.loc.gov/search/titles/results/?state=California&page=40&format=json: 50"
       ]
      },
      {
       "output_type": "stream",
       "stream": "stdout",
       "text": [
        "\n",
        "http://chroniclingamerica.loc.gov/search/titles/results/?state=California&page=41&format=json: 50"
       ]
      },
      {
       "output_type": "stream",
       "stream": "stdout",
       "text": [
        "\n",
        "http://chroniclingamerica.loc.gov/search/titles/results/?state=California&page=42&format=json: 50"
       ]
      },
      {
       "output_type": "stream",
       "stream": "stdout",
       "text": [
        "\n",
        "http://chroniclingamerica.loc.gov/search/titles/results/?state=California&page=43&format=json: 50"
       ]
      },
      {
       "output_type": "stream",
       "stream": "stdout",
       "text": [
        "\n",
        "http://chroniclingamerica.loc.gov/search/titles/results/?state=California&page=44&format=json: 50"
       ]
      },
      {
       "output_type": "stream",
       "stream": "stdout",
       "text": [
        "\n",
        "http://chroniclingamerica.loc.gov/search/titles/results/?state=California&page=45&format=json: 50"
       ]
      },
      {
       "output_type": "stream",
       "stream": "stdout",
       "text": [
        "\n",
        "http://chroniclingamerica.loc.gov/search/titles/results/?state=California&page=46&format=json: 50"
       ]
      },
      {
       "output_type": "stream",
       "stream": "stdout",
       "text": [
        "\n",
        "http://chroniclingamerica.loc.gov/search/titles/results/?state=California&page=47&format=json: 50"
       ]
      },
      {
       "output_type": "stream",
       "stream": "stdout",
       "text": [
        "\n",
        "http://chroniclingamerica.loc.gov/search/titles/results/?state=California&page=48&format=json: 50"
       ]
      },
      {
       "output_type": "stream",
       "stream": "stdout",
       "text": [
        "\n",
        "http://chroniclingamerica.loc.gov/search/titles/results/?state=California&page=49&format=json: 50"
       ]
      },
      {
       "output_type": "stream",
       "stream": "stdout",
       "text": [
        "\n",
        "http://chroniclingamerica.loc.gov/search/titles/results/?state=California&page=50&format=json: 50"
       ]
      },
      {
       "output_type": "stream",
       "stream": "stdout",
       "text": [
        "\n",
        "http://chroniclingamerica.loc.gov/search/titles/results/?state=California&page=51&format=json: 50"
       ]
      },
      {
       "output_type": "stream",
       "stream": "stdout",
       "text": [
        "\n",
        "http://chroniclingamerica.loc.gov/search/titles/results/?state=California&page=52&format=json: 50"
       ]
      },
      {
       "output_type": "stream",
       "stream": "stdout",
       "text": [
        "\n",
        "http://chroniclingamerica.loc.gov/search/titles/results/?state=California&page=53&format=json: 50"
       ]
      },
      {
       "output_type": "stream",
       "stream": "stdout",
       "text": [
        "\n",
        "http://chroniclingamerica.loc.gov/search/titles/results/?state=California&page=54&format=json: 50"
       ]
      },
      {
       "output_type": "stream",
       "stream": "stdout",
       "text": [
        "\n",
        "http://chroniclingamerica.loc.gov/search/titles/results/?state=California&page=55&format=json: 50"
       ]
      },
      {
       "output_type": "stream",
       "stream": "stdout",
       "text": [
        "\n",
        "http://chroniclingamerica.loc.gov/search/titles/results/?state=California&page=56&format=json: 50"
       ]
      },
      {
       "output_type": "stream",
       "stream": "stdout",
       "text": [
        "\n",
        "http://chroniclingamerica.loc.gov/search/titles/results/?state=California&page=57&format=json: 50"
       ]
      },
      {
       "output_type": "stream",
       "stream": "stdout",
       "text": [
        "\n",
        "http://chroniclingamerica.loc.gov/search/titles/results/?state=California&page=58&format=json: 50"
       ]
      },
      {
       "output_type": "stream",
       "stream": "stdout",
       "text": [
        "\n",
        "http://chroniclingamerica.loc.gov/search/titles/results/?state=California&page=59&format=json: 50"
       ]
      },
      {
       "output_type": "stream",
       "stream": "stdout",
       "text": [
        "\n",
        "http://chroniclingamerica.loc.gov/search/titles/results/?state=California&page=60&format=json: 50"
       ]
      },
      {
       "output_type": "stream",
       "stream": "stdout",
       "text": [
        "\n",
        "http://chroniclingamerica.loc.gov/search/titles/results/?state=California&page=61&format=json: 50"
       ]
      },
      {
       "output_type": "stream",
       "stream": "stdout",
       "text": [
        "\n",
        "http://chroniclingamerica.loc.gov/search/titles/results/?state=California&page=62&format=json: 50"
       ]
      },
      {
       "output_type": "stream",
       "stream": "stdout",
       "text": [
        "\n",
        "http://chroniclingamerica.loc.gov/search/titles/results/?state=California&page=63&format=json: 50"
       ]
      },
      {
       "output_type": "stream",
       "stream": "stdout",
       "text": [
        "\n",
        "http://chroniclingamerica.loc.gov/search/titles/results/?state=California&page=64&format=json: 50"
       ]
      },
      {
       "output_type": "stream",
       "stream": "stdout",
       "text": [
        "\n",
        "http://chroniclingamerica.loc.gov/search/titles/results/?state=California&page=65&format=json: 50"
       ]
      },
      {
       "output_type": "stream",
       "stream": "stdout",
       "text": [
        "\n",
        "http://chroniclingamerica.loc.gov/search/titles/results/?state=California&page=66&format=json: 50"
       ]
      },
      {
       "output_type": "stream",
       "stream": "stdout",
       "text": [
        "\n",
        "http://chroniclingamerica.loc.gov/search/titles/results/?state=California&page=67&format=json: 50"
       ]
      },
      {
       "output_type": "stream",
       "stream": "stdout",
       "text": [
        "\n",
        "http://chroniclingamerica.loc.gov/search/titles/results/?state=California&page=68&format=json: 50"
       ]
      },
      {
       "output_type": "stream",
       "stream": "stdout",
       "text": [
        "\n",
        "http://chroniclingamerica.loc.gov/search/titles/results/?state=California&page=69&format=json: 50"
       ]
      },
      {
       "output_type": "stream",
       "stream": "stdout",
       "text": [
        "\n",
        "http://chroniclingamerica.loc.gov/search/titles/results/?state=California&page=70&format=json: 50"
       ]
      },
      {
       "output_type": "stream",
       "stream": "stdout",
       "text": [
        "\n",
        "http://chroniclingamerica.loc.gov/search/titles/results/?state=California&page=71&format=json: 50"
       ]
      },
      {
       "output_type": "stream",
       "stream": "stdout",
       "text": [
        "\n",
        "http://chroniclingamerica.loc.gov/search/titles/results/?state=California&page=72&format=json: 50"
       ]
      },
      {
       "output_type": "stream",
       "stream": "stdout",
       "text": [
        "\n",
        "http://chroniclingamerica.loc.gov/search/titles/results/?state=California&page=73&format=json: 50"
       ]
      },
      {
       "output_type": "stream",
       "stream": "stdout",
       "text": [
        "\n",
        "http://chroniclingamerica.loc.gov/search/titles/results/?state=California&page=74&format=json: 50"
       ]
      },
      {
       "output_type": "stream",
       "stream": "stdout",
       "text": [
        "\n",
        "http://chroniclingamerica.loc.gov/search/titles/results/?state=California&page=75&format=json: 50"
       ]
      },
      {
       "output_type": "stream",
       "stream": "stdout",
       "text": [
        "\n",
        "http://chroniclingamerica.loc.gov/search/titles/results/?state=California&page=76&format=json: 50"
       ]
      },
      {
       "output_type": "stream",
       "stream": "stdout",
       "text": [
        "\n",
        "http://chroniclingamerica.loc.gov/search/titles/results/?state=California&page=77&format=json: 50"
       ]
      },
      {
       "output_type": "stream",
       "stream": "stdout",
       "text": [
        "\n",
        "http://chroniclingamerica.loc.gov/search/titles/results/?state=California&page=78&format=json: 50"
       ]
      },
      {
       "output_type": "stream",
       "stream": "stdout",
       "text": [
        "\n",
        "http://chroniclingamerica.loc.gov/search/titles/results/?state=California&page=79&format=json: 50"
       ]
      },
      {
       "output_type": "stream",
       "stream": "stdout",
       "text": [
        "\n",
        "http://chroniclingamerica.loc.gov/search/titles/results/?state=California&page=80&format=json: 50"
       ]
      },
      {
       "output_type": "stream",
       "stream": "stdout",
       "text": [
        "\n",
        "http://chroniclingamerica.loc.gov/search/titles/results/?state=California&page=81&format=json: 50"
       ]
      },
      {
       "output_type": "stream",
       "stream": "stdout",
       "text": [
        "\n",
        "http://chroniclingamerica.loc.gov/search/titles/results/?state=California&page=82&format=json: 50"
       ]
      },
      {
       "output_type": "stream",
       "stream": "stdout",
       "text": [
        "\n",
        "http://chroniclingamerica.loc.gov/search/titles/results/?state=California&page=83&format=json: 50"
       ]
      },
      {
       "output_type": "stream",
       "stream": "stdout",
       "text": [
        "\n",
        "http://chroniclingamerica.loc.gov/search/titles/results/?state=California&page=84&format=json: 50"
       ]
      },
      {
       "output_type": "stream",
       "stream": "stdout",
       "text": [
        "\n",
        "http://chroniclingamerica.loc.gov/search/titles/results/?state=California&page=85&format=json: 50"
       ]
      },
      {
       "output_type": "stream",
       "stream": "stdout",
       "text": [
        "\n",
        "http://chroniclingamerica.loc.gov/search/titles/results/?state=California&page=86&format=json: 50"
       ]
      },
      {
       "output_type": "stream",
       "stream": "stdout",
       "text": [
        "\n",
        "http://chroniclingamerica.loc.gov/search/titles/results/?state=California&page=87&format=json: 50"
       ]
      },
      {
       "output_type": "stream",
       "stream": "stdout",
       "text": [
        "\n",
        "http://chroniclingamerica.loc.gov/search/titles/results/?state=California&page=88&format=json: 50"
       ]
      },
      {
       "output_type": "stream",
       "stream": "stdout",
       "text": [
        "\n",
        "http://chroniclingamerica.loc.gov/search/titles/results/?state=California&page=89&format=json: 50"
       ]
      },
      {
       "output_type": "stream",
       "stream": "stdout",
       "text": [
        "\n",
        "http://chroniclingamerica.loc.gov/search/titles/results/?state=California&page=90&format=json: 50"
       ]
      },
      {
       "output_type": "stream",
       "stream": "stdout",
       "text": [
        "\n",
        "http://chroniclingamerica.loc.gov/search/titles/results/?state=California&page=91&format=json: 50"
       ]
      },
      {
       "output_type": "stream",
       "stream": "stdout",
       "text": [
        "\n",
        "http://chroniclingamerica.loc.gov/search/titles/results/?state=California&page=92&format=json: 50"
       ]
      },
      {
       "output_type": "stream",
       "stream": "stdout",
       "text": [
        "\n",
        "http://chroniclingamerica.loc.gov/search/titles/results/?state=California&page=93&format=json: 50"
       ]
      },
      {
       "output_type": "stream",
       "stream": "stdout",
       "text": [
        "\n",
        "http://chroniclingamerica.loc.gov/search/titles/results/?state=California&page=94&format=json: 50"
       ]
      },
      {
       "output_type": "stream",
       "stream": "stdout",
       "text": [
        "\n",
        "http://chroniclingamerica.loc.gov/search/titles/results/?state=California&page=95&format=json: 50"
       ]
      },
      {
       "output_type": "stream",
       "stream": "stdout",
       "text": [
        "\n",
        "http://chroniclingamerica.loc.gov/search/titles/results/?state=California&page=96&format=json: 50"
       ]
      },
      {
       "output_type": "stream",
       "stream": "stdout",
       "text": [
        "\n",
        "http://chroniclingamerica.loc.gov/search/titles/results/?state=California&page=97&format=json: 50"
       ]
      },
      {
       "output_type": "stream",
       "stream": "stdout",
       "text": [
        "\n",
        "http://chroniclingamerica.loc.gov/search/titles/results/?state=California&page=98&format=json: 50"
       ]
      },
      {
       "output_type": "stream",
       "stream": "stdout",
       "text": [
        "\n",
        "http://chroniclingamerica.loc.gov/search/titles/results/?state=California&page=99&format=json: 50"
       ]
      },
      {
       "output_type": "stream",
       "stream": "stdout",
       "text": [
        "\n",
        "http://chroniclingamerica.loc.gov/search/titles/results/?state=California&page=100&format=json: 50"
       ]
      },
      {
       "output_type": "stream",
       "stream": "stdout",
       "text": [
        "\n",
        "http://chroniclingamerica.loc.gov/search/titles/results/?state=California&page=101&format=json: 50"
       ]
      },
      {
       "output_type": "stream",
       "stream": "stdout",
       "text": [
        "\n",
        "http://chroniclingamerica.loc.gov/search/titles/results/?state=California&page=102&format=json: 50"
       ]
      },
      {
       "output_type": "stream",
       "stream": "stdout",
       "text": [
        "\n",
        "http://chroniclingamerica.loc.gov/search/titles/results/?state=California&page=103&format=json: 50"
       ]
      },
      {
       "output_type": "stream",
       "stream": "stdout",
       "text": [
        "\n",
        "http://chroniclingamerica.loc.gov/search/titles/results/?state=California&page=104&format=json: 50"
       ]
      },
      {
       "output_type": "stream",
       "stream": "stdout",
       "text": [
        "\n",
        "http://chroniclingamerica.loc.gov/search/titles/results/?state=California&page=105&format=json: 50"
       ]
      },
      {
       "output_type": "stream",
       "stream": "stdout",
       "text": [
        "\n",
        "http://chroniclingamerica.loc.gov/search/titles/results/?state=California&page=106&format=json: 50"
       ]
      },
      {
       "output_type": "stream",
       "stream": "stdout",
       "text": [
        "\n",
        "http://chroniclingamerica.loc.gov/search/titles/results/?state=California&page=107&format=json: 50"
       ]
      },
      {
       "output_type": "stream",
       "stream": "stdout",
       "text": [
        "\n",
        "http://chroniclingamerica.loc.gov/search/titles/results/?state=California&page=108&format=json: 50"
       ]
      },
      {
       "output_type": "stream",
       "stream": "stdout",
       "text": [
        "\n",
        "http://chroniclingamerica.loc.gov/search/titles/results/?state=California&page=109&format=json: 50"
       ]
      },
      {
       "output_type": "stream",
       "stream": "stdout",
       "text": [
        "\n",
        "http://chroniclingamerica.loc.gov/search/titles/results/?state=California&page=110&format=json: 50"
       ]
      },
      {
       "output_type": "stream",
       "stream": "stdout",
       "text": [
        "\n",
        "http://chroniclingamerica.loc.gov/search/titles/results/?state=California&page=111&format=json: 50"
       ]
      },
      {
       "output_type": "stream",
       "stream": "stdout",
       "text": [
        "\n",
        "http://chroniclingamerica.loc.gov/search/titles/results/?state=California&page=112&format=json: 50"
       ]
      },
      {
       "output_type": "stream",
       "stream": "stdout",
       "text": [
        "\n",
        "http://chroniclingamerica.loc.gov/search/titles/results/?state=California&page=113&format=json: 50"
       ]
      },
      {
       "output_type": "stream",
       "stream": "stdout",
       "text": [
        "\n",
        "http://chroniclingamerica.loc.gov/search/titles/results/?state=California&page=114&format=json: 50"
       ]
      },
      {
       "output_type": "stream",
       "stream": "stdout",
       "text": [
        "\n",
        "http://chroniclingamerica.loc.gov/search/titles/results/?state=California&page=115&format=json: 50"
       ]
      },
      {
       "output_type": "stream",
       "stream": "stdout",
       "text": [
        "\n",
        "http://chroniclingamerica.loc.gov/search/titles/results/?state=California&page=116&format=json: 50"
       ]
      },
      {
       "output_type": "stream",
       "stream": "stdout",
       "text": [
        "\n",
        "http://chroniclingamerica.loc.gov/search/titles/results/?state=California&page=117&format=json: 50"
       ]
      },
      {
       "output_type": "stream",
       "stream": "stdout",
       "text": [
        "\n",
        "http://chroniclingamerica.loc.gov/search/titles/results/?state=California&page=118&format=json: 50"
       ]
      },
      {
       "output_type": "stream",
       "stream": "stdout",
       "text": [
        "\n",
        "http://chroniclingamerica.loc.gov/search/titles/results/?state=California&page=119&format=json: 50"
       ]
      },
      {
       "output_type": "stream",
       "stream": "stdout",
       "text": [
        "\n",
        "http://chroniclingamerica.loc.gov/search/titles/results/?state=California&page=120&format=json: 50"
       ]
      },
      {
       "output_type": "stream",
       "stream": "stdout",
       "text": [
        "\n",
        "http://chroniclingamerica.loc.gov/search/titles/results/?state=California&page=121&format=json: 50"
       ]
      },
      {
       "output_type": "stream",
       "stream": "stdout",
       "text": [
        "\n",
        "http://chroniclingamerica.loc.gov/search/titles/results/?state=California&page=122&format=json: 50"
       ]
      },
      {
       "output_type": "stream",
       "stream": "stdout",
       "text": [
        "\n",
        "http://chroniclingamerica.loc.gov/search/titles/results/?state=California&page=123&format=json: 50"
       ]
      },
      {
       "output_type": "stream",
       "stream": "stdout",
       "text": [
        "\n",
        "http://chroniclingamerica.loc.gov/search/titles/results/?state=California&page=124&format=json: 50"
       ]
      },
      {
       "output_type": "stream",
       "stream": "stdout",
       "text": [
        "\n",
        "http://chroniclingamerica.loc.gov/search/titles/results/?state=California&page=125&format=json: 50"
       ]
      },
      {
       "output_type": "stream",
       "stream": "stdout",
       "text": [
        "\n",
        "http://chroniclingamerica.loc.gov/search/titles/results/?state=California&page=126&format=json: 50"
       ]
      },
      {
       "output_type": "stream",
       "stream": "stdout",
       "text": [
        "\n",
        "http://chroniclingamerica.loc.gov/search/titles/results/?state=California&page=127&format=json: 50"
       ]
      },
      {
       "output_type": "stream",
       "stream": "stdout",
       "text": [
        "\n",
        "http://chroniclingamerica.loc.gov/search/titles/results/?state=California&page=128&format=json: 50"
       ]
      },
      {
       "output_type": "stream",
       "stream": "stdout",
       "text": [
        "\n",
        "http://chroniclingamerica.loc.gov/search/titles/results/?state=California&page=129&format=json: 50"
       ]
      },
      {
       "output_type": "stream",
       "stream": "stdout",
       "text": [
        "\n",
        "http://chroniclingamerica.loc.gov/search/titles/results/?state=California&page=130&format=json: 50"
       ]
      },
      {
       "output_type": "stream",
       "stream": "stdout",
       "text": [
        "\n",
        "http://chroniclingamerica.loc.gov/search/titles/results/?state=California&page=131&format=json: 50"
       ]
      },
      {
       "output_type": "stream",
       "stream": "stdout",
       "text": [
        "\n",
        "http://chroniclingamerica.loc.gov/search/titles/results/?state=California&page=132&format=json: 50"
       ]
      },
      {
       "output_type": "stream",
       "stream": "stdout",
       "text": [
        "\n",
        "http://chroniclingamerica.loc.gov/search/titles/results/?state=California&page=133&format=json: 50"
       ]
      },
      {
       "output_type": "stream",
       "stream": "stdout",
       "text": [
        "\n",
        "http://chroniclingamerica.loc.gov/search/titles/results/?state=California&page=134&format=json: 50"
       ]
      },
      {
       "output_type": "stream",
       "stream": "stdout",
       "text": [
        "\n",
        "http://chroniclingamerica.loc.gov/search/titles/results/?state=California&page=135&format=json: 50"
       ]
      },
      {
       "output_type": "stream",
       "stream": "stdout",
       "text": [
        "\n",
        "http://chroniclingamerica.loc.gov/search/titles/results/?state=California&page=136&format=json: 50"
       ]
      },
      {
       "output_type": "stream",
       "stream": "stdout",
       "text": [
        "\n",
        "http://chroniclingamerica.loc.gov/search/titles/results/?state=California&page=137&format=json: 50"
       ]
      },
      {
       "output_type": "stream",
       "stream": "stdout",
       "text": [
        "\n",
        "http://chroniclingamerica.loc.gov/search/titles/results/?state=California&page=138&format=json: 50"
       ]
      },
      {
       "output_type": "stream",
       "stream": "stdout",
       "text": [
        "\n",
        "http://chroniclingamerica.loc.gov/search/titles/results/?state=California&page=139&format=json: 50"
       ]
      },
      {
       "output_type": "stream",
       "stream": "stdout",
       "text": [
        "\n",
        "http://chroniclingamerica.loc.gov/search/titles/results/?state=California&page=140&format=json: 50"
       ]
      },
      {
       "output_type": "stream",
       "stream": "stdout",
       "text": [
        "\n",
        "http://chroniclingamerica.loc.gov/search/titles/results/?state=California&page=141&format=json: 50"
       ]
      },
      {
       "output_type": "stream",
       "stream": "stdout",
       "text": [
        "\n",
        "http://chroniclingamerica.loc.gov/search/titles/results/?state=California&page=142&format=json: 50"
       ]
      },
      {
       "output_type": "stream",
       "stream": "stdout",
       "text": [
        "\n",
        "http://chroniclingamerica.loc.gov/search/titles/results/?state=California&page=143&format=json: 50"
       ]
      },
      {
       "output_type": "stream",
       "stream": "stdout",
       "text": [
        "\n",
        "http://chroniclingamerica.loc.gov/search/titles/results/?state=California&page=144&format=json: 50"
       ]
      },
      {
       "output_type": "stream",
       "stream": "stdout",
       "text": [
        "\n",
        "http://chroniclingamerica.loc.gov/search/titles/results/?state=California&page=145&format=json: 50"
       ]
      },
      {
       "output_type": "stream",
       "stream": "stdout",
       "text": [
        "\n",
        "http://chroniclingamerica.loc.gov/search/titles/results/?state=California&page=146&format=json: 50"
       ]
      },
      {
       "output_type": "stream",
       "stream": "stdout",
       "text": [
        "\n",
        "http://chroniclingamerica.loc.gov/search/titles/results/?state=California&page=147&format=json: 50"
       ]
      },
      {
       "output_type": "stream",
       "stream": "stdout",
       "text": [
        "\n",
        "http://chroniclingamerica.loc.gov/search/titles/results/?state=California&page=148&format=json: 50"
       ]
      },
      {
       "output_type": "stream",
       "stream": "stdout",
       "text": [
        "\n",
        "http://chroniclingamerica.loc.gov/search/titles/results/?state=California&page=149&format=json: 50"
       ]
      },
      {
       "output_type": "stream",
       "stream": "stdout",
       "text": [
        "\n",
        "http://chroniclingamerica.loc.gov/search/titles/results/?state=California&page=150&format=json: 50"
       ]
      },
      {
       "output_type": "stream",
       "stream": "stdout",
       "text": [
        "\n",
        "http://chroniclingamerica.loc.gov/search/titles/results/?state=California&page=151&format=json: 50"
       ]
      },
      {
       "output_type": "stream",
       "stream": "stdout",
       "text": [
        "\n",
        "http://chroniclingamerica.loc.gov/search/titles/results/?state=California&page=152&format=json: 50"
       ]
      },
      {
       "output_type": "stream",
       "stream": "stdout",
       "text": [
        "\n",
        "http://chroniclingamerica.loc.gov/search/titles/results/?state=California&page=153&format=json: 50"
       ]
      },
      {
       "output_type": "stream",
       "stream": "stdout",
       "text": [
        "\n",
        "http://chroniclingamerica.loc.gov/search/titles/results/?state=California&page=154&format=json: 50"
       ]
      },
      {
       "output_type": "stream",
       "stream": "stdout",
       "text": [
        "\n",
        "http://chroniclingamerica.loc.gov/search/titles/results/?state=California&page=155&format=json: 50"
       ]
      },
      {
       "output_type": "stream",
       "stream": "stdout",
       "text": [
        "\n",
        "http://chroniclingamerica.loc.gov/search/titles/results/?state=California&page=156&format=json: 50"
       ]
      },
      {
       "output_type": "stream",
       "stream": "stdout",
       "text": [
        "\n",
        "http://chroniclingamerica.loc.gov/search/titles/results/?state=California&page=157&format=json: 50"
       ]
      },
      {
       "output_type": "stream",
       "stream": "stdout",
       "text": [
        "\n",
        "http://chroniclingamerica.loc.gov/search/titles/results/?state=California&page=158&format=json: 50"
       ]
      },
      {
       "output_type": "stream",
       "stream": "stdout",
       "text": [
        "\n",
        "http://chroniclingamerica.loc.gov/search/titles/results/?state=California&page=159&format=json: 50"
       ]
      },
      {
       "output_type": "stream",
       "stream": "stdout",
       "text": [
        "\n",
        "http://chroniclingamerica.loc.gov/search/titles/results/?state=California&page=160&format=json: 50"
       ]
      },
      {
       "output_type": "stream",
       "stream": "stdout",
       "text": [
        "\n",
        "http://chroniclingamerica.loc.gov/search/titles/results/?state=California&page=161&format=json: 50"
       ]
      },
      {
       "output_type": "stream",
       "stream": "stdout",
       "text": [
        "\n",
        "http://chroniclingamerica.loc.gov/search/titles/results/?state=California&page=162&format=json: 50"
       ]
      },
      {
       "output_type": "stream",
       "stream": "stdout",
       "text": [
        "\n",
        "http://chroniclingamerica.loc.gov/search/titles/results/?state=California&page=163&format=json: 50"
       ]
      },
      {
       "output_type": "stream",
       "stream": "stdout",
       "text": [
        "\n",
        "http://chroniclingamerica.loc.gov/search/titles/results/?state=California&page=164&format=json: 50"
       ]
      },
      {
       "output_type": "stream",
       "stream": "stdout",
       "text": [
        "\n",
        "http://chroniclingamerica.loc.gov/search/titles/results/?state=California&page=165&format=json: 50"
       ]
      },
      {
       "output_type": "stream",
       "stream": "stdout",
       "text": [
        "\n",
        "http://chroniclingamerica.loc.gov/search/titles/results/?state=California&page=166&format=json: 50"
       ]
      },
      {
       "output_type": "stream",
       "stream": "stdout",
       "text": [
        "\n",
        "http://chroniclingamerica.loc.gov/search/titles/results/?state=California&page=167&format=json: 50"
       ]
      },
      {
       "output_type": "stream",
       "stream": "stdout",
       "text": [
        "\n",
        "http://chroniclingamerica.loc.gov/search/titles/results/?state=California&page=168&format=json: 50"
       ]
      },
      {
       "output_type": "stream",
       "stream": "stdout",
       "text": [
        "\n",
        "http://chroniclingamerica.loc.gov/search/titles/results/?state=California&page=169&format=json: 50"
       ]
      },
      {
       "output_type": "stream",
       "stream": "stdout",
       "text": [
        "\n",
        "http://chroniclingamerica.loc.gov/search/titles/results/?state=California&page=170&format=json: 50"
       ]
      },
      {
       "output_type": "stream",
       "stream": "stdout",
       "text": [
        "\n",
        "http://chroniclingamerica.loc.gov/search/titles/results/?state=California&page=171&format=json: 50"
       ]
      },
      {
       "output_type": "stream",
       "stream": "stdout",
       "text": [
        "\n",
        "http://chroniclingamerica.loc.gov/search/titles/results/?state=California&page=172&format=json: 50"
       ]
      },
      {
       "output_type": "stream",
       "stream": "stdout",
       "text": [
        "\n",
        "http://chroniclingamerica.loc.gov/search/titles/results/?state=California&page=173&format=json: 50"
       ]
      },
      {
       "output_type": "stream",
       "stream": "stdout",
       "text": [
        "\n",
        "http://chroniclingamerica.loc.gov/search/titles/results/?state=California&page=174&format=json: 50"
       ]
      },
      {
       "output_type": "stream",
       "stream": "stdout",
       "text": [
        "\n",
        "http://chroniclingamerica.loc.gov/search/titles/results/?state=California&page=175&format=json: 50"
       ]
      },
      {
       "output_type": "stream",
       "stream": "stdout",
       "text": [
        "\n",
        "http://chroniclingamerica.loc.gov/search/titles/results/?state=California&page=176&format=json: 50"
       ]
      },
      {
       "output_type": "stream",
       "stream": "stdout",
       "text": [
        "\n",
        "http://chroniclingamerica.loc.gov/search/titles/results/?state=California&page=177&format=json: 50"
       ]
      },
      {
       "output_type": "stream",
       "stream": "stdout",
       "text": [
        "\n",
        "http://chroniclingamerica.loc.gov/search/titles/results/?state=California&page=178&format=json: 50"
       ]
      },
      {
       "output_type": "stream",
       "stream": "stdout",
       "text": [
        "\n",
        "http://chroniclingamerica.loc.gov/search/titles/results/?state=California&page=179&format=json: 50"
       ]
      },
      {
       "output_type": "stream",
       "stream": "stdout",
       "text": [
        "\n",
        "http://chroniclingamerica.loc.gov/search/titles/results/?state=California&page=180&format=json: 50"
       ]
      },
      {
       "output_type": "stream",
       "stream": "stdout",
       "text": [
        "\n",
        "http://chroniclingamerica.loc.gov/search/titles/results/?state=California&page=181&format=json: 50"
       ]
      },
      {
       "output_type": "stream",
       "stream": "stdout",
       "text": [
        "\n",
        "http://chroniclingamerica.loc.gov/search/titles/results/?state=California&page=182&format=json: 50"
       ]
      },
      {
       "output_type": "stream",
       "stream": "stdout",
       "text": [
        "\n",
        "http://chroniclingamerica.loc.gov/search/titles/results/?state=California&page=183&format=json: 50"
       ]
      },
      {
       "output_type": "stream",
       "stream": "stdout",
       "text": [
        "\n",
        "http://chroniclingamerica.loc.gov/search/titles/results/?state=California&page=184&format=json: 50"
       ]
      },
      {
       "output_type": "stream",
       "stream": "stdout",
       "text": [
        "\n",
        "http://chroniclingamerica.loc.gov/search/titles/results/?state=California&page=185&format=json: 50"
       ]
      },
      {
       "output_type": "stream",
       "stream": "stdout",
       "text": [
        "\n",
        "http://chroniclingamerica.loc.gov/search/titles/results/?state=California&page=186&format=json: 50"
       ]
      },
      {
       "output_type": "stream",
       "stream": "stdout",
       "text": [
        "\n",
        "http://chroniclingamerica.loc.gov/search/titles/results/?state=California&page=187&format=json: 50"
       ]
      },
      {
       "output_type": "stream",
       "stream": "stdout",
       "text": [
        "\n",
        "http://chroniclingamerica.loc.gov/search/titles/results/?state=California&page=188&format=json: 50"
       ]
      },
      {
       "output_type": "stream",
       "stream": "stdout",
       "text": [
        "\n",
        "http://chroniclingamerica.loc.gov/search/titles/results/?state=California&page=189&format=json: 50"
       ]
      },
      {
       "output_type": "stream",
       "stream": "stdout",
       "text": [
        "\n",
        "http://chroniclingamerica.loc.gov/search/titles/results/?state=California&page=190&format=json: 50"
       ]
      },
      {
       "output_type": "stream",
       "stream": "stdout",
       "text": [
        "\n",
        "http://chroniclingamerica.loc.gov/search/titles/results/?state=California&page=191&format=json: 50"
       ]
      },
      {
       "output_type": "stream",
       "stream": "stdout",
       "text": [
        "\n",
        "http://chroniclingamerica.loc.gov/search/titles/results/?state=California&page=192&format=json: 50"
       ]
      },
      {
       "output_type": "stream",
       "stream": "stdout",
       "text": [
        "\n",
        "http://chroniclingamerica.loc.gov/search/titles/results/?state=California&page=193&format=json: 50"
       ]
      },
      {
       "output_type": "stream",
       "stream": "stdout",
       "text": [
        "\n",
        "http://chroniclingamerica.loc.gov/search/titles/results/?state=California&page=194&format=json: 50"
       ]
      },
      {
       "output_type": "stream",
       "stream": "stdout",
       "text": [
        "\n",
        "http://chroniclingamerica.loc.gov/search/titles/results/?state=California&page=195&format=json: 50"
       ]
      },
      {
       "output_type": "stream",
       "stream": "stdout",
       "text": [
        "\n",
        "http://chroniclingamerica.loc.gov/search/titles/results/?state=California&page=196&format=json: 50"
       ]
      },
      {
       "output_type": "stream",
       "stream": "stdout",
       "text": [
        "\n",
        "http://chroniclingamerica.loc.gov/search/titles/results/?state=California&page=197&format=json: 24"
       ]
      },
      {
       "output_type": "stream",
       "stream": "stdout",
       "text": [
        "\n",
        "Colorado\n",
        "\n",
        "{'state': 'Colorado', 'format': 'json'}\n",
        "2626"
       ]
      },
      {
       "output_type": "stream",
       "stream": "stdout",
       "text": [
        "\n",
        "http://chroniclingamerica.loc.gov/search/titles/results/?state=Colorado&page=2&format=json: 50"
       ]
      },
      {
       "output_type": "stream",
       "stream": "stdout",
       "text": [
        "\n",
        "http://chroniclingamerica.loc.gov/search/titles/results/?state=Colorado&page=3&format=json: 50"
       ]
      },
      {
       "output_type": "stream",
       "stream": "stdout",
       "text": [
        "\n",
        "http://chroniclingamerica.loc.gov/search/titles/results/?state=Colorado&page=4&format=json: 50"
       ]
      },
      {
       "output_type": "stream",
       "stream": "stdout",
       "text": [
        "\n",
        "http://chroniclingamerica.loc.gov/search/titles/results/?state=Colorado&page=5&format=json: 50"
       ]
      },
      {
       "output_type": "stream",
       "stream": "stdout",
       "text": [
        "\n",
        "http://chroniclingamerica.loc.gov/search/titles/results/?state=Colorado&page=6&format=json: 50"
       ]
      },
      {
       "output_type": "stream",
       "stream": "stdout",
       "text": [
        "\n",
        "http://chroniclingamerica.loc.gov/search/titles/results/?state=Colorado&page=7&format=json: 50"
       ]
      },
      {
       "output_type": "stream",
       "stream": "stdout",
       "text": [
        "\n",
        "http://chroniclingamerica.loc.gov/search/titles/results/?state=Colorado&page=8&format=json: 50"
       ]
      },
      {
       "output_type": "stream",
       "stream": "stdout",
       "text": [
        "\n",
        "http://chroniclingamerica.loc.gov/search/titles/results/?state=Colorado&page=9&format=json: 50"
       ]
      },
      {
       "output_type": "stream",
       "stream": "stdout",
       "text": [
        "\n",
        "http://chroniclingamerica.loc.gov/search/titles/results/?state=Colorado&page=10&format=json: 50"
       ]
      },
      {
       "output_type": "stream",
       "stream": "stdout",
       "text": [
        "\n",
        "http://chroniclingamerica.loc.gov/search/titles/results/?state=Colorado&page=11&format=json: 50"
       ]
      },
      {
       "output_type": "stream",
       "stream": "stdout",
       "text": [
        "\n",
        "http://chroniclingamerica.loc.gov/search/titles/results/?state=Colorado&page=12&format=json: 50"
       ]
      },
      {
       "output_type": "stream",
       "stream": "stdout",
       "text": [
        "\n",
        "http://chroniclingamerica.loc.gov/search/titles/results/?state=Colorado&page=13&format=json: 50"
       ]
      },
      {
       "output_type": "stream",
       "stream": "stdout",
       "text": [
        "\n",
        "http://chroniclingamerica.loc.gov/search/titles/results/?state=Colorado&page=14&format=json: 50"
       ]
      },
      {
       "output_type": "stream",
       "stream": "stdout",
       "text": [
        "\n",
        "http://chroniclingamerica.loc.gov/search/titles/results/?state=Colorado&page=15&format=json: 50"
       ]
      },
      {
       "output_type": "stream",
       "stream": "stdout",
       "text": [
        "\n",
        "http://chroniclingamerica.loc.gov/search/titles/results/?state=Colorado&page=16&format=json: 50"
       ]
      },
      {
       "output_type": "stream",
       "stream": "stdout",
       "text": [
        "\n",
        "http://chroniclingamerica.loc.gov/search/titles/results/?state=Colorado&page=17&format=json: 50"
       ]
      },
      {
       "output_type": "stream",
       "stream": "stdout",
       "text": [
        "\n",
        "http://chroniclingamerica.loc.gov/search/titles/results/?state=Colorado&page=18&format=json: 50"
       ]
      },
      {
       "output_type": "stream",
       "stream": "stdout",
       "text": [
        "\n",
        "http://chroniclingamerica.loc.gov/search/titles/results/?state=Colorado&page=19&format=json: 50"
       ]
      },
      {
       "output_type": "stream",
       "stream": "stdout",
       "text": [
        "\n",
        "http://chroniclingamerica.loc.gov/search/titles/results/?state=Colorado&page=20&format=json: 50"
       ]
      },
      {
       "output_type": "stream",
       "stream": "stdout",
       "text": [
        "\n",
        "http://chroniclingamerica.loc.gov/search/titles/results/?state=Colorado&page=21&format=json: 50"
       ]
      },
      {
       "output_type": "stream",
       "stream": "stdout",
       "text": [
        "\n",
        "http://chroniclingamerica.loc.gov/search/titles/results/?state=Colorado&page=22&format=json: 50"
       ]
      },
      {
       "output_type": "stream",
       "stream": "stdout",
       "text": [
        "\n",
        "http://chroniclingamerica.loc.gov/search/titles/results/?state=Colorado&page=23&format=json: 50"
       ]
      },
      {
       "output_type": "stream",
       "stream": "stdout",
       "text": [
        "\n",
        "http://chroniclingamerica.loc.gov/search/titles/results/?state=Colorado&page=24&format=json: 50"
       ]
      },
      {
       "output_type": "stream",
       "stream": "stdout",
       "text": [
        "\n",
        "http://chroniclingamerica.loc.gov/search/titles/results/?state=Colorado&page=25&format=json: 50"
       ]
      },
      {
       "output_type": "stream",
       "stream": "stdout",
       "text": [
        "\n",
        "http://chroniclingamerica.loc.gov/search/titles/results/?state=Colorado&page=26&format=json: 50"
       ]
      },
      {
       "output_type": "stream",
       "stream": "stdout",
       "text": [
        "\n",
        "http://chroniclingamerica.loc.gov/search/titles/results/?state=Colorado&page=27&format=json: 50"
       ]
      },
      {
       "output_type": "stream",
       "stream": "stdout",
       "text": [
        "\n",
        "http://chroniclingamerica.loc.gov/search/titles/results/?state=Colorado&page=28&format=json: 50"
       ]
      },
      {
       "output_type": "stream",
       "stream": "stdout",
       "text": [
        "\n",
        "http://chroniclingamerica.loc.gov/search/titles/results/?state=Colorado&page=29&format=json: 50"
       ]
      },
      {
       "output_type": "stream",
       "stream": "stdout",
       "text": [
        "\n",
        "http://chroniclingamerica.loc.gov/search/titles/results/?state=Colorado&page=30&format=json: 50"
       ]
      },
      {
       "output_type": "stream",
       "stream": "stdout",
       "text": [
        "\n",
        "http://chroniclingamerica.loc.gov/search/titles/results/?state=Colorado&page=31&format=json: 50"
       ]
      },
      {
       "output_type": "stream",
       "stream": "stdout",
       "text": [
        "\n",
        "http://chroniclingamerica.loc.gov/search/titles/results/?state=Colorado&page=32&format=json: 50"
       ]
      },
      {
       "output_type": "stream",
       "stream": "stdout",
       "text": [
        "\n",
        "http://chroniclingamerica.loc.gov/search/titles/results/?state=Colorado&page=33&format=json: 50"
       ]
      },
      {
       "output_type": "stream",
       "stream": "stdout",
       "text": [
        "\n",
        "http://chroniclingamerica.loc.gov/search/titles/results/?state=Colorado&page=34&format=json: 50"
       ]
      },
      {
       "output_type": "stream",
       "stream": "stdout",
       "text": [
        "\n",
        "http://chroniclingamerica.loc.gov/search/titles/results/?state=Colorado&page=35&format=json: 50"
       ]
      },
      {
       "output_type": "stream",
       "stream": "stdout",
       "text": [
        "\n",
        "http://chroniclingamerica.loc.gov/search/titles/results/?state=Colorado&page=36&format=json: 50"
       ]
      },
      {
       "output_type": "stream",
       "stream": "stdout",
       "text": [
        "\n",
        "http://chroniclingamerica.loc.gov/search/titles/results/?state=Colorado&page=37&format=json: 50"
       ]
      },
      {
       "output_type": "stream",
       "stream": "stdout",
       "text": [
        "\n",
        "http://chroniclingamerica.loc.gov/search/titles/results/?state=Colorado&page=38&format=json: 50"
       ]
      },
      {
       "output_type": "stream",
       "stream": "stdout",
       "text": [
        "\n",
        "http://chroniclingamerica.loc.gov/search/titles/results/?state=Colorado&page=39&format=json: 50"
       ]
      },
      {
       "output_type": "stream",
       "stream": "stdout",
       "text": [
        "\n",
        "http://chroniclingamerica.loc.gov/search/titles/results/?state=Colorado&page=40&format=json: 50"
       ]
      },
      {
       "output_type": "stream",
       "stream": "stdout",
       "text": [
        "\n",
        "http://chroniclingamerica.loc.gov/search/titles/results/?state=Colorado&page=41&format=json: 50"
       ]
      },
      {
       "output_type": "stream",
       "stream": "stdout",
       "text": [
        "\n",
        "http://chroniclingamerica.loc.gov/search/titles/results/?state=Colorado&page=42&format=json: 50"
       ]
      },
      {
       "output_type": "stream",
       "stream": "stdout",
       "text": [
        "\n",
        "http://chroniclingamerica.loc.gov/search/titles/results/?state=Colorado&page=43&format=json: 50"
       ]
      },
      {
       "output_type": "stream",
       "stream": "stdout",
       "text": [
        "\n",
        "http://chroniclingamerica.loc.gov/search/titles/results/?state=Colorado&page=44&format=json: 50"
       ]
      },
      {
       "output_type": "stream",
       "stream": "stdout",
       "text": [
        "\n",
        "http://chroniclingamerica.loc.gov/search/titles/results/?state=Colorado&page=45&format=json: 50"
       ]
      },
      {
       "output_type": "stream",
       "stream": "stdout",
       "text": [
        "\n",
        "http://chroniclingamerica.loc.gov/search/titles/results/?state=Colorado&page=46&format=json: 50"
       ]
      },
      {
       "output_type": "stream",
       "stream": "stdout",
       "text": [
        "\n",
        "http://chroniclingamerica.loc.gov/search/titles/results/?state=Colorado&page=47&format=json: 50"
       ]
      },
      {
       "output_type": "stream",
       "stream": "stdout",
       "text": [
        "\n",
        "http://chroniclingamerica.loc.gov/search/titles/results/?state=Colorado&page=48&format=json: 50"
       ]
      },
      {
       "output_type": "stream",
       "stream": "stdout",
       "text": [
        "\n",
        "http://chroniclingamerica.loc.gov/search/titles/results/?state=Colorado&page=49&format=json: 50"
       ]
      },
      {
       "output_type": "stream",
       "stream": "stdout",
       "text": [
        "\n",
        "http://chroniclingamerica.loc.gov/search/titles/results/?state=Colorado&page=50&format=json: 50"
       ]
      },
      {
       "output_type": "stream",
       "stream": "stdout",
       "text": [
        "\n",
        "http://chroniclingamerica.loc.gov/search/titles/results/?state=Colorado&page=51&format=json: 50"
       ]
      },
      {
       "output_type": "stream",
       "stream": "stdout",
       "text": [
        "\n",
        "http://chroniclingamerica.loc.gov/search/titles/results/?state=Colorado&page=52&format=json: 50"
       ]
      },
      {
       "output_type": "stream",
       "stream": "stdout",
       "text": [
        "\n",
        "http://chroniclingamerica.loc.gov/search/titles/results/?state=Colorado&page=53&format=json: 26"
       ]
      },
      {
       "output_type": "stream",
       "stream": "stdout",
       "text": [
        "\n",
        "Connecticut\n",
        "\n",
        "{'state': 'Connecticut', 'format': 'json'}\n",
        "2071"
       ]
      },
      {
       "output_type": "stream",
       "stream": "stdout",
       "text": [
        "\n",
        "http://chroniclingamerica.loc.gov/search/titles/results/?state=Connecticut&page=2&format=json: 50"
       ]
      },
      {
       "output_type": "stream",
       "stream": "stdout",
       "text": [
        "\n",
        "http://chroniclingamerica.loc.gov/search/titles/results/?state=Connecticut&page=3&format=json: 50"
       ]
      },
      {
       "output_type": "stream",
       "stream": "stdout",
       "text": [
        "\n",
        "http://chroniclingamerica.loc.gov/search/titles/results/?state=Connecticut&page=4&format=json: 50"
       ]
      },
      {
       "output_type": "stream",
       "stream": "stdout",
       "text": [
        "\n",
        "http://chroniclingamerica.loc.gov/search/titles/results/?state=Connecticut&page=5&format=json: 50"
       ]
      },
      {
       "output_type": "stream",
       "stream": "stdout",
       "text": [
        "\n",
        "http://chroniclingamerica.loc.gov/search/titles/results/?state=Connecticut&page=6&format=json: 50"
       ]
      },
      {
       "output_type": "stream",
       "stream": "stdout",
       "text": [
        "\n",
        "http://chroniclingamerica.loc.gov/search/titles/results/?state=Connecticut&page=7&format=json: 50"
       ]
      },
      {
       "output_type": "stream",
       "stream": "stdout",
       "text": [
        "\n",
        "http://chroniclingamerica.loc.gov/search/titles/results/?state=Connecticut&page=8&format=json: 50"
       ]
      },
      {
       "output_type": "stream",
       "stream": "stdout",
       "text": [
        "\n",
        "http://chroniclingamerica.loc.gov/search/titles/results/?state=Connecticut&page=9&format=json: 50"
       ]
      },
      {
       "output_type": "stream",
       "stream": "stdout",
       "text": [
        "\n",
        "http://chroniclingamerica.loc.gov/search/titles/results/?state=Connecticut&page=10&format=json: 50"
       ]
      },
      {
       "output_type": "stream",
       "stream": "stdout",
       "text": [
        "\n",
        "http://chroniclingamerica.loc.gov/search/titles/results/?state=Connecticut&page=11&format=json: 50"
       ]
      },
      {
       "output_type": "stream",
       "stream": "stdout",
       "text": [
        "\n",
        "http://chroniclingamerica.loc.gov/search/titles/results/?state=Connecticut&page=12&format=json: 50"
       ]
      },
      {
       "output_type": "stream",
       "stream": "stdout",
       "text": [
        "\n",
        "http://chroniclingamerica.loc.gov/search/titles/results/?state=Connecticut&page=13&format=json: 50"
       ]
      },
      {
       "output_type": "stream",
       "stream": "stdout",
       "text": [
        "\n",
        "http://chroniclingamerica.loc.gov/search/titles/results/?state=Connecticut&page=14&format=json: 50"
       ]
      },
      {
       "output_type": "stream",
       "stream": "stdout",
       "text": [
        "\n",
        "http://chroniclingamerica.loc.gov/search/titles/results/?state=Connecticut&page=15&format=json: 50"
       ]
      },
      {
       "output_type": "stream",
       "stream": "stdout",
       "text": [
        "\n",
        "http://chroniclingamerica.loc.gov/search/titles/results/?state=Connecticut&page=16&format=json: 50"
       ]
      },
      {
       "output_type": "stream",
       "stream": "stdout",
       "text": [
        "\n",
        "http://chroniclingamerica.loc.gov/search/titles/results/?state=Connecticut&page=17&format=json: 50"
       ]
      },
      {
       "output_type": "stream",
       "stream": "stdout",
       "text": [
        "\n",
        "http://chroniclingamerica.loc.gov/search/titles/results/?state=Connecticut&page=18&format=json: 50"
       ]
      },
      {
       "output_type": "stream",
       "stream": "stdout",
       "text": [
        "\n",
        "http://chroniclingamerica.loc.gov/search/titles/results/?state=Connecticut&page=19&format=json: 50"
       ]
      },
      {
       "output_type": "stream",
       "stream": "stdout",
       "text": [
        "\n",
        "http://chroniclingamerica.loc.gov/search/titles/results/?state=Connecticut&page=20&format=json: 50"
       ]
      },
      {
       "output_type": "stream",
       "stream": "stdout",
       "text": [
        "\n",
        "http://chroniclingamerica.loc.gov/search/titles/results/?state=Connecticut&page=21&format=json: 50"
       ]
      },
      {
       "output_type": "stream",
       "stream": "stdout",
       "text": [
        "\n",
        "http://chroniclingamerica.loc.gov/search/titles/results/?state=Connecticut&page=22&format=json: 50"
       ]
      },
      {
       "output_type": "stream",
       "stream": "stdout",
       "text": [
        "\n",
        "http://chroniclingamerica.loc.gov/search/titles/results/?state=Connecticut&page=23&format=json: 50"
       ]
      },
      {
       "output_type": "stream",
       "stream": "stdout",
       "text": [
        "\n",
        "http://chroniclingamerica.loc.gov/search/titles/results/?state=Connecticut&page=24&format=json: 50"
       ]
      },
      {
       "output_type": "stream",
       "stream": "stdout",
       "text": [
        "\n",
        "http://chroniclingamerica.loc.gov/search/titles/results/?state=Connecticut&page=25&format=json: 50"
       ]
      },
      {
       "output_type": "stream",
       "stream": "stdout",
       "text": [
        "\n",
        "http://chroniclingamerica.loc.gov/search/titles/results/?state=Connecticut&page=26&format=json: 50"
       ]
      },
      {
       "output_type": "stream",
       "stream": "stdout",
       "text": [
        "\n",
        "http://chroniclingamerica.loc.gov/search/titles/results/?state=Connecticut&page=27&format=json: 50"
       ]
      },
      {
       "output_type": "stream",
       "stream": "stdout",
       "text": [
        "\n",
        "http://chroniclingamerica.loc.gov/search/titles/results/?state=Connecticut&page=28&format=json: 50"
       ]
      },
      {
       "output_type": "stream",
       "stream": "stdout",
       "text": [
        "\n",
        "http://chroniclingamerica.loc.gov/search/titles/results/?state=Connecticut&page=29&format=json: 50"
       ]
      },
      {
       "output_type": "stream",
       "stream": "stdout",
       "text": [
        "\n",
        "http://chroniclingamerica.loc.gov/search/titles/results/?state=Connecticut&page=30&format=json: 50"
       ]
      },
      {
       "output_type": "stream",
       "stream": "stdout",
       "text": [
        "\n",
        "http://chroniclingamerica.loc.gov/search/titles/results/?state=Connecticut&page=31&format=json: 50"
       ]
      },
      {
       "output_type": "stream",
       "stream": "stdout",
       "text": [
        "\n",
        "http://chroniclingamerica.loc.gov/search/titles/results/?state=Connecticut&page=32&format=json: 50"
       ]
      },
      {
       "output_type": "stream",
       "stream": "stdout",
       "text": [
        "\n",
        "http://chroniclingamerica.loc.gov/search/titles/results/?state=Connecticut&page=33&format=json: 50"
       ]
      },
      {
       "output_type": "stream",
       "stream": "stdout",
       "text": [
        "\n",
        "http://chroniclingamerica.loc.gov/search/titles/results/?state=Connecticut&page=34&format=json: 50"
       ]
      },
      {
       "output_type": "stream",
       "stream": "stdout",
       "text": [
        "\n",
        "http://chroniclingamerica.loc.gov/search/titles/results/?state=Connecticut&page=35&format=json: 50"
       ]
      },
      {
       "output_type": "stream",
       "stream": "stdout",
       "text": [
        "\n",
        "http://chroniclingamerica.loc.gov/search/titles/results/?state=Connecticut&page=36&format=json: 50"
       ]
      },
      {
       "output_type": "stream",
       "stream": "stdout",
       "text": [
        "\n",
        "http://chroniclingamerica.loc.gov/search/titles/results/?state=Connecticut&page=37&format=json: 50"
       ]
      },
      {
       "output_type": "stream",
       "stream": "stdout",
       "text": [
        "\n",
        "http://chroniclingamerica.loc.gov/search/titles/results/?state=Connecticut&page=38&format=json: 50"
       ]
      },
      {
       "output_type": "stream",
       "stream": "stdout",
       "text": [
        "\n",
        "http://chroniclingamerica.loc.gov/search/titles/results/?state=Connecticut&page=39&format=json: 50"
       ]
      },
      {
       "output_type": "stream",
       "stream": "stdout",
       "text": [
        "\n",
        "http://chroniclingamerica.loc.gov/search/titles/results/?state=Connecticut&page=40&format=json: 50"
       ]
      },
      {
       "output_type": "stream",
       "stream": "stdout",
       "text": [
        "\n",
        "http://chroniclingamerica.loc.gov/search/titles/results/?state=Connecticut&page=41&format=json: 50"
       ]
      },
      {
       "output_type": "stream",
       "stream": "stdout",
       "text": [
        "\n",
        "http://chroniclingamerica.loc.gov/search/titles/results/?state=Connecticut&page=42&format=json: 21"
       ]
      },
      {
       "output_type": "stream",
       "stream": "stdout",
       "text": [
        "\n",
        "District of columbia\n",
        "\n",
        "{'state': 'District of columbia', 'format': 'json'}\n",
        "0"
       ]
      },
      {
       "output_type": "stream",
       "stream": "stdout",
       "text": [
        "\n",
        "Delaware\n",
        "\n",
        "{'state': 'Delaware', 'format': 'json'}\n",
        "299"
       ]
      },
      {
       "output_type": "stream",
       "stream": "stdout",
       "text": [
        "\n",
        "http://chroniclingamerica.loc.gov/search/titles/results/?state=Delaware&page=2&format=json: 50"
       ]
      },
      {
       "output_type": "stream",
       "stream": "stdout",
       "text": [
        "\n",
        "http://chroniclingamerica.loc.gov/search/titles/results/?state=Delaware&page=3&format=json: 50"
       ]
      },
      {
       "output_type": "stream",
       "stream": "stdout",
       "text": [
        "\n",
        "http://chroniclingamerica.loc.gov/search/titles/results/?state=Delaware&page=4&format=json: 50"
       ]
      },
      {
       "output_type": "stream",
       "stream": "stdout",
       "text": [
        "\n",
        "http://chroniclingamerica.loc.gov/search/titles/results/?state=Delaware&page=5&format=json: 50"
       ]
      },
      {
       "output_type": "stream",
       "stream": "stdout",
       "text": [
        "\n",
        "http://chroniclingamerica.loc.gov/search/titles/results/?state=Delaware&page=6&format=json: 49"
       ]
      },
      {
       "output_type": "stream",
       "stream": "stdout",
       "text": [
        "\n",
        "Florida\n",
        "\n",
        "{'state': 'Florida', 'format': 'json'}\n",
        "2338"
       ]
      },
      {
       "output_type": "stream",
       "stream": "stdout",
       "text": [
        "\n",
        "http://chroniclingamerica.loc.gov/search/titles/results/?state=Florida&page=2&format=json: 50"
       ]
      },
      {
       "output_type": "stream",
       "stream": "stdout",
       "text": [
        "\n",
        "http://chroniclingamerica.loc.gov/search/titles/results/?state=Florida&page=3&format=json: 50"
       ]
      },
      {
       "output_type": "stream",
       "stream": "stdout",
       "text": [
        "\n",
        "http://chroniclingamerica.loc.gov/search/titles/results/?state=Florida&page=4&format=json: 50"
       ]
      },
      {
       "output_type": "stream",
       "stream": "stdout",
       "text": [
        "\n",
        "http://chroniclingamerica.loc.gov/search/titles/results/?state=Florida&page=5&format=json: 50"
       ]
      },
      {
       "output_type": "stream",
       "stream": "stdout",
       "text": [
        "\n",
        "http://chroniclingamerica.loc.gov/search/titles/results/?state=Florida&page=6&format=json: 50"
       ]
      },
      {
       "output_type": "stream",
       "stream": "stdout",
       "text": [
        "\n",
        "http://chroniclingamerica.loc.gov/search/titles/results/?state=Florida&page=7&format=json: 50"
       ]
      },
      {
       "output_type": "stream",
       "stream": "stdout",
       "text": [
        "\n",
        "http://chroniclingamerica.loc.gov/search/titles/results/?state=Florida&page=8&format=json: 50"
       ]
      },
      {
       "output_type": "stream",
       "stream": "stdout",
       "text": [
        "\n",
        "http://chroniclingamerica.loc.gov/search/titles/results/?state=Florida&page=9&format=json: 50"
       ]
      },
      {
       "output_type": "stream",
       "stream": "stdout",
       "text": [
        "\n",
        "http://chroniclingamerica.loc.gov/search/titles/results/?state=Florida&page=10&format=json: 50"
       ]
      },
      {
       "output_type": "stream",
       "stream": "stdout",
       "text": [
        "\n",
        "http://chroniclingamerica.loc.gov/search/titles/results/?state=Florida&page=11&format=json: 50"
       ]
      },
      {
       "output_type": "stream",
       "stream": "stdout",
       "text": [
        "\n",
        "http://chroniclingamerica.loc.gov/search/titles/results/?state=Florida&page=12&format=json: 50"
       ]
      },
      {
       "output_type": "stream",
       "stream": "stdout",
       "text": [
        "\n",
        "http://chroniclingamerica.loc.gov/search/titles/results/?state=Florida&page=13&format=json: 50"
       ]
      },
      {
       "output_type": "stream",
       "stream": "stdout",
       "text": [
        "\n",
        "http://chroniclingamerica.loc.gov/search/titles/results/?state=Florida&page=14&format=json: 50"
       ]
      },
      {
       "output_type": "stream",
       "stream": "stdout",
       "text": [
        "\n",
        "http://chroniclingamerica.loc.gov/search/titles/results/?state=Florida&page=15&format=json: 50"
       ]
      },
      {
       "output_type": "stream",
       "stream": "stdout",
       "text": [
        "\n",
        "http://chroniclingamerica.loc.gov/search/titles/results/?state=Florida&page=16&format=json: 50"
       ]
      },
      {
       "output_type": "stream",
       "stream": "stdout",
       "text": [
        "\n",
        "http://chroniclingamerica.loc.gov/search/titles/results/?state=Florida&page=17&format=json: 50"
       ]
      },
      {
       "output_type": "stream",
       "stream": "stdout",
       "text": [
        "\n",
        "http://chroniclingamerica.loc.gov/search/titles/results/?state=Florida&page=18&format=json: 50"
       ]
      },
      {
       "output_type": "stream",
       "stream": "stdout",
       "text": [
        "\n",
        "http://chroniclingamerica.loc.gov/search/titles/results/?state=Florida&page=19&format=json: 50"
       ]
      },
      {
       "output_type": "stream",
       "stream": "stdout",
       "text": [
        "\n",
        "http://chroniclingamerica.loc.gov/search/titles/results/?state=Florida&page=20&format=json: 50"
       ]
      },
      {
       "output_type": "stream",
       "stream": "stdout",
       "text": [
        "\n",
        "http://chroniclingamerica.loc.gov/search/titles/results/?state=Florida&page=21&format=json: 50"
       ]
      },
      {
       "output_type": "stream",
       "stream": "stdout",
       "text": [
        "\n",
        "http://chroniclingamerica.loc.gov/search/titles/results/?state=Florida&page=22&format=json: 50"
       ]
      },
      {
       "output_type": "stream",
       "stream": "stdout",
       "text": [
        "\n",
        "http://chroniclingamerica.loc.gov/search/titles/results/?state=Florida&page=23&format=json: 50"
       ]
      },
      {
       "output_type": "stream",
       "stream": "stdout",
       "text": [
        "\n",
        "http://chroniclingamerica.loc.gov/search/titles/results/?state=Florida&page=24&format=json: 50"
       ]
      },
      {
       "output_type": "stream",
       "stream": "stdout",
       "text": [
        "\n",
        "http://chroniclingamerica.loc.gov/search/titles/results/?state=Florida&page=25&format=json: 50"
       ]
      },
      {
       "output_type": "stream",
       "stream": "stdout",
       "text": [
        "\n",
        "http://chroniclingamerica.loc.gov/search/titles/results/?state=Florida&page=26&format=json: 50"
       ]
      },
      {
       "output_type": "stream",
       "stream": "stdout",
       "text": [
        "\n",
        "http://chroniclingamerica.loc.gov/search/titles/results/?state=Florida&page=27&format=json: 50"
       ]
      },
      {
       "output_type": "stream",
       "stream": "stdout",
       "text": [
        "\n",
        "http://chroniclingamerica.loc.gov/search/titles/results/?state=Florida&page=28&format=json: 50"
       ]
      },
      {
       "output_type": "stream",
       "stream": "stdout",
       "text": [
        "\n",
        "http://chroniclingamerica.loc.gov/search/titles/results/?state=Florida&page=29&format=json: 50"
       ]
      },
      {
       "output_type": "stream",
       "stream": "stdout",
       "text": [
        "\n",
        "http://chroniclingamerica.loc.gov/search/titles/results/?state=Florida&page=30&format=json: 50"
       ]
      },
      {
       "output_type": "stream",
       "stream": "stdout",
       "text": [
        "\n",
        "http://chroniclingamerica.loc.gov/search/titles/results/?state=Florida&page=31&format=json: 50"
       ]
      },
      {
       "output_type": "stream",
       "stream": "stdout",
       "text": [
        "\n",
        "http://chroniclingamerica.loc.gov/search/titles/results/?state=Florida&page=32&format=json: 50"
       ]
      },
      {
       "output_type": "stream",
       "stream": "stdout",
       "text": [
        "\n",
        "http://chroniclingamerica.loc.gov/search/titles/results/?state=Florida&page=33&format=json: 50"
       ]
      },
      {
       "output_type": "stream",
       "stream": "stdout",
       "text": [
        "\n",
        "http://chroniclingamerica.loc.gov/search/titles/results/?state=Florida&page=34&format=json: 50"
       ]
      },
      {
       "output_type": "stream",
       "stream": "stdout",
       "text": [
        "\n",
        "http://chroniclingamerica.loc.gov/search/titles/results/?state=Florida&page=35&format=json: 50"
       ]
      },
      {
       "output_type": "stream",
       "stream": "stdout",
       "text": [
        "\n",
        "http://chroniclingamerica.loc.gov/search/titles/results/?state=Florida&page=36&format=json: 50"
       ]
      },
      {
       "output_type": "stream",
       "stream": "stdout",
       "text": [
        "\n",
        "http://chroniclingamerica.loc.gov/search/titles/results/?state=Florida&page=37&format=json: 50"
       ]
      },
      {
       "output_type": "stream",
       "stream": "stdout",
       "text": [
        "\n",
        "http://chroniclingamerica.loc.gov/search/titles/results/?state=Florida&page=38&format=json: 50"
       ]
      },
      {
       "output_type": "stream",
       "stream": "stdout",
       "text": [
        "\n",
        "http://chroniclingamerica.loc.gov/search/titles/results/?state=Florida&page=39&format=json: 50"
       ]
      },
      {
       "output_type": "stream",
       "stream": "stdout",
       "text": [
        "\n",
        "http://chroniclingamerica.loc.gov/search/titles/results/?state=Florida&page=40&format=json: 50"
       ]
      },
      {
       "output_type": "stream",
       "stream": "stdout",
       "text": [
        "\n",
        "http://chroniclingamerica.loc.gov/search/titles/results/?state=Florida&page=41&format=json: 50"
       ]
      },
      {
       "output_type": "stream",
       "stream": "stdout",
       "text": [
        "\n",
        "http://chroniclingamerica.loc.gov/search/titles/results/?state=Florida&page=42&format=json: 50"
       ]
      },
      {
       "output_type": "stream",
       "stream": "stdout",
       "text": [
        "\n",
        "http://chroniclingamerica.loc.gov/search/titles/results/?state=Florida&page=43&format=json: 50"
       ]
      },
      {
       "output_type": "stream",
       "stream": "stdout",
       "text": [
        "\n",
        "http://chroniclingamerica.loc.gov/search/titles/results/?state=Florida&page=44&format=json: 50"
       ]
      },
      {
       "output_type": "stream",
       "stream": "stdout",
       "text": [
        "\n",
        "http://chroniclingamerica.loc.gov/search/titles/results/?state=Florida&page=45&format=json: 50"
       ]
      },
      {
       "output_type": "stream",
       "stream": "stdout",
       "text": [
        "\n",
        "http://chroniclingamerica.loc.gov/search/titles/results/?state=Florida&page=46&format=json: 50"
       ]
      },
      {
       "output_type": "stream",
       "stream": "stdout",
       "text": [
        "\n",
        "http://chroniclingamerica.loc.gov/search/titles/results/?state=Florida&page=47&format=json: 38"
       ]
      },
      {
       "output_type": "stream",
       "stream": "stdout",
       "text": [
        "\n",
        "Georgia\n",
        "\n",
        "{'state': 'Georgia', 'format': 'json'}\n",
        "2402"
       ]
      },
      {
       "output_type": "stream",
       "stream": "stdout",
       "text": [
        "\n",
        "http://chroniclingamerica.loc.gov/search/titles/results/?state=Georgia&page=2&format=json: 50"
       ]
      },
      {
       "output_type": "stream",
       "stream": "stdout",
       "text": [
        "\n",
        "http://chroniclingamerica.loc.gov/search/titles/results/?state=Georgia&page=3&format=json: 50"
       ]
      },
      {
       "output_type": "stream",
       "stream": "stdout",
       "text": [
        "\n",
        "http://chroniclingamerica.loc.gov/search/titles/results/?state=Georgia&page=4&format=json: 50"
       ]
      },
      {
       "output_type": "stream",
       "stream": "stdout",
       "text": [
        "\n",
        "http://chroniclingamerica.loc.gov/search/titles/results/?state=Georgia&page=5&format=json: 50"
       ]
      },
      {
       "output_type": "stream",
       "stream": "stdout",
       "text": [
        "\n",
        "http://chroniclingamerica.loc.gov/search/titles/results/?state=Georgia&page=6&format=json: 50"
       ]
      },
      {
       "output_type": "stream",
       "stream": "stdout",
       "text": [
        "\n",
        "http://chroniclingamerica.loc.gov/search/titles/results/?state=Georgia&page=7&format=json: 50"
       ]
      },
      {
       "output_type": "stream",
       "stream": "stdout",
       "text": [
        "\n",
        "http://chroniclingamerica.loc.gov/search/titles/results/?state=Georgia&page=8&format=json: 50"
       ]
      },
      {
       "output_type": "stream",
       "stream": "stdout",
       "text": [
        "\n",
        "http://chroniclingamerica.loc.gov/search/titles/results/?state=Georgia&page=9&format=json: 50"
       ]
      },
      {
       "output_type": "stream",
       "stream": "stdout",
       "text": [
        "\n",
        "http://chroniclingamerica.loc.gov/search/titles/results/?state=Georgia&page=10&format=json: 50"
       ]
      },
      {
       "output_type": "stream",
       "stream": "stdout",
       "text": [
        "\n",
        "http://chroniclingamerica.loc.gov/search/titles/results/?state=Georgia&page=11&format=json: 50"
       ]
      },
      {
       "output_type": "stream",
       "stream": "stdout",
       "text": [
        "\n",
        "http://chroniclingamerica.loc.gov/search/titles/results/?state=Georgia&page=12&format=json: 50"
       ]
      },
      {
       "output_type": "stream",
       "stream": "stdout",
       "text": [
        "\n",
        "http://chroniclingamerica.loc.gov/search/titles/results/?state=Georgia&page=13&format=json: 50"
       ]
      },
      {
       "output_type": "stream",
       "stream": "stdout",
       "text": [
        "\n",
        "http://chroniclingamerica.loc.gov/search/titles/results/?state=Georgia&page=14&format=json: 50"
       ]
      },
      {
       "output_type": "stream",
       "stream": "stdout",
       "text": [
        "\n",
        "http://chroniclingamerica.loc.gov/search/titles/results/?state=Georgia&page=15&format=json: 50"
       ]
      },
      {
       "output_type": "stream",
       "stream": "stdout",
       "text": [
        "\n",
        "http://chroniclingamerica.loc.gov/search/titles/results/?state=Georgia&page=16&format=json: 50"
       ]
      },
      {
       "output_type": "stream",
       "stream": "stdout",
       "text": [
        "\n",
        "http://chroniclingamerica.loc.gov/search/titles/results/?state=Georgia&page=17&format=json: 50"
       ]
      },
      {
       "output_type": "stream",
       "stream": "stdout",
       "text": [
        "\n",
        "http://chroniclingamerica.loc.gov/search/titles/results/?state=Georgia&page=18&format=json: 50"
       ]
      },
      {
       "output_type": "stream",
       "stream": "stdout",
       "text": [
        "\n",
        "http://chroniclingamerica.loc.gov/search/titles/results/?state=Georgia&page=19&format=json: 50"
       ]
      },
      {
       "output_type": "stream",
       "stream": "stdout",
       "text": [
        "\n",
        "http://chroniclingamerica.loc.gov/search/titles/results/?state=Georgia&page=20&format=json: 50"
       ]
      },
      {
       "output_type": "stream",
       "stream": "stdout",
       "text": [
        "\n",
        "http://chroniclingamerica.loc.gov/search/titles/results/?state=Georgia&page=21&format=json: 50"
       ]
      },
      {
       "output_type": "stream",
       "stream": "stdout",
       "text": [
        "\n",
        "http://chroniclingamerica.loc.gov/search/titles/results/?state=Georgia&page=22&format=json: 50"
       ]
      },
      {
       "output_type": "stream",
       "stream": "stdout",
       "text": [
        "\n",
        "http://chroniclingamerica.loc.gov/search/titles/results/?state=Georgia&page=23&format=json: 50"
       ]
      },
      {
       "output_type": "stream",
       "stream": "stdout",
       "text": [
        "\n",
        "http://chroniclingamerica.loc.gov/search/titles/results/?state=Georgia&page=24&format=json: 50"
       ]
      },
      {
       "output_type": "stream",
       "stream": "stdout",
       "text": [
        "\n",
        "http://chroniclingamerica.loc.gov/search/titles/results/?state=Georgia&page=25&format=json: 50"
       ]
      },
      {
       "output_type": "stream",
       "stream": "stdout",
       "text": [
        "\n",
        "http://chroniclingamerica.loc.gov/search/titles/results/?state=Georgia&page=26&format=json: 50"
       ]
      },
      {
       "output_type": "stream",
       "stream": "stdout",
       "text": [
        "\n",
        "http://chroniclingamerica.loc.gov/search/titles/results/?state=Georgia&page=27&format=json: 50"
       ]
      },
      {
       "output_type": "stream",
       "stream": "stdout",
       "text": [
        "\n",
        "http://chroniclingamerica.loc.gov/search/titles/results/?state=Georgia&page=28&format=json: 50"
       ]
      },
      {
       "output_type": "stream",
       "stream": "stdout",
       "text": [
        "\n",
        "http://chroniclingamerica.loc.gov/search/titles/results/?state=Georgia&page=29&format=json: 50"
       ]
      },
      {
       "output_type": "stream",
       "stream": "stdout",
       "text": [
        "\n",
        "http://chroniclingamerica.loc.gov/search/titles/results/?state=Georgia&page=30&format=json: 50"
       ]
      },
      {
       "output_type": "stream",
       "stream": "stdout",
       "text": [
        "\n",
        "http://chroniclingamerica.loc.gov/search/titles/results/?state=Georgia&page=31&format=json: 50"
       ]
      },
      {
       "output_type": "stream",
       "stream": "stdout",
       "text": [
        "\n",
        "http://chroniclingamerica.loc.gov/search/titles/results/?state=Georgia&page=32&format=json: 50"
       ]
      },
      {
       "output_type": "stream",
       "stream": "stdout",
       "text": [
        "\n",
        "http://chroniclingamerica.loc.gov/search/titles/results/?state=Georgia&page=33&format=json: 50"
       ]
      },
      {
       "output_type": "stream",
       "stream": "stdout",
       "text": [
        "\n",
        "http://chroniclingamerica.loc.gov/search/titles/results/?state=Georgia&page=34&format=json: 50"
       ]
      },
      {
       "output_type": "stream",
       "stream": "stdout",
       "text": [
        "\n",
        "http://chroniclingamerica.loc.gov/search/titles/results/?state=Georgia&page=35&format=json: 50"
       ]
      },
      {
       "output_type": "stream",
       "stream": "stdout",
       "text": [
        "\n",
        "http://chroniclingamerica.loc.gov/search/titles/results/?state=Georgia&page=36&format=json: 50"
       ]
      },
      {
       "output_type": "stream",
       "stream": "stdout",
       "text": [
        "\n",
        "http://chroniclingamerica.loc.gov/search/titles/results/?state=Georgia&page=37&format=json: 50"
       ]
      },
      {
       "output_type": "stream",
       "stream": "stdout",
       "text": [
        "\n",
        "http://chroniclingamerica.loc.gov/search/titles/results/?state=Georgia&page=38&format=json: 50"
       ]
      },
      {
       "output_type": "stream",
       "stream": "stdout",
       "text": [
        "\n",
        "http://chroniclingamerica.loc.gov/search/titles/results/?state=Georgia&page=39&format=json: 50"
       ]
      },
      {
       "output_type": "stream",
       "stream": "stdout",
       "text": [
        "\n",
        "http://chroniclingamerica.loc.gov/search/titles/results/?state=Georgia&page=40&format=json: 50"
       ]
      },
      {
       "output_type": "stream",
       "stream": "stdout",
       "text": [
        "\n",
        "http://chroniclingamerica.loc.gov/search/titles/results/?state=Georgia&page=41&format=json: 50"
       ]
      },
      {
       "output_type": "stream",
       "stream": "stdout",
       "text": [
        "\n",
        "http://chroniclingamerica.loc.gov/search/titles/results/?state=Georgia&page=42&format=json: 50"
       ]
      },
      {
       "output_type": "stream",
       "stream": "stdout",
       "text": [
        "\n",
        "http://chroniclingamerica.loc.gov/search/titles/results/?state=Georgia&page=43&format=json: 50"
       ]
      },
      {
       "output_type": "stream",
       "stream": "stdout",
       "text": [
        "\n",
        "http://chroniclingamerica.loc.gov/search/titles/results/?state=Georgia&page=44&format=json: 50"
       ]
      },
      {
       "output_type": "stream",
       "stream": "stdout",
       "text": [
        "\n",
        "http://chroniclingamerica.loc.gov/search/titles/results/?state=Georgia&page=45&format=json: 50"
       ]
      },
      {
       "output_type": "stream",
       "stream": "stdout",
       "text": [
        "\n",
        "http://chroniclingamerica.loc.gov/search/titles/results/?state=Georgia&page=46&format=json: 50"
       ]
      },
      {
       "output_type": "stream",
       "stream": "stdout",
       "text": [
        "\n",
        "http://chroniclingamerica.loc.gov/search/titles/results/?state=Georgia&page=47&format=json: 50"
       ]
      },
      {
       "output_type": "stream",
       "stream": "stdout",
       "text": [
        "\n",
        "http://chroniclingamerica.loc.gov/search/titles/results/?state=Georgia&page=48&format=json: 50"
       ]
      },
      {
       "output_type": "stream",
       "stream": "stdout",
       "text": [
        "\n",
        "http://chroniclingamerica.loc.gov/search/titles/results/?state=Georgia&page=49&format=json: 2"
       ]
      },
      {
       "output_type": "stream",
       "stream": "stdout",
       "text": [
        "\n",
        "Iowa\n",
        "\n",
        "{'state': 'Iowa', 'format': 'json'}\n",
        "3888"
       ]
      },
      {
       "output_type": "stream",
       "stream": "stdout",
       "text": [
        "\n",
        "http://chroniclingamerica.loc.gov/search/titles/results/?state=Iowa&page=2&format=json: 50"
       ]
      },
      {
       "output_type": "stream",
       "stream": "stdout",
       "text": [
        "\n",
        "http://chroniclingamerica.loc.gov/search/titles/results/?state=Iowa&page=3&format=json: 50"
       ]
      },
      {
       "output_type": "stream",
       "stream": "stdout",
       "text": [
        "\n",
        "http://chroniclingamerica.loc.gov/search/titles/results/?state=Iowa&page=4&format=json: 50"
       ]
      },
      {
       "output_type": "stream",
       "stream": "stdout",
       "text": [
        "\n",
        "http://chroniclingamerica.loc.gov/search/titles/results/?state=Iowa&page=5&format=json: 50"
       ]
      },
      {
       "output_type": "stream",
       "stream": "stdout",
       "text": [
        "\n",
        "http://chroniclingamerica.loc.gov/search/titles/results/?state=Iowa&page=6&format=json: 50"
       ]
      },
      {
       "output_type": "stream",
       "stream": "stdout",
       "text": [
        "\n",
        "http://chroniclingamerica.loc.gov/search/titles/results/?state=Iowa&page=7&format=json: 50"
       ]
      },
      {
       "output_type": "stream",
       "stream": "stdout",
       "text": [
        "\n",
        "http://chroniclingamerica.loc.gov/search/titles/results/?state=Iowa&page=8&format=json: 50"
       ]
      },
      {
       "output_type": "stream",
       "stream": "stdout",
       "text": [
        "\n",
        "http://chroniclingamerica.loc.gov/search/titles/results/?state=Iowa&page=9&format=json: 50"
       ]
      },
      {
       "output_type": "stream",
       "stream": "stdout",
       "text": [
        "\n",
        "http://chroniclingamerica.loc.gov/search/titles/results/?state=Iowa&page=10&format=json: 50"
       ]
      },
      {
       "output_type": "stream",
       "stream": "stdout",
       "text": [
        "\n",
        "http://chroniclingamerica.loc.gov/search/titles/results/?state=Iowa&page=11&format=json: 50"
       ]
      },
      {
       "output_type": "stream",
       "stream": "stdout",
       "text": [
        "\n",
        "http://chroniclingamerica.loc.gov/search/titles/results/?state=Iowa&page=12&format=json: 50"
       ]
      },
      {
       "output_type": "stream",
       "stream": "stdout",
       "text": [
        "\n",
        "http://chroniclingamerica.loc.gov/search/titles/results/?state=Iowa&page=13&format=json: 50"
       ]
      },
      {
       "output_type": "stream",
       "stream": "stdout",
       "text": [
        "\n",
        "http://chroniclingamerica.loc.gov/search/titles/results/?state=Iowa&page=14&format=json: 50"
       ]
      },
      {
       "output_type": "stream",
       "stream": "stdout",
       "text": [
        "\n",
        "http://chroniclingamerica.loc.gov/search/titles/results/?state=Iowa&page=15&format=json: 50"
       ]
      },
      {
       "output_type": "stream",
       "stream": "stdout",
       "text": [
        "\n",
        "http://chroniclingamerica.loc.gov/search/titles/results/?state=Iowa&page=16&format=json: 50"
       ]
      },
      {
       "output_type": "stream",
       "stream": "stdout",
       "text": [
        "\n",
        "http://chroniclingamerica.loc.gov/search/titles/results/?state=Iowa&page=17&format=json: 50"
       ]
      },
      {
       "output_type": "stream",
       "stream": "stdout",
       "text": [
        "\n",
        "http://chroniclingamerica.loc.gov/search/titles/results/?state=Iowa&page=18&format=json: 50"
       ]
      },
      {
       "output_type": "stream",
       "stream": "stdout",
       "text": [
        "\n",
        "http://chroniclingamerica.loc.gov/search/titles/results/?state=Iowa&page=19&format=json: 50"
       ]
      },
      {
       "output_type": "stream",
       "stream": "stdout",
       "text": [
        "\n",
        "http://chroniclingamerica.loc.gov/search/titles/results/?state=Iowa&page=20&format=json: 50"
       ]
      },
      {
       "output_type": "stream",
       "stream": "stdout",
       "text": [
        "\n",
        "http://chroniclingamerica.loc.gov/search/titles/results/?state=Iowa&page=21&format=json: 50"
       ]
      },
      {
       "output_type": "stream",
       "stream": "stdout",
       "text": [
        "\n",
        "http://chroniclingamerica.loc.gov/search/titles/results/?state=Iowa&page=22&format=json: 50"
       ]
      },
      {
       "output_type": "stream",
       "stream": "stdout",
       "text": [
        "\n",
        "http://chroniclingamerica.loc.gov/search/titles/results/?state=Iowa&page=23&format=json: 50"
       ]
      },
      {
       "output_type": "stream",
       "stream": "stdout",
       "text": [
        "\n",
        "http://chroniclingamerica.loc.gov/search/titles/results/?state=Iowa&page=24&format=json: 50"
       ]
      },
      {
       "output_type": "stream",
       "stream": "stdout",
       "text": [
        "\n",
        "http://chroniclingamerica.loc.gov/search/titles/results/?state=Iowa&page=25&format=json: 50"
       ]
      },
      {
       "output_type": "stream",
       "stream": "stdout",
       "text": [
        "\n",
        "http://chroniclingamerica.loc.gov/search/titles/results/?state=Iowa&page=26&format=json: 50"
       ]
      },
      {
       "output_type": "stream",
       "stream": "stdout",
       "text": [
        "\n",
        "http://chroniclingamerica.loc.gov/search/titles/results/?state=Iowa&page=27&format=json: 50"
       ]
      },
      {
       "output_type": "stream",
       "stream": "stdout",
       "text": [
        "\n",
        "http://chroniclingamerica.loc.gov/search/titles/results/?state=Iowa&page=28&format=json: 50"
       ]
      },
      {
       "output_type": "stream",
       "stream": "stdout",
       "text": [
        "\n",
        "http://chroniclingamerica.loc.gov/search/titles/results/?state=Iowa&page=29&format=json: 50"
       ]
      },
      {
       "output_type": "stream",
       "stream": "stdout",
       "text": [
        "\n",
        "http://chroniclingamerica.loc.gov/search/titles/results/?state=Iowa&page=30&format=json: 50"
       ]
      },
      {
       "output_type": "stream",
       "stream": "stdout",
       "text": [
        "\n",
        "http://chroniclingamerica.loc.gov/search/titles/results/?state=Iowa&page=31&format=json: 50"
       ]
      },
      {
       "output_type": "stream",
       "stream": "stdout",
       "text": [
        "\n",
        "http://chroniclingamerica.loc.gov/search/titles/results/?state=Iowa&page=32&format=json: 50"
       ]
      },
      {
       "output_type": "stream",
       "stream": "stdout",
       "text": [
        "\n",
        "http://chroniclingamerica.loc.gov/search/titles/results/?state=Iowa&page=33&format=json: 50"
       ]
      },
      {
       "output_type": "stream",
       "stream": "stdout",
       "text": [
        "\n",
        "http://chroniclingamerica.loc.gov/search/titles/results/?state=Iowa&page=34&format=json: 50"
       ]
      },
      {
       "output_type": "stream",
       "stream": "stdout",
       "text": [
        "\n",
        "http://chroniclingamerica.loc.gov/search/titles/results/?state=Iowa&page=35&format=json: 50"
       ]
      },
      {
       "output_type": "stream",
       "stream": "stdout",
       "text": [
        "\n",
        "http://chroniclingamerica.loc.gov/search/titles/results/?state=Iowa&page=36&format=json: 50"
       ]
      },
      {
       "output_type": "stream",
       "stream": "stdout",
       "text": [
        "\n",
        "http://chroniclingamerica.loc.gov/search/titles/results/?state=Iowa&page=37&format=json: 50"
       ]
      },
      {
       "output_type": "stream",
       "stream": "stdout",
       "text": [
        "\n",
        "http://chroniclingamerica.loc.gov/search/titles/results/?state=Iowa&page=38&format=json: 50"
       ]
      },
      {
       "output_type": "stream",
       "stream": "stdout",
       "text": [
        "\n",
        "http://chroniclingamerica.loc.gov/search/titles/results/?state=Iowa&page=39&format=json: 50"
       ]
      },
      {
       "output_type": "stream",
       "stream": "stdout",
       "text": [
        "\n",
        "http://chroniclingamerica.loc.gov/search/titles/results/?state=Iowa&page=40&format=json: 50"
       ]
      },
      {
       "output_type": "stream",
       "stream": "stdout",
       "text": [
        "\n",
        "http://chroniclingamerica.loc.gov/search/titles/results/?state=Iowa&page=41&format=json: 50"
       ]
      },
      {
       "output_type": "stream",
       "stream": "stdout",
       "text": [
        "\n",
        "http://chroniclingamerica.loc.gov/search/titles/results/?state=Iowa&page=42&format=json: 50"
       ]
      },
      {
       "output_type": "stream",
       "stream": "stdout",
       "text": [
        "\n",
        "http://chroniclingamerica.loc.gov/search/titles/results/?state=Iowa&page=43&format=json: 50"
       ]
      },
      {
       "output_type": "stream",
       "stream": "stdout",
       "text": [
        "\n",
        "http://chroniclingamerica.loc.gov/search/titles/results/?state=Iowa&page=44&format=json: 50"
       ]
      },
      {
       "output_type": "stream",
       "stream": "stdout",
       "text": [
        "\n",
        "http://chroniclingamerica.loc.gov/search/titles/results/?state=Iowa&page=45&format=json: 50"
       ]
      },
      {
       "output_type": "stream",
       "stream": "stdout",
       "text": [
        "\n",
        "http://chroniclingamerica.loc.gov/search/titles/results/?state=Iowa&page=46&format=json: 50"
       ]
      },
      {
       "output_type": "stream",
       "stream": "stdout",
       "text": [
        "\n",
        "http://chroniclingamerica.loc.gov/search/titles/results/?state=Iowa&page=47&format=json: 50"
       ]
      },
      {
       "output_type": "stream",
       "stream": "stdout",
       "text": [
        "\n",
        "http://chroniclingamerica.loc.gov/search/titles/results/?state=Iowa&page=48&format=json: 50"
       ]
      },
      {
       "output_type": "stream",
       "stream": "stdout",
       "text": [
        "\n",
        "http://chroniclingamerica.loc.gov/search/titles/results/?state=Iowa&page=49&format=json: 50"
       ]
      },
      {
       "output_type": "stream",
       "stream": "stdout",
       "text": [
        "\n",
        "http://chroniclingamerica.loc.gov/search/titles/results/?state=Iowa&page=50&format=json: 50"
       ]
      },
      {
       "output_type": "stream",
       "stream": "stdout",
       "text": [
        "\n",
        "http://chroniclingamerica.loc.gov/search/titles/results/?state=Iowa&page=51&format=json: 50"
       ]
      },
      {
       "output_type": "stream",
       "stream": "stdout",
       "text": [
        "\n",
        "http://chroniclingamerica.loc.gov/search/titles/results/?state=Iowa&page=52&format=json: 50"
       ]
      },
      {
       "output_type": "stream",
       "stream": "stdout",
       "text": [
        "\n",
        "http://chroniclingamerica.loc.gov/search/titles/results/?state=Iowa&page=53&format=json: 50"
       ]
      },
      {
       "output_type": "stream",
       "stream": "stdout",
       "text": [
        "\n",
        "http://chroniclingamerica.loc.gov/search/titles/results/?state=Iowa&page=54&format=json: 50"
       ]
      },
      {
       "output_type": "stream",
       "stream": "stdout",
       "text": [
        "\n",
        "http://chroniclingamerica.loc.gov/search/titles/results/?state=Iowa&page=55&format=json: 50"
       ]
      },
      {
       "output_type": "stream",
       "stream": "stdout",
       "text": [
        "\n",
        "http://chroniclingamerica.loc.gov/search/titles/results/?state=Iowa&page=56&format=json: 50"
       ]
      },
      {
       "output_type": "stream",
       "stream": "stdout",
       "text": [
        "\n",
        "http://chroniclingamerica.loc.gov/search/titles/results/?state=Iowa&page=57&format=json: 50"
       ]
      },
      {
       "output_type": "stream",
       "stream": "stdout",
       "text": [
        "\n",
        "http://chroniclingamerica.loc.gov/search/titles/results/?state=Iowa&page=58&format=json: 50"
       ]
      },
      {
       "output_type": "stream",
       "stream": "stdout",
       "text": [
        "\n",
        "http://chroniclingamerica.loc.gov/search/titles/results/?state=Iowa&page=59&format=json: 50"
       ]
      },
      {
       "output_type": "stream",
       "stream": "stdout",
       "text": [
        "\n",
        "http://chroniclingamerica.loc.gov/search/titles/results/?state=Iowa&page=60&format=json: 50"
       ]
      },
      {
       "output_type": "stream",
       "stream": "stdout",
       "text": [
        "\n",
        "http://chroniclingamerica.loc.gov/search/titles/results/?state=Iowa&page=61&format=json: 50"
       ]
      },
      {
       "output_type": "stream",
       "stream": "stdout",
       "text": [
        "\n",
        "http://chroniclingamerica.loc.gov/search/titles/results/?state=Iowa&page=62&format=json: 50"
       ]
      },
      {
       "output_type": "stream",
       "stream": "stdout",
       "text": [
        "\n",
        "http://chroniclingamerica.loc.gov/search/titles/results/?state=Iowa&page=63&format=json: 50"
       ]
      },
      {
       "output_type": "stream",
       "stream": "stdout",
       "text": [
        "\n",
        "http://chroniclingamerica.loc.gov/search/titles/results/?state=Iowa&page=64&format=json: 50"
       ]
      },
      {
       "output_type": "stream",
       "stream": "stdout",
       "text": [
        "\n",
        "http://chroniclingamerica.loc.gov/search/titles/results/?state=Iowa&page=65&format=json: 50"
       ]
      },
      {
       "output_type": "stream",
       "stream": "stdout",
       "text": [
        "\n",
        "http://chroniclingamerica.loc.gov/search/titles/results/?state=Iowa&page=66&format=json: 50"
       ]
      },
      {
       "output_type": "stream",
       "stream": "stdout",
       "text": [
        "\n",
        "http://chroniclingamerica.loc.gov/search/titles/results/?state=Iowa&page=67&format=json: 50"
       ]
      },
      {
       "output_type": "stream",
       "stream": "stdout",
       "text": [
        "\n",
        "http://chroniclingamerica.loc.gov/search/titles/results/?state=Iowa&page=68&format=json: 50"
       ]
      },
      {
       "output_type": "stream",
       "stream": "stdout",
       "text": [
        "\n",
        "http://chroniclingamerica.loc.gov/search/titles/results/?state=Iowa&page=69&format=json: 50"
       ]
      },
      {
       "output_type": "stream",
       "stream": "stdout",
       "text": [
        "\n",
        "http://chroniclingamerica.loc.gov/search/titles/results/?state=Iowa&page=70&format=json: 50"
       ]
      },
      {
       "output_type": "stream",
       "stream": "stdout",
       "text": [
        "\n",
        "http://chroniclingamerica.loc.gov/search/titles/results/?state=Iowa&page=71&format=json: 50"
       ]
      },
      {
       "output_type": "stream",
       "stream": "stdout",
       "text": [
        "\n",
        "http://chroniclingamerica.loc.gov/search/titles/results/?state=Iowa&page=72&format=json: 50"
       ]
      },
      {
       "output_type": "stream",
       "stream": "stdout",
       "text": [
        "\n",
        "http://chroniclingamerica.loc.gov/search/titles/results/?state=Iowa&page=73&format=json: 50"
       ]
      },
      {
       "output_type": "stream",
       "stream": "stdout",
       "text": [
        "\n",
        "http://chroniclingamerica.loc.gov/search/titles/results/?state=Iowa&page=74&format=json: 50"
       ]
      },
      {
       "output_type": "stream",
       "stream": "stdout",
       "text": [
        "\n",
        "http://chroniclingamerica.loc.gov/search/titles/results/?state=Iowa&page=75&format=json: 50"
       ]
      },
      {
       "output_type": "stream",
       "stream": "stdout",
       "text": [
        "\n",
        "http://chroniclingamerica.loc.gov/search/titles/results/?state=Iowa&page=76&format=json: 50"
       ]
      },
      {
       "output_type": "stream",
       "stream": "stdout",
       "text": [
        "\n",
        "http://chroniclingamerica.loc.gov/search/titles/results/?state=Iowa&page=77&format=json: 50"
       ]
      },
      {
       "output_type": "stream",
       "stream": "stdout",
       "text": [
        "\n",
        "http://chroniclingamerica.loc.gov/search/titles/results/?state=Iowa&page=78&format=json: 38"
       ]
      },
      {
       "output_type": "stream",
       "stream": "stdout",
       "text": [
        "\n",
        "Idaho\n",
        "\n",
        "{'state': 'Idaho', 'format': 'json'}\n",
        "747"
       ]
      },
      {
       "output_type": "stream",
       "stream": "stdout",
       "text": [
        "\n",
        "http://chroniclingamerica.loc.gov/search/titles/results/?state=Idaho&page=2&format=json: 50"
       ]
      },
      {
       "output_type": "stream",
       "stream": "stdout",
       "text": [
        "\n",
        "http://chroniclingamerica.loc.gov/search/titles/results/?state=Idaho&page=3&format=json: 50"
       ]
      },
      {
       "output_type": "stream",
       "stream": "stdout",
       "text": [
        "\n",
        "http://chroniclingamerica.loc.gov/search/titles/results/?state=Idaho&page=4&format=json: 50"
       ]
      },
      {
       "output_type": "stream",
       "stream": "stdout",
       "text": [
        "\n",
        "http://chroniclingamerica.loc.gov/search/titles/results/?state=Idaho&page=5&format=json: 50"
       ]
      },
      {
       "output_type": "stream",
       "stream": "stdout",
       "text": [
        "\n",
        "http://chroniclingamerica.loc.gov/search/titles/results/?state=Idaho&page=6&format=json: 50"
       ]
      },
      {
       "output_type": "stream",
       "stream": "stdout",
       "text": [
        "\n",
        "http://chroniclingamerica.loc.gov/search/titles/results/?state=Idaho&page=7&format=json: 50"
       ]
      },
      {
       "output_type": "stream",
       "stream": "stdout",
       "text": [
        "\n",
        "http://chroniclingamerica.loc.gov/search/titles/results/?state=Idaho&page=8&format=json: 50"
       ]
      },
      {
       "output_type": "stream",
       "stream": "stdout",
       "text": [
        "\n",
        "http://chroniclingamerica.loc.gov/search/titles/results/?state=Idaho&page=9&format=json: 50"
       ]
      },
      {
       "output_type": "stream",
       "stream": "stdout",
       "text": [
        "\n",
        "http://chroniclingamerica.loc.gov/search/titles/results/?state=Idaho&page=10&format=json: 50"
       ]
      },
      {
       "output_type": "stream",
       "stream": "stdout",
       "text": [
        "\n",
        "http://chroniclingamerica.loc.gov/search/titles/results/?state=Idaho&page=11&format=json: 50"
       ]
      },
      {
       "output_type": "stream",
       "stream": "stdout",
       "text": [
        "\n",
        "http://chroniclingamerica.loc.gov/search/titles/results/?state=Idaho&page=12&format=json: 50"
       ]
      },
      {
       "output_type": "stream",
       "stream": "stdout",
       "text": [
        "\n",
        "http://chroniclingamerica.loc.gov/search/titles/results/?state=Idaho&page=13&format=json: 50"
       ]
      },
      {
       "output_type": "stream",
       "stream": "stdout",
       "text": [
        "\n",
        "http://chroniclingamerica.loc.gov/search/titles/results/?state=Idaho&page=14&format=json: 50"
       ]
      },
      {
       "output_type": "stream",
       "stream": "stdout",
       "text": [
        "\n",
        "http://chroniclingamerica.loc.gov/search/titles/results/?state=Idaho&page=15&format=json: 47"
       ]
      },
      {
       "output_type": "stream",
       "stream": "stdout",
       "text": [
        "\n",
        "Illinois\n",
        "\n",
        "{'state': 'Illinois', 'format': 'json'}\n",
        "8796"
       ]
      },
      {
       "output_type": "stream",
       "stream": "stdout",
       "text": [
        "\n",
        "http://chroniclingamerica.loc.gov/search/titles/results/?state=Illinois&page=2&format=json: 50"
       ]
      },
      {
       "output_type": "stream",
       "stream": "stdout",
       "text": [
        "\n",
        "http://chroniclingamerica.loc.gov/search/titles/results/?state=Illinois&page=3&format=json: 50"
       ]
      },
      {
       "output_type": "stream",
       "stream": "stdout",
       "text": [
        "\n",
        "http://chroniclingamerica.loc.gov/search/titles/results/?state=Illinois&page=4&format=json: 50"
       ]
      },
      {
       "output_type": "stream",
       "stream": "stdout",
       "text": [
        "\n",
        "http://chroniclingamerica.loc.gov/search/titles/results/?state=Illinois&page=5&format=json: 50"
       ]
      },
      {
       "output_type": "stream",
       "stream": "stdout",
       "text": [
        "\n",
        "http://chroniclingamerica.loc.gov/search/titles/results/?state=Illinois&page=6&format=json: 50"
       ]
      },
      {
       "output_type": "stream",
       "stream": "stdout",
       "text": [
        "\n",
        "http://chroniclingamerica.loc.gov/search/titles/results/?state=Illinois&page=7&format=json: 50"
       ]
      },
      {
       "output_type": "stream",
       "stream": "stdout",
       "text": [
        "\n",
        "http://chroniclingamerica.loc.gov/search/titles/results/?state=Illinois&page=8&format=json: 50"
       ]
      },
      {
       "output_type": "stream",
       "stream": "stdout",
       "text": [
        "\n",
        "http://chroniclingamerica.loc.gov/search/titles/results/?state=Illinois&page=9&format=json: 50"
       ]
      },
      {
       "output_type": "stream",
       "stream": "stdout",
       "text": [
        "\n",
        "http://chroniclingamerica.loc.gov/search/titles/results/?state=Illinois&page=10&format=json: 50"
       ]
      },
      {
       "output_type": "stream",
       "stream": "stdout",
       "text": [
        "\n",
        "http://chroniclingamerica.loc.gov/search/titles/results/?state=Illinois&page=11&format=json: 50"
       ]
      },
      {
       "output_type": "stream",
       "stream": "stdout",
       "text": [
        "\n",
        "http://chroniclingamerica.loc.gov/search/titles/results/?state=Illinois&page=12&format=json: 50"
       ]
      },
      {
       "output_type": "stream",
       "stream": "stdout",
       "text": [
        "\n",
        "http://chroniclingamerica.loc.gov/search/titles/results/?state=Illinois&page=13&format=json: 50"
       ]
      },
      {
       "output_type": "stream",
       "stream": "stdout",
       "text": [
        "\n",
        "http://chroniclingamerica.loc.gov/search/titles/results/?state=Illinois&page=14&format=json: 50"
       ]
      },
      {
       "output_type": "stream",
       "stream": "stdout",
       "text": [
        "\n",
        "http://chroniclingamerica.loc.gov/search/titles/results/?state=Illinois&page=15&format=json: 50"
       ]
      },
      {
       "output_type": "stream",
       "stream": "stdout",
       "text": [
        "\n",
        "http://chroniclingamerica.loc.gov/search/titles/results/?state=Illinois&page=16&format=json: 50"
       ]
      },
      {
       "output_type": "stream",
       "stream": "stdout",
       "text": [
        "\n",
        "http://chroniclingamerica.loc.gov/search/titles/results/?state=Illinois&page=17&format=json: 50"
       ]
      },
      {
       "output_type": "stream",
       "stream": "stdout",
       "text": [
        "\n",
        "http://chroniclingamerica.loc.gov/search/titles/results/?state=Illinois&page=18&format=json: 50"
       ]
      },
      {
       "output_type": "stream",
       "stream": "stdout",
       "text": [
        "\n",
        "http://chroniclingamerica.loc.gov/search/titles/results/?state=Illinois&page=19&format=json: 50"
       ]
      },
      {
       "output_type": "stream",
       "stream": "stdout",
       "text": [
        "\n",
        "http://chroniclingamerica.loc.gov/search/titles/results/?state=Illinois&page=20&format=json: 50"
       ]
      },
      {
       "output_type": "stream",
       "stream": "stdout",
       "text": [
        "\n",
        "http://chroniclingamerica.loc.gov/search/titles/results/?state=Illinois&page=21&format=json: 50"
       ]
      },
      {
       "output_type": "stream",
       "stream": "stdout",
       "text": [
        "\n",
        "http://chroniclingamerica.loc.gov/search/titles/results/?state=Illinois&page=22&format=json: 50"
       ]
      },
      {
       "output_type": "stream",
       "stream": "stdout",
       "text": [
        "\n",
        "http://chroniclingamerica.loc.gov/search/titles/results/?state=Illinois&page=23&format=json: 50"
       ]
      },
      {
       "output_type": "stream",
       "stream": "stdout",
       "text": [
        "\n",
        "http://chroniclingamerica.loc.gov/search/titles/results/?state=Illinois&page=24&format=json: 50"
       ]
      },
      {
       "output_type": "stream",
       "stream": "stdout",
       "text": [
        "\n",
        "http://chroniclingamerica.loc.gov/search/titles/results/?state=Illinois&page=25&format=json: 50"
       ]
      },
      {
       "output_type": "stream",
       "stream": "stdout",
       "text": [
        "\n",
        "http://chroniclingamerica.loc.gov/search/titles/results/?state=Illinois&page=26&format=json: 50"
       ]
      },
      {
       "output_type": "stream",
       "stream": "stdout",
       "text": [
        "\n",
        "http://chroniclingamerica.loc.gov/search/titles/results/?state=Illinois&page=27&format=json: 50"
       ]
      },
      {
       "output_type": "stream",
       "stream": "stdout",
       "text": [
        "\n",
        "http://chroniclingamerica.loc.gov/search/titles/results/?state=Illinois&page=28&format=json: 50"
       ]
      },
      {
       "output_type": "stream",
       "stream": "stdout",
       "text": [
        "\n",
        "http://chroniclingamerica.loc.gov/search/titles/results/?state=Illinois&page=29&format=json: 50"
       ]
      },
      {
       "output_type": "stream",
       "stream": "stdout",
       "text": [
        "\n",
        "http://chroniclingamerica.loc.gov/search/titles/results/?state=Illinois&page=30&format=json: 50"
       ]
      },
      {
       "output_type": "stream",
       "stream": "stdout",
       "text": [
        "\n",
        "http://chroniclingamerica.loc.gov/search/titles/results/?state=Illinois&page=31&format=json: 50"
       ]
      },
      {
       "output_type": "stream",
       "stream": "stdout",
       "text": [
        "\n",
        "http://chroniclingamerica.loc.gov/search/titles/results/?state=Illinois&page=32&format=json: 50"
       ]
      },
      {
       "output_type": "stream",
       "stream": "stdout",
       "text": [
        "\n",
        "http://chroniclingamerica.loc.gov/search/titles/results/?state=Illinois&page=33&format=json: 50"
       ]
      },
      {
       "output_type": "stream",
       "stream": "stdout",
       "text": [
        "\n",
        "http://chroniclingamerica.loc.gov/search/titles/results/?state=Illinois&page=34&format=json: 50"
       ]
      },
      {
       "output_type": "stream",
       "stream": "stdout",
       "text": [
        "\n",
        "http://chroniclingamerica.loc.gov/search/titles/results/?state=Illinois&page=35&format=json: 50"
       ]
      },
      {
       "output_type": "stream",
       "stream": "stdout",
       "text": [
        "\n",
        "http://chroniclingamerica.loc.gov/search/titles/results/?state=Illinois&page=36&format=json: 50"
       ]
      },
      {
       "output_type": "stream",
       "stream": "stdout",
       "text": [
        "\n",
        "http://chroniclingamerica.loc.gov/search/titles/results/?state=Illinois&page=37&format=json: 50"
       ]
      },
      {
       "output_type": "stream",
       "stream": "stdout",
       "text": [
        "\n",
        "http://chroniclingamerica.loc.gov/search/titles/results/?state=Illinois&page=38&format=json: 50"
       ]
      },
      {
       "output_type": "stream",
       "stream": "stdout",
       "text": [
        "\n",
        "http://chroniclingamerica.loc.gov/search/titles/results/?state=Illinois&page=39&format=json: 50"
       ]
      },
      {
       "output_type": "stream",
       "stream": "stdout",
       "text": [
        "\n",
        "http://chroniclingamerica.loc.gov/search/titles/results/?state=Illinois&page=40&format=json: 50"
       ]
      },
      {
       "output_type": "stream",
       "stream": "stdout",
       "text": [
        "\n",
        "http://chroniclingamerica.loc.gov/search/titles/results/?state=Illinois&page=41&format=json: 50"
       ]
      },
      {
       "output_type": "stream",
       "stream": "stdout",
       "text": [
        "\n",
        "http://chroniclingamerica.loc.gov/search/titles/results/?state=Illinois&page=42&format=json: 50"
       ]
      },
      {
       "output_type": "stream",
       "stream": "stdout",
       "text": [
        "\n",
        "http://chroniclingamerica.loc.gov/search/titles/results/?state=Illinois&page=43&format=json: 50"
       ]
      },
      {
       "output_type": "stream",
       "stream": "stdout",
       "text": [
        "\n",
        "http://chroniclingamerica.loc.gov/search/titles/results/?state=Illinois&page=44&format=json: 50"
       ]
      },
      {
       "output_type": "stream",
       "stream": "stdout",
       "text": [
        "\n",
        "http://chroniclingamerica.loc.gov/search/titles/results/?state=Illinois&page=45&format=json: 50"
       ]
      },
      {
       "output_type": "stream",
       "stream": "stdout",
       "text": [
        "\n",
        "http://chroniclingamerica.loc.gov/search/titles/results/?state=Illinois&page=46&format=json: 50"
       ]
      },
      {
       "output_type": "stream",
       "stream": "stdout",
       "text": [
        "\n",
        "http://chroniclingamerica.loc.gov/search/titles/results/?state=Illinois&page=47&format=json: 50"
       ]
      },
      {
       "output_type": "stream",
       "stream": "stdout",
       "text": [
        "\n",
        "http://chroniclingamerica.loc.gov/search/titles/results/?state=Illinois&page=48&format=json: 50"
       ]
      },
      {
       "output_type": "stream",
       "stream": "stdout",
       "text": [
        "\n",
        "http://chroniclingamerica.loc.gov/search/titles/results/?state=Illinois&page=49&format=json: 50"
       ]
      },
      {
       "output_type": "stream",
       "stream": "stdout",
       "text": [
        "\n",
        "http://chroniclingamerica.loc.gov/search/titles/results/?state=Illinois&page=50&format=json: 50"
       ]
      },
      {
       "output_type": "stream",
       "stream": "stdout",
       "text": [
        "\n",
        "http://chroniclingamerica.loc.gov/search/titles/results/?state=Illinois&page=51&format=json: 50"
       ]
      },
      {
       "output_type": "stream",
       "stream": "stdout",
       "text": [
        "\n",
        "http://chroniclingamerica.loc.gov/search/titles/results/?state=Illinois&page=52&format=json: 50"
       ]
      },
      {
       "output_type": "stream",
       "stream": "stdout",
       "text": [
        "\n",
        "http://chroniclingamerica.loc.gov/search/titles/results/?state=Illinois&page=53&format=json: 50"
       ]
      },
      {
       "output_type": "stream",
       "stream": "stdout",
       "text": [
        "\n",
        "http://chroniclingamerica.loc.gov/search/titles/results/?state=Illinois&page=54&format=json: 50"
       ]
      },
      {
       "output_type": "stream",
       "stream": "stdout",
       "text": [
        "\n",
        "http://chroniclingamerica.loc.gov/search/titles/results/?state=Illinois&page=55&format=json: 50"
       ]
      },
      {
       "output_type": "stream",
       "stream": "stdout",
       "text": [
        "\n",
        "http://chroniclingamerica.loc.gov/search/titles/results/?state=Illinois&page=56&format=json: 50"
       ]
      },
      {
       "output_type": "stream",
       "stream": "stdout",
       "text": [
        "\n",
        "http://chroniclingamerica.loc.gov/search/titles/results/?state=Illinois&page=57&format=json: 50"
       ]
      },
      {
       "output_type": "stream",
       "stream": "stdout",
       "text": [
        "\n",
        "http://chroniclingamerica.loc.gov/search/titles/results/?state=Illinois&page=58&format=json: 50"
       ]
      },
      {
       "output_type": "stream",
       "stream": "stdout",
       "text": [
        "\n",
        "http://chroniclingamerica.loc.gov/search/titles/results/?state=Illinois&page=59&format=json: 50"
       ]
      },
      {
       "output_type": "stream",
       "stream": "stdout",
       "text": [
        "\n",
        "http://chroniclingamerica.loc.gov/search/titles/results/?state=Illinois&page=60&format=json: 50"
       ]
      },
      {
       "output_type": "stream",
       "stream": "stdout",
       "text": [
        "\n",
        "http://chroniclingamerica.loc.gov/search/titles/results/?state=Illinois&page=61&format=json: 50"
       ]
      },
      {
       "output_type": "stream",
       "stream": "stdout",
       "text": [
        "\n",
        "http://chroniclingamerica.loc.gov/search/titles/results/?state=Illinois&page=62&format=json: 50"
       ]
      },
      {
       "output_type": "stream",
       "stream": "stdout",
       "text": [
        "\n",
        "http://chroniclingamerica.loc.gov/search/titles/results/?state=Illinois&page=63&format=json: 50"
       ]
      },
      {
       "output_type": "stream",
       "stream": "stdout",
       "text": [
        "\n",
        "http://chroniclingamerica.loc.gov/search/titles/results/?state=Illinois&page=64&format=json: 50"
       ]
      },
      {
       "output_type": "stream",
       "stream": "stdout",
       "text": [
        "\n",
        "http://chroniclingamerica.loc.gov/search/titles/results/?state=Illinois&page=65&format=json: 50"
       ]
      },
      {
       "output_type": "stream",
       "stream": "stdout",
       "text": [
        "\n",
        "http://chroniclingamerica.loc.gov/search/titles/results/?state=Illinois&page=66&format=json: 50"
       ]
      },
      {
       "output_type": "stream",
       "stream": "stdout",
       "text": [
        "\n",
        "http://chroniclingamerica.loc.gov/search/titles/results/?state=Illinois&page=67&format=json: 50"
       ]
      },
      {
       "output_type": "stream",
       "stream": "stdout",
       "text": [
        "\n",
        "http://chroniclingamerica.loc.gov/search/titles/results/?state=Illinois&page=68&format=json: 50"
       ]
      },
      {
       "output_type": "stream",
       "stream": "stdout",
       "text": [
        "\n",
        "http://chroniclingamerica.loc.gov/search/titles/results/?state=Illinois&page=69&format=json: 50"
       ]
      },
      {
       "output_type": "stream",
       "stream": "stdout",
       "text": [
        "\n",
        "http://chroniclingamerica.loc.gov/search/titles/results/?state=Illinois&page=70&format=json: 50"
       ]
      },
      {
       "output_type": "stream",
       "stream": "stdout",
       "text": [
        "\n",
        "http://chroniclingamerica.loc.gov/search/titles/results/?state=Illinois&page=71&format=json: 50"
       ]
      },
      {
       "output_type": "stream",
       "stream": "stdout",
       "text": [
        "\n",
        "http://chroniclingamerica.loc.gov/search/titles/results/?state=Illinois&page=72&format=json: 50"
       ]
      },
      {
       "output_type": "stream",
       "stream": "stdout",
       "text": [
        "\n",
        "http://chroniclingamerica.loc.gov/search/titles/results/?state=Illinois&page=73&format=json: 50"
       ]
      },
      {
       "output_type": "stream",
       "stream": "stdout",
       "text": [
        "\n",
        "http://chroniclingamerica.loc.gov/search/titles/results/?state=Illinois&page=74&format=json: 50"
       ]
      },
      {
       "output_type": "stream",
       "stream": "stdout",
       "text": [
        "\n",
        "http://chroniclingamerica.loc.gov/search/titles/results/?state=Illinois&page=75&format=json: 50"
       ]
      },
      {
       "output_type": "stream",
       "stream": "stdout",
       "text": [
        "\n",
        "http://chroniclingamerica.loc.gov/search/titles/results/?state=Illinois&page=76&format=json: 50"
       ]
      },
      {
       "output_type": "stream",
       "stream": "stdout",
       "text": [
        "\n",
        "http://chroniclingamerica.loc.gov/search/titles/results/?state=Illinois&page=77&format=json: 50"
       ]
      },
      {
       "output_type": "stream",
       "stream": "stdout",
       "text": [
        "\n",
        "http://chroniclingamerica.loc.gov/search/titles/results/?state=Illinois&page=78&format=json: 50"
       ]
      },
      {
       "output_type": "stream",
       "stream": "stdout",
       "text": [
        "\n",
        "http://chroniclingamerica.loc.gov/search/titles/results/?state=Illinois&page=79&format=json: 50"
       ]
      },
      {
       "output_type": "stream",
       "stream": "stdout",
       "text": [
        "\n",
        "http://chroniclingamerica.loc.gov/search/titles/results/?state=Illinois&page=80&format=json: 50"
       ]
      },
      {
       "output_type": "stream",
       "stream": "stdout",
       "text": [
        "\n",
        "http://chroniclingamerica.loc.gov/search/titles/results/?state=Illinois&page=81&format=json: 50"
       ]
      },
      {
       "output_type": "stream",
       "stream": "stdout",
       "text": [
        "\n",
        "http://chroniclingamerica.loc.gov/search/titles/results/?state=Illinois&page=82&format=json: 50"
       ]
      },
      {
       "output_type": "stream",
       "stream": "stdout",
       "text": [
        "\n",
        "http://chroniclingamerica.loc.gov/search/titles/results/?state=Illinois&page=83&format=json: 50"
       ]
      },
      {
       "output_type": "stream",
       "stream": "stdout",
       "text": [
        "\n",
        "http://chroniclingamerica.loc.gov/search/titles/results/?state=Illinois&page=84&format=json: 50"
       ]
      },
      {
       "output_type": "stream",
       "stream": "stdout",
       "text": [
        "\n",
        "http://chroniclingamerica.loc.gov/search/titles/results/?state=Illinois&page=85&format=json: 50"
       ]
      },
      {
       "output_type": "stream",
       "stream": "stdout",
       "text": [
        "\n",
        "http://chroniclingamerica.loc.gov/search/titles/results/?state=Illinois&page=86&format=json: 50"
       ]
      },
      {
       "output_type": "stream",
       "stream": "stdout",
       "text": [
        "\n",
        "http://chroniclingamerica.loc.gov/search/titles/results/?state=Illinois&page=87&format=json: 50"
       ]
      },
      {
       "output_type": "stream",
       "stream": "stdout",
       "text": [
        "\n",
        "http://chroniclingamerica.loc.gov/search/titles/results/?state=Illinois&page=88&format=json: 50"
       ]
      },
      {
       "output_type": "stream",
       "stream": "stdout",
       "text": [
        "\n",
        "http://chroniclingamerica.loc.gov/search/titles/results/?state=Illinois&page=89&format=json: 50"
       ]
      },
      {
       "output_type": "stream",
       "stream": "stdout",
       "text": [
        "\n",
        "http://chroniclingamerica.loc.gov/search/titles/results/?state=Illinois&page=90&format=json: 50"
       ]
      },
      {
       "output_type": "stream",
       "stream": "stdout",
       "text": [
        "\n",
        "http://chroniclingamerica.loc.gov/search/titles/results/?state=Illinois&page=91&format=json: 50"
       ]
      },
      {
       "output_type": "stream",
       "stream": "stdout",
       "text": [
        "\n",
        "http://chroniclingamerica.loc.gov/search/titles/results/?state=Illinois&page=92&format=json: 50"
       ]
      },
      {
       "output_type": "stream",
       "stream": "stdout",
       "text": [
        "\n",
        "http://chroniclingamerica.loc.gov/search/titles/results/?state=Illinois&page=93&format=json: 50"
       ]
      },
      {
       "output_type": "stream",
       "stream": "stdout",
       "text": [
        "\n",
        "http://chroniclingamerica.loc.gov/search/titles/results/?state=Illinois&page=94&format=json: 50"
       ]
      },
      {
       "output_type": "stream",
       "stream": "stdout",
       "text": [
        "\n",
        "http://chroniclingamerica.loc.gov/search/titles/results/?state=Illinois&page=95&format=json: 50"
       ]
      },
      {
       "output_type": "stream",
       "stream": "stdout",
       "text": [
        "\n",
        "http://chroniclingamerica.loc.gov/search/titles/results/?state=Illinois&page=96&format=json: 50"
       ]
      },
      {
       "output_type": "stream",
       "stream": "stdout",
       "text": [
        "\n",
        "http://chroniclingamerica.loc.gov/search/titles/results/?state=Illinois&page=97&format=json: 50"
       ]
      },
      {
       "output_type": "stream",
       "stream": "stdout",
       "text": [
        "\n",
        "http://chroniclingamerica.loc.gov/search/titles/results/?state=Illinois&page=98&format=json: 50"
       ]
      },
      {
       "output_type": "stream",
       "stream": "stdout",
       "text": [
        "\n",
        "http://chroniclingamerica.loc.gov/search/titles/results/?state=Illinois&page=99&format=json: 50"
       ]
      },
      {
       "output_type": "stream",
       "stream": "stdout",
       "text": [
        "\n",
        "http://chroniclingamerica.loc.gov/search/titles/results/?state=Illinois&page=100&format=json: 50"
       ]
      },
      {
       "output_type": "stream",
       "stream": "stdout",
       "text": [
        "\n",
        "http://chroniclingamerica.loc.gov/search/titles/results/?state=Illinois&page=101&format=json: 50"
       ]
      },
      {
       "output_type": "stream",
       "stream": "stdout",
       "text": [
        "\n",
        "http://chroniclingamerica.loc.gov/search/titles/results/?state=Illinois&page=102&format=json: 50"
       ]
      },
      {
       "output_type": "stream",
       "stream": "stdout",
       "text": [
        "\n",
        "http://chroniclingamerica.loc.gov/search/titles/results/?state=Illinois&page=103&format=json: 50"
       ]
      },
      {
       "output_type": "stream",
       "stream": "stdout",
       "text": [
        "\n",
        "http://chroniclingamerica.loc.gov/search/titles/results/?state=Illinois&page=104&format=json: 50"
       ]
      },
      {
       "output_type": "stream",
       "stream": "stdout",
       "text": [
        "\n",
        "http://chroniclingamerica.loc.gov/search/titles/results/?state=Illinois&page=105&format=json: 50"
       ]
      },
      {
       "output_type": "stream",
       "stream": "stdout",
       "text": [
        "\n",
        "http://chroniclingamerica.loc.gov/search/titles/results/?state=Illinois&page=106&format=json: 50"
       ]
      },
      {
       "output_type": "stream",
       "stream": "stdout",
       "text": [
        "\n",
        "http://chroniclingamerica.loc.gov/search/titles/results/?state=Illinois&page=107&format=json: 50"
       ]
      },
      {
       "output_type": "stream",
       "stream": "stdout",
       "text": [
        "\n",
        "http://chroniclingamerica.loc.gov/search/titles/results/?state=Illinois&page=108&format=json: 50"
       ]
      },
      {
       "output_type": "stream",
       "stream": "stdout",
       "text": [
        "\n",
        "http://chroniclingamerica.loc.gov/search/titles/results/?state=Illinois&page=109&format=json: 50"
       ]
      },
      {
       "output_type": "stream",
       "stream": "stdout",
       "text": [
        "\n",
        "http://chroniclingamerica.loc.gov/search/titles/results/?state=Illinois&page=110&format=json: 50"
       ]
      },
      {
       "output_type": "stream",
       "stream": "stdout",
       "text": [
        "\n",
        "http://chroniclingamerica.loc.gov/search/titles/results/?state=Illinois&page=111&format=json: 50"
       ]
      },
      {
       "output_type": "stream",
       "stream": "stdout",
       "text": [
        "\n",
        "http://chroniclingamerica.loc.gov/search/titles/results/?state=Illinois&page=112&format=json: 50"
       ]
      },
      {
       "output_type": "stream",
       "stream": "stdout",
       "text": [
        "\n",
        "http://chroniclingamerica.loc.gov/search/titles/results/?state=Illinois&page=113&format=json: 50"
       ]
      },
      {
       "output_type": "stream",
       "stream": "stdout",
       "text": [
        "\n",
        "http://chroniclingamerica.loc.gov/search/titles/results/?state=Illinois&page=114&format=json: 50"
       ]
      },
      {
       "output_type": "stream",
       "stream": "stdout",
       "text": [
        "\n",
        "http://chroniclingamerica.loc.gov/search/titles/results/?state=Illinois&page=115&format=json: 50"
       ]
      },
      {
       "output_type": "stream",
       "stream": "stdout",
       "text": [
        "\n",
        "http://chroniclingamerica.loc.gov/search/titles/results/?state=Illinois&page=116&format=json: 50"
       ]
      },
      {
       "output_type": "stream",
       "stream": "stdout",
       "text": [
        "\n",
        "http://chroniclingamerica.loc.gov/search/titles/results/?state=Illinois&page=117&format=json: 50"
       ]
      },
      {
       "output_type": "stream",
       "stream": "stdout",
       "text": [
        "\n",
        "http://chroniclingamerica.loc.gov/search/titles/results/?state=Illinois&page=118&format=json: 50"
       ]
      },
      {
       "output_type": "stream",
       "stream": "stdout",
       "text": [
        "\n",
        "http://chroniclingamerica.loc.gov/search/titles/results/?state=Illinois&page=119&format=json: 50"
       ]
      },
      {
       "output_type": "stream",
       "stream": "stdout",
       "text": [
        "\n",
        "http://chroniclingamerica.loc.gov/search/titles/results/?state=Illinois&page=120&format=json: 50"
       ]
      },
      {
       "output_type": "stream",
       "stream": "stdout",
       "text": [
        "\n",
        "http://chroniclingamerica.loc.gov/search/titles/results/?state=Illinois&page=121&format=json: 50"
       ]
      },
      {
       "output_type": "stream",
       "stream": "stdout",
       "text": [
        "\n",
        "http://chroniclingamerica.loc.gov/search/titles/results/?state=Illinois&page=122&format=json: 50"
       ]
      },
      {
       "output_type": "stream",
       "stream": "stdout",
       "text": [
        "\n",
        "http://chroniclingamerica.loc.gov/search/titles/results/?state=Illinois&page=123&format=json: 50"
       ]
      },
      {
       "output_type": "stream",
       "stream": "stdout",
       "text": [
        "\n",
        "http://chroniclingamerica.loc.gov/search/titles/results/?state=Illinois&page=124&format=json: 50"
       ]
      },
      {
       "output_type": "stream",
       "stream": "stdout",
       "text": [
        "\n",
        "http://chroniclingamerica.loc.gov/search/titles/results/?state=Illinois&page=125&format=json: 50"
       ]
      },
      {
       "output_type": "stream",
       "stream": "stdout",
       "text": [
        "\n",
        "http://chroniclingamerica.loc.gov/search/titles/results/?state=Illinois&page=126&format=json: 50"
       ]
      },
      {
       "output_type": "stream",
       "stream": "stdout",
       "text": [
        "\n",
        "http://chroniclingamerica.loc.gov/search/titles/results/?state=Illinois&page=127&format=json: 50"
       ]
      },
      {
       "output_type": "stream",
       "stream": "stdout",
       "text": [
        "\n",
        "http://chroniclingamerica.loc.gov/search/titles/results/?state=Illinois&page=128&format=json: 50"
       ]
      },
      {
       "output_type": "stream",
       "stream": "stdout",
       "text": [
        "\n",
        "http://chroniclingamerica.loc.gov/search/titles/results/?state=Illinois&page=129&format=json: 50"
       ]
      },
      {
       "output_type": "stream",
       "stream": "stdout",
       "text": [
        "\n",
        "http://chroniclingamerica.loc.gov/search/titles/results/?state=Illinois&page=130&format=json: 50"
       ]
      },
      {
       "output_type": "stream",
       "stream": "stdout",
       "text": [
        "\n",
        "http://chroniclingamerica.loc.gov/search/titles/results/?state=Illinois&page=131&format=json: 50"
       ]
      },
      {
       "output_type": "stream",
       "stream": "stdout",
       "text": [
        "\n",
        "http://chroniclingamerica.loc.gov/search/titles/results/?state=Illinois&page=132&format=json: 50"
       ]
      },
      {
       "output_type": "stream",
       "stream": "stdout",
       "text": [
        "\n",
        "http://chroniclingamerica.loc.gov/search/titles/results/?state=Illinois&page=133&format=json: 50"
       ]
      },
      {
       "output_type": "stream",
       "stream": "stdout",
       "text": [
        "\n",
        "http://chroniclingamerica.loc.gov/search/titles/results/?state=Illinois&page=134&format=json: 50"
       ]
      },
      {
       "output_type": "stream",
       "stream": "stdout",
       "text": [
        "\n",
        "http://chroniclingamerica.loc.gov/search/titles/results/?state=Illinois&page=135&format=json: 50"
       ]
      },
      {
       "output_type": "stream",
       "stream": "stdout",
       "text": [
        "\n",
        "http://chroniclingamerica.loc.gov/search/titles/results/?state=Illinois&page=136&format=json: 50"
       ]
      },
      {
       "output_type": "stream",
       "stream": "stdout",
       "text": [
        "\n",
        "http://chroniclingamerica.loc.gov/search/titles/results/?state=Illinois&page=137&format=json: 50"
       ]
      },
      {
       "output_type": "stream",
       "stream": "stdout",
       "text": [
        "\n",
        "http://chroniclingamerica.loc.gov/search/titles/results/?state=Illinois&page=138&format=json: 50"
       ]
      },
      {
       "output_type": "stream",
       "stream": "stdout",
       "text": [
        "\n",
        "http://chroniclingamerica.loc.gov/search/titles/results/?state=Illinois&page=139&format=json: 50"
       ]
      },
      {
       "output_type": "stream",
       "stream": "stdout",
       "text": [
        "\n",
        "http://chroniclingamerica.loc.gov/search/titles/results/?state=Illinois&page=140&format=json: 50"
       ]
      },
      {
       "output_type": "stream",
       "stream": "stdout",
       "text": [
        "\n",
        "http://chroniclingamerica.loc.gov/search/titles/results/?state=Illinois&page=141&format=json: 50"
       ]
      },
      {
       "output_type": "stream",
       "stream": "stdout",
       "text": [
        "\n",
        "http://chroniclingamerica.loc.gov/search/titles/results/?state=Illinois&page=142&format=json: 50"
       ]
      },
      {
       "output_type": "stream",
       "stream": "stdout",
       "text": [
        "\n",
        "http://chroniclingamerica.loc.gov/search/titles/results/?state=Illinois&page=143&format=json: 50"
       ]
      },
      {
       "output_type": "stream",
       "stream": "stdout",
       "text": [
        "\n",
        "http://chroniclingamerica.loc.gov/search/titles/results/?state=Illinois&page=144&format=json: 50"
       ]
      },
      {
       "output_type": "stream",
       "stream": "stdout",
       "text": [
        "\n",
        "http://chroniclingamerica.loc.gov/search/titles/results/?state=Illinois&page=145&format=json: 50"
       ]
      },
      {
       "output_type": "stream",
       "stream": "stdout",
       "text": [
        "\n",
        "http://chroniclingamerica.loc.gov/search/titles/results/?state=Illinois&page=146&format=json: 50"
       ]
      },
      {
       "output_type": "stream",
       "stream": "stdout",
       "text": [
        "\n",
        "http://chroniclingamerica.loc.gov/search/titles/results/?state=Illinois&page=147&format=json: 50"
       ]
      },
      {
       "output_type": "stream",
       "stream": "stdout",
       "text": [
        "\n",
        "http://chroniclingamerica.loc.gov/search/titles/results/?state=Illinois&page=148&format=json: 50"
       ]
      },
      {
       "output_type": "stream",
       "stream": "stdout",
       "text": [
        "\n",
        "http://chroniclingamerica.loc.gov/search/titles/results/?state=Illinois&page=149&format=json: 50"
       ]
      },
      {
       "output_type": "stream",
       "stream": "stdout",
       "text": [
        "\n",
        "http://chroniclingamerica.loc.gov/search/titles/results/?state=Illinois&page=150&format=json: 50"
       ]
      },
      {
       "output_type": "stream",
       "stream": "stdout",
       "text": [
        "\n",
        "http://chroniclingamerica.loc.gov/search/titles/results/?state=Illinois&page=151&format=json: 50"
       ]
      },
      {
       "output_type": "stream",
       "stream": "stdout",
       "text": [
        "\n",
        "http://chroniclingamerica.loc.gov/search/titles/results/?state=Illinois&page=152&format=json: 50"
       ]
      },
      {
       "output_type": "stream",
       "stream": "stdout",
       "text": [
        "\n",
        "http://chroniclingamerica.loc.gov/search/titles/results/?state=Illinois&page=153&format=json: 50"
       ]
      },
      {
       "output_type": "stream",
       "stream": "stdout",
       "text": [
        "\n",
        "http://chroniclingamerica.loc.gov/search/titles/results/?state=Illinois&page=154&format=json: 50"
       ]
      },
      {
       "output_type": "stream",
       "stream": "stdout",
       "text": [
        "\n",
        "http://chroniclingamerica.loc.gov/search/titles/results/?state=Illinois&page=155&format=json: 50"
       ]
      },
      {
       "output_type": "stream",
       "stream": "stdout",
       "text": [
        "\n",
        "http://chroniclingamerica.loc.gov/search/titles/results/?state=Illinois&page=156&format=json: 50"
       ]
      },
      {
       "output_type": "stream",
       "stream": "stdout",
       "text": [
        "\n",
        "http://chroniclingamerica.loc.gov/search/titles/results/?state=Illinois&page=157&format=json: 50"
       ]
      },
      {
       "output_type": "stream",
       "stream": "stdout",
       "text": [
        "\n",
        "http://chroniclingamerica.loc.gov/search/titles/results/?state=Illinois&page=158&format=json: 50"
       ]
      },
      {
       "output_type": "stream",
       "stream": "stdout",
       "text": [
        "\n",
        "http://chroniclingamerica.loc.gov/search/titles/results/?state=Illinois&page=159&format=json: 50"
       ]
      },
      {
       "output_type": "stream",
       "stream": "stdout",
       "text": [
        "\n",
        "http://chroniclingamerica.loc.gov/search/titles/results/?state=Illinois&page=160&format=json: 50"
       ]
      },
      {
       "output_type": "stream",
       "stream": "stdout",
       "text": [
        "\n",
        "http://chroniclingamerica.loc.gov/search/titles/results/?state=Illinois&page=161&format=json: 50"
       ]
      },
      {
       "output_type": "stream",
       "stream": "stdout",
       "text": [
        "\n",
        "http://chroniclingamerica.loc.gov/search/titles/results/?state=Illinois&page=162&format=json: 50"
       ]
      },
      {
       "output_type": "stream",
       "stream": "stdout",
       "text": [
        "\n",
        "http://chroniclingamerica.loc.gov/search/titles/results/?state=Illinois&page=163&format=json: 50"
       ]
      },
      {
       "output_type": "stream",
       "stream": "stdout",
       "text": [
        "\n",
        "http://chroniclingamerica.loc.gov/search/titles/results/?state=Illinois&page=164&format=json: 50"
       ]
      },
      {
       "output_type": "stream",
       "stream": "stdout",
       "text": [
        "\n",
        "http://chroniclingamerica.loc.gov/search/titles/results/?state=Illinois&page=165&format=json: 50"
       ]
      },
      {
       "output_type": "stream",
       "stream": "stdout",
       "text": [
        "\n",
        "http://chroniclingamerica.loc.gov/search/titles/results/?state=Illinois&page=166&format=json: 50"
       ]
      },
      {
       "output_type": "stream",
       "stream": "stdout",
       "text": [
        "\n",
        "http://chroniclingamerica.loc.gov/search/titles/results/?state=Illinois&page=167&format=json: 50"
       ]
      },
      {
       "output_type": "stream",
       "stream": "stdout",
       "text": [
        "\n",
        "http://chroniclingamerica.loc.gov/search/titles/results/?state=Illinois&page=168&format=json: 50"
       ]
      },
      {
       "output_type": "stream",
       "stream": "stdout",
       "text": [
        "\n",
        "http://chroniclingamerica.loc.gov/search/titles/results/?state=Illinois&page=169&format=json: 50"
       ]
      },
      {
       "output_type": "stream",
       "stream": "stdout",
       "text": [
        "\n",
        "http://chroniclingamerica.loc.gov/search/titles/results/?state=Illinois&page=170&format=json: 50"
       ]
      },
      {
       "output_type": "stream",
       "stream": "stdout",
       "text": [
        "\n",
        "http://chroniclingamerica.loc.gov/search/titles/results/?state=Illinois&page=171&format=json: 50"
       ]
      },
      {
       "output_type": "stream",
       "stream": "stdout",
       "text": [
        "\n",
        "http://chroniclingamerica.loc.gov/search/titles/results/?state=Illinois&page=172&format=json: 50"
       ]
      },
      {
       "output_type": "stream",
       "stream": "stdout",
       "text": [
        "\n",
        "http://chroniclingamerica.loc.gov/search/titles/results/?state=Illinois&page=173&format=json: 50"
       ]
      },
      {
       "output_type": "stream",
       "stream": "stdout",
       "text": [
        "\n",
        "http://chroniclingamerica.loc.gov/search/titles/results/?state=Illinois&page=174&format=json: 50"
       ]
      },
      {
       "output_type": "stream",
       "stream": "stdout",
       "text": [
        "\n",
        "http://chroniclingamerica.loc.gov/search/titles/results/?state=Illinois&page=175&format=json: 50"
       ]
      },
      {
       "output_type": "stream",
       "stream": "stdout",
       "text": [
        "\n",
        "http://chroniclingamerica.loc.gov/search/titles/results/?state=Illinois&page=176&format=json: 46"
       ]
      },
      {
       "output_type": "stream",
       "stream": "stdout",
       "text": [
        "\n",
        "Indiana\n",
        "\n",
        "{'state': 'Indiana', 'format': 'json'}\n",
        "4742"
       ]
      },
      {
       "output_type": "stream",
       "stream": "stdout",
       "text": [
        "\n",
        "http://chroniclingamerica.loc.gov/search/titles/results/?state=Indiana&page=2&format=json: 50"
       ]
      },
      {
       "output_type": "stream",
       "stream": "stdout",
       "text": [
        "\n",
        "http://chroniclingamerica.loc.gov/search/titles/results/?state=Indiana&page=3&format=json: 50"
       ]
      },
      {
       "output_type": "stream",
       "stream": "stdout",
       "text": [
        "\n",
        "http://chroniclingamerica.loc.gov/search/titles/results/?state=Indiana&page=4&format=json: 50"
       ]
      },
      {
       "output_type": "stream",
       "stream": "stdout",
       "text": [
        "\n",
        "http://chroniclingamerica.loc.gov/search/titles/results/?state=Indiana&page=5&format=json: 50"
       ]
      },
      {
       "output_type": "stream",
       "stream": "stdout",
       "text": [
        "\n",
        "http://chroniclingamerica.loc.gov/search/titles/results/?state=Indiana&page=6&format=json: 50"
       ]
      },
      {
       "output_type": "stream",
       "stream": "stdout",
       "text": [
        "\n",
        "http://chroniclingamerica.loc.gov/search/titles/results/?state=Indiana&page=7&format=json: 50"
       ]
      },
      {
       "output_type": "stream",
       "stream": "stdout",
       "text": [
        "\n",
        "http://chroniclingamerica.loc.gov/search/titles/results/?state=Indiana&page=8&format=json: 50"
       ]
      },
      {
       "output_type": "stream",
       "stream": "stdout",
       "text": [
        "\n",
        "http://chroniclingamerica.loc.gov/search/titles/results/?state=Indiana&page=9&format=json: 50"
       ]
      },
      {
       "output_type": "stream",
       "stream": "stdout",
       "text": [
        "\n",
        "http://chroniclingamerica.loc.gov/search/titles/results/?state=Indiana&page=10&format=json: 50"
       ]
      },
      {
       "output_type": "stream",
       "stream": "stdout",
       "text": [
        "\n",
        "http://chroniclingamerica.loc.gov/search/titles/results/?state=Indiana&page=11&format=json: 50"
       ]
      },
      {
       "output_type": "stream",
       "stream": "stdout",
       "text": [
        "\n",
        "http://chroniclingamerica.loc.gov/search/titles/results/?state=Indiana&page=12&format=json: 50"
       ]
      },
      {
       "output_type": "stream",
       "stream": "stdout",
       "text": [
        "\n",
        "http://chroniclingamerica.loc.gov/search/titles/results/?state=Indiana&page=13&format=json: 50"
       ]
      },
      {
       "output_type": "stream",
       "stream": "stdout",
       "text": [
        "\n",
        "http://chroniclingamerica.loc.gov/search/titles/results/?state=Indiana&page=14&format=json: 50"
       ]
      },
      {
       "output_type": "stream",
       "stream": "stdout",
       "text": [
        "\n",
        "http://chroniclingamerica.loc.gov/search/titles/results/?state=Indiana&page=15&format=json: 50"
       ]
      },
      {
       "output_type": "stream",
       "stream": "stdout",
       "text": [
        "\n",
        "http://chroniclingamerica.loc.gov/search/titles/results/?state=Indiana&page=16&format=json: 50"
       ]
      },
      {
       "output_type": "stream",
       "stream": "stdout",
       "text": [
        "\n",
        "http://chroniclingamerica.loc.gov/search/titles/results/?state=Indiana&page=17&format=json: 50"
       ]
      },
      {
       "output_type": "stream",
       "stream": "stdout",
       "text": [
        "\n",
        "http://chroniclingamerica.loc.gov/search/titles/results/?state=Indiana&page=18&format=json: 50"
       ]
      },
      {
       "output_type": "stream",
       "stream": "stdout",
       "text": [
        "\n",
        "http://chroniclingamerica.loc.gov/search/titles/results/?state=Indiana&page=19&format=json: 50"
       ]
      },
      {
       "output_type": "stream",
       "stream": "stdout",
       "text": [
        "\n",
        "http://chroniclingamerica.loc.gov/search/titles/results/?state=Indiana&page=20&format=json: 50"
       ]
      },
      {
       "output_type": "stream",
       "stream": "stdout",
       "text": [
        "\n",
        "http://chroniclingamerica.loc.gov/search/titles/results/?state=Indiana&page=21&format=json: 50"
       ]
      },
      {
       "output_type": "stream",
       "stream": "stdout",
       "text": [
        "\n",
        "http://chroniclingamerica.loc.gov/search/titles/results/?state=Indiana&page=22&format=json: 50"
       ]
      },
      {
       "output_type": "stream",
       "stream": "stdout",
       "text": [
        "\n",
        "http://chroniclingamerica.loc.gov/search/titles/results/?state=Indiana&page=23&format=json: 50"
       ]
      },
      {
       "output_type": "stream",
       "stream": "stdout",
       "text": [
        "\n",
        "http://chroniclingamerica.loc.gov/search/titles/results/?state=Indiana&page=24&format=json: 50"
       ]
      },
      {
       "output_type": "stream",
       "stream": "stdout",
       "text": [
        "\n",
        "http://chroniclingamerica.loc.gov/search/titles/results/?state=Indiana&page=25&format=json: 50"
       ]
      },
      {
       "output_type": "stream",
       "stream": "stdout",
       "text": [
        "\n",
        "http://chroniclingamerica.loc.gov/search/titles/results/?state=Indiana&page=26&format=json: 50"
       ]
      },
      {
       "output_type": "stream",
       "stream": "stdout",
       "text": [
        "\n",
        "http://chroniclingamerica.loc.gov/search/titles/results/?state=Indiana&page=27&format=json: 50"
       ]
      },
      {
       "output_type": "stream",
       "stream": "stdout",
       "text": [
        "\n",
        "http://chroniclingamerica.loc.gov/search/titles/results/?state=Indiana&page=28&format=json: 50"
       ]
      },
      {
       "output_type": "stream",
       "stream": "stdout",
       "text": [
        "\n",
        "http://chroniclingamerica.loc.gov/search/titles/results/?state=Indiana&page=29&format=json: 50"
       ]
      },
      {
       "output_type": "stream",
       "stream": "stdout",
       "text": [
        "\n",
        "http://chroniclingamerica.loc.gov/search/titles/results/?state=Indiana&page=30&format=json: 50"
       ]
      },
      {
       "output_type": "stream",
       "stream": "stdout",
       "text": [
        "\n",
        "http://chroniclingamerica.loc.gov/search/titles/results/?state=Indiana&page=31&format=json: 50"
       ]
      },
      {
       "output_type": "stream",
       "stream": "stdout",
       "text": [
        "\n",
        "http://chroniclingamerica.loc.gov/search/titles/results/?state=Indiana&page=32&format=json: 50"
       ]
      },
      {
       "output_type": "stream",
       "stream": "stdout",
       "text": [
        "\n",
        "http://chroniclingamerica.loc.gov/search/titles/results/?state=Indiana&page=33&format=json: 50"
       ]
      },
      {
       "output_type": "stream",
       "stream": "stdout",
       "text": [
        "\n",
        "http://chroniclingamerica.loc.gov/search/titles/results/?state=Indiana&page=34&format=json: 50"
       ]
      },
      {
       "output_type": "stream",
       "stream": "stdout",
       "text": [
        "\n",
        "http://chroniclingamerica.loc.gov/search/titles/results/?state=Indiana&page=35&format=json: 50"
       ]
      },
      {
       "output_type": "stream",
       "stream": "stdout",
       "text": [
        "\n",
        "http://chroniclingamerica.loc.gov/search/titles/results/?state=Indiana&page=36&format=json: 50"
       ]
      },
      {
       "output_type": "stream",
       "stream": "stdout",
       "text": [
        "\n",
        "http://chroniclingamerica.loc.gov/search/titles/results/?state=Indiana&page=37&format=json: 50"
       ]
      },
      {
       "output_type": "stream",
       "stream": "stdout",
       "text": [
        "\n",
        "http://chroniclingamerica.loc.gov/search/titles/results/?state=Indiana&page=38&format=json: 50"
       ]
      },
      {
       "output_type": "stream",
       "stream": "stdout",
       "text": [
        "\n",
        "http://chroniclingamerica.loc.gov/search/titles/results/?state=Indiana&page=39&format=json: 50"
       ]
      },
      {
       "output_type": "stream",
       "stream": "stdout",
       "text": [
        "\n",
        "http://chroniclingamerica.loc.gov/search/titles/results/?state=Indiana&page=40&format=json: 50"
       ]
      },
      {
       "output_type": "stream",
       "stream": "stdout",
       "text": [
        "\n",
        "http://chroniclingamerica.loc.gov/search/titles/results/?state=Indiana&page=41&format=json: 50"
       ]
      },
      {
       "output_type": "stream",
       "stream": "stdout",
       "text": [
        "\n",
        "http://chroniclingamerica.loc.gov/search/titles/results/?state=Indiana&page=42&format=json: 50"
       ]
      },
      {
       "output_type": "stream",
       "stream": "stdout",
       "text": [
        "\n",
        "http://chroniclingamerica.loc.gov/search/titles/results/?state=Indiana&page=43&format=json: 50"
       ]
      },
      {
       "output_type": "stream",
       "stream": "stdout",
       "text": [
        "\n",
        "http://chroniclingamerica.loc.gov/search/titles/results/?state=Indiana&page=44&format=json: 50"
       ]
      },
      {
       "output_type": "stream",
       "stream": "stdout",
       "text": [
        "\n",
        "http://chroniclingamerica.loc.gov/search/titles/results/?state=Indiana&page=45&format=json: 50"
       ]
      },
      {
       "output_type": "stream",
       "stream": "stdout",
       "text": [
        "\n",
        "http://chroniclingamerica.loc.gov/search/titles/results/?state=Indiana&page=46&format=json: 50"
       ]
      },
      {
       "output_type": "stream",
       "stream": "stdout",
       "text": [
        "\n",
        "http://chroniclingamerica.loc.gov/search/titles/results/?state=Indiana&page=47&format=json: 50"
       ]
      },
      {
       "output_type": "stream",
       "stream": "stdout",
       "text": [
        "\n",
        "http://chroniclingamerica.loc.gov/search/titles/results/?state=Indiana&page=48&format=json: 50"
       ]
      },
      {
       "output_type": "stream",
       "stream": "stdout",
       "text": [
        "\n",
        "http://chroniclingamerica.loc.gov/search/titles/results/?state=Indiana&page=49&format=json: 50"
       ]
      },
      {
       "output_type": "stream",
       "stream": "stdout",
       "text": [
        "\n",
        "http://chroniclingamerica.loc.gov/search/titles/results/?state=Indiana&page=50&format=json: 50"
       ]
      },
      {
       "output_type": "stream",
       "stream": "stdout",
       "text": [
        "\n",
        "http://chroniclingamerica.loc.gov/search/titles/results/?state=Indiana&page=51&format=json: 50"
       ]
      },
      {
       "output_type": "stream",
       "stream": "stdout",
       "text": [
        "\n",
        "http://chroniclingamerica.loc.gov/search/titles/results/?state=Indiana&page=52&format=json: 50"
       ]
      },
      {
       "output_type": "stream",
       "stream": "stdout",
       "text": [
        "\n",
        "http://chroniclingamerica.loc.gov/search/titles/results/?state=Indiana&page=53&format=json: 50"
       ]
      },
      {
       "output_type": "stream",
       "stream": "stdout",
       "text": [
        "\n",
        "http://chroniclingamerica.loc.gov/search/titles/results/?state=Indiana&page=54&format=json: 50"
       ]
      },
      {
       "output_type": "stream",
       "stream": "stdout",
       "text": [
        "\n",
        "http://chroniclingamerica.loc.gov/search/titles/results/?state=Indiana&page=55&format=json: 50"
       ]
      },
      {
       "output_type": "stream",
       "stream": "stdout",
       "text": [
        "\n",
        "http://chroniclingamerica.loc.gov/search/titles/results/?state=Indiana&page=56&format=json: 50"
       ]
      },
      {
       "output_type": "stream",
       "stream": "stdout",
       "text": [
        "\n",
        "http://chroniclingamerica.loc.gov/search/titles/results/?state=Indiana&page=57&format=json: 50"
       ]
      },
      {
       "output_type": "stream",
       "stream": "stdout",
       "text": [
        "\n",
        "http://chroniclingamerica.loc.gov/search/titles/results/?state=Indiana&page=58&format=json: 50"
       ]
      },
      {
       "output_type": "stream",
       "stream": "stdout",
       "text": [
        "\n",
        "http://chroniclingamerica.loc.gov/search/titles/results/?state=Indiana&page=59&format=json: 50"
       ]
      },
      {
       "output_type": "stream",
       "stream": "stdout",
       "text": [
        "\n",
        "http://chroniclingamerica.loc.gov/search/titles/results/?state=Indiana&page=60&format=json: 50"
       ]
      },
      {
       "output_type": "stream",
       "stream": "stdout",
       "text": [
        "\n",
        "http://chroniclingamerica.loc.gov/search/titles/results/?state=Indiana&page=61&format=json: 50"
       ]
      },
      {
       "output_type": "stream",
       "stream": "stdout",
       "text": [
        "\n",
        "http://chroniclingamerica.loc.gov/search/titles/results/?state=Indiana&page=62&format=json: 50"
       ]
      },
      {
       "output_type": "stream",
       "stream": "stdout",
       "text": [
        "\n",
        "http://chroniclingamerica.loc.gov/search/titles/results/?state=Indiana&page=63&format=json: 50"
       ]
      },
      {
       "output_type": "stream",
       "stream": "stdout",
       "text": [
        "\n",
        "http://chroniclingamerica.loc.gov/search/titles/results/?state=Indiana&page=64&format=json: 50"
       ]
      },
      {
       "output_type": "stream",
       "stream": "stdout",
       "text": [
        "\n",
        "http://chroniclingamerica.loc.gov/search/titles/results/?state=Indiana&page=65&format=json: 50"
       ]
      },
      {
       "output_type": "stream",
       "stream": "stdout",
       "text": [
        "\n",
        "http://chroniclingamerica.loc.gov/search/titles/results/?state=Indiana&page=66&format=json: 50"
       ]
      },
      {
       "output_type": "stream",
       "stream": "stdout",
       "text": [
        "\n",
        "http://chroniclingamerica.loc.gov/search/titles/results/?state=Indiana&page=67&format=json: 50"
       ]
      },
      {
       "output_type": "stream",
       "stream": "stdout",
       "text": [
        "\n",
        "http://chroniclingamerica.loc.gov/search/titles/results/?state=Indiana&page=68&format=json: 50"
       ]
      },
      {
       "output_type": "stream",
       "stream": "stdout",
       "text": [
        "\n",
        "http://chroniclingamerica.loc.gov/search/titles/results/?state=Indiana&page=69&format=json: 50"
       ]
      },
      {
       "output_type": "stream",
       "stream": "stdout",
       "text": [
        "\n",
        "http://chroniclingamerica.loc.gov/search/titles/results/?state=Indiana&page=70&format=json: 50"
       ]
      },
      {
       "output_type": "stream",
       "stream": "stdout",
       "text": [
        "\n",
        "http://chroniclingamerica.loc.gov/search/titles/results/?state=Indiana&page=71&format=json: 50"
       ]
      },
      {
       "output_type": "stream",
       "stream": "stdout",
       "text": [
        "\n",
        "http://chroniclingamerica.loc.gov/search/titles/results/?state=Indiana&page=72&format=json: 50"
       ]
      },
      {
       "output_type": "stream",
       "stream": "stdout",
       "text": [
        "\n",
        "http://chroniclingamerica.loc.gov/search/titles/results/?state=Indiana&page=73&format=json: 50"
       ]
      },
      {
       "output_type": "stream",
       "stream": "stdout",
       "text": [
        "\n",
        "http://chroniclingamerica.loc.gov/search/titles/results/?state=Indiana&page=74&format=json: 50"
       ]
      },
      {
       "output_type": "stream",
       "stream": "stdout",
       "text": [
        "\n",
        "http://chroniclingamerica.loc.gov/search/titles/results/?state=Indiana&page=75&format=json: 50"
       ]
      },
      {
       "output_type": "stream",
       "stream": "stdout",
       "text": [
        "\n",
        "http://chroniclingamerica.loc.gov/search/titles/results/?state=Indiana&page=76&format=json: 50"
       ]
      },
      {
       "output_type": "stream",
       "stream": "stdout",
       "text": [
        "\n",
        "http://chroniclingamerica.loc.gov/search/titles/results/?state=Indiana&page=77&format=json: 50"
       ]
      },
      {
       "output_type": "stream",
       "stream": "stdout",
       "text": [
        "\n",
        "http://chroniclingamerica.loc.gov/search/titles/results/?state=Indiana&page=78&format=json: 50"
       ]
      },
      {
       "output_type": "stream",
       "stream": "stdout",
       "text": [
        "\n",
        "http://chroniclingamerica.loc.gov/search/titles/results/?state=Indiana&page=79&format=json: 50"
       ]
      },
      {
       "output_type": "stream",
       "stream": "stdout",
       "text": [
        "\n",
        "http://chroniclingamerica.loc.gov/search/titles/results/?state=Indiana&page=80&format=json: 50"
       ]
      },
      {
       "output_type": "stream",
       "stream": "stdout",
       "text": [
        "\n",
        "http://chroniclingamerica.loc.gov/search/titles/results/?state=Indiana&page=81&format=json: 50"
       ]
      },
      {
       "output_type": "stream",
       "stream": "stdout",
       "text": [
        "\n",
        "http://chroniclingamerica.loc.gov/search/titles/results/?state=Indiana&page=82&format=json: 50"
       ]
      },
      {
       "output_type": "stream",
       "stream": "stdout",
       "text": [
        "\n",
        "http://chroniclingamerica.loc.gov/search/titles/results/?state=Indiana&page=83&format=json: 50"
       ]
      },
      {
       "output_type": "stream",
       "stream": "stdout",
       "text": [
        "\n",
        "http://chroniclingamerica.loc.gov/search/titles/results/?state=Indiana&page=84&format=json: 50"
       ]
      },
      {
       "output_type": "stream",
       "stream": "stdout",
       "text": [
        "\n",
        "http://chroniclingamerica.loc.gov/search/titles/results/?state=Indiana&page=85&format=json: 50"
       ]
      },
      {
       "output_type": "stream",
       "stream": "stdout",
       "text": [
        "\n",
        "http://chroniclingamerica.loc.gov/search/titles/results/?state=Indiana&page=86&format=json: 50"
       ]
      },
      {
       "output_type": "stream",
       "stream": "stdout",
       "text": [
        "\n",
        "http://chroniclingamerica.loc.gov/search/titles/results/?state=Indiana&page=87&format=json: 50"
       ]
      },
      {
       "output_type": "stream",
       "stream": "stdout",
       "text": [
        "\n",
        "http://chroniclingamerica.loc.gov/search/titles/results/?state=Indiana&page=88&format=json: 50"
       ]
      },
      {
       "output_type": "stream",
       "stream": "stdout",
       "text": [
        "\n",
        "http://chroniclingamerica.loc.gov/search/titles/results/?state=Indiana&page=89&format=json: 50"
       ]
      },
      {
       "output_type": "stream",
       "stream": "stdout",
       "text": [
        "\n",
        "http://chroniclingamerica.loc.gov/search/titles/results/?state=Indiana&page=90&format=json: 50"
       ]
      },
      {
       "output_type": "stream",
       "stream": "stdout",
       "text": [
        "\n",
        "http://chroniclingamerica.loc.gov/search/titles/results/?state=Indiana&page=91&format=json: 50"
       ]
      },
      {
       "output_type": "stream",
       "stream": "stdout",
       "text": [
        "\n",
        "http://chroniclingamerica.loc.gov/search/titles/results/?state=Indiana&page=92&format=json: 50"
       ]
      },
      {
       "output_type": "stream",
       "stream": "stdout",
       "text": [
        "\n",
        "http://chroniclingamerica.loc.gov/search/titles/results/?state=Indiana&page=93&format=json: 50"
       ]
      },
      {
       "output_type": "stream",
       "stream": "stdout",
       "text": [
        "\n",
        "http://chroniclingamerica.loc.gov/search/titles/results/?state=Indiana&page=94&format=json: 50"
       ]
      },
      {
       "output_type": "stream",
       "stream": "stdout",
       "text": [
        "\n",
        "http://chroniclingamerica.loc.gov/search/titles/results/?state=Indiana&page=95&format=json: 42"
       ]
      },
      {
       "output_type": "stream",
       "stream": "stdout",
       "text": [
        "\n",
        "Kansas\n",
        "\n",
        "{'state': 'Kansas', 'format': 'json'}\n",
        "6854"
       ]
      },
      {
       "output_type": "stream",
       "stream": "stdout",
       "text": [
        "\n",
        "http://chroniclingamerica.loc.gov/search/titles/results/?state=Kansas&page=2&format=json: 50"
       ]
      },
      {
       "output_type": "stream",
       "stream": "stdout",
       "text": [
        "\n",
        "http://chroniclingamerica.loc.gov/search/titles/results/?state=Kansas&page=3&format=json: 50"
       ]
      },
      {
       "output_type": "stream",
       "stream": "stdout",
       "text": [
        "\n",
        "http://chroniclingamerica.loc.gov/search/titles/results/?state=Kansas&page=4&format=json: 50"
       ]
      },
      {
       "output_type": "stream",
       "stream": "stdout",
       "text": [
        "\n",
        "http://chroniclingamerica.loc.gov/search/titles/results/?state=Kansas&page=5&format=json: 50"
       ]
      },
      {
       "output_type": "stream",
       "stream": "stdout",
       "text": [
        "\n",
        "http://chroniclingamerica.loc.gov/search/titles/results/?state=Kansas&page=6&format=json: 50"
       ]
      },
      {
       "output_type": "stream",
       "stream": "stdout",
       "text": [
        "\n",
        "http://chroniclingamerica.loc.gov/search/titles/results/?state=Kansas&page=7&format=json: 50"
       ]
      },
      {
       "output_type": "stream",
       "stream": "stdout",
       "text": [
        "\n",
        "http://chroniclingamerica.loc.gov/search/titles/results/?state=Kansas&page=8&format=json: 50"
       ]
      },
      {
       "output_type": "stream",
       "stream": "stdout",
       "text": [
        "\n",
        "http://chroniclingamerica.loc.gov/search/titles/results/?state=Kansas&page=9&format=json: 50"
       ]
      },
      {
       "output_type": "stream",
       "stream": "stdout",
       "text": [
        "\n",
        "http://chroniclingamerica.loc.gov/search/titles/results/?state=Kansas&page=10&format=json: 50"
       ]
      },
      {
       "output_type": "stream",
       "stream": "stdout",
       "text": [
        "\n",
        "http://chroniclingamerica.loc.gov/search/titles/results/?state=Kansas&page=11&format=json: 50"
       ]
      },
      {
       "output_type": "stream",
       "stream": "stdout",
       "text": [
        "\n",
        "http://chroniclingamerica.loc.gov/search/titles/results/?state=Kansas&page=12&format=json: 50"
       ]
      },
      {
       "output_type": "stream",
       "stream": "stdout",
       "text": [
        "\n",
        "http://chroniclingamerica.loc.gov/search/titles/results/?state=Kansas&page=13&format=json: 50"
       ]
      },
      {
       "output_type": "stream",
       "stream": "stdout",
       "text": [
        "\n",
        "http://chroniclingamerica.loc.gov/search/titles/results/?state=Kansas&page=14&format=json: 50"
       ]
      },
      {
       "output_type": "stream",
       "stream": "stdout",
       "text": [
        "\n",
        "http://chroniclingamerica.loc.gov/search/titles/results/?state=Kansas&page=15&format=json: 50"
       ]
      },
      {
       "output_type": "stream",
       "stream": "stdout",
       "text": [
        "\n",
        "http://chroniclingamerica.loc.gov/search/titles/results/?state=Kansas&page=16&format=json: 50"
       ]
      },
      {
       "output_type": "stream",
       "stream": "stdout",
       "text": [
        "\n",
        "http://chroniclingamerica.loc.gov/search/titles/results/?state=Kansas&page=17&format=json: 50"
       ]
      },
      {
       "output_type": "stream",
       "stream": "stdout",
       "text": [
        "\n",
        "http://chroniclingamerica.loc.gov/search/titles/results/?state=Kansas&page=18&format=json: 50"
       ]
      },
      {
       "output_type": "stream",
       "stream": "stdout",
       "text": [
        "\n",
        "http://chroniclingamerica.loc.gov/search/titles/results/?state=Kansas&page=19&format=json: 50"
       ]
      },
      {
       "output_type": "stream",
       "stream": "stdout",
       "text": [
        "\n",
        "http://chroniclingamerica.loc.gov/search/titles/results/?state=Kansas&page=20&format=json: 50"
       ]
      },
      {
       "output_type": "stream",
       "stream": "stdout",
       "text": [
        "\n",
        "http://chroniclingamerica.loc.gov/search/titles/results/?state=Kansas&page=21&format=json: 50"
       ]
      },
      {
       "output_type": "stream",
       "stream": "stdout",
       "text": [
        "\n",
        "http://chroniclingamerica.loc.gov/search/titles/results/?state=Kansas&page=22&format=json: 50"
       ]
      },
      {
       "output_type": "stream",
       "stream": "stdout",
       "text": [
        "\n",
        "http://chroniclingamerica.loc.gov/search/titles/results/?state=Kansas&page=23&format=json: 50"
       ]
      },
      {
       "output_type": "stream",
       "stream": "stdout",
       "text": [
        "\n",
        "http://chroniclingamerica.loc.gov/search/titles/results/?state=Kansas&page=24&format=json: 50"
       ]
      },
      {
       "output_type": "stream",
       "stream": "stdout",
       "text": [
        "\n",
        "http://chroniclingamerica.loc.gov/search/titles/results/?state=Kansas&page=25&format=json: 50"
       ]
      },
      {
       "output_type": "stream",
       "stream": "stdout",
       "text": [
        "\n",
        "http://chroniclingamerica.loc.gov/search/titles/results/?state=Kansas&page=26&format=json: 50"
       ]
      },
      {
       "output_type": "stream",
       "stream": "stdout",
       "text": [
        "\n",
        "http://chroniclingamerica.loc.gov/search/titles/results/?state=Kansas&page=27&format=json: 50"
       ]
      },
      {
       "output_type": "stream",
       "stream": "stdout",
       "text": [
        "\n",
        "http://chroniclingamerica.loc.gov/search/titles/results/?state=Kansas&page=28&format=json: 50"
       ]
      },
      {
       "output_type": "stream",
       "stream": "stdout",
       "text": [
        "\n",
        "http://chroniclingamerica.loc.gov/search/titles/results/?state=Kansas&page=29&format=json: 50"
       ]
      },
      {
       "output_type": "stream",
       "stream": "stdout",
       "text": [
        "\n",
        "http://chroniclingamerica.loc.gov/search/titles/results/?state=Kansas&page=30&format=json: 50"
       ]
      },
      {
       "output_type": "stream",
       "stream": "stdout",
       "text": [
        "\n",
        "http://chroniclingamerica.loc.gov/search/titles/results/?state=Kansas&page=31&format=json: 50"
       ]
      },
      {
       "output_type": "stream",
       "stream": "stdout",
       "text": [
        "\n",
        "http://chroniclingamerica.loc.gov/search/titles/results/?state=Kansas&page=32&format=json: 50"
       ]
      },
      {
       "output_type": "stream",
       "stream": "stdout",
       "text": [
        "\n",
        "http://chroniclingamerica.loc.gov/search/titles/results/?state=Kansas&page=33&format=json: 50"
       ]
      },
      {
       "output_type": "stream",
       "stream": "stdout",
       "text": [
        "\n",
        "http://chroniclingamerica.loc.gov/search/titles/results/?state=Kansas&page=34&format=json: 50"
       ]
      },
      {
       "output_type": "stream",
       "stream": "stdout",
       "text": [
        "\n",
        "http://chroniclingamerica.loc.gov/search/titles/results/?state=Kansas&page=35&format=json: 50"
       ]
      },
      {
       "output_type": "stream",
       "stream": "stdout",
       "text": [
        "\n",
        "http://chroniclingamerica.loc.gov/search/titles/results/?state=Kansas&page=36&format=json: 50"
       ]
      },
      {
       "output_type": "stream",
       "stream": "stdout",
       "text": [
        "\n",
        "http://chroniclingamerica.loc.gov/search/titles/results/?state=Kansas&page=37&format=json: 50"
       ]
      },
      {
       "output_type": "stream",
       "stream": "stdout",
       "text": [
        "\n",
        "http://chroniclingamerica.loc.gov/search/titles/results/?state=Kansas&page=38&format=json: 50"
       ]
      },
      {
       "output_type": "stream",
       "stream": "stdout",
       "text": [
        "\n",
        "http://chroniclingamerica.loc.gov/search/titles/results/?state=Kansas&page=39&format=json: 50"
       ]
      },
      {
       "output_type": "stream",
       "stream": "stdout",
       "text": [
        "\n",
        "http://chroniclingamerica.loc.gov/search/titles/results/?state=Kansas&page=40&format=json: 50"
       ]
      },
      {
       "output_type": "stream",
       "stream": "stdout",
       "text": [
        "\n",
        "http://chroniclingamerica.loc.gov/search/titles/results/?state=Kansas&page=41&format=json: 50"
       ]
      },
      {
       "output_type": "stream",
       "stream": "stdout",
       "text": [
        "\n",
        "http://chroniclingamerica.loc.gov/search/titles/results/?state=Kansas&page=42&format=json: 50"
       ]
      },
      {
       "output_type": "stream",
       "stream": "stdout",
       "text": [
        "\n",
        "http://chroniclingamerica.loc.gov/search/titles/results/?state=Kansas&page=43&format=json: 50"
       ]
      },
      {
       "output_type": "stream",
       "stream": "stdout",
       "text": [
        "\n",
        "http://chroniclingamerica.loc.gov/search/titles/results/?state=Kansas&page=44&format=json: 50"
       ]
      },
      {
       "output_type": "stream",
       "stream": "stdout",
       "text": [
        "\n",
        "http://chroniclingamerica.loc.gov/search/titles/results/?state=Kansas&page=45&format=json: 50"
       ]
      },
      {
       "output_type": "stream",
       "stream": "stdout",
       "text": [
        "\n",
        "http://chroniclingamerica.loc.gov/search/titles/results/?state=Kansas&page=46&format=json: 50"
       ]
      },
      {
       "output_type": "stream",
       "stream": "stdout",
       "text": [
        "\n",
        "http://chroniclingamerica.loc.gov/search/titles/results/?state=Kansas&page=47&format=json: 50"
       ]
      },
      {
       "output_type": "stream",
       "stream": "stdout",
       "text": [
        "\n",
        "http://chroniclingamerica.loc.gov/search/titles/results/?state=Kansas&page=48&format=json: 50"
       ]
      },
      {
       "output_type": "stream",
       "stream": "stdout",
       "text": [
        "\n",
        "http://chroniclingamerica.loc.gov/search/titles/results/?state=Kansas&page=49&format=json: 50"
       ]
      },
      {
       "output_type": "stream",
       "stream": "stdout",
       "text": [
        "\n",
        "http://chroniclingamerica.loc.gov/search/titles/results/?state=Kansas&page=50&format=json: 50"
       ]
      },
      {
       "output_type": "stream",
       "stream": "stdout",
       "text": [
        "\n",
        "http://chroniclingamerica.loc.gov/search/titles/results/?state=Kansas&page=51&format=json: 50"
       ]
      },
      {
       "output_type": "stream",
       "stream": "stdout",
       "text": [
        "\n",
        "http://chroniclingamerica.loc.gov/search/titles/results/?state=Kansas&page=52&format=json: 50"
       ]
      },
      {
       "output_type": "stream",
       "stream": "stdout",
       "text": [
        "\n",
        "http://chroniclingamerica.loc.gov/search/titles/results/?state=Kansas&page=53&format=json: 50"
       ]
      },
      {
       "output_type": "stream",
       "stream": "stdout",
       "text": [
        "\n",
        "http://chroniclingamerica.loc.gov/search/titles/results/?state=Kansas&page=54&format=json: 50"
       ]
      },
      {
       "output_type": "stream",
       "stream": "stdout",
       "text": [
        "\n",
        "http://chroniclingamerica.loc.gov/search/titles/results/?state=Kansas&page=55&format=json: 50"
       ]
      },
      {
       "output_type": "stream",
       "stream": "stdout",
       "text": [
        "\n",
        "http://chroniclingamerica.loc.gov/search/titles/results/?state=Kansas&page=56&format=json: 50"
       ]
      },
      {
       "output_type": "stream",
       "stream": "stdout",
       "text": [
        "\n",
        "http://chroniclingamerica.loc.gov/search/titles/results/?state=Kansas&page=57&format=json: 50"
       ]
      },
      {
       "output_type": "stream",
       "stream": "stdout",
       "text": [
        "\n",
        "http://chroniclingamerica.loc.gov/search/titles/results/?state=Kansas&page=58&format=json: 50"
       ]
      },
      {
       "output_type": "stream",
       "stream": "stdout",
       "text": [
        "\n",
        "http://chroniclingamerica.loc.gov/search/titles/results/?state=Kansas&page=59&format=json: 50"
       ]
      },
      {
       "output_type": "stream",
       "stream": "stdout",
       "text": [
        "\n",
        "http://chroniclingamerica.loc.gov/search/titles/results/?state=Kansas&page=60&format=json: 50"
       ]
      },
      {
       "output_type": "stream",
       "stream": "stdout",
       "text": [
        "\n",
        "http://chroniclingamerica.loc.gov/search/titles/results/?state=Kansas&page=61&format=json: 50"
       ]
      },
      {
       "output_type": "stream",
       "stream": "stdout",
       "text": [
        "\n",
        "http://chroniclingamerica.loc.gov/search/titles/results/?state=Kansas&page=62&format=json: 50"
       ]
      },
      {
       "output_type": "stream",
       "stream": "stdout",
       "text": [
        "\n",
        "http://chroniclingamerica.loc.gov/search/titles/results/?state=Kansas&page=63&format=json: 50"
       ]
      },
      {
       "output_type": "stream",
       "stream": "stdout",
       "text": [
        "\n",
        "http://chroniclingamerica.loc.gov/search/titles/results/?state=Kansas&page=64&format=json: 50"
       ]
      },
      {
       "output_type": "stream",
       "stream": "stdout",
       "text": [
        "\n",
        "http://chroniclingamerica.loc.gov/search/titles/results/?state=Kansas&page=65&format=json: 50"
       ]
      },
      {
       "output_type": "stream",
       "stream": "stdout",
       "text": [
        "\n",
        "http://chroniclingamerica.loc.gov/search/titles/results/?state=Kansas&page=66&format=json: 50"
       ]
      },
      {
       "output_type": "stream",
       "stream": "stdout",
       "text": [
        "\n",
        "http://chroniclingamerica.loc.gov/search/titles/results/?state=Kansas&page=67&format=json: 50"
       ]
      },
      {
       "output_type": "stream",
       "stream": "stdout",
       "text": [
        "\n",
        "http://chroniclingamerica.loc.gov/search/titles/results/?state=Kansas&page=68&format=json: 50"
       ]
      },
      {
       "output_type": "stream",
       "stream": "stdout",
       "text": [
        "\n",
        "http://chroniclingamerica.loc.gov/search/titles/results/?state=Kansas&page=69&format=json: 50"
       ]
      },
      {
       "output_type": "stream",
       "stream": "stdout",
       "text": [
        "\n",
        "http://chroniclingamerica.loc.gov/search/titles/results/?state=Kansas&page=70&format=json: 50"
       ]
      },
      {
       "output_type": "stream",
       "stream": "stdout",
       "text": [
        "\n",
        "http://chroniclingamerica.loc.gov/search/titles/results/?state=Kansas&page=71&format=json: 50"
       ]
      },
      {
       "output_type": "stream",
       "stream": "stdout",
       "text": [
        "\n",
        "http://chroniclingamerica.loc.gov/search/titles/results/?state=Kansas&page=72&format=json: 50"
       ]
      },
      {
       "output_type": "stream",
       "stream": "stdout",
       "text": [
        "\n",
        "http://chroniclingamerica.loc.gov/search/titles/results/?state=Kansas&page=73&format=json: 50"
       ]
      },
      {
       "output_type": "stream",
       "stream": "stdout",
       "text": [
        "\n",
        "http://chroniclingamerica.loc.gov/search/titles/results/?state=Kansas&page=74&format=json: 50"
       ]
      },
      {
       "output_type": "stream",
       "stream": "stdout",
       "text": [
        "\n",
        "http://chroniclingamerica.loc.gov/search/titles/results/?state=Kansas&page=75&format=json: 50"
       ]
      },
      {
       "output_type": "stream",
       "stream": "stdout",
       "text": [
        "\n",
        "http://chroniclingamerica.loc.gov/search/titles/results/?state=Kansas&page=76&format=json: 50"
       ]
      },
      {
       "output_type": "stream",
       "stream": "stdout",
       "text": [
        "\n",
        "http://chroniclingamerica.loc.gov/search/titles/results/?state=Kansas&page=77&format=json: 50"
       ]
      },
      {
       "output_type": "stream",
       "stream": "stdout",
       "text": [
        "\n",
        "http://chroniclingamerica.loc.gov/search/titles/results/?state=Kansas&page=78&format=json: 50"
       ]
      },
      {
       "output_type": "stream",
       "stream": "stdout",
       "text": [
        "\n",
        "http://chroniclingamerica.loc.gov/search/titles/results/?state=Kansas&page=79&format=json: 50"
       ]
      },
      {
       "output_type": "stream",
       "stream": "stdout",
       "text": [
        "\n",
        "http://chroniclingamerica.loc.gov/search/titles/results/?state=Kansas&page=80&format=json: 50"
       ]
      },
      {
       "output_type": "stream",
       "stream": "stdout",
       "text": [
        "\n",
        "http://chroniclingamerica.loc.gov/search/titles/results/?state=Kansas&page=81&format=json: 50"
       ]
      },
      {
       "output_type": "stream",
       "stream": "stdout",
       "text": [
        "\n",
        "http://chroniclingamerica.loc.gov/search/titles/results/?state=Kansas&page=82&format=json: 50"
       ]
      },
      {
       "output_type": "stream",
       "stream": "stdout",
       "text": [
        "\n",
        "http://chroniclingamerica.loc.gov/search/titles/results/?state=Kansas&page=83&format=json: 50"
       ]
      },
      {
       "output_type": "stream",
       "stream": "stdout",
       "text": [
        "\n",
        "http://chroniclingamerica.loc.gov/search/titles/results/?state=Kansas&page=84&format=json: 50"
       ]
      },
      {
       "output_type": "stream",
       "stream": "stdout",
       "text": [
        "\n",
        "http://chroniclingamerica.loc.gov/search/titles/results/?state=Kansas&page=85&format=json: 50"
       ]
      },
      {
       "output_type": "stream",
       "stream": "stdout",
       "text": [
        "\n",
        "http://chroniclingamerica.loc.gov/search/titles/results/?state=Kansas&page=86&format=json: 50"
       ]
      },
      {
       "output_type": "stream",
       "stream": "stdout",
       "text": [
        "\n",
        "http://chroniclingamerica.loc.gov/search/titles/results/?state=Kansas&page=87&format=json: 50"
       ]
      },
      {
       "output_type": "stream",
       "stream": "stdout",
       "text": [
        "\n",
        "http://chroniclingamerica.loc.gov/search/titles/results/?state=Kansas&page=88&format=json: 50"
       ]
      },
      {
       "output_type": "stream",
       "stream": "stdout",
       "text": [
        "\n",
        "http://chroniclingamerica.loc.gov/search/titles/results/?state=Kansas&page=89&format=json: 50"
       ]
      },
      {
       "output_type": "stream",
       "stream": "stdout",
       "text": [
        "\n",
        "http://chroniclingamerica.loc.gov/search/titles/results/?state=Kansas&page=90&format=json: 50"
       ]
      },
      {
       "output_type": "stream",
       "stream": "stdout",
       "text": [
        "\n",
        "http://chroniclingamerica.loc.gov/search/titles/results/?state=Kansas&page=91&format=json: 50"
       ]
      },
      {
       "output_type": "stream",
       "stream": "stdout",
       "text": [
        "\n",
        "http://chroniclingamerica.loc.gov/search/titles/results/?state=Kansas&page=92&format=json: 50"
       ]
      },
      {
       "output_type": "stream",
       "stream": "stdout",
       "text": [
        "\n",
        "http://chroniclingamerica.loc.gov/search/titles/results/?state=Kansas&page=93&format=json: 50"
       ]
      },
      {
       "output_type": "stream",
       "stream": "stdout",
       "text": [
        "\n",
        "http://chroniclingamerica.loc.gov/search/titles/results/?state=Kansas&page=94&format=json: 50"
       ]
      },
      {
       "output_type": "stream",
       "stream": "stdout",
       "text": [
        "\n",
        "http://chroniclingamerica.loc.gov/search/titles/results/?state=Kansas&page=95&format=json: 50"
       ]
      },
      {
       "output_type": "stream",
       "stream": "stdout",
       "text": [
        "\n",
        "http://chroniclingamerica.loc.gov/search/titles/results/?state=Kansas&page=96&format=json: 50"
       ]
      },
      {
       "output_type": "stream",
       "stream": "stdout",
       "text": [
        "\n",
        "http://chroniclingamerica.loc.gov/search/titles/results/?state=Kansas&page=97&format=json: 50"
       ]
      },
      {
       "output_type": "stream",
       "stream": "stdout",
       "text": [
        "\n",
        "http://chroniclingamerica.loc.gov/search/titles/results/?state=Kansas&page=98&format=json: 50"
       ]
      },
      {
       "output_type": "stream",
       "stream": "stdout",
       "text": [
        "\n",
        "http://chroniclingamerica.loc.gov/search/titles/results/?state=Kansas&page=99&format=json: 50"
       ]
      },
      {
       "output_type": "stream",
       "stream": "stdout",
       "text": [
        "\n",
        "http://chroniclingamerica.loc.gov/search/titles/results/?state=Kansas&page=100&format=json: 50"
       ]
      },
      {
       "output_type": "stream",
       "stream": "stdout",
       "text": [
        "\n",
        "http://chroniclingamerica.loc.gov/search/titles/results/?state=Kansas&page=101&format=json: 50"
       ]
      },
      {
       "output_type": "stream",
       "stream": "stdout",
       "text": [
        "\n",
        "http://chroniclingamerica.loc.gov/search/titles/results/?state=Kansas&page=102&format=json: 50"
       ]
      },
      {
       "output_type": "stream",
       "stream": "stdout",
       "text": [
        "\n",
        "http://chroniclingamerica.loc.gov/search/titles/results/?state=Kansas&page=103&format=json: 50"
       ]
      },
      {
       "output_type": "stream",
       "stream": "stdout",
       "text": [
        "\n",
        "http://chroniclingamerica.loc.gov/search/titles/results/?state=Kansas&page=104&format=json: 50"
       ]
      },
      {
       "output_type": "stream",
       "stream": "stdout",
       "text": [
        "\n",
        "http://chroniclingamerica.loc.gov/search/titles/results/?state=Kansas&page=105&format=json: 50"
       ]
      },
      {
       "output_type": "stream",
       "stream": "stdout",
       "text": [
        "\n",
        "http://chroniclingamerica.loc.gov/search/titles/results/?state=Kansas&page=106&format=json: 50"
       ]
      },
      {
       "output_type": "stream",
       "stream": "stdout",
       "text": [
        "\n",
        "http://chroniclingamerica.loc.gov/search/titles/results/?state=Kansas&page=107&format=json: 50"
       ]
      },
      {
       "output_type": "stream",
       "stream": "stdout",
       "text": [
        "\n",
        "http://chroniclingamerica.loc.gov/search/titles/results/?state=Kansas&page=108&format=json: 50"
       ]
      },
      {
       "output_type": "stream",
       "stream": "stdout",
       "text": [
        "\n",
        "http://chroniclingamerica.loc.gov/search/titles/results/?state=Kansas&page=109&format=json: 50"
       ]
      },
      {
       "output_type": "stream",
       "stream": "stdout",
       "text": [
        "\n",
        "http://chroniclingamerica.loc.gov/search/titles/results/?state=Kansas&page=110&format=json: 50"
       ]
      },
      {
       "output_type": "stream",
       "stream": "stdout",
       "text": [
        "\n",
        "http://chroniclingamerica.loc.gov/search/titles/results/?state=Kansas&page=111&format=json: 50"
       ]
      },
      {
       "output_type": "stream",
       "stream": "stdout",
       "text": [
        "\n",
        "http://chroniclingamerica.loc.gov/search/titles/results/?state=Kansas&page=112&format=json: 50"
       ]
      },
      {
       "output_type": "stream",
       "stream": "stdout",
       "text": [
        "\n",
        "http://chroniclingamerica.loc.gov/search/titles/results/?state=Kansas&page=113&format=json: 50"
       ]
      },
      {
       "output_type": "stream",
       "stream": "stdout",
       "text": [
        "\n",
        "http://chroniclingamerica.loc.gov/search/titles/results/?state=Kansas&page=114&format=json: 50"
       ]
      },
      {
       "output_type": "stream",
       "stream": "stdout",
       "text": [
        "\n",
        "http://chroniclingamerica.loc.gov/search/titles/results/?state=Kansas&page=115&format=json: 50"
       ]
      },
      {
       "output_type": "stream",
       "stream": "stdout",
       "text": [
        "\n",
        "http://chroniclingamerica.loc.gov/search/titles/results/?state=Kansas&page=116&format=json: 50"
       ]
      },
      {
       "output_type": "stream",
       "stream": "stdout",
       "text": [
        "\n",
        "http://chroniclingamerica.loc.gov/search/titles/results/?state=Kansas&page=117&format=json: 50"
       ]
      },
      {
       "output_type": "stream",
       "stream": "stdout",
       "text": [
        "\n",
        "http://chroniclingamerica.loc.gov/search/titles/results/?state=Kansas&page=118&format=json: 50"
       ]
      },
      {
       "output_type": "stream",
       "stream": "stdout",
       "text": [
        "\n",
        "http://chroniclingamerica.loc.gov/search/titles/results/?state=Kansas&page=119&format=json: 50"
       ]
      },
      {
       "output_type": "stream",
       "stream": "stdout",
       "text": [
        "\n",
        "http://chroniclingamerica.loc.gov/search/titles/results/?state=Kansas&page=120&format=json: 50"
       ]
      },
      {
       "output_type": "stream",
       "stream": "stdout",
       "text": [
        "\n",
        "http://chroniclingamerica.loc.gov/search/titles/results/?state=Kansas&page=121&format=json: 50"
       ]
      },
      {
       "output_type": "stream",
       "stream": "stdout",
       "text": [
        "\n",
        "http://chroniclingamerica.loc.gov/search/titles/results/?state=Kansas&page=122&format=json: 50"
       ]
      },
      {
       "output_type": "stream",
       "stream": "stdout",
       "text": [
        "\n",
        "http://chroniclingamerica.loc.gov/search/titles/results/?state=Kansas&page=123&format=json: 50"
       ]
      },
      {
       "output_type": "stream",
       "stream": "stdout",
       "text": [
        "\n",
        "http://chroniclingamerica.loc.gov/search/titles/results/?state=Kansas&page=124&format=json: 50"
       ]
      },
      {
       "output_type": "stream",
       "stream": "stdout",
       "text": [
        "\n",
        "http://chroniclingamerica.loc.gov/search/titles/results/?state=Kansas&page=125&format=json: 50"
       ]
      },
      {
       "output_type": "stream",
       "stream": "stdout",
       "text": [
        "\n",
        "http://chroniclingamerica.loc.gov/search/titles/results/?state=Kansas&page=126&format=json: 50"
       ]
      },
      {
       "output_type": "stream",
       "stream": "stdout",
       "text": [
        "\n",
        "http://chroniclingamerica.loc.gov/search/titles/results/?state=Kansas&page=127&format=json: 50"
       ]
      },
      {
       "output_type": "stream",
       "stream": "stdout",
       "text": [
        "\n",
        "http://chroniclingamerica.loc.gov/search/titles/results/?state=Kansas&page=128&format=json: 50"
       ]
      },
      {
       "output_type": "stream",
       "stream": "stdout",
       "text": [
        "\n",
        "http://chroniclingamerica.loc.gov/search/titles/results/?state=Kansas&page=129&format=json: 50"
       ]
      },
      {
       "output_type": "stream",
       "stream": "stdout",
       "text": [
        "\n",
        "http://chroniclingamerica.loc.gov/search/titles/results/?state=Kansas&page=130&format=json: 50"
       ]
      },
      {
       "output_type": "stream",
       "stream": "stdout",
       "text": [
        "\n",
        "http://chroniclingamerica.loc.gov/search/titles/results/?state=Kansas&page=131&format=json: 50"
       ]
      },
      {
       "output_type": "stream",
       "stream": "stdout",
       "text": [
        "\n",
        "http://chroniclingamerica.loc.gov/search/titles/results/?state=Kansas&page=132&format=json: 50"
       ]
      },
      {
       "output_type": "stream",
       "stream": "stdout",
       "text": [
        "\n",
        "http://chroniclingamerica.loc.gov/search/titles/results/?state=Kansas&page=133&format=json: 50"
       ]
      },
      {
       "output_type": "stream",
       "stream": "stdout",
       "text": [
        "\n",
        "http://chroniclingamerica.loc.gov/search/titles/results/?state=Kansas&page=134&format=json: 50"
       ]
      },
      {
       "output_type": "stream",
       "stream": "stdout",
       "text": [
        "\n",
        "http://chroniclingamerica.loc.gov/search/titles/results/?state=Kansas&page=135&format=json: 50"
       ]
      },
      {
       "output_type": "stream",
       "stream": "stdout",
       "text": [
        "\n",
        "http://chroniclingamerica.loc.gov/search/titles/results/?state=Kansas&page=136&format=json: 50"
       ]
      },
      {
       "output_type": "stream",
       "stream": "stdout",
       "text": [
        "\n",
        "http://chroniclingamerica.loc.gov/search/titles/results/?state=Kansas&page=137&format=json: 50"
       ]
      },
      {
       "output_type": "stream",
       "stream": "stdout",
       "text": [
        "\n",
        "http://chroniclingamerica.loc.gov/search/titles/results/?state=Kansas&page=138&format=json: 4"
       ]
      },
      {
       "output_type": "stream",
       "stream": "stdout",
       "text": [
        "\n",
        "Kentucky\n",
        "\n",
        "{'state': 'Kentucky', 'format': 'json'}\n",
        "2120"
       ]
      },
      {
       "output_type": "stream",
       "stream": "stdout",
       "text": [
        "\n",
        "http://chroniclingamerica.loc.gov/search/titles/results/?state=Kentucky&page=2&format=json: 50"
       ]
      },
      {
       "output_type": "stream",
       "stream": "stdout",
       "text": [
        "\n",
        "http://chroniclingamerica.loc.gov/search/titles/results/?state=Kentucky&page=3&format=json: 50"
       ]
      },
      {
       "output_type": "stream",
       "stream": "stdout",
       "text": [
        "\n",
        "http://chroniclingamerica.loc.gov/search/titles/results/?state=Kentucky&page=4&format=json: 50"
       ]
      },
      {
       "output_type": "stream",
       "stream": "stdout",
       "text": [
        "\n",
        "http://chroniclingamerica.loc.gov/search/titles/results/?state=Kentucky&page=5&format=json: 50"
       ]
      },
      {
       "output_type": "stream",
       "stream": "stdout",
       "text": [
        "\n",
        "http://chroniclingamerica.loc.gov/search/titles/results/?state=Kentucky&page=6&format=json: 50"
       ]
      },
      {
       "output_type": "stream",
       "stream": "stdout",
       "text": [
        "\n",
        "http://chroniclingamerica.loc.gov/search/titles/results/?state=Kentucky&page=7&format=json: 50"
       ]
      },
      {
       "output_type": "stream",
       "stream": "stdout",
       "text": [
        "\n",
        "http://chroniclingamerica.loc.gov/search/titles/results/?state=Kentucky&page=8&format=json: 50"
       ]
      },
      {
       "output_type": "stream",
       "stream": "stdout",
       "text": [
        "\n",
        "http://chroniclingamerica.loc.gov/search/titles/results/?state=Kentucky&page=9&format=json: 50"
       ]
      },
      {
       "output_type": "stream",
       "stream": "stdout",
       "text": [
        "\n",
        "http://chroniclingamerica.loc.gov/search/titles/results/?state=Kentucky&page=10&format=json: 50"
       ]
      },
      {
       "output_type": "stream",
       "stream": "stdout",
       "text": [
        "\n",
        "http://chroniclingamerica.loc.gov/search/titles/results/?state=Kentucky&page=11&format=json: 50"
       ]
      },
      {
       "output_type": "stream",
       "stream": "stdout",
       "text": [
        "\n",
        "http://chroniclingamerica.loc.gov/search/titles/results/?state=Kentucky&page=12&format=json: 50"
       ]
      },
      {
       "output_type": "stream",
       "stream": "stdout",
       "text": [
        "\n",
        "http://chroniclingamerica.loc.gov/search/titles/results/?state=Kentucky&page=13&format=json: 50"
       ]
      },
      {
       "output_type": "stream",
       "stream": "stdout",
       "text": [
        "\n",
        "http://chroniclingamerica.loc.gov/search/titles/results/?state=Kentucky&page=14&format=json: 50"
       ]
      },
      {
       "output_type": "stream",
       "stream": "stdout",
       "text": [
        "\n",
        "http://chroniclingamerica.loc.gov/search/titles/results/?state=Kentucky&page=15&format=json: 50"
       ]
      },
      {
       "output_type": "stream",
       "stream": "stdout",
       "text": [
        "\n",
        "http://chroniclingamerica.loc.gov/search/titles/results/?state=Kentucky&page=16&format=json: 50"
       ]
      },
      {
       "output_type": "stream",
       "stream": "stdout",
       "text": [
        "\n",
        "http://chroniclingamerica.loc.gov/search/titles/results/?state=Kentucky&page=17&format=json: 50"
       ]
      },
      {
       "output_type": "stream",
       "stream": "stdout",
       "text": [
        "\n",
        "http://chroniclingamerica.loc.gov/search/titles/results/?state=Kentucky&page=18&format=json: 50"
       ]
      },
      {
       "output_type": "stream",
       "stream": "stdout",
       "text": [
        "\n",
        "http://chroniclingamerica.loc.gov/search/titles/results/?state=Kentucky&page=19&format=json: 50"
       ]
      },
      {
       "output_type": "stream",
       "stream": "stdout",
       "text": [
        "\n",
        "http://chroniclingamerica.loc.gov/search/titles/results/?state=Kentucky&page=20&format=json: 50"
       ]
      },
      {
       "output_type": "stream",
       "stream": "stdout",
       "text": [
        "\n",
        "http://chroniclingamerica.loc.gov/search/titles/results/?state=Kentucky&page=21&format=json: 50"
       ]
      },
      {
       "output_type": "stream",
       "stream": "stdout",
       "text": [
        "\n",
        "http://chroniclingamerica.loc.gov/search/titles/results/?state=Kentucky&page=22&format=json: 50"
       ]
      },
      {
       "output_type": "stream",
       "stream": "stdout",
       "text": [
        "\n",
        "http://chroniclingamerica.loc.gov/search/titles/results/?state=Kentucky&page=23&format=json: 50"
       ]
      },
      {
       "output_type": "stream",
       "stream": "stdout",
       "text": [
        "\n",
        "http://chroniclingamerica.loc.gov/search/titles/results/?state=Kentucky&page=24&format=json: 50"
       ]
      },
      {
       "output_type": "stream",
       "stream": "stdout",
       "text": [
        "\n",
        "http://chroniclingamerica.loc.gov/search/titles/results/?state=Kentucky&page=25&format=json: 50"
       ]
      },
      {
       "output_type": "stream",
       "stream": "stdout",
       "text": [
        "\n",
        "http://chroniclingamerica.loc.gov/search/titles/results/?state=Kentucky&page=26&format=json: 50"
       ]
      },
      {
       "output_type": "stream",
       "stream": "stdout",
       "text": [
        "\n",
        "http://chroniclingamerica.loc.gov/search/titles/results/?state=Kentucky&page=27&format=json: 50"
       ]
      },
      {
       "output_type": "stream",
       "stream": "stdout",
       "text": [
        "\n",
        "http://chroniclingamerica.loc.gov/search/titles/results/?state=Kentucky&page=28&format=json: 50"
       ]
      },
      {
       "output_type": "stream",
       "stream": "stdout",
       "text": [
        "\n",
        "http://chroniclingamerica.loc.gov/search/titles/results/?state=Kentucky&page=29&format=json: 50"
       ]
      },
      {
       "output_type": "stream",
       "stream": "stdout",
       "text": [
        "\n",
        "http://chroniclingamerica.loc.gov/search/titles/results/?state=Kentucky&page=30&format=json: 50"
       ]
      },
      {
       "output_type": "stream",
       "stream": "stdout",
       "text": [
        "\n",
        "http://chroniclingamerica.loc.gov/search/titles/results/?state=Kentucky&page=31&format=json: 50"
       ]
      },
      {
       "output_type": "stream",
       "stream": "stdout",
       "text": [
        "\n",
        "http://chroniclingamerica.loc.gov/search/titles/results/?state=Kentucky&page=32&format=json: 50"
       ]
      },
      {
       "output_type": "stream",
       "stream": "stdout",
       "text": [
        "\n",
        "http://chroniclingamerica.loc.gov/search/titles/results/?state=Kentucky&page=33&format=json: 50"
       ]
      },
      {
       "output_type": "stream",
       "stream": "stdout",
       "text": [
        "\n",
        "http://chroniclingamerica.loc.gov/search/titles/results/?state=Kentucky&page=34&format=json: 50"
       ]
      },
      {
       "output_type": "stream",
       "stream": "stdout",
       "text": [
        "\n",
        "http://chroniclingamerica.loc.gov/search/titles/results/?state=Kentucky&page=35&format=json: 50"
       ]
      },
      {
       "output_type": "stream",
       "stream": "stdout",
       "text": [
        "\n",
        "http://chroniclingamerica.loc.gov/search/titles/results/?state=Kentucky&page=36&format=json: 50"
       ]
      },
      {
       "output_type": "stream",
       "stream": "stdout",
       "text": [
        "\n",
        "http://chroniclingamerica.loc.gov/search/titles/results/?state=Kentucky&page=37&format=json: 50"
       ]
      },
      {
       "output_type": "stream",
       "stream": "stdout",
       "text": [
        "\n",
        "http://chroniclingamerica.loc.gov/search/titles/results/?state=Kentucky&page=38&format=json: 50"
       ]
      },
      {
       "output_type": "stream",
       "stream": "stdout",
       "text": [
        "\n",
        "http://chroniclingamerica.loc.gov/search/titles/results/?state=Kentucky&page=39&format=json: 50"
       ]
      },
      {
       "output_type": "stream",
       "stream": "stdout",
       "text": [
        "\n",
        "http://chroniclingamerica.loc.gov/search/titles/results/?state=Kentucky&page=40&format=json: 50"
       ]
      },
      {
       "output_type": "stream",
       "stream": "stdout",
       "text": [
        "\n",
        "http://chroniclingamerica.loc.gov/search/titles/results/?state=Kentucky&page=41&format=json: 50"
       ]
      },
      {
       "output_type": "stream",
       "stream": "stdout",
       "text": [
        "\n",
        "http://chroniclingamerica.loc.gov/search/titles/results/?state=Kentucky&page=42&format=json: 50"
       ]
      },
      {
       "output_type": "stream",
       "stream": "stdout",
       "text": [
        "\n",
        "http://chroniclingamerica.loc.gov/search/titles/results/?state=Kentucky&page=43&format=json: 20"
       ]
      },
      {
       "output_type": "stream",
       "stream": "stdout",
       "text": [
        "\n",
        "Louisiana\n",
        "\n",
        "{'state': 'Louisiana', 'format': 'json'}\n",
        "1910"
       ]
      },
      {
       "output_type": "stream",
       "stream": "stdout",
       "text": [
        "\n",
        "http://chroniclingamerica.loc.gov/search/titles/results/?state=Louisiana&page=2&format=json: 50"
       ]
      },
      {
       "output_type": "stream",
       "stream": "stdout",
       "text": [
        "\n",
        "http://chroniclingamerica.loc.gov/search/titles/results/?state=Louisiana&page=3&format=json: 50"
       ]
      },
      {
       "output_type": "stream",
       "stream": "stdout",
       "text": [
        "\n",
        "http://chroniclingamerica.loc.gov/search/titles/results/?state=Louisiana&page=4&format=json: 50"
       ]
      },
      {
       "output_type": "stream",
       "stream": "stdout",
       "text": [
        "\n",
        "http://chroniclingamerica.loc.gov/search/titles/results/?state=Louisiana&page=5&format=json: 50"
       ]
      },
      {
       "output_type": "stream",
       "stream": "stdout",
       "text": [
        "\n",
        "http://chroniclingamerica.loc.gov/search/titles/results/?state=Louisiana&page=6&format=json: 50"
       ]
      },
      {
       "output_type": "stream",
       "stream": "stdout",
       "text": [
        "\n",
        "http://chroniclingamerica.loc.gov/search/titles/results/?state=Louisiana&page=7&format=json: 50"
       ]
      },
      {
       "output_type": "stream",
       "stream": "stdout",
       "text": [
        "\n",
        "http://chroniclingamerica.loc.gov/search/titles/results/?state=Louisiana&page=8&format=json: 50"
       ]
      },
      {
       "output_type": "stream",
       "stream": "stdout",
       "text": [
        "\n",
        "http://chroniclingamerica.loc.gov/search/titles/results/?state=Louisiana&page=9&format=json: 50"
       ]
      },
      {
       "output_type": "stream",
       "stream": "stdout",
       "text": [
        "\n",
        "http://chroniclingamerica.loc.gov/search/titles/results/?state=Louisiana&page=10&format=json: 50"
       ]
      },
      {
       "output_type": "stream",
       "stream": "stdout",
       "text": [
        "\n",
        "http://chroniclingamerica.loc.gov/search/titles/results/?state=Louisiana&page=11&format=json: 50"
       ]
      },
      {
       "output_type": "stream",
       "stream": "stdout",
       "text": [
        "\n",
        "http://chroniclingamerica.loc.gov/search/titles/results/?state=Louisiana&page=12&format=json: 50"
       ]
      },
      {
       "output_type": "stream",
       "stream": "stdout",
       "text": [
        "\n",
        "http://chroniclingamerica.loc.gov/search/titles/results/?state=Louisiana&page=13&format=json: 50"
       ]
      },
      {
       "output_type": "stream",
       "stream": "stdout",
       "text": [
        "\n",
        "http://chroniclingamerica.loc.gov/search/titles/results/?state=Louisiana&page=14&format=json: 50"
       ]
      },
      {
       "output_type": "stream",
       "stream": "stdout",
       "text": [
        "\n",
        "http://chroniclingamerica.loc.gov/search/titles/results/?state=Louisiana&page=15&format=json: 50"
       ]
      },
      {
       "output_type": "stream",
       "stream": "stdout",
       "text": [
        "\n",
        "http://chroniclingamerica.loc.gov/search/titles/results/?state=Louisiana&page=16&format=json: 50"
       ]
      },
      {
       "output_type": "stream",
       "stream": "stdout",
       "text": [
        "\n",
        "http://chroniclingamerica.loc.gov/search/titles/results/?state=Louisiana&page=17&format=json: 50"
       ]
      },
      {
       "output_type": "stream",
       "stream": "stdout",
       "text": [
        "\n",
        "http://chroniclingamerica.loc.gov/search/titles/results/?state=Louisiana&page=18&format=json: 50"
       ]
      },
      {
       "output_type": "stream",
       "stream": "stdout",
       "text": [
        "\n",
        "http://chroniclingamerica.loc.gov/search/titles/results/?state=Louisiana&page=19&format=json: 50"
       ]
      },
      {
       "output_type": "stream",
       "stream": "stdout",
       "text": [
        "\n",
        "http://chroniclingamerica.loc.gov/search/titles/results/?state=Louisiana&page=20&format=json: 50"
       ]
      },
      {
       "output_type": "stream",
       "stream": "stdout",
       "text": [
        "\n",
        "http://chroniclingamerica.loc.gov/search/titles/results/?state=Louisiana&page=21&format=json: 50"
       ]
      },
      {
       "output_type": "stream",
       "stream": "stdout",
       "text": [
        "\n",
        "http://chroniclingamerica.loc.gov/search/titles/results/?state=Louisiana&page=22&format=json: 50"
       ]
      },
      {
       "output_type": "stream",
       "stream": "stdout",
       "text": [
        "\n",
        "http://chroniclingamerica.loc.gov/search/titles/results/?state=Louisiana&page=23&format=json: 50"
       ]
      },
      {
       "output_type": "stream",
       "stream": "stdout",
       "text": [
        "\n",
        "http://chroniclingamerica.loc.gov/search/titles/results/?state=Louisiana&page=24&format=json: 50"
       ]
      },
      {
       "output_type": "stream",
       "stream": "stdout",
       "text": [
        "\n",
        "http://chroniclingamerica.loc.gov/search/titles/results/?state=Louisiana&page=25&format=json: 50"
       ]
      },
      {
       "output_type": "stream",
       "stream": "stdout",
       "text": [
        "\n",
        "http://chroniclingamerica.loc.gov/search/titles/results/?state=Louisiana&page=26&format=json: 50"
       ]
      },
      {
       "output_type": "stream",
       "stream": "stdout",
       "text": [
        "\n",
        "http://chroniclingamerica.loc.gov/search/titles/results/?state=Louisiana&page=27&format=json: 50"
       ]
      },
      {
       "output_type": "stream",
       "stream": "stdout",
       "text": [
        "\n",
        "http://chroniclingamerica.loc.gov/search/titles/results/?state=Louisiana&page=28&format=json: 50"
       ]
      },
      {
       "output_type": "stream",
       "stream": "stdout",
       "text": [
        "\n",
        "http://chroniclingamerica.loc.gov/search/titles/results/?state=Louisiana&page=29&format=json: 50"
       ]
      },
      {
       "output_type": "stream",
       "stream": "stdout",
       "text": [
        "\n",
        "http://chroniclingamerica.loc.gov/search/titles/results/?state=Louisiana&page=30&format=json: 50"
       ]
      },
      {
       "output_type": "stream",
       "stream": "stdout",
       "text": [
        "\n",
        "http://chroniclingamerica.loc.gov/search/titles/results/?state=Louisiana&page=31&format=json: 50"
       ]
      },
      {
       "output_type": "stream",
       "stream": "stdout",
       "text": [
        "\n",
        "http://chroniclingamerica.loc.gov/search/titles/results/?state=Louisiana&page=32&format=json: 50"
       ]
      },
      {
       "output_type": "stream",
       "stream": "stdout",
       "text": [
        "\n",
        "http://chroniclingamerica.loc.gov/search/titles/results/?state=Louisiana&page=33&format=json: 50"
       ]
      },
      {
       "output_type": "stream",
       "stream": "stdout",
       "text": [
        "\n",
        "http://chroniclingamerica.loc.gov/search/titles/results/?state=Louisiana&page=34&format=json: 50"
       ]
      },
      {
       "output_type": "stream",
       "stream": "stdout",
       "text": [
        "\n",
        "http://chroniclingamerica.loc.gov/search/titles/results/?state=Louisiana&page=35&format=json: 50"
       ]
      },
      {
       "output_type": "stream",
       "stream": "stdout",
       "text": [
        "\n",
        "http://chroniclingamerica.loc.gov/search/titles/results/?state=Louisiana&page=36&format=json: 50"
       ]
      },
      {
       "output_type": "stream",
       "stream": "stdout",
       "text": [
        "\n",
        "http://chroniclingamerica.loc.gov/search/titles/results/?state=Louisiana&page=37&format=json: 50"
       ]
      },
      {
       "output_type": "stream",
       "stream": "stdout",
       "text": [
        "\n",
        "http://chroniclingamerica.loc.gov/search/titles/results/?state=Louisiana&page=38&format=json: 50"
       ]
      },
      {
       "output_type": "stream",
       "stream": "stdout",
       "text": [
        "\n",
        "http://chroniclingamerica.loc.gov/search/titles/results/?state=Louisiana&page=39&format=json: 10"
       ]
      },
      {
       "output_type": "stream",
       "stream": "stdout",
       "text": [
        "\n",
        "Massachusetts\n",
        "\n",
        "{'state': 'Massachusetts', 'format': 'json'}\n",
        "4558"
       ]
      },
      {
       "output_type": "stream",
       "stream": "stdout",
       "text": [
        "\n",
        "http://chroniclingamerica.loc.gov/search/titles/results/?state=Massachusetts&page=2&format=json: 50"
       ]
      },
      {
       "output_type": "stream",
       "stream": "stdout",
       "text": [
        "\n",
        "http://chroniclingamerica.loc.gov/search/titles/results/?state=Massachusetts&page=3&format=json: 50"
       ]
      },
      {
       "output_type": "stream",
       "stream": "stdout",
       "text": [
        "\n",
        "http://chroniclingamerica.loc.gov/search/titles/results/?state=Massachusetts&page=4&format=json: 50"
       ]
      },
      {
       "output_type": "stream",
       "stream": "stdout",
       "text": [
        "\n",
        "http://chroniclingamerica.loc.gov/search/titles/results/?state=Massachusetts&page=5&format=json: 50"
       ]
      },
      {
       "output_type": "stream",
       "stream": "stdout",
       "text": [
        "\n",
        "http://chroniclingamerica.loc.gov/search/titles/results/?state=Massachusetts&page=6&format=json: 50"
       ]
      },
      {
       "output_type": "stream",
       "stream": "stdout",
       "text": [
        "\n",
        "http://chroniclingamerica.loc.gov/search/titles/results/?state=Massachusetts&page=7&format=json: 50"
       ]
      },
      {
       "output_type": "stream",
       "stream": "stdout",
       "text": [
        "\n",
        "http://chroniclingamerica.loc.gov/search/titles/results/?state=Massachusetts&page=8&format=json: 50"
       ]
      },
      {
       "output_type": "stream",
       "stream": "stdout",
       "text": [
        "\n",
        "http://chroniclingamerica.loc.gov/search/titles/results/?state=Massachusetts&page=9&format=json: 50"
       ]
      },
      {
       "output_type": "stream",
       "stream": "stdout",
       "text": [
        "\n",
        "http://chroniclingamerica.loc.gov/search/titles/results/?state=Massachusetts&page=10&format=json: 50"
       ]
      },
      {
       "output_type": "stream",
       "stream": "stdout",
       "text": [
        "\n",
        "http://chroniclingamerica.loc.gov/search/titles/results/?state=Massachusetts&page=11&format=json: 50"
       ]
      },
      {
       "output_type": "stream",
       "stream": "stdout",
       "text": [
        "\n",
        "http://chroniclingamerica.loc.gov/search/titles/results/?state=Massachusetts&page=12&format=json: 50"
       ]
      },
      {
       "output_type": "stream",
       "stream": "stdout",
       "text": [
        "\n",
        "http://chroniclingamerica.loc.gov/search/titles/results/?state=Massachusetts&page=13&format=json: 50"
       ]
      },
      {
       "output_type": "stream",
       "stream": "stdout",
       "text": [
        "\n",
        "http://chroniclingamerica.loc.gov/search/titles/results/?state=Massachusetts&page=14&format=json: 50"
       ]
      },
      {
       "output_type": "stream",
       "stream": "stdout",
       "text": [
        "\n",
        "http://chroniclingamerica.loc.gov/search/titles/results/?state=Massachusetts&page=15&format=json: 50"
       ]
      },
      {
       "output_type": "stream",
       "stream": "stdout",
       "text": [
        "\n",
        "http://chroniclingamerica.loc.gov/search/titles/results/?state=Massachusetts&page=16&format=json: 50"
       ]
      },
      {
       "output_type": "stream",
       "stream": "stdout",
       "text": [
        "\n",
        "http://chroniclingamerica.loc.gov/search/titles/results/?state=Massachusetts&page=17&format=json: 50"
       ]
      },
      {
       "output_type": "stream",
       "stream": "stdout",
       "text": [
        "\n",
        "http://chroniclingamerica.loc.gov/search/titles/results/?state=Massachusetts&page=18&format=json: 50"
       ]
      },
      {
       "output_type": "stream",
       "stream": "stdout",
       "text": [
        "\n",
        "http://chroniclingamerica.loc.gov/search/titles/results/?state=Massachusetts&page=19&format=json: 50"
       ]
      },
      {
       "output_type": "stream",
       "stream": "stdout",
       "text": [
        "\n",
        "http://chroniclingamerica.loc.gov/search/titles/results/?state=Massachusetts&page=20&format=json: 50"
       ]
      },
      {
       "output_type": "stream",
       "stream": "stdout",
       "text": [
        "\n",
        "http://chroniclingamerica.loc.gov/search/titles/results/?state=Massachusetts&page=21&format=json: 50"
       ]
      },
      {
       "output_type": "stream",
       "stream": "stdout",
       "text": [
        "\n",
        "http://chroniclingamerica.loc.gov/search/titles/results/?state=Massachusetts&page=22&format=json: 50"
       ]
      },
      {
       "output_type": "stream",
       "stream": "stdout",
       "text": [
        "\n",
        "http://chroniclingamerica.loc.gov/search/titles/results/?state=Massachusetts&page=23&format=json: 50"
       ]
      },
      {
       "output_type": "stream",
       "stream": "stdout",
       "text": [
        "\n",
        "http://chroniclingamerica.loc.gov/search/titles/results/?state=Massachusetts&page=24&format=json: 50"
       ]
      },
      {
       "output_type": "stream",
       "stream": "stdout",
       "text": [
        "\n",
        "http://chroniclingamerica.loc.gov/search/titles/results/?state=Massachusetts&page=25&format=json: 50"
       ]
      },
      {
       "output_type": "stream",
       "stream": "stdout",
       "text": [
        "\n",
        "http://chroniclingamerica.loc.gov/search/titles/results/?state=Massachusetts&page=26&format=json: 50"
       ]
      },
      {
       "output_type": "stream",
       "stream": "stdout",
       "text": [
        "\n",
        "http://chroniclingamerica.loc.gov/search/titles/results/?state=Massachusetts&page=27&format=json: 50"
       ]
      },
      {
       "output_type": "stream",
       "stream": "stdout",
       "text": [
        "\n",
        "http://chroniclingamerica.loc.gov/search/titles/results/?state=Massachusetts&page=28&format=json: 50"
       ]
      },
      {
       "output_type": "stream",
       "stream": "stdout",
       "text": [
        "\n",
        "http://chroniclingamerica.loc.gov/search/titles/results/?state=Massachusetts&page=29&format=json: 50"
       ]
      },
      {
       "output_type": "stream",
       "stream": "stdout",
       "text": [
        "\n",
        "http://chroniclingamerica.loc.gov/search/titles/results/?state=Massachusetts&page=30&format=json: 50"
       ]
      },
      {
       "output_type": "stream",
       "stream": "stdout",
       "text": [
        "\n",
        "http://chroniclingamerica.loc.gov/search/titles/results/?state=Massachusetts&page=31&format=json: 50"
       ]
      },
      {
       "output_type": "stream",
       "stream": "stdout",
       "text": [
        "\n",
        "http://chroniclingamerica.loc.gov/search/titles/results/?state=Massachusetts&page=32&format=json: 50"
       ]
      },
      {
       "output_type": "stream",
       "stream": "stdout",
       "text": [
        "\n",
        "http://chroniclingamerica.loc.gov/search/titles/results/?state=Massachusetts&page=33&format=json: 50"
       ]
      },
      {
       "output_type": "stream",
       "stream": "stdout",
       "text": [
        "\n",
        "http://chroniclingamerica.loc.gov/search/titles/results/?state=Massachusetts&page=34&format=json: 50"
       ]
      },
      {
       "output_type": "stream",
       "stream": "stdout",
       "text": [
        "\n",
        "http://chroniclingamerica.loc.gov/search/titles/results/?state=Massachusetts&page=35&format=json: 50"
       ]
      },
      {
       "output_type": "stream",
       "stream": "stdout",
       "text": [
        "\n",
        "http://chroniclingamerica.loc.gov/search/titles/results/?state=Massachusetts&page=36&format=json: 50"
       ]
      },
      {
       "output_type": "stream",
       "stream": "stdout",
       "text": [
        "\n",
        "http://chroniclingamerica.loc.gov/search/titles/results/?state=Massachusetts&page=37&format=json: 50"
       ]
      },
      {
       "output_type": "stream",
       "stream": "stdout",
       "text": [
        "\n",
        "http://chroniclingamerica.loc.gov/search/titles/results/?state=Massachusetts&page=38&format=json: 50"
       ]
      },
      {
       "output_type": "stream",
       "stream": "stdout",
       "text": [
        "\n",
        "http://chroniclingamerica.loc.gov/search/titles/results/?state=Massachusetts&page=39&format=json: 50"
       ]
      },
      {
       "output_type": "stream",
       "stream": "stdout",
       "text": [
        "\n",
        "http://chroniclingamerica.loc.gov/search/titles/results/?state=Massachusetts&page=40&format=json: 50"
       ]
      },
      {
       "output_type": "stream",
       "stream": "stdout",
       "text": [
        "\n",
        "http://chroniclingamerica.loc.gov/search/titles/results/?state=Massachusetts&page=41&format=json: 50"
       ]
      },
      {
       "output_type": "stream",
       "stream": "stdout",
       "text": [
        "\n",
        "http://chroniclingamerica.loc.gov/search/titles/results/?state=Massachusetts&page=42&format=json: 50"
       ]
      },
      {
       "output_type": "stream",
       "stream": "stdout",
       "text": [
        "\n",
        "http://chroniclingamerica.loc.gov/search/titles/results/?state=Massachusetts&page=43&format=json: 50"
       ]
      },
      {
       "output_type": "stream",
       "stream": "stdout",
       "text": [
        "\n",
        "http://chroniclingamerica.loc.gov/search/titles/results/?state=Massachusetts&page=44&format=json: 50"
       ]
      },
      {
       "output_type": "stream",
       "stream": "stdout",
       "text": [
        "\n",
        "http://chroniclingamerica.loc.gov/search/titles/results/?state=Massachusetts&page=45&format=json: 50"
       ]
      },
      {
       "output_type": "stream",
       "stream": "stdout",
       "text": [
        "\n",
        "http://chroniclingamerica.loc.gov/search/titles/results/?state=Massachusetts&page=46&format=json: 50"
       ]
      },
      {
       "output_type": "stream",
       "stream": "stdout",
       "text": [
        "\n",
        "http://chroniclingamerica.loc.gov/search/titles/results/?state=Massachusetts&page=47&format=json: 50"
       ]
      },
      {
       "output_type": "stream",
       "stream": "stdout",
       "text": [
        "\n",
        "http://chroniclingamerica.loc.gov/search/titles/results/?state=Massachusetts&page=48&format=json: 50"
       ]
      },
      {
       "output_type": "stream",
       "stream": "stdout",
       "text": [
        "\n",
        "http://chroniclingamerica.loc.gov/search/titles/results/?state=Massachusetts&page=49&format=json: 50"
       ]
      },
      {
       "output_type": "stream",
       "stream": "stdout",
       "text": [
        "\n",
        "http://chroniclingamerica.loc.gov/search/titles/results/?state=Massachusetts&page=50&format=json: 50"
       ]
      },
      {
       "output_type": "stream",
       "stream": "stdout",
       "text": [
        "\n",
        "http://chroniclingamerica.loc.gov/search/titles/results/?state=Massachusetts&page=51&format=json: 50"
       ]
      },
      {
       "output_type": "stream",
       "stream": "stdout",
       "text": [
        "\n",
        "http://chroniclingamerica.loc.gov/search/titles/results/?state=Massachusetts&page=52&format=json: 50"
       ]
      },
      {
       "output_type": "stream",
       "stream": "stdout",
       "text": [
        "\n",
        "http://chroniclingamerica.loc.gov/search/titles/results/?state=Massachusetts&page=53&format=json: 50"
       ]
      },
      {
       "output_type": "stream",
       "stream": "stdout",
       "text": [
        "\n",
        "http://chroniclingamerica.loc.gov/search/titles/results/?state=Massachusetts&page=54&format=json: 50"
       ]
      },
      {
       "output_type": "stream",
       "stream": "stdout",
       "text": [
        "\n",
        "http://chroniclingamerica.loc.gov/search/titles/results/?state=Massachusetts&page=55&format=json: 50"
       ]
      },
      {
       "output_type": "stream",
       "stream": "stdout",
       "text": [
        "\n",
        "http://chroniclingamerica.loc.gov/search/titles/results/?state=Massachusetts&page=56&format=json: 50"
       ]
      },
      {
       "output_type": "stream",
       "stream": "stdout",
       "text": [
        "\n",
        "http://chroniclingamerica.loc.gov/search/titles/results/?state=Massachusetts&page=57&format=json: 50"
       ]
      },
      {
       "output_type": "stream",
       "stream": "stdout",
       "text": [
        "\n",
        "http://chroniclingamerica.loc.gov/search/titles/results/?state=Massachusetts&page=58&format=json: 50"
       ]
      },
      {
       "output_type": "stream",
       "stream": "stdout",
       "text": [
        "\n",
        "http://chroniclingamerica.loc.gov/search/titles/results/?state=Massachusetts&page=59&format=json: 50"
       ]
      },
      {
       "output_type": "stream",
       "stream": "stdout",
       "text": [
        "\n",
        "http://chroniclingamerica.loc.gov/search/titles/results/?state=Massachusetts&page=60&format=json: 50"
       ]
      },
      {
       "output_type": "stream",
       "stream": "stdout",
       "text": [
        "\n",
        "http://chroniclingamerica.loc.gov/search/titles/results/?state=Massachusetts&page=61&format=json: 50"
       ]
      },
      {
       "output_type": "stream",
       "stream": "stdout",
       "text": [
        "\n",
        "http://chroniclingamerica.loc.gov/search/titles/results/?state=Massachusetts&page=62&format=json: 50"
       ]
      },
      {
       "output_type": "stream",
       "stream": "stdout",
       "text": [
        "\n",
        "http://chroniclingamerica.loc.gov/search/titles/results/?state=Massachusetts&page=63&format=json: 50"
       ]
      },
      {
       "output_type": "stream",
       "stream": "stdout",
       "text": [
        "\n",
        "http://chroniclingamerica.loc.gov/search/titles/results/?state=Massachusetts&page=64&format=json: 50"
       ]
      },
      {
       "output_type": "stream",
       "stream": "stdout",
       "text": [
        "\n",
        "http://chroniclingamerica.loc.gov/search/titles/results/?state=Massachusetts&page=65&format=json: 50"
       ]
      },
      {
       "output_type": "stream",
       "stream": "stdout",
       "text": [
        "\n",
        "http://chroniclingamerica.loc.gov/search/titles/results/?state=Massachusetts&page=66&format=json: 50"
       ]
      },
      {
       "output_type": "stream",
       "stream": "stdout",
       "text": [
        "\n",
        "http://chroniclingamerica.loc.gov/search/titles/results/?state=Massachusetts&page=67&format=json: 50"
       ]
      },
      {
       "output_type": "stream",
       "stream": "stdout",
       "text": [
        "\n",
        "http://chroniclingamerica.loc.gov/search/titles/results/?state=Massachusetts&page=68&format=json: 50"
       ]
      },
      {
       "output_type": "stream",
       "stream": "stdout",
       "text": [
        "\n",
        "http://chroniclingamerica.loc.gov/search/titles/results/?state=Massachusetts&page=69&format=json: 50"
       ]
      },
      {
       "output_type": "stream",
       "stream": "stdout",
       "text": [
        "\n",
        "http://chroniclingamerica.loc.gov/search/titles/results/?state=Massachusetts&page=70&format=json: 50"
       ]
      },
      {
       "output_type": "stream",
       "stream": "stdout",
       "text": [
        "\n",
        "http://chroniclingamerica.loc.gov/search/titles/results/?state=Massachusetts&page=71&format=json: 50"
       ]
      },
      {
       "output_type": "stream",
       "stream": "stdout",
       "text": [
        "\n",
        "http://chroniclingamerica.loc.gov/search/titles/results/?state=Massachusetts&page=72&format=json: 50"
       ]
      },
      {
       "output_type": "stream",
       "stream": "stdout",
       "text": [
        "\n",
        "http://chroniclingamerica.loc.gov/search/titles/results/?state=Massachusetts&page=73&format=json: 50"
       ]
      },
      {
       "output_type": "stream",
       "stream": "stdout",
       "text": [
        "\n",
        "http://chroniclingamerica.loc.gov/search/titles/results/?state=Massachusetts&page=74&format=json: 50"
       ]
      },
      {
       "output_type": "stream",
       "stream": "stdout",
       "text": [
        "\n",
        "http://chroniclingamerica.loc.gov/search/titles/results/?state=Massachusetts&page=75&format=json: 50"
       ]
      },
      {
       "output_type": "stream",
       "stream": "stdout",
       "text": [
        "\n",
        "http://chroniclingamerica.loc.gov/search/titles/results/?state=Massachusetts&page=76&format=json: 50"
       ]
      },
      {
       "output_type": "stream",
       "stream": "stdout",
       "text": [
        "\n",
        "http://chroniclingamerica.loc.gov/search/titles/results/?state=Massachusetts&page=77&format=json: 50"
       ]
      },
      {
       "output_type": "stream",
       "stream": "stdout",
       "text": [
        "\n",
        "http://chroniclingamerica.loc.gov/search/titles/results/?state=Massachusetts&page=78&format=json: 50"
       ]
      },
      {
       "output_type": "stream",
       "stream": "stdout",
       "text": [
        "\n",
        "http://chroniclingamerica.loc.gov/search/titles/results/?state=Massachusetts&page=79&format=json: 50"
       ]
      },
      {
       "output_type": "stream",
       "stream": "stdout",
       "text": [
        "\n",
        "http://chroniclingamerica.loc.gov/search/titles/results/?state=Massachusetts&page=80&format=json: 50"
       ]
      },
      {
       "output_type": "stream",
       "stream": "stdout",
       "text": [
        "\n",
        "http://chroniclingamerica.loc.gov/search/titles/results/?state=Massachusetts&page=81&format=json: 50"
       ]
      },
      {
       "output_type": "stream",
       "stream": "stdout",
       "text": [
        "\n",
        "http://chroniclingamerica.loc.gov/search/titles/results/?state=Massachusetts&page=82&format=json: 50"
       ]
      },
      {
       "output_type": "stream",
       "stream": "stdout",
       "text": [
        "\n",
        "http://chroniclingamerica.loc.gov/search/titles/results/?state=Massachusetts&page=83&format=json: 50"
       ]
      },
      {
       "output_type": "stream",
       "stream": "stdout",
       "text": [
        "\n",
        "http://chroniclingamerica.loc.gov/search/titles/results/?state=Massachusetts&page=84&format=json: 50"
       ]
      },
      {
       "output_type": "stream",
       "stream": "stdout",
       "text": [
        "\n",
        "http://chroniclingamerica.loc.gov/search/titles/results/?state=Massachusetts&page=85&format=json: 50"
       ]
      },
      {
       "output_type": "stream",
       "stream": "stdout",
       "text": [
        "\n",
        "http://chroniclingamerica.loc.gov/search/titles/results/?state=Massachusetts&page=86&format=json: 50"
       ]
      },
      {
       "output_type": "stream",
       "stream": "stdout",
       "text": [
        "\n",
        "http://chroniclingamerica.loc.gov/search/titles/results/?state=Massachusetts&page=87&format=json: 50"
       ]
      },
      {
       "output_type": "stream",
       "stream": "stdout",
       "text": [
        "\n",
        "http://chroniclingamerica.loc.gov/search/titles/results/?state=Massachusetts&page=88&format=json: 50"
       ]
      },
      {
       "output_type": "stream",
       "stream": "stdout",
       "text": [
        "\n",
        "http://chroniclingamerica.loc.gov/search/titles/results/?state=Massachusetts&page=89&format=json: 50"
       ]
      },
      {
       "output_type": "stream",
       "stream": "stdout",
       "text": [
        "\n",
        "http://chroniclingamerica.loc.gov/search/titles/results/?state=Massachusetts&page=90&format=json: 50"
       ]
      },
      {
       "output_type": "stream",
       "stream": "stdout",
       "text": [
        "\n",
        "http://chroniclingamerica.loc.gov/search/titles/results/?state=Massachusetts&page=91&format=json: 50"
       ]
      },
      {
       "output_type": "stream",
       "stream": "stdout",
       "text": [
        "\n",
        "http://chroniclingamerica.loc.gov/search/titles/results/?state=Massachusetts&page=92&format=json: 8"
       ]
      },
      {
       "output_type": "stream",
       "stream": "stdout",
       "text": [
        "\n",
        "Maryland\n",
        "\n",
        "{'state': 'Maryland', 'format': 'json'}\n",
        "1724"
       ]
      },
      {
       "output_type": "stream",
       "stream": "stdout",
       "text": [
        "\n",
        "http://chroniclingamerica.loc.gov/search/titles/results/?state=Maryland&page=2&format=json: 50"
       ]
      },
      {
       "output_type": "stream",
       "stream": "stdout",
       "text": [
        "\n",
        "http://chroniclingamerica.loc.gov/search/titles/results/?state=Maryland&page=3&format=json: 50"
       ]
      },
      {
       "output_type": "stream",
       "stream": "stdout",
       "text": [
        "\n",
        "http://chroniclingamerica.loc.gov/search/titles/results/?state=Maryland&page=4&format=json: 50"
       ]
      },
      {
       "output_type": "stream",
       "stream": "stdout",
       "text": [
        "\n",
        "http://chroniclingamerica.loc.gov/search/titles/results/?state=Maryland&page=5&format=json: 50"
       ]
      },
      {
       "output_type": "stream",
       "stream": "stdout",
       "text": [
        "\n",
        "http://chroniclingamerica.loc.gov/search/titles/results/?state=Maryland&page=6&format=json: 50"
       ]
      },
      {
       "output_type": "stream",
       "stream": "stdout",
       "text": [
        "\n",
        "http://chroniclingamerica.loc.gov/search/titles/results/?state=Maryland&page=7&format=json: 50"
       ]
      },
      {
       "output_type": "stream",
       "stream": "stdout",
       "text": [
        "\n",
        "http://chroniclingamerica.loc.gov/search/titles/results/?state=Maryland&page=8&format=json: 50"
       ]
      },
      {
       "output_type": "stream",
       "stream": "stdout",
       "text": [
        "\n",
        "http://chroniclingamerica.loc.gov/search/titles/results/?state=Maryland&page=9&format=json: 50"
       ]
      },
      {
       "output_type": "stream",
       "stream": "stdout",
       "text": [
        "\n",
        "http://chroniclingamerica.loc.gov/search/titles/results/?state=Maryland&page=10&format=json: 50"
       ]
      },
      {
       "output_type": "stream",
       "stream": "stdout",
       "text": [
        "\n",
        "http://chroniclingamerica.loc.gov/search/titles/results/?state=Maryland&page=11&format=json: 50"
       ]
      },
      {
       "output_type": "stream",
       "stream": "stdout",
       "text": [
        "\n",
        "http://chroniclingamerica.loc.gov/search/titles/results/?state=Maryland&page=12&format=json: 50"
       ]
      },
      {
       "output_type": "stream",
       "stream": "stdout",
       "text": [
        "\n",
        "http://chroniclingamerica.loc.gov/search/titles/results/?state=Maryland&page=13&format=json: 50"
       ]
      },
      {
       "output_type": "stream",
       "stream": "stdout",
       "text": [
        "\n",
        "http://chroniclingamerica.loc.gov/search/titles/results/?state=Maryland&page=14&format=json: 50"
       ]
      },
      {
       "output_type": "stream",
       "stream": "stdout",
       "text": [
        "\n",
        "http://chroniclingamerica.loc.gov/search/titles/results/?state=Maryland&page=15&format=json: 50"
       ]
      },
      {
       "output_type": "stream",
       "stream": "stdout",
       "text": [
        "\n",
        "http://chroniclingamerica.loc.gov/search/titles/results/?state=Maryland&page=16&format=json: 50"
       ]
      },
      {
       "output_type": "stream",
       "stream": "stdout",
       "text": [
        "\n",
        "http://chroniclingamerica.loc.gov/search/titles/results/?state=Maryland&page=17&format=json: 50"
       ]
      },
      {
       "output_type": "stream",
       "stream": "stdout",
       "text": [
        "\n",
        "http://chroniclingamerica.loc.gov/search/titles/results/?state=Maryland&page=18&format=json: 50"
       ]
      },
      {
       "output_type": "stream",
       "stream": "stdout",
       "text": [
        "\n",
        "http://chroniclingamerica.loc.gov/search/titles/results/?state=Maryland&page=19&format=json: 50"
       ]
      },
      {
       "output_type": "stream",
       "stream": "stdout",
       "text": [
        "\n",
        "http://chroniclingamerica.loc.gov/search/titles/results/?state=Maryland&page=20&format=json: 50"
       ]
      },
      {
       "output_type": "stream",
       "stream": "stdout",
       "text": [
        "\n",
        "http://chroniclingamerica.loc.gov/search/titles/results/?state=Maryland&page=21&format=json: 50"
       ]
      },
      {
       "output_type": "stream",
       "stream": "stdout",
       "text": [
        "\n",
        "http://chroniclingamerica.loc.gov/search/titles/results/?state=Maryland&page=22&format=json: 50"
       ]
      },
      {
       "output_type": "stream",
       "stream": "stdout",
       "text": [
        "\n",
        "http://chroniclingamerica.loc.gov/search/titles/results/?state=Maryland&page=23&format=json: 50"
       ]
      },
      {
       "output_type": "stream",
       "stream": "stdout",
       "text": [
        "\n",
        "http://chroniclingamerica.loc.gov/search/titles/results/?state=Maryland&page=24&format=json: 50"
       ]
      },
      {
       "output_type": "stream",
       "stream": "stdout",
       "text": [
        "\n",
        "http://chroniclingamerica.loc.gov/search/titles/results/?state=Maryland&page=25&format=json: 50"
       ]
      },
      {
       "output_type": "stream",
       "stream": "stdout",
       "text": [
        "\n",
        "http://chroniclingamerica.loc.gov/search/titles/results/?state=Maryland&page=26&format=json: 50"
       ]
      },
      {
       "output_type": "stream",
       "stream": "stdout",
       "text": [
        "\n",
        "http://chroniclingamerica.loc.gov/search/titles/results/?state=Maryland&page=27&format=json: 50"
       ]
      },
      {
       "output_type": "stream",
       "stream": "stdout",
       "text": [
        "\n",
        "http://chroniclingamerica.loc.gov/search/titles/results/?state=Maryland&page=28&format=json: 50"
       ]
      },
      {
       "output_type": "stream",
       "stream": "stdout",
       "text": [
        "\n",
        "http://chroniclingamerica.loc.gov/search/titles/results/?state=Maryland&page=29&format=json: 50"
       ]
      },
      {
       "output_type": "stream",
       "stream": "stdout",
       "text": [
        "\n",
        "http://chroniclingamerica.loc.gov/search/titles/results/?state=Maryland&page=30&format=json: 50"
       ]
      },
      {
       "output_type": "stream",
       "stream": "stdout",
       "text": [
        "\n",
        "http://chroniclingamerica.loc.gov/search/titles/results/?state=Maryland&page=31&format=json: 50"
       ]
      },
      {
       "output_type": "stream",
       "stream": "stdout",
       "text": [
        "\n",
        "http://chroniclingamerica.loc.gov/search/titles/results/?state=Maryland&page=32&format=json: 50"
       ]
      },
      {
       "output_type": "stream",
       "stream": "stdout",
       "text": [
        "\n",
        "http://chroniclingamerica.loc.gov/search/titles/results/?state=Maryland&page=33&format=json: 50"
       ]
      },
      {
       "output_type": "stream",
       "stream": "stdout",
       "text": [
        "\n",
        "http://chroniclingamerica.loc.gov/search/titles/results/?state=Maryland&page=34&format=json: 50"
       ]
      },
      {
       "output_type": "stream",
       "stream": "stdout",
       "text": [
        "\n",
        "http://chroniclingamerica.loc.gov/search/titles/results/?state=Maryland&page=35&format=json: 24"
       ]
      },
      {
       "output_type": "stream",
       "stream": "stdout",
       "text": [
        "\n",
        "Maine\n",
        "\n",
        "{'state': 'Maine', 'format': 'json'}\n",
        "1578"
       ]
      },
      {
       "output_type": "stream",
       "stream": "stdout",
       "text": [
        "\n",
        "http://chroniclingamerica.loc.gov/search/titles/results/?state=Maine&page=2&format=json: 50"
       ]
      },
      {
       "output_type": "stream",
       "stream": "stdout",
       "text": [
        "\n",
        "http://chroniclingamerica.loc.gov/search/titles/results/?state=Maine&page=3&format=json: 50"
       ]
      },
      {
       "output_type": "stream",
       "stream": "stdout",
       "text": [
        "\n",
        "http://chroniclingamerica.loc.gov/search/titles/results/?state=Maine&page=4&format=json: 50"
       ]
      },
      {
       "output_type": "stream",
       "stream": "stdout",
       "text": [
        "\n",
        "http://chroniclingamerica.loc.gov/search/titles/results/?state=Maine&page=5&format=json: 50"
       ]
      },
      {
       "output_type": "stream",
       "stream": "stdout",
       "text": [
        "\n",
        "http://chroniclingamerica.loc.gov/search/titles/results/?state=Maine&page=6&format=json: 50"
       ]
      },
      {
       "output_type": "stream",
       "stream": "stdout",
       "text": [
        "\n",
        "http://chroniclingamerica.loc.gov/search/titles/results/?state=Maine&page=7&format=json: 50"
       ]
      },
      {
       "output_type": "stream",
       "stream": "stdout",
       "text": [
        "\n",
        "http://chroniclingamerica.loc.gov/search/titles/results/?state=Maine&page=8&format=json: 50"
       ]
      },
      {
       "output_type": "stream",
       "stream": "stdout",
       "text": [
        "\n",
        "http://chroniclingamerica.loc.gov/search/titles/results/?state=Maine&page=9&format=json: 50"
       ]
      },
      {
       "output_type": "stream",
       "stream": "stdout",
       "text": [
        "\n",
        "http://chroniclingamerica.loc.gov/search/titles/results/?state=Maine&page=10&format=json: 50"
       ]
      },
      {
       "output_type": "stream",
       "stream": "stdout",
       "text": [
        "\n",
        "http://chroniclingamerica.loc.gov/search/titles/results/?state=Maine&page=11&format=json: 50"
       ]
      },
      {
       "output_type": "stream",
       "stream": "stdout",
       "text": [
        "\n",
        "http://chroniclingamerica.loc.gov/search/titles/results/?state=Maine&page=12&format=json: 50"
       ]
      },
      {
       "output_type": "stream",
       "stream": "stdout",
       "text": [
        "\n",
        "http://chroniclingamerica.loc.gov/search/titles/results/?state=Maine&page=13&format=json: 50"
       ]
      },
      {
       "output_type": "stream",
       "stream": "stdout",
       "text": [
        "\n",
        "http://chroniclingamerica.loc.gov/search/titles/results/?state=Maine&page=14&format=json: 50"
       ]
      },
      {
       "output_type": "stream",
       "stream": "stdout",
       "text": [
        "\n",
        "http://chroniclingamerica.loc.gov/search/titles/results/?state=Maine&page=15&format=json: 50"
       ]
      },
      {
       "output_type": "stream",
       "stream": "stdout",
       "text": [
        "\n",
        "http://chroniclingamerica.loc.gov/search/titles/results/?state=Maine&page=16&format=json: 50"
       ]
      },
      {
       "output_type": "stream",
       "stream": "stdout",
       "text": [
        "\n",
        "http://chroniclingamerica.loc.gov/search/titles/results/?state=Maine&page=17&format=json: 50"
       ]
      },
      {
       "output_type": "stream",
       "stream": "stdout",
       "text": [
        "\n",
        "http://chroniclingamerica.loc.gov/search/titles/results/?state=Maine&page=18&format=json: 50"
       ]
      },
      {
       "output_type": "stream",
       "stream": "stdout",
       "text": [
        "\n",
        "http://chroniclingamerica.loc.gov/search/titles/results/?state=Maine&page=19&format=json: 50"
       ]
      },
      {
       "output_type": "stream",
       "stream": "stdout",
       "text": [
        "\n",
        "http://chroniclingamerica.loc.gov/search/titles/results/?state=Maine&page=20&format=json: 50"
       ]
      },
      {
       "output_type": "stream",
       "stream": "stdout",
       "text": [
        "\n",
        "http://chroniclingamerica.loc.gov/search/titles/results/?state=Maine&page=21&format=json: 50"
       ]
      },
      {
       "output_type": "stream",
       "stream": "stdout",
       "text": [
        "\n",
        "http://chroniclingamerica.loc.gov/search/titles/results/?state=Maine&page=22&format=json: 50"
       ]
      },
      {
       "output_type": "stream",
       "stream": "stdout",
       "text": [
        "\n",
        "http://chroniclingamerica.loc.gov/search/titles/results/?state=Maine&page=23&format=json: 50"
       ]
      },
      {
       "output_type": "stream",
       "stream": "stdout",
       "text": [
        "\n",
        "http://chroniclingamerica.loc.gov/search/titles/results/?state=Maine&page=24&format=json: 50"
       ]
      },
      {
       "output_type": "stream",
       "stream": "stdout",
       "text": [
        "\n",
        "http://chroniclingamerica.loc.gov/search/titles/results/?state=Maine&page=25&format=json: 50"
       ]
      },
      {
       "output_type": "stream",
       "stream": "stdout",
       "text": [
        "\n",
        "http://chroniclingamerica.loc.gov/search/titles/results/?state=Maine&page=26&format=json: 50"
       ]
      },
      {
       "output_type": "stream",
       "stream": "stdout",
       "text": [
        "\n",
        "http://chroniclingamerica.loc.gov/search/titles/results/?state=Maine&page=27&format=json: 50"
       ]
      },
      {
       "output_type": "stream",
       "stream": "stdout",
       "text": [
        "\n",
        "http://chroniclingamerica.loc.gov/search/titles/results/?state=Maine&page=28&format=json: 50"
       ]
      },
      {
       "output_type": "stream",
       "stream": "stdout",
       "text": [
        "\n",
        "http://chroniclingamerica.loc.gov/search/titles/results/?state=Maine&page=29&format=json: 50"
       ]
      },
      {
       "output_type": "stream",
       "stream": "stdout",
       "text": [
        "\n",
        "http://chroniclingamerica.loc.gov/search/titles/results/?state=Maine&page=30&format=json: 50"
       ]
      },
      {
       "output_type": "stream",
       "stream": "stdout",
       "text": [
        "\n",
        "http://chroniclingamerica.loc.gov/search/titles/results/?state=Maine&page=31&format=json: 50"
       ]
      },
      {
       "output_type": "stream",
       "stream": "stdout",
       "text": [
        "\n",
        "http://chroniclingamerica.loc.gov/search/titles/results/?state=Maine&page=32&format=json: 28"
       ]
      },
      {
       "output_type": "stream",
       "stream": "stdout",
       "text": [
        "\n",
        "Michigan\n",
        "\n",
        "{'state': 'Michigan', 'format': 'json'}\n",
        "3970"
       ]
      },
      {
       "output_type": "stream",
       "stream": "stdout",
       "text": [
        "\n",
        "http://chroniclingamerica.loc.gov/search/titles/results/?state=Michigan&page=2&format=json: 50"
       ]
      },
      {
       "output_type": "stream",
       "stream": "stdout",
       "text": [
        "\n",
        "http://chroniclingamerica.loc.gov/search/titles/results/?state=Michigan&page=3&format=json: 50"
       ]
      },
      {
       "output_type": "stream",
       "stream": "stdout",
       "text": [
        "\n",
        "http://chroniclingamerica.loc.gov/search/titles/results/?state=Michigan&page=4&format=json: 50"
       ]
      },
      {
       "output_type": "stream",
       "stream": "stdout",
       "text": [
        "\n",
        "http://chroniclingamerica.loc.gov/search/titles/results/?state=Michigan&page=5&format=json: 50"
       ]
      },
      {
       "output_type": "stream",
       "stream": "stdout",
       "text": [
        "\n",
        "http://chroniclingamerica.loc.gov/search/titles/results/?state=Michigan&page=6&format=json: 50"
       ]
      },
      {
       "output_type": "stream",
       "stream": "stdout",
       "text": [
        "\n",
        "http://chroniclingamerica.loc.gov/search/titles/results/?state=Michigan&page=7&format=json: 50"
       ]
      },
      {
       "output_type": "stream",
       "stream": "stdout",
       "text": [
        "\n",
        "http://chroniclingamerica.loc.gov/search/titles/results/?state=Michigan&page=8&format=json: 50"
       ]
      },
      {
       "output_type": "stream",
       "stream": "stdout",
       "text": [
        "\n",
        "http://chroniclingamerica.loc.gov/search/titles/results/?state=Michigan&page=9&format=json: 50"
       ]
      },
      {
       "output_type": "stream",
       "stream": "stdout",
       "text": [
        "\n",
        "http://chroniclingamerica.loc.gov/search/titles/results/?state=Michigan&page=10&format=json: 50"
       ]
      },
      {
       "output_type": "stream",
       "stream": "stdout",
       "text": [
        "\n",
        "http://chroniclingamerica.loc.gov/search/titles/results/?state=Michigan&page=11&format=json: 50"
       ]
      },
      {
       "output_type": "stream",
       "stream": "stdout",
       "text": [
        "\n",
        "http://chroniclingamerica.loc.gov/search/titles/results/?state=Michigan&page=12&format=json: 50"
       ]
      },
      {
       "output_type": "stream",
       "stream": "stdout",
       "text": [
        "\n",
        "http://chroniclingamerica.loc.gov/search/titles/results/?state=Michigan&page=13&format=json: 50"
       ]
      },
      {
       "output_type": "stream",
       "stream": "stdout",
       "text": [
        "\n",
        "http://chroniclingamerica.loc.gov/search/titles/results/?state=Michigan&page=14&format=json: 50"
       ]
      },
      {
       "output_type": "stream",
       "stream": "stdout",
       "text": [
        "\n",
        "http://chroniclingamerica.loc.gov/search/titles/results/?state=Michigan&page=15&format=json: 50"
       ]
      },
      {
       "output_type": "stream",
       "stream": "stdout",
       "text": [
        "\n",
        "http://chroniclingamerica.loc.gov/search/titles/results/?state=Michigan&page=16&format=json: 50"
       ]
      },
      {
       "output_type": "stream",
       "stream": "stdout",
       "text": [
        "\n",
        "http://chroniclingamerica.loc.gov/search/titles/results/?state=Michigan&page=17&format=json: 50"
       ]
      },
      {
       "output_type": "stream",
       "stream": "stdout",
       "text": [
        "\n",
        "http://chroniclingamerica.loc.gov/search/titles/results/?state=Michigan&page=18&format=json: 50"
       ]
      },
      {
       "output_type": "stream",
       "stream": "stdout",
       "text": [
        "\n",
        "http://chroniclingamerica.loc.gov/search/titles/results/?state=Michigan&page=19&format=json: 50"
       ]
      },
      {
       "output_type": "stream",
       "stream": "stdout",
       "text": [
        "\n",
        "http://chroniclingamerica.loc.gov/search/titles/results/?state=Michigan&page=20&format=json: 50"
       ]
      },
      {
       "output_type": "stream",
       "stream": "stdout",
       "text": [
        "\n",
        "http://chroniclingamerica.loc.gov/search/titles/results/?state=Michigan&page=21&format=json: 50"
       ]
      },
      {
       "output_type": "stream",
       "stream": "stdout",
       "text": [
        "\n",
        "http://chroniclingamerica.loc.gov/search/titles/results/?state=Michigan&page=22&format=json: 50"
       ]
      },
      {
       "output_type": "stream",
       "stream": "stdout",
       "text": [
        "\n",
        "http://chroniclingamerica.loc.gov/search/titles/results/?state=Michigan&page=23&format=json: 50"
       ]
      },
      {
       "output_type": "stream",
       "stream": "stdout",
       "text": [
        "\n",
        "http://chroniclingamerica.loc.gov/search/titles/results/?state=Michigan&page=24&format=json: 50"
       ]
      },
      {
       "output_type": "stream",
       "stream": "stdout",
       "text": [
        "\n",
        "http://chroniclingamerica.loc.gov/search/titles/results/?state=Michigan&page=25&format=json: 50"
       ]
      },
      {
       "output_type": "stream",
       "stream": "stdout",
       "text": [
        "\n",
        "http://chroniclingamerica.loc.gov/search/titles/results/?state=Michigan&page=26&format=json: 50"
       ]
      },
      {
       "output_type": "stream",
       "stream": "stdout",
       "text": [
        "\n",
        "http://chroniclingamerica.loc.gov/search/titles/results/?state=Michigan&page=27&format=json: 50"
       ]
      },
      {
       "output_type": "stream",
       "stream": "stdout",
       "text": [
        "\n",
        "http://chroniclingamerica.loc.gov/search/titles/results/?state=Michigan&page=28&format=json: 50"
       ]
      },
      {
       "output_type": "stream",
       "stream": "stdout",
       "text": [
        "\n",
        "http://chroniclingamerica.loc.gov/search/titles/results/?state=Michigan&page=29&format=json: 50"
       ]
      },
      {
       "output_type": "stream",
       "stream": "stdout",
       "text": [
        "\n",
        "http://chroniclingamerica.loc.gov/search/titles/results/?state=Michigan&page=30&format=json: 50"
       ]
      },
      {
       "output_type": "stream",
       "stream": "stdout",
       "text": [
        "\n",
        "http://chroniclingamerica.loc.gov/search/titles/results/?state=Michigan&page=31&format=json: 50"
       ]
      },
      {
       "output_type": "stream",
       "stream": "stdout",
       "text": [
        "\n",
        "http://chroniclingamerica.loc.gov/search/titles/results/?state=Michigan&page=32&format=json: 50"
       ]
      },
      {
       "output_type": "stream",
       "stream": "stdout",
       "text": [
        "\n",
        "http://chroniclingamerica.loc.gov/search/titles/results/?state=Michigan&page=33&format=json: 50"
       ]
      },
      {
       "output_type": "stream",
       "stream": "stdout",
       "text": [
        "\n",
        "http://chroniclingamerica.loc.gov/search/titles/results/?state=Michigan&page=34&format=json: 50"
       ]
      },
      {
       "output_type": "stream",
       "stream": "stdout",
       "text": [
        "\n",
        "http://chroniclingamerica.loc.gov/search/titles/results/?state=Michigan&page=35&format=json: 50"
       ]
      },
      {
       "output_type": "stream",
       "stream": "stdout",
       "text": [
        "\n",
        "http://chroniclingamerica.loc.gov/search/titles/results/?state=Michigan&page=36&format=json: 50"
       ]
      },
      {
       "output_type": "stream",
       "stream": "stdout",
       "text": [
        "\n",
        "http://chroniclingamerica.loc.gov/search/titles/results/?state=Michigan&page=37&format=json: 50"
       ]
      },
      {
       "output_type": "stream",
       "stream": "stdout",
       "text": [
        "\n",
        "http://chroniclingamerica.loc.gov/search/titles/results/?state=Michigan&page=38&format=json: 50"
       ]
      },
      {
       "output_type": "stream",
       "stream": "stdout",
       "text": [
        "\n",
        "http://chroniclingamerica.loc.gov/search/titles/results/?state=Michigan&page=39&format=json: 50"
       ]
      },
      {
       "output_type": "stream",
       "stream": "stdout",
       "text": [
        "\n",
        "http://chroniclingamerica.loc.gov/search/titles/results/?state=Michigan&page=40&format=json: 50"
       ]
      },
      {
       "output_type": "stream",
       "stream": "stdout",
       "text": [
        "\n",
        "http://chroniclingamerica.loc.gov/search/titles/results/?state=Michigan&page=41&format=json: 50"
       ]
      },
      {
       "output_type": "stream",
       "stream": "stdout",
       "text": [
        "\n",
        "http://chroniclingamerica.loc.gov/search/titles/results/?state=Michigan&page=42&format=json: 50"
       ]
      },
      {
       "output_type": "stream",
       "stream": "stdout",
       "text": [
        "\n",
        "http://chroniclingamerica.loc.gov/search/titles/results/?state=Michigan&page=43&format=json: 50"
       ]
      },
      {
       "output_type": "stream",
       "stream": "stdout",
       "text": [
        "\n",
        "http://chroniclingamerica.loc.gov/search/titles/results/?state=Michigan&page=44&format=json: 50"
       ]
      },
      {
       "output_type": "stream",
       "stream": "stdout",
       "text": [
        "\n",
        "http://chroniclingamerica.loc.gov/search/titles/results/?state=Michigan&page=45&format=json: 50"
       ]
      },
      {
       "output_type": "stream",
       "stream": "stdout",
       "text": [
        "\n",
        "http://chroniclingamerica.loc.gov/search/titles/results/?state=Michigan&page=46&format=json: 50"
       ]
      },
      {
       "output_type": "stream",
       "stream": "stdout",
       "text": [
        "\n",
        "http://chroniclingamerica.loc.gov/search/titles/results/?state=Michigan&page=47&format=json: 50"
       ]
      },
      {
       "output_type": "stream",
       "stream": "stdout",
       "text": [
        "\n",
        "http://chroniclingamerica.loc.gov/search/titles/results/?state=Michigan&page=48&format=json: 50"
       ]
      },
      {
       "output_type": "stream",
       "stream": "stdout",
       "text": [
        "\n",
        "http://chroniclingamerica.loc.gov/search/titles/results/?state=Michigan&page=49&format=json: 50"
       ]
      },
      {
       "output_type": "stream",
       "stream": "stdout",
       "text": [
        "\n",
        "http://chroniclingamerica.loc.gov/search/titles/results/?state=Michigan&page=50&format=json: 50"
       ]
      },
      {
       "output_type": "stream",
       "stream": "stdout",
       "text": [
        "\n",
        "http://chroniclingamerica.loc.gov/search/titles/results/?state=Michigan&page=51&format=json: 50"
       ]
      },
      {
       "output_type": "stream",
       "stream": "stdout",
       "text": [
        "\n",
        "http://chroniclingamerica.loc.gov/search/titles/results/?state=Michigan&page=52&format=json: 50"
       ]
      },
      {
       "output_type": "stream",
       "stream": "stdout",
       "text": [
        "\n",
        "http://chroniclingamerica.loc.gov/search/titles/results/?state=Michigan&page=53&format=json: 50"
       ]
      },
      {
       "output_type": "stream",
       "stream": "stdout",
       "text": [
        "\n",
        "http://chroniclingamerica.loc.gov/search/titles/results/?state=Michigan&page=54&format=json: 50"
       ]
      },
      {
       "output_type": "stream",
       "stream": "stdout",
       "text": [
        "\n",
        "http://chroniclingamerica.loc.gov/search/titles/results/?state=Michigan&page=55&format=json: 50"
       ]
      },
      {
       "output_type": "stream",
       "stream": "stdout",
       "text": [
        "\n",
        "http://chroniclingamerica.loc.gov/search/titles/results/?state=Michigan&page=56&format=json: 50"
       ]
      },
      {
       "output_type": "stream",
       "stream": "stdout",
       "text": [
        "\n",
        "http://chroniclingamerica.loc.gov/search/titles/results/?state=Michigan&page=57&format=json: 50"
       ]
      },
      {
       "output_type": "stream",
       "stream": "stdout",
       "text": [
        "\n",
        "http://chroniclingamerica.loc.gov/search/titles/results/?state=Michigan&page=58&format=json: 50"
       ]
      },
      {
       "output_type": "stream",
       "stream": "stdout",
       "text": [
        "\n",
        "http://chroniclingamerica.loc.gov/search/titles/results/?state=Michigan&page=59&format=json: 50"
       ]
      },
      {
       "output_type": "stream",
       "stream": "stdout",
       "text": [
        "\n",
        "http://chroniclingamerica.loc.gov/search/titles/results/?state=Michigan&page=60&format=json: 50"
       ]
      },
      {
       "output_type": "stream",
       "stream": "stdout",
       "text": [
        "\n",
        "http://chroniclingamerica.loc.gov/search/titles/results/?state=Michigan&page=61&format=json: 50"
       ]
      },
      {
       "output_type": "stream",
       "stream": "stdout",
       "text": [
        "\n",
        "http://chroniclingamerica.loc.gov/search/titles/results/?state=Michigan&page=62&format=json: 50"
       ]
      },
      {
       "output_type": "stream",
       "stream": "stdout",
       "text": [
        "\n",
        "http://chroniclingamerica.loc.gov/search/titles/results/?state=Michigan&page=63&format=json: 50"
       ]
      },
      {
       "output_type": "stream",
       "stream": "stdout",
       "text": [
        "\n",
        "http://chroniclingamerica.loc.gov/search/titles/results/?state=Michigan&page=64&format=json: 50"
       ]
      },
      {
       "output_type": "stream",
       "stream": "stdout",
       "text": [
        "\n",
        "http://chroniclingamerica.loc.gov/search/titles/results/?state=Michigan&page=65&format=json: 50"
       ]
      },
      {
       "output_type": "stream",
       "stream": "stdout",
       "text": [
        "\n",
        "http://chroniclingamerica.loc.gov/search/titles/results/?state=Michigan&page=66&format=json: 50"
       ]
      },
      {
       "output_type": "stream",
       "stream": "stdout",
       "text": [
        "\n",
        "http://chroniclingamerica.loc.gov/search/titles/results/?state=Michigan&page=67&format=json: 50"
       ]
      },
      {
       "output_type": "stream",
       "stream": "stdout",
       "text": [
        "\n",
        "http://chroniclingamerica.loc.gov/search/titles/results/?state=Michigan&page=68&format=json: 50"
       ]
      },
      {
       "output_type": "stream",
       "stream": "stdout",
       "text": [
        "\n",
        "http://chroniclingamerica.loc.gov/search/titles/results/?state=Michigan&page=69&format=json: 50"
       ]
      },
      {
       "output_type": "stream",
       "stream": "stdout",
       "text": [
        "\n",
        "http://chroniclingamerica.loc.gov/search/titles/results/?state=Michigan&page=70&format=json: 50"
       ]
      },
      {
       "output_type": "stream",
       "stream": "stdout",
       "text": [
        "\n",
        "http://chroniclingamerica.loc.gov/search/titles/results/?state=Michigan&page=71&format=json: 50"
       ]
      },
      {
       "output_type": "stream",
       "stream": "stdout",
       "text": [
        "\n",
        "http://chroniclingamerica.loc.gov/search/titles/results/?state=Michigan&page=72&format=json: 50"
       ]
      },
      {
       "output_type": "stream",
       "stream": "stdout",
       "text": [
        "\n",
        "http://chroniclingamerica.loc.gov/search/titles/results/?state=Michigan&page=73&format=json: 50"
       ]
      },
      {
       "output_type": "stream",
       "stream": "stdout",
       "text": [
        "\n",
        "http://chroniclingamerica.loc.gov/search/titles/results/?state=Michigan&page=74&format=json: 50"
       ]
      },
      {
       "output_type": "stream",
       "stream": "stdout",
       "text": [
        "\n",
        "http://chroniclingamerica.loc.gov/search/titles/results/?state=Michigan&page=75&format=json: 50"
       ]
      },
      {
       "output_type": "stream",
       "stream": "stdout",
       "text": [
        "\n",
        "http://chroniclingamerica.loc.gov/search/titles/results/?state=Michigan&page=76&format=json: 50"
       ]
      },
      {
       "output_type": "stream",
       "stream": "stdout",
       "text": [
        "\n",
        "http://chroniclingamerica.loc.gov/search/titles/results/?state=Michigan&page=77&format=json: 50"
       ]
      },
      {
       "output_type": "stream",
       "stream": "stdout",
       "text": [
        "\n",
        "http://chroniclingamerica.loc.gov/search/titles/results/?state=Michigan&page=78&format=json: 50"
       ]
      },
      {
       "output_type": "stream",
       "stream": "stdout",
       "text": [
        "\n",
        "http://chroniclingamerica.loc.gov/search/titles/results/?state=Michigan&page=79&format=json: 50"
       ]
      },
      {
       "output_type": "stream",
       "stream": "stdout",
       "text": [
        "\n",
        "http://chroniclingamerica.loc.gov/search/titles/results/?state=Michigan&page=80&format=json: 20"
       ]
      },
      {
       "output_type": "stream",
       "stream": "stdout",
       "text": [
        "\n",
        "Minnesota\n",
        "\n",
        "{'state': 'Minnesota', 'format': 'json'}\n",
        "3872"
       ]
      },
      {
       "output_type": "stream",
       "stream": "stdout",
       "text": [
        "\n",
        "http://chroniclingamerica.loc.gov/search/titles/results/?state=Minnesota&page=2&format=json: 50"
       ]
      },
      {
       "output_type": "stream",
       "stream": "stdout",
       "text": [
        "\n",
        "http://chroniclingamerica.loc.gov/search/titles/results/?state=Minnesota&page=3&format=json: 50"
       ]
      },
      {
       "output_type": "stream",
       "stream": "stdout",
       "text": [
        "\n",
        "http://chroniclingamerica.loc.gov/search/titles/results/?state=Minnesota&page=4&format=json: 50"
       ]
      },
      {
       "output_type": "stream",
       "stream": "stdout",
       "text": [
        "\n",
        "http://chroniclingamerica.loc.gov/search/titles/results/?state=Minnesota&page=5&format=json: 50"
       ]
      },
      {
       "output_type": "stream",
       "stream": "stdout",
       "text": [
        "\n",
        "http://chroniclingamerica.loc.gov/search/titles/results/?state=Minnesota&page=6&format=json: 50"
       ]
      },
      {
       "output_type": "stream",
       "stream": "stdout",
       "text": [
        "\n",
        "http://chroniclingamerica.loc.gov/search/titles/results/?state=Minnesota&page=7&format=json: 50"
       ]
      },
      {
       "output_type": "stream",
       "stream": "stdout",
       "text": [
        "\n",
        "http://chroniclingamerica.loc.gov/search/titles/results/?state=Minnesota&page=8&format=json: 50"
       ]
      },
      {
       "output_type": "stream",
       "stream": "stdout",
       "text": [
        "\n",
        "http://chroniclingamerica.loc.gov/search/titles/results/?state=Minnesota&page=9&format=json: 50"
       ]
      },
      {
       "output_type": "stream",
       "stream": "stdout",
       "text": [
        "\n",
        "http://chroniclingamerica.loc.gov/search/titles/results/?state=Minnesota&page=10&format=json: 50"
       ]
      },
      {
       "output_type": "stream",
       "stream": "stdout",
       "text": [
        "\n",
        "http://chroniclingamerica.loc.gov/search/titles/results/?state=Minnesota&page=11&format=json: 50"
       ]
      },
      {
       "output_type": "stream",
       "stream": "stdout",
       "text": [
        "\n",
        "http://chroniclingamerica.loc.gov/search/titles/results/?state=Minnesota&page=12&format=json: 50"
       ]
      },
      {
       "output_type": "stream",
       "stream": "stdout",
       "text": [
        "\n",
        "http://chroniclingamerica.loc.gov/search/titles/results/?state=Minnesota&page=13&format=json: 50"
       ]
      },
      {
       "output_type": "stream",
       "stream": "stdout",
       "text": [
        "\n",
        "http://chroniclingamerica.loc.gov/search/titles/results/?state=Minnesota&page=14&format=json: 50"
       ]
      },
      {
       "output_type": "stream",
       "stream": "stdout",
       "text": [
        "\n",
        "http://chroniclingamerica.loc.gov/search/titles/results/?state=Minnesota&page=15&format=json: 50"
       ]
      },
      {
       "output_type": "stream",
       "stream": "stdout",
       "text": [
        "\n",
        "http://chroniclingamerica.loc.gov/search/titles/results/?state=Minnesota&page=16&format=json: 50"
       ]
      },
      {
       "output_type": "stream",
       "stream": "stdout",
       "text": [
        "\n",
        "http://chroniclingamerica.loc.gov/search/titles/results/?state=Minnesota&page=17&format=json: 50"
       ]
      },
      {
       "output_type": "stream",
       "stream": "stdout",
       "text": [
        "\n",
        "http://chroniclingamerica.loc.gov/search/titles/results/?state=Minnesota&page=18&format=json: 50"
       ]
      },
      {
       "output_type": "stream",
       "stream": "stdout",
       "text": [
        "\n",
        "http://chroniclingamerica.loc.gov/search/titles/results/?state=Minnesota&page=19&format=json: 50"
       ]
      },
      {
       "output_type": "stream",
       "stream": "stdout",
       "text": [
        "\n",
        "http://chroniclingamerica.loc.gov/search/titles/results/?state=Minnesota&page=20&format=json: 50"
       ]
      },
      {
       "output_type": "stream",
       "stream": "stdout",
       "text": [
        "\n",
        "http://chroniclingamerica.loc.gov/search/titles/results/?state=Minnesota&page=21&format=json: 50"
       ]
      },
      {
       "output_type": "stream",
       "stream": "stdout",
       "text": [
        "\n",
        "http://chroniclingamerica.loc.gov/search/titles/results/?state=Minnesota&page=22&format=json: 50"
       ]
      },
      {
       "output_type": "stream",
       "stream": "stdout",
       "text": [
        "\n",
        "http://chroniclingamerica.loc.gov/search/titles/results/?state=Minnesota&page=23&format=json: 50"
       ]
      },
      {
       "output_type": "stream",
       "stream": "stdout",
       "text": [
        "\n",
        "http://chroniclingamerica.loc.gov/search/titles/results/?state=Minnesota&page=24&format=json: 50"
       ]
      },
      {
       "output_type": "stream",
       "stream": "stdout",
       "text": [
        "\n",
        "http://chroniclingamerica.loc.gov/search/titles/results/?state=Minnesota&page=25&format=json: 50"
       ]
      },
      {
       "output_type": "stream",
       "stream": "stdout",
       "text": [
        "\n",
        "http://chroniclingamerica.loc.gov/search/titles/results/?state=Minnesota&page=26&format=json: 50"
       ]
      },
      {
       "output_type": "stream",
       "stream": "stdout",
       "text": [
        "\n",
        "http://chroniclingamerica.loc.gov/search/titles/results/?state=Minnesota&page=27&format=json: 50"
       ]
      },
      {
       "output_type": "stream",
       "stream": "stdout",
       "text": [
        "\n",
        "http://chroniclingamerica.loc.gov/search/titles/results/?state=Minnesota&page=28&format=json: 50"
       ]
      },
      {
       "output_type": "stream",
       "stream": "stdout",
       "text": [
        "\n",
        "http://chroniclingamerica.loc.gov/search/titles/results/?state=Minnesota&page=29&format=json: 50"
       ]
      },
      {
       "output_type": "stream",
       "stream": "stdout",
       "text": [
        "\n",
        "http://chroniclingamerica.loc.gov/search/titles/results/?state=Minnesota&page=30&format=json: 50"
       ]
      },
      {
       "output_type": "stream",
       "stream": "stdout",
       "text": [
        "\n",
        "http://chroniclingamerica.loc.gov/search/titles/results/?state=Minnesota&page=31&format=json: 50"
       ]
      },
      {
       "output_type": "stream",
       "stream": "stdout",
       "text": [
        "\n",
        "http://chroniclingamerica.loc.gov/search/titles/results/?state=Minnesota&page=32&format=json: 50"
       ]
      },
      {
       "output_type": "stream",
       "stream": "stdout",
       "text": [
        "\n",
        "http://chroniclingamerica.loc.gov/search/titles/results/?state=Minnesota&page=33&format=json: 50"
       ]
      },
      {
       "output_type": "stream",
       "stream": "stdout",
       "text": [
        "\n",
        "http://chroniclingamerica.loc.gov/search/titles/results/?state=Minnesota&page=34&format=json: 50"
       ]
      },
      {
       "output_type": "stream",
       "stream": "stdout",
       "text": [
        "\n",
        "http://chroniclingamerica.loc.gov/search/titles/results/?state=Minnesota&page=35&format=json: 50"
       ]
      },
      {
       "output_type": "stream",
       "stream": "stdout",
       "text": [
        "\n",
        "http://chroniclingamerica.loc.gov/search/titles/results/?state=Minnesota&page=36&format=json: 50"
       ]
      },
      {
       "output_type": "stream",
       "stream": "stdout",
       "text": [
        "\n",
        "http://chroniclingamerica.loc.gov/search/titles/results/?state=Minnesota&page=37&format=json: 50"
       ]
      },
      {
       "output_type": "stream",
       "stream": "stdout",
       "text": [
        "\n",
        "http://chroniclingamerica.loc.gov/search/titles/results/?state=Minnesota&page=38&format=json: 50"
       ]
      },
      {
       "output_type": "stream",
       "stream": "stdout",
       "text": [
        "\n",
        "http://chroniclingamerica.loc.gov/search/titles/results/?state=Minnesota&page=39&format=json: 50"
       ]
      },
      {
       "output_type": "stream",
       "stream": "stdout",
       "text": [
        "\n",
        "http://chroniclingamerica.loc.gov/search/titles/results/?state=Minnesota&page=40&format=json: 50"
       ]
      },
      {
       "output_type": "stream",
       "stream": "stdout",
       "text": [
        "\n",
        "http://chroniclingamerica.loc.gov/search/titles/results/?state=Minnesota&page=41&format=json: 50"
       ]
      },
      {
       "output_type": "stream",
       "stream": "stdout",
       "text": [
        "\n",
        "http://chroniclingamerica.loc.gov/search/titles/results/?state=Minnesota&page=42&format=json: 50"
       ]
      },
      {
       "output_type": "stream",
       "stream": "stdout",
       "text": [
        "\n",
        "http://chroniclingamerica.loc.gov/search/titles/results/?state=Minnesota&page=43&format=json: 50"
       ]
      },
      {
       "output_type": "stream",
       "stream": "stdout",
       "text": [
        "\n",
        "http://chroniclingamerica.loc.gov/search/titles/results/?state=Minnesota&page=44&format=json: 50"
       ]
      },
      {
       "output_type": "stream",
       "stream": "stdout",
       "text": [
        "\n",
        "http://chroniclingamerica.loc.gov/search/titles/results/?state=Minnesota&page=45&format=json: 50"
       ]
      },
      {
       "output_type": "stream",
       "stream": "stdout",
       "text": [
        "\n",
        "http://chroniclingamerica.loc.gov/search/titles/results/?state=Minnesota&page=46&format=json: 50"
       ]
      },
      {
       "output_type": "stream",
       "stream": "stdout",
       "text": [
        "\n",
        "http://chroniclingamerica.loc.gov/search/titles/results/?state=Minnesota&page=47&format=json: 50"
       ]
      },
      {
       "output_type": "stream",
       "stream": "stdout",
       "text": [
        "\n",
        "http://chroniclingamerica.loc.gov/search/titles/results/?state=Minnesota&page=48&format=json: 50"
       ]
      },
      {
       "output_type": "stream",
       "stream": "stdout",
       "text": [
        "\n",
        "http://chroniclingamerica.loc.gov/search/titles/results/?state=Minnesota&page=49&format=json: 50"
       ]
      },
      {
       "output_type": "stream",
       "stream": "stdout",
       "text": [
        "\n",
        "http://chroniclingamerica.loc.gov/search/titles/results/?state=Minnesota&page=50&format=json: 50"
       ]
      },
      {
       "output_type": "stream",
       "stream": "stdout",
       "text": [
        "\n",
        "http://chroniclingamerica.loc.gov/search/titles/results/?state=Minnesota&page=51&format=json: 50"
       ]
      },
      {
       "output_type": "stream",
       "stream": "stdout",
       "text": [
        "\n",
        "http://chroniclingamerica.loc.gov/search/titles/results/?state=Minnesota&page=52&format=json: 50"
       ]
      },
      {
       "output_type": "stream",
       "stream": "stdout",
       "text": [
        "\n",
        "http://chroniclingamerica.loc.gov/search/titles/results/?state=Minnesota&page=53&format=json: 50"
       ]
      },
      {
       "output_type": "stream",
       "stream": "stdout",
       "text": [
        "\n",
        "http://chroniclingamerica.loc.gov/search/titles/results/?state=Minnesota&page=54&format=json: 50"
       ]
      },
      {
       "output_type": "stream",
       "stream": "stdout",
       "text": [
        "\n",
        "http://chroniclingamerica.loc.gov/search/titles/results/?state=Minnesota&page=55&format=json: 50"
       ]
      },
      {
       "output_type": "stream",
       "stream": "stdout",
       "text": [
        "\n",
        "http://chroniclingamerica.loc.gov/search/titles/results/?state=Minnesota&page=56&format=json: 50"
       ]
      },
      {
       "output_type": "stream",
       "stream": "stdout",
       "text": [
        "\n",
        "http://chroniclingamerica.loc.gov/search/titles/results/?state=Minnesota&page=57&format=json: 50"
       ]
      },
      {
       "output_type": "stream",
       "stream": "stdout",
       "text": [
        "\n",
        "http://chroniclingamerica.loc.gov/search/titles/results/?state=Minnesota&page=58&format=json: 50"
       ]
      },
      {
       "output_type": "stream",
       "stream": "stdout",
       "text": [
        "\n",
        "http://chroniclingamerica.loc.gov/search/titles/results/?state=Minnesota&page=59&format=json: 50"
       ]
      },
      {
       "output_type": "stream",
       "stream": "stdout",
       "text": [
        "\n",
        "http://chroniclingamerica.loc.gov/search/titles/results/?state=Minnesota&page=60&format=json: 50"
       ]
      },
      {
       "output_type": "stream",
       "stream": "stdout",
       "text": [
        "\n",
        "http://chroniclingamerica.loc.gov/search/titles/results/?state=Minnesota&page=61&format=json: 50"
       ]
      },
      {
       "output_type": "stream",
       "stream": "stdout",
       "text": [
        "\n",
        "http://chroniclingamerica.loc.gov/search/titles/results/?state=Minnesota&page=62&format=json: 50"
       ]
      },
      {
       "output_type": "stream",
       "stream": "stdout",
       "text": [
        "\n",
        "http://chroniclingamerica.loc.gov/search/titles/results/?state=Minnesota&page=63&format=json: 50"
       ]
      },
      {
       "output_type": "stream",
       "stream": "stdout",
       "text": [
        "\n",
        "http://chroniclingamerica.loc.gov/search/titles/results/?state=Minnesota&page=64&format=json: 50"
       ]
      },
      {
       "output_type": "stream",
       "stream": "stdout",
       "text": [
        "\n",
        "http://chroniclingamerica.loc.gov/search/titles/results/?state=Minnesota&page=65&format=json: 50"
       ]
      },
      {
       "output_type": "stream",
       "stream": "stdout",
       "text": [
        "\n",
        "http://chroniclingamerica.loc.gov/search/titles/results/?state=Minnesota&page=66&format=json: 50"
       ]
      },
      {
       "output_type": "stream",
       "stream": "stdout",
       "text": [
        "\n",
        "http://chroniclingamerica.loc.gov/search/titles/results/?state=Minnesota&page=67&format=json: 50"
       ]
      },
      {
       "output_type": "stream",
       "stream": "stdout",
       "text": [
        "\n",
        "http://chroniclingamerica.loc.gov/search/titles/results/?state=Minnesota&page=68&format=json: 50"
       ]
      },
      {
       "output_type": "stream",
       "stream": "stdout",
       "text": [
        "\n",
        "http://chroniclingamerica.loc.gov/search/titles/results/?state=Minnesota&page=69&format=json: 50"
       ]
      },
      {
       "output_type": "stream",
       "stream": "stdout",
       "text": [
        "\n",
        "http://chroniclingamerica.loc.gov/search/titles/results/?state=Minnesota&page=70&format=json: 50"
       ]
      },
      {
       "output_type": "stream",
       "stream": "stdout",
       "text": [
        "\n",
        "http://chroniclingamerica.loc.gov/search/titles/results/?state=Minnesota&page=71&format=json: 50"
       ]
      },
      {
       "output_type": "stream",
       "stream": "stdout",
       "text": [
        "\n",
        "http://chroniclingamerica.loc.gov/search/titles/results/?state=Minnesota&page=72&format=json: 50"
       ]
      },
      {
       "output_type": "stream",
       "stream": "stdout",
       "text": [
        "\n",
        "http://chroniclingamerica.loc.gov/search/titles/results/?state=Minnesota&page=73&format=json: 50"
       ]
      },
      {
       "output_type": "stream",
       "stream": "stdout",
       "text": [
        "\n",
        "http://chroniclingamerica.loc.gov/search/titles/results/?state=Minnesota&page=74&format=json: 50"
       ]
      },
      {
       "output_type": "stream",
       "stream": "stdout",
       "text": [
        "\n",
        "http://chroniclingamerica.loc.gov/search/titles/results/?state=Minnesota&page=75&format=json: 50"
       ]
      },
      {
       "output_type": "stream",
       "stream": "stdout",
       "text": [
        "\n",
        "http://chroniclingamerica.loc.gov/search/titles/results/?state=Minnesota&page=76&format=json: 50"
       ]
      },
      {
       "output_type": "stream",
       "stream": "stdout",
       "text": [
        "\n",
        "http://chroniclingamerica.loc.gov/search/titles/results/?state=Minnesota&page=77&format=json: 50"
       ]
      },
      {
       "output_type": "stream",
       "stream": "stdout",
       "text": [
        "\n",
        "http://chroniclingamerica.loc.gov/search/titles/results/?state=Minnesota&page=78&format=json: 22"
       ]
      },
      {
       "output_type": "stream",
       "stream": "stdout",
       "text": [
        "\n",
        "Missouri\n",
        "\n",
        "{'state': 'Missouri', 'format': 'json'}\n",
        "4702"
       ]
      },
      {
       "output_type": "stream",
       "stream": "stdout",
       "text": [
        "\n",
        "http://chroniclingamerica.loc.gov/search/titles/results/?state=Missouri&page=2&format=json: 50"
       ]
      },
      {
       "output_type": "stream",
       "stream": "stdout",
       "text": [
        "\n",
        "http://chroniclingamerica.loc.gov/search/titles/results/?state=Missouri&page=3&format=json: 50"
       ]
      },
      {
       "output_type": "stream",
       "stream": "stdout",
       "text": [
        "\n",
        "http://chroniclingamerica.loc.gov/search/titles/results/?state=Missouri&page=4&format=json: 50"
       ]
      },
      {
       "output_type": "stream",
       "stream": "stdout",
       "text": [
        "\n",
        "http://chroniclingamerica.loc.gov/search/titles/results/?state=Missouri&page=5&format=json: 50"
       ]
      },
      {
       "output_type": "stream",
       "stream": "stdout",
       "text": [
        "\n",
        "http://chroniclingamerica.loc.gov/search/titles/results/?state=Missouri&page=6&format=json: 50"
       ]
      },
      {
       "output_type": "stream",
       "stream": "stdout",
       "text": [
        "\n",
        "http://chroniclingamerica.loc.gov/search/titles/results/?state=Missouri&page=7&format=json: 50"
       ]
      },
      {
       "output_type": "stream",
       "stream": "stdout",
       "text": [
        "\n",
        "http://chroniclingamerica.loc.gov/search/titles/results/?state=Missouri&page=8&format=json: 50"
       ]
      },
      {
       "output_type": "stream",
       "stream": "stdout",
       "text": [
        "\n",
        "http://chroniclingamerica.loc.gov/search/titles/results/?state=Missouri&page=9&format=json: 50"
       ]
      },
      {
       "output_type": "stream",
       "stream": "stdout",
       "text": [
        "\n",
        "http://chroniclingamerica.loc.gov/search/titles/results/?state=Missouri&page=10&format=json: 50"
       ]
      },
      {
       "output_type": "stream",
       "stream": "stdout",
       "text": [
        "\n",
        "http://chroniclingamerica.loc.gov/search/titles/results/?state=Missouri&page=11&format=json: 50"
       ]
      },
      {
       "output_type": "stream",
       "stream": "stdout",
       "text": [
        "\n",
        "http://chroniclingamerica.loc.gov/search/titles/results/?state=Missouri&page=12&format=json: 50"
       ]
      },
      {
       "output_type": "stream",
       "stream": "stdout",
       "text": [
        "\n",
        "http://chroniclingamerica.loc.gov/search/titles/results/?state=Missouri&page=13&format=json: 50"
       ]
      },
      {
       "output_type": "stream",
       "stream": "stdout",
       "text": [
        "\n",
        "http://chroniclingamerica.loc.gov/search/titles/results/?state=Missouri&page=14&format=json: 50"
       ]
      },
      {
       "output_type": "stream",
       "stream": "stdout",
       "text": [
        "\n",
        "http://chroniclingamerica.loc.gov/search/titles/results/?state=Missouri&page=15&format=json: 50"
       ]
      },
      {
       "output_type": "stream",
       "stream": "stdout",
       "text": [
        "\n",
        "http://chroniclingamerica.loc.gov/search/titles/results/?state=Missouri&page=16&format=json: 50"
       ]
      },
      {
       "output_type": "stream",
       "stream": "stdout",
       "text": [
        "\n",
        "http://chroniclingamerica.loc.gov/search/titles/results/?state=Missouri&page=17&format=json: 50"
       ]
      },
      {
       "output_type": "stream",
       "stream": "stdout",
       "text": [
        "\n",
        "http://chroniclingamerica.loc.gov/search/titles/results/?state=Missouri&page=18&format=json: 50"
       ]
      },
      {
       "output_type": "stream",
       "stream": "stdout",
       "text": [
        "\n",
        "http://chroniclingamerica.loc.gov/search/titles/results/?state=Missouri&page=19&format=json: 50"
       ]
      },
      {
       "output_type": "stream",
       "stream": "stdout",
       "text": [
        "\n",
        "http://chroniclingamerica.loc.gov/search/titles/results/?state=Missouri&page=20&format=json: 50"
       ]
      },
      {
       "output_type": "stream",
       "stream": "stdout",
       "text": [
        "\n",
        "http://chroniclingamerica.loc.gov/search/titles/results/?state=Missouri&page=21&format=json: 50"
       ]
      },
      {
       "output_type": "stream",
       "stream": "stdout",
       "text": [
        "\n",
        "http://chroniclingamerica.loc.gov/search/titles/results/?state=Missouri&page=22&format=json: 50"
       ]
      },
      {
       "output_type": "stream",
       "stream": "stdout",
       "text": [
        "\n",
        "http://chroniclingamerica.loc.gov/search/titles/results/?state=Missouri&page=23&format=json: 50"
       ]
      },
      {
       "output_type": "stream",
       "stream": "stdout",
       "text": [
        "\n",
        "http://chroniclingamerica.loc.gov/search/titles/results/?state=Missouri&page=24&format=json: 50"
       ]
      },
      {
       "output_type": "stream",
       "stream": "stdout",
       "text": [
        "\n",
        "http://chroniclingamerica.loc.gov/search/titles/results/?state=Missouri&page=25&format=json: 50"
       ]
      },
      {
       "output_type": "stream",
       "stream": "stdout",
       "text": [
        "\n",
        "http://chroniclingamerica.loc.gov/search/titles/results/?state=Missouri&page=26&format=json: 50"
       ]
      },
      {
       "output_type": "stream",
       "stream": "stdout",
       "text": [
        "\n",
        "http://chroniclingamerica.loc.gov/search/titles/results/?state=Missouri&page=27&format=json: 50"
       ]
      },
      {
       "output_type": "stream",
       "stream": "stdout",
       "text": [
        "\n",
        "http://chroniclingamerica.loc.gov/search/titles/results/?state=Missouri&page=28&format=json: 50"
       ]
      },
      {
       "output_type": "stream",
       "stream": "stdout",
       "text": [
        "\n",
        "http://chroniclingamerica.loc.gov/search/titles/results/?state=Missouri&page=29&format=json: 50"
       ]
      },
      {
       "output_type": "stream",
       "stream": "stdout",
       "text": [
        "\n",
        "http://chroniclingamerica.loc.gov/search/titles/results/?state=Missouri&page=30&format=json: 50"
       ]
      },
      {
       "output_type": "stream",
       "stream": "stdout",
       "text": [
        "\n",
        "http://chroniclingamerica.loc.gov/search/titles/results/?state=Missouri&page=31&format=json: 50"
       ]
      },
      {
       "output_type": "stream",
       "stream": "stdout",
       "text": [
        "\n",
        "http://chroniclingamerica.loc.gov/search/titles/results/?state=Missouri&page=32&format=json: 50"
       ]
      },
      {
       "output_type": "stream",
       "stream": "stdout",
       "text": [
        "\n",
        "http://chroniclingamerica.loc.gov/search/titles/results/?state=Missouri&page=33&format=json: 50"
       ]
      },
      {
       "output_type": "stream",
       "stream": "stdout",
       "text": [
        "\n",
        "http://chroniclingamerica.loc.gov/search/titles/results/?state=Missouri&page=34&format=json: 50"
       ]
      },
      {
       "output_type": "stream",
       "stream": "stdout",
       "text": [
        "\n",
        "http://chroniclingamerica.loc.gov/search/titles/results/?state=Missouri&page=35&format=json: 50"
       ]
      },
      {
       "output_type": "stream",
       "stream": "stdout",
       "text": [
        "\n",
        "http://chroniclingamerica.loc.gov/search/titles/results/?state=Missouri&page=36&format=json: 50"
       ]
      },
      {
       "output_type": "stream",
       "stream": "stdout",
       "text": [
        "\n",
        "http://chroniclingamerica.loc.gov/search/titles/results/?state=Missouri&page=37&format=json: 50"
       ]
      },
      {
       "output_type": "stream",
       "stream": "stdout",
       "text": [
        "\n",
        "http://chroniclingamerica.loc.gov/search/titles/results/?state=Missouri&page=38&format=json: 50"
       ]
      },
      {
       "output_type": "stream",
       "stream": "stdout",
       "text": [
        "\n",
        "http://chroniclingamerica.loc.gov/search/titles/results/?state=Missouri&page=39&format=json: 50"
       ]
      },
      {
       "output_type": "stream",
       "stream": "stdout",
       "text": [
        "\n",
        "http://chroniclingamerica.loc.gov/search/titles/results/?state=Missouri&page=40&format=json: 50"
       ]
      },
      {
       "output_type": "stream",
       "stream": "stdout",
       "text": [
        "\n",
        "http://chroniclingamerica.loc.gov/search/titles/results/?state=Missouri&page=41&format=json: 50"
       ]
      },
      {
       "output_type": "stream",
       "stream": "stdout",
       "text": [
        "\n",
        "http://chroniclingamerica.loc.gov/search/titles/results/?state=Missouri&page=42&format=json: 50"
       ]
      },
      {
       "output_type": "stream",
       "stream": "stdout",
       "text": [
        "\n",
        "http://chroniclingamerica.loc.gov/search/titles/results/?state=Missouri&page=43&format=json: 50"
       ]
      },
      {
       "output_type": "stream",
       "stream": "stdout",
       "text": [
        "\n",
        "http://chroniclingamerica.loc.gov/search/titles/results/?state=Missouri&page=44&format=json: 50"
       ]
      },
      {
       "output_type": "stream",
       "stream": "stdout",
       "text": [
        "\n",
        "http://chroniclingamerica.loc.gov/search/titles/results/?state=Missouri&page=45&format=json: 50"
       ]
      },
      {
       "output_type": "stream",
       "stream": "stdout",
       "text": [
        "\n",
        "http://chroniclingamerica.loc.gov/search/titles/results/?state=Missouri&page=46&format=json: 50"
       ]
      },
      {
       "output_type": "stream",
       "stream": "stdout",
       "text": [
        "\n",
        "http://chroniclingamerica.loc.gov/search/titles/results/?state=Missouri&page=47&format=json: 50"
       ]
      },
      {
       "output_type": "stream",
       "stream": "stdout",
       "text": [
        "\n",
        "http://chroniclingamerica.loc.gov/search/titles/results/?state=Missouri&page=48&format=json: 50"
       ]
      },
      {
       "output_type": "stream",
       "stream": "stdout",
       "text": [
        "\n",
        "http://chroniclingamerica.loc.gov/search/titles/results/?state=Missouri&page=49&format=json: 50"
       ]
      },
      {
       "output_type": "stream",
       "stream": "stdout",
       "text": [
        "\n",
        "http://chroniclingamerica.loc.gov/search/titles/results/?state=Missouri&page=50&format=json: 50"
       ]
      },
      {
       "output_type": "stream",
       "stream": "stdout",
       "text": [
        "\n",
        "http://chroniclingamerica.loc.gov/search/titles/results/?state=Missouri&page=51&format=json: 50"
       ]
      },
      {
       "output_type": "stream",
       "stream": "stdout",
       "text": [
        "\n",
        "http://chroniclingamerica.loc.gov/search/titles/results/?state=Missouri&page=52&format=json: 50"
       ]
      },
      {
       "output_type": "stream",
       "stream": "stdout",
       "text": [
        "\n",
        "http://chroniclingamerica.loc.gov/search/titles/results/?state=Missouri&page=53&format=json: 50"
       ]
      },
      {
       "output_type": "stream",
       "stream": "stdout",
       "text": [
        "\n",
        "http://chroniclingamerica.loc.gov/search/titles/results/?state=Missouri&page=54&format=json: 50"
       ]
      },
      {
       "output_type": "stream",
       "stream": "stdout",
       "text": [
        "\n",
        "http://chroniclingamerica.loc.gov/search/titles/results/?state=Missouri&page=55&format=json: 50"
       ]
      },
      {
       "output_type": "stream",
       "stream": "stdout",
       "text": [
        "\n",
        "http://chroniclingamerica.loc.gov/search/titles/results/?state=Missouri&page=56&format=json: 50"
       ]
      },
      {
       "output_type": "stream",
       "stream": "stdout",
       "text": [
        "\n",
        "http://chroniclingamerica.loc.gov/search/titles/results/?state=Missouri&page=57&format=json: 50"
       ]
      },
      {
       "output_type": "stream",
       "stream": "stdout",
       "text": [
        "\n",
        "http://chroniclingamerica.loc.gov/search/titles/results/?state=Missouri&page=58&format=json: 50"
       ]
      },
      {
       "output_type": "stream",
       "stream": "stdout",
       "text": [
        "\n",
        "http://chroniclingamerica.loc.gov/search/titles/results/?state=Missouri&page=59&format=json: 50"
       ]
      },
      {
       "output_type": "stream",
       "stream": "stdout",
       "text": [
        "\n",
        "http://chroniclingamerica.loc.gov/search/titles/results/?state=Missouri&page=60&format=json: 50"
       ]
      },
      {
       "output_type": "stream",
       "stream": "stdout",
       "text": [
        "\n",
        "http://chroniclingamerica.loc.gov/search/titles/results/?state=Missouri&page=61&format=json: 50"
       ]
      },
      {
       "output_type": "stream",
       "stream": "stdout",
       "text": [
        "\n",
        "http://chroniclingamerica.loc.gov/search/titles/results/?state=Missouri&page=62&format=json: 50"
       ]
      },
      {
       "output_type": "stream",
       "stream": "stdout",
       "text": [
        "\n",
        "http://chroniclingamerica.loc.gov/search/titles/results/?state=Missouri&page=63&format=json: 50"
       ]
      },
      {
       "output_type": "stream",
       "stream": "stdout",
       "text": [
        "\n",
        "http://chroniclingamerica.loc.gov/search/titles/results/?state=Missouri&page=64&format=json: 50"
       ]
      },
      {
       "output_type": "stream",
       "stream": "stdout",
       "text": [
        "\n",
        "http://chroniclingamerica.loc.gov/search/titles/results/?state=Missouri&page=65&format=json: 50"
       ]
      },
      {
       "output_type": "stream",
       "stream": "stdout",
       "text": [
        "\n",
        "http://chroniclingamerica.loc.gov/search/titles/results/?state=Missouri&page=66&format=json: 50"
       ]
      },
      {
       "output_type": "stream",
       "stream": "stdout",
       "text": [
        "\n",
        "http://chroniclingamerica.loc.gov/search/titles/results/?state=Missouri&page=67&format=json: 50"
       ]
      },
      {
       "output_type": "stream",
       "stream": "stdout",
       "text": [
        "\n",
        "http://chroniclingamerica.loc.gov/search/titles/results/?state=Missouri&page=68&format=json: 50"
       ]
      },
      {
       "output_type": "stream",
       "stream": "stdout",
       "text": [
        "\n",
        "http://chroniclingamerica.loc.gov/search/titles/results/?state=Missouri&page=69&format=json: 50"
       ]
      },
      {
       "output_type": "stream",
       "stream": "stdout",
       "text": [
        "\n",
        "http://chroniclingamerica.loc.gov/search/titles/results/?state=Missouri&page=70&format=json: 50"
       ]
      },
      {
       "output_type": "stream",
       "stream": "stdout",
       "text": [
        "\n",
        "http://chroniclingamerica.loc.gov/search/titles/results/?state=Missouri&page=71&format=json: 50"
       ]
      },
      {
       "output_type": "stream",
       "stream": "stdout",
       "text": [
        "\n",
        "http://chroniclingamerica.loc.gov/search/titles/results/?state=Missouri&page=72&format=json: 50"
       ]
      },
      {
       "output_type": "stream",
       "stream": "stdout",
       "text": [
        "\n",
        "http://chroniclingamerica.loc.gov/search/titles/results/?state=Missouri&page=73&format=json: 50"
       ]
      },
      {
       "output_type": "stream",
       "stream": "stdout",
       "text": [
        "\n",
        "http://chroniclingamerica.loc.gov/search/titles/results/?state=Missouri&page=74&format=json: 50"
       ]
      },
      {
       "output_type": "stream",
       "stream": "stdout",
       "text": [
        "\n",
        "http://chroniclingamerica.loc.gov/search/titles/results/?state=Missouri&page=75&format=json: 50"
       ]
      },
      {
       "output_type": "stream",
       "stream": "stdout",
       "text": [
        "\n",
        "http://chroniclingamerica.loc.gov/search/titles/results/?state=Missouri&page=76&format=json: 50"
       ]
      },
      {
       "output_type": "stream",
       "stream": "stdout",
       "text": [
        "\n",
        "http://chroniclingamerica.loc.gov/search/titles/results/?state=Missouri&page=77&format=json: 50"
       ]
      },
      {
       "output_type": "stream",
       "stream": "stdout",
       "text": [
        "\n",
        "http://chroniclingamerica.loc.gov/search/titles/results/?state=Missouri&page=78&format=json: 50"
       ]
      },
      {
       "output_type": "stream",
       "stream": "stdout",
       "text": [
        "\n",
        "http://chroniclingamerica.loc.gov/search/titles/results/?state=Missouri&page=79&format=json: 50"
       ]
      },
      {
       "output_type": "stream",
       "stream": "stdout",
       "text": [
        "\n",
        "http://chroniclingamerica.loc.gov/search/titles/results/?state=Missouri&page=80&format=json: 50"
       ]
      },
      {
       "output_type": "stream",
       "stream": "stdout",
       "text": [
        "\n",
        "http://chroniclingamerica.loc.gov/search/titles/results/?state=Missouri&page=81&format=json: 50"
       ]
      },
      {
       "output_type": "stream",
       "stream": "stdout",
       "text": [
        "\n",
        "http://chroniclingamerica.loc.gov/search/titles/results/?state=Missouri&page=82&format=json: 50"
       ]
      },
      {
       "output_type": "stream",
       "stream": "stdout",
       "text": [
        "\n",
        "http://chroniclingamerica.loc.gov/search/titles/results/?state=Missouri&page=83&format=json: 50"
       ]
      },
      {
       "output_type": "stream",
       "stream": "stdout",
       "text": [
        "\n",
        "http://chroniclingamerica.loc.gov/search/titles/results/?state=Missouri&page=84&format=json: 50"
       ]
      },
      {
       "output_type": "stream",
       "stream": "stdout",
       "text": [
        "\n",
        "http://chroniclingamerica.loc.gov/search/titles/results/?state=Missouri&page=85&format=json: 50"
       ]
      },
      {
       "output_type": "stream",
       "stream": "stdout",
       "text": [
        "\n",
        "http://chroniclingamerica.loc.gov/search/titles/results/?state=Missouri&page=86&format=json: 50"
       ]
      },
      {
       "output_type": "stream",
       "stream": "stdout",
       "text": [
        "\n",
        "http://chroniclingamerica.loc.gov/search/titles/results/?state=Missouri&page=87&format=json: 50"
       ]
      },
      {
       "output_type": "stream",
       "stream": "stdout",
       "text": [
        "\n",
        "http://chroniclingamerica.loc.gov/search/titles/results/?state=Missouri&page=88&format=json: 50"
       ]
      },
      {
       "output_type": "stream",
       "stream": "stdout",
       "text": [
        "\n",
        "http://chroniclingamerica.loc.gov/search/titles/results/?state=Missouri&page=89&format=json: 50"
       ]
      },
      {
       "output_type": "stream",
       "stream": "stdout",
       "text": [
        "\n",
        "http://chroniclingamerica.loc.gov/search/titles/results/?state=Missouri&page=90&format=json: 50"
       ]
      },
      {
       "output_type": "stream",
       "stream": "stdout",
       "text": [
        "\n",
        "http://chroniclingamerica.loc.gov/search/titles/results/?state=Missouri&page=91&format=json: 50"
       ]
      },
      {
       "output_type": "stream",
       "stream": "stdout",
       "text": [
        "\n",
        "http://chroniclingamerica.loc.gov/search/titles/results/?state=Missouri&page=92&format=json: 50"
       ]
      },
      {
       "output_type": "stream",
       "stream": "stdout",
       "text": [
        "\n",
        "http://chroniclingamerica.loc.gov/search/titles/results/?state=Missouri&page=93&format=json: 50"
       ]
      },
      {
       "output_type": "stream",
       "stream": "stdout",
       "text": [
        "\n",
        "http://chroniclingamerica.loc.gov/search/titles/results/?state=Missouri&page=94&format=json: 50"
       ]
      },
      {
       "output_type": "stream",
       "stream": "stdout",
       "text": [
        "\n",
        "http://chroniclingamerica.loc.gov/search/titles/results/?state=Missouri&page=95&format=json: 2"
       ]
      },
      {
       "output_type": "stream",
       "stream": "stdout",
       "text": [
        "\n",
        "Mississippi\n",
        "\n",
        "{'state': 'Mississippi', 'format': 'json'}\n",
        "1530"
       ]
      },
      {
       "output_type": "stream",
       "stream": "stdout",
       "text": [
        "\n",
        "http://chroniclingamerica.loc.gov/search/titles/results/?state=Mississippi&page=2&format=json: 50"
       ]
      },
      {
       "output_type": "stream",
       "stream": "stdout",
       "text": [
        "\n",
        "http://chroniclingamerica.loc.gov/search/titles/results/?state=Mississippi&page=3&format=json: 50"
       ]
      },
      {
       "output_type": "stream",
       "stream": "stdout",
       "text": [
        "\n",
        "http://chroniclingamerica.loc.gov/search/titles/results/?state=Mississippi&page=4&format=json: 50"
       ]
      },
      {
       "output_type": "stream",
       "stream": "stdout",
       "text": [
        "\n",
        "http://chroniclingamerica.loc.gov/search/titles/results/?state=Mississippi&page=5&format=json: 50"
       ]
      },
      {
       "output_type": "stream",
       "stream": "stdout",
       "text": [
        "\n",
        "http://chroniclingamerica.loc.gov/search/titles/results/?state=Mississippi&page=6&format=json: 50"
       ]
      },
      {
       "output_type": "stream",
       "stream": "stdout",
       "text": [
        "\n",
        "http://chroniclingamerica.loc.gov/search/titles/results/?state=Mississippi&page=7&format=json: 50"
       ]
      },
      {
       "output_type": "stream",
       "stream": "stdout",
       "text": [
        "\n",
        "http://chroniclingamerica.loc.gov/search/titles/results/?state=Mississippi&page=8&format=json: 50"
       ]
      },
      {
       "output_type": "stream",
       "stream": "stdout",
       "text": [
        "\n",
        "http://chroniclingamerica.loc.gov/search/titles/results/?state=Mississippi&page=9&format=json: 50"
       ]
      },
      {
       "output_type": "stream",
       "stream": "stdout",
       "text": [
        "\n",
        "http://chroniclingamerica.loc.gov/search/titles/results/?state=Mississippi&page=10&format=json: 50"
       ]
      },
      {
       "output_type": "stream",
       "stream": "stdout",
       "text": [
        "\n",
        "http://chroniclingamerica.loc.gov/search/titles/results/?state=Mississippi&page=11&format=json: 50"
       ]
      },
      {
       "output_type": "stream",
       "stream": "stdout",
       "text": [
        "\n",
        "http://chroniclingamerica.loc.gov/search/titles/results/?state=Mississippi&page=12&format=json: 50"
       ]
      },
      {
       "output_type": "stream",
       "stream": "stdout",
       "text": [
        "\n",
        "http://chroniclingamerica.loc.gov/search/titles/results/?state=Mississippi&page=13&format=json: 50"
       ]
      },
      {
       "output_type": "stream",
       "stream": "stdout",
       "text": [
        "\n",
        "http://chroniclingamerica.loc.gov/search/titles/results/?state=Mississippi&page=14&format=json: 50"
       ]
      },
      {
       "output_type": "stream",
       "stream": "stdout",
       "text": [
        "\n",
        "http://chroniclingamerica.loc.gov/search/titles/results/?state=Mississippi&page=15&format=json: 50"
       ]
      },
      {
       "output_type": "stream",
       "stream": "stdout",
       "text": [
        "\n",
        "http://chroniclingamerica.loc.gov/search/titles/results/?state=Mississippi&page=16&format=json: 50"
       ]
      },
      {
       "output_type": "stream",
       "stream": "stdout",
       "text": [
        "\n",
        "http://chroniclingamerica.loc.gov/search/titles/results/?state=Mississippi&page=17&format=json: 50"
       ]
      },
      {
       "output_type": "stream",
       "stream": "stdout",
       "text": [
        "\n",
        "http://chroniclingamerica.loc.gov/search/titles/results/?state=Mississippi&page=18&format=json: 50"
       ]
      },
      {
       "output_type": "stream",
       "stream": "stdout",
       "text": [
        "\n",
        "http://chroniclingamerica.loc.gov/search/titles/results/?state=Mississippi&page=19&format=json: 50"
       ]
      },
      {
       "output_type": "stream",
       "stream": "stdout",
       "text": [
        "\n",
        "http://chroniclingamerica.loc.gov/search/titles/results/?state=Mississippi&page=20&format=json: 50"
       ]
      },
      {
       "output_type": "stream",
       "stream": "stdout",
       "text": [
        "\n",
        "http://chroniclingamerica.loc.gov/search/titles/results/?state=Mississippi&page=21&format=json: 50"
       ]
      },
      {
       "output_type": "stream",
       "stream": "stdout",
       "text": [
        "\n",
        "http://chroniclingamerica.loc.gov/search/titles/results/?state=Mississippi&page=22&format=json: 50"
       ]
      },
      {
       "output_type": "stream",
       "stream": "stdout",
       "text": [
        "\n",
        "http://chroniclingamerica.loc.gov/search/titles/results/?state=Mississippi&page=23&format=json: 50"
       ]
      },
      {
       "output_type": "stream",
       "stream": "stdout",
       "text": [
        "\n",
        "http://chroniclingamerica.loc.gov/search/titles/results/?state=Mississippi&page=24&format=json: 50"
       ]
      },
      {
       "output_type": "stream",
       "stream": "stdout",
       "text": [
        "\n",
        "http://chroniclingamerica.loc.gov/search/titles/results/?state=Mississippi&page=25&format=json: 50"
       ]
      },
      {
       "output_type": "stream",
       "stream": "stdout",
       "text": [
        "\n",
        "http://chroniclingamerica.loc.gov/search/titles/results/?state=Mississippi&page=26&format=json: 50"
       ]
      },
      {
       "output_type": "stream",
       "stream": "stdout",
       "text": [
        "\n",
        "http://chroniclingamerica.loc.gov/search/titles/results/?state=Mississippi&page=27&format=json: 50"
       ]
      },
      {
       "output_type": "stream",
       "stream": "stdout",
       "text": [
        "\n",
        "http://chroniclingamerica.loc.gov/search/titles/results/?state=Mississippi&page=28&format=json: 50"
       ]
      },
      {
       "output_type": "stream",
       "stream": "stdout",
       "text": [
        "\n",
        "http://chroniclingamerica.loc.gov/search/titles/results/?state=Mississippi&page=29&format=json: 50"
       ]
      },
      {
       "output_type": "stream",
       "stream": "stdout",
       "text": [
        "\n",
        "http://chroniclingamerica.loc.gov/search/titles/results/?state=Mississippi&page=30&format=json: 50"
       ]
      },
      {
       "output_type": "stream",
       "stream": "stdout",
       "text": [
        "\n",
        "http://chroniclingamerica.loc.gov/search/titles/results/?state=Mississippi&page=31&format=json: 30"
       ]
      },
      {
       "output_type": "stream",
       "stream": "stdout",
       "text": [
        "\n",
        "Montana\n",
        "\n",
        "{'state': 'Montana', 'format': 'json'}\n",
        "1152"
       ]
      },
      {
       "output_type": "stream",
       "stream": "stdout",
       "text": [
        "\n",
        "http://chroniclingamerica.loc.gov/search/titles/results/?state=Montana&page=2&format=json: 50"
       ]
      },
      {
       "output_type": "stream",
       "stream": "stdout",
       "text": [
        "\n",
        "http://chroniclingamerica.loc.gov/search/titles/results/?state=Montana&page=3&format=json: 50"
       ]
      },
      {
       "output_type": "stream",
       "stream": "stdout",
       "text": [
        "\n",
        "http://chroniclingamerica.loc.gov/search/titles/results/?state=Montana&page=4&format=json: 50"
       ]
      },
      {
       "output_type": "stream",
       "stream": "stdout",
       "text": [
        "\n",
        "http://chroniclingamerica.loc.gov/search/titles/results/?state=Montana&page=5&format=json: 50"
       ]
      },
      {
       "output_type": "stream",
       "stream": "stdout",
       "text": [
        "\n",
        "http://chroniclingamerica.loc.gov/search/titles/results/?state=Montana&page=6&format=json: 50"
       ]
      },
      {
       "output_type": "stream",
       "stream": "stdout",
       "text": [
        "\n",
        "http://chroniclingamerica.loc.gov/search/titles/results/?state=Montana&page=7&format=json: 50"
       ]
      },
      {
       "output_type": "stream",
       "stream": "stdout",
       "text": [
        "\n",
        "http://chroniclingamerica.loc.gov/search/titles/results/?state=Montana&page=8&format=json: 50"
       ]
      },
      {
       "output_type": "stream",
       "stream": "stdout",
       "text": [
        "\n",
        "http://chroniclingamerica.loc.gov/search/titles/results/?state=Montana&page=9&format=json: 50"
       ]
      },
      {
       "output_type": "stream",
       "stream": "stdout",
       "text": [
        "\n",
        "http://chroniclingamerica.loc.gov/search/titles/results/?state=Montana&page=10&format=json: 50"
       ]
      },
      {
       "output_type": "stream",
       "stream": "stdout",
       "text": [
        "\n",
        "http://chroniclingamerica.loc.gov/search/titles/results/?state=Montana&page=11&format=json: 50"
       ]
      },
      {
       "output_type": "stream",
       "stream": "stdout",
       "text": [
        "\n",
        "http://chroniclingamerica.loc.gov/search/titles/results/?state=Montana&page=12&format=json: 50"
       ]
      },
      {
       "output_type": "stream",
       "stream": "stdout",
       "text": [
        "\n",
        "http://chroniclingamerica.loc.gov/search/titles/results/?state=Montana&page=13&format=json: 50"
       ]
      },
      {
       "output_type": "stream",
       "stream": "stdout",
       "text": [
        "\n",
        "http://chroniclingamerica.loc.gov/search/titles/results/?state=Montana&page=14&format=json: 50"
       ]
      },
      {
       "output_type": "stream",
       "stream": "stdout",
       "text": [
        "\n",
        "http://chroniclingamerica.loc.gov/search/titles/results/?state=Montana&page=15&format=json: 50"
       ]
      },
      {
       "output_type": "stream",
       "stream": "stdout",
       "text": [
        "\n",
        "http://chroniclingamerica.loc.gov/search/titles/results/?state=Montana&page=16&format=json: 50"
       ]
      },
      {
       "output_type": "stream",
       "stream": "stdout",
       "text": [
        "\n",
        "http://chroniclingamerica.loc.gov/search/titles/results/?state=Montana&page=17&format=json: 50"
       ]
      },
      {
       "output_type": "stream",
       "stream": "stdout",
       "text": [
        "\n",
        "http://chroniclingamerica.loc.gov/search/titles/results/?state=Montana&page=18&format=json: 50"
       ]
      },
      {
       "output_type": "stream",
       "stream": "stdout",
       "text": [
        "\n",
        "http://chroniclingamerica.loc.gov/search/titles/results/?state=Montana&page=19&format=json: 50"
       ]
      },
      {
       "output_type": "stream",
       "stream": "stdout",
       "text": [
        "\n",
        "http://chroniclingamerica.loc.gov/search/titles/results/?state=Montana&page=20&format=json: 50"
       ]
      },
      {
       "output_type": "stream",
       "stream": "stdout",
       "text": [
        "\n",
        "http://chroniclingamerica.loc.gov/search/titles/results/?state=Montana&page=21&format=json: 50"
       ]
      },
      {
       "output_type": "stream",
       "stream": "stdout",
       "text": [
        "\n",
        "http://chroniclingamerica.loc.gov/search/titles/results/?state=Montana&page=22&format=json: 50"
       ]
      },
      {
       "output_type": "stream",
       "stream": "stdout",
       "text": [
        "\n",
        "http://chroniclingamerica.loc.gov/search/titles/results/?state=Montana&page=23&format=json: 50"
       ]
      },
      {
       "output_type": "stream",
       "stream": "stdout",
       "text": [
        "\n",
        "http://chroniclingamerica.loc.gov/search/titles/results/?state=Montana&page=24&format=json: 2"
       ]
      },
      {
       "output_type": "stream",
       "stream": "stdout",
       "text": [
        "\n",
        "North carolina\n",
        "\n",
        "{'state': 'North carolina', 'format': 'json'}\n",
        "0"
       ]
      },
      {
       "output_type": "stream",
       "stream": "stdout",
       "text": [
        "\n",
        "North dakota\n",
        "\n",
        "{'state': 'North dakota', 'format': 'json'}\n",
        "0"
       ]
      },
      {
       "output_type": "stream",
       "stream": "stdout",
       "text": [
        "\n",
        "Nebraska\n",
        "\n",
        "{'state': 'Nebraska', 'format': 'json'}\n",
        "3938"
       ]
      },
      {
       "output_type": "stream",
       "stream": "stdout",
       "text": [
        "\n",
        "http://chroniclingamerica.loc.gov/search/titles/results/?state=Nebraska&page=2&format=json: 50"
       ]
      },
      {
       "output_type": "stream",
       "stream": "stdout",
       "text": [
        "\n",
        "http://chroniclingamerica.loc.gov/search/titles/results/?state=Nebraska&page=3&format=json: 50"
       ]
      },
      {
       "output_type": "stream",
       "stream": "stdout",
       "text": [
        "\n",
        "http://chroniclingamerica.loc.gov/search/titles/results/?state=Nebraska&page=4&format=json: 50"
       ]
      },
      {
       "output_type": "stream",
       "stream": "stdout",
       "text": [
        "\n",
        "http://chroniclingamerica.loc.gov/search/titles/results/?state=Nebraska&page=5&format=json: 50"
       ]
      },
      {
       "output_type": "stream",
       "stream": "stdout",
       "text": [
        "\n",
        "http://chroniclingamerica.loc.gov/search/titles/results/?state=Nebraska&page=6&format=json: 50"
       ]
      },
      {
       "output_type": "stream",
       "stream": "stdout",
       "text": [
        "\n",
        "http://chroniclingamerica.loc.gov/search/titles/results/?state=Nebraska&page=7&format=json: 50"
       ]
      },
      {
       "output_type": "stream",
       "stream": "stdout",
       "text": [
        "\n",
        "http://chroniclingamerica.loc.gov/search/titles/results/?state=Nebraska&page=8&format=json: 50"
       ]
      },
      {
       "output_type": "stream",
       "stream": "stdout",
       "text": [
        "\n",
        "http://chroniclingamerica.loc.gov/search/titles/results/?state=Nebraska&page=9&format=json: 50"
       ]
      },
      {
       "output_type": "stream",
       "stream": "stdout",
       "text": [
        "\n",
        "http://chroniclingamerica.loc.gov/search/titles/results/?state=Nebraska&page=10&format=json: 50"
       ]
      },
      {
       "output_type": "stream",
       "stream": "stdout",
       "text": [
        "\n",
        "http://chroniclingamerica.loc.gov/search/titles/results/?state=Nebraska&page=11&format=json: 50"
       ]
      },
      {
       "output_type": "stream",
       "stream": "stdout",
       "text": [
        "\n",
        "http://chroniclingamerica.loc.gov/search/titles/results/?state=Nebraska&page=12&format=json: 50"
       ]
      },
      {
       "output_type": "stream",
       "stream": "stdout",
       "text": [
        "\n",
        "http://chroniclingamerica.loc.gov/search/titles/results/?state=Nebraska&page=13&format=json: 50"
       ]
      },
      {
       "output_type": "stream",
       "stream": "stdout",
       "text": [
        "\n",
        "http://chroniclingamerica.loc.gov/search/titles/results/?state=Nebraska&page=14&format=json: 50"
       ]
      },
      {
       "output_type": "stream",
       "stream": "stdout",
       "text": [
        "\n",
        "http://chroniclingamerica.loc.gov/search/titles/results/?state=Nebraska&page=15&format=json: 50"
       ]
      },
      {
       "output_type": "stream",
       "stream": "stdout",
       "text": [
        "\n",
        "http://chroniclingamerica.loc.gov/search/titles/results/?state=Nebraska&page=16&format=json: 50"
       ]
      },
      {
       "output_type": "stream",
       "stream": "stdout",
       "text": [
        "\n",
        "http://chroniclingamerica.loc.gov/search/titles/results/?state=Nebraska&page=17&format=json: 50"
       ]
      },
      {
       "output_type": "stream",
       "stream": "stdout",
       "text": [
        "\n",
        "http://chroniclingamerica.loc.gov/search/titles/results/?state=Nebraska&page=18&format=json: 50"
       ]
      },
      {
       "output_type": "stream",
       "stream": "stdout",
       "text": [
        "\n",
        "http://chroniclingamerica.loc.gov/search/titles/results/?state=Nebraska&page=19&format=json: 50"
       ]
      },
      {
       "output_type": "stream",
       "stream": "stdout",
       "text": [
        "\n",
        "http://chroniclingamerica.loc.gov/search/titles/results/?state=Nebraska&page=20&format=json: 50"
       ]
      },
      {
       "output_type": "stream",
       "stream": "stdout",
       "text": [
        "\n",
        "http://chroniclingamerica.loc.gov/search/titles/results/?state=Nebraska&page=21&format=json: 50"
       ]
      },
      {
       "output_type": "stream",
       "stream": "stdout",
       "text": [
        "\n",
        "http://chroniclingamerica.loc.gov/search/titles/results/?state=Nebraska&page=22&format=json: 50"
       ]
      },
      {
       "output_type": "stream",
       "stream": "stdout",
       "text": [
        "\n",
        "http://chroniclingamerica.loc.gov/search/titles/results/?state=Nebraska&page=23&format=json: 50"
       ]
      },
      {
       "output_type": "stream",
       "stream": "stdout",
       "text": [
        "\n",
        "http://chroniclingamerica.loc.gov/search/titles/results/?state=Nebraska&page=24&format=json: 50"
       ]
      },
      {
       "output_type": "stream",
       "stream": "stdout",
       "text": [
        "\n",
        "http://chroniclingamerica.loc.gov/search/titles/results/?state=Nebraska&page=25&format=json: 50"
       ]
      },
      {
       "output_type": "stream",
       "stream": "stdout",
       "text": [
        "\n",
        "http://chroniclingamerica.loc.gov/search/titles/results/?state=Nebraska&page=26&format=json: 50"
       ]
      },
      {
       "output_type": "stream",
       "stream": "stdout",
       "text": [
        "\n",
        "http://chroniclingamerica.loc.gov/search/titles/results/?state=Nebraska&page=27&format=json: 50"
       ]
      },
      {
       "output_type": "stream",
       "stream": "stdout",
       "text": [
        "\n",
        "http://chroniclingamerica.loc.gov/search/titles/results/?state=Nebraska&page=28&format=json: 50"
       ]
      },
      {
       "output_type": "stream",
       "stream": "stdout",
       "text": [
        "\n",
        "http://chroniclingamerica.loc.gov/search/titles/results/?state=Nebraska&page=29&format=json: 50"
       ]
      },
      {
       "output_type": "stream",
       "stream": "stdout",
       "text": [
        "\n",
        "http://chroniclingamerica.loc.gov/search/titles/results/?state=Nebraska&page=30&format=json: 50"
       ]
      },
      {
       "output_type": "stream",
       "stream": "stdout",
       "text": [
        "\n",
        "http://chroniclingamerica.loc.gov/search/titles/results/?state=Nebraska&page=31&format=json: 50"
       ]
      },
      {
       "output_type": "stream",
       "stream": "stdout",
       "text": [
        "\n",
        "http://chroniclingamerica.loc.gov/search/titles/results/?state=Nebraska&page=32&format=json: 50"
       ]
      },
      {
       "output_type": "stream",
       "stream": "stdout",
       "text": [
        "\n",
        "http://chroniclingamerica.loc.gov/search/titles/results/?state=Nebraska&page=33&format=json: 50"
       ]
      },
      {
       "output_type": "stream",
       "stream": "stdout",
       "text": [
        "\n",
        "http://chroniclingamerica.loc.gov/search/titles/results/?state=Nebraska&page=34&format=json: 50"
       ]
      },
      {
       "output_type": "stream",
       "stream": "stdout",
       "text": [
        "\n",
        "http://chroniclingamerica.loc.gov/search/titles/results/?state=Nebraska&page=35&format=json: 50"
       ]
      },
      {
       "output_type": "stream",
       "stream": "stdout",
       "text": [
        "\n",
        "http://chroniclingamerica.loc.gov/search/titles/results/?state=Nebraska&page=36&format=json: 50"
       ]
      },
      {
       "output_type": "stream",
       "stream": "stdout",
       "text": [
        "\n",
        "http://chroniclingamerica.loc.gov/search/titles/results/?state=Nebraska&page=37&format=json: 50"
       ]
      },
      {
       "output_type": "stream",
       "stream": "stdout",
       "text": [
        "\n",
        "http://chroniclingamerica.loc.gov/search/titles/results/?state=Nebraska&page=38&format=json: 50"
       ]
      },
      {
       "output_type": "stream",
       "stream": "stdout",
       "text": [
        "\n",
        "http://chroniclingamerica.loc.gov/search/titles/results/?state=Nebraska&page=39&format=json: 50"
       ]
      },
      {
       "output_type": "stream",
       "stream": "stdout",
       "text": [
        "\n",
        "http://chroniclingamerica.loc.gov/search/titles/results/?state=Nebraska&page=40&format=json: 50"
       ]
      },
      {
       "output_type": "stream",
       "stream": "stdout",
       "text": [
        "\n",
        "http://chroniclingamerica.loc.gov/search/titles/results/?state=Nebraska&page=41&format=json: 50"
       ]
      },
      {
       "output_type": "stream",
       "stream": "stdout",
       "text": [
        "\n",
        "http://chroniclingamerica.loc.gov/search/titles/results/?state=Nebraska&page=42&format=json: 50"
       ]
      },
      {
       "output_type": "stream",
       "stream": "stdout",
       "text": [
        "\n",
        "http://chroniclingamerica.loc.gov/search/titles/results/?state=Nebraska&page=43&format=json: 50"
       ]
      },
      {
       "output_type": "stream",
       "stream": "stdout",
       "text": [
        "\n",
        "http://chroniclingamerica.loc.gov/search/titles/results/?state=Nebraska&page=44&format=json: 50"
       ]
      },
      {
       "output_type": "stream",
       "stream": "stdout",
       "text": [
        "\n",
        "http://chroniclingamerica.loc.gov/search/titles/results/?state=Nebraska&page=45&format=json: 50"
       ]
      },
      {
       "output_type": "stream",
       "stream": "stdout",
       "text": [
        "\n",
        "http://chroniclingamerica.loc.gov/search/titles/results/?state=Nebraska&page=46&format=json: 50"
       ]
      },
      {
       "output_type": "stream",
       "stream": "stdout",
       "text": [
        "\n",
        "http://chroniclingamerica.loc.gov/search/titles/results/?state=Nebraska&page=47&format=json: 50"
       ]
      },
      {
       "output_type": "stream",
       "stream": "stdout",
       "text": [
        "\n",
        "http://chroniclingamerica.loc.gov/search/titles/results/?state=Nebraska&page=48&format=json: 50"
       ]
      },
      {
       "output_type": "stream",
       "stream": "stdout",
       "text": [
        "\n",
        "http://chroniclingamerica.loc.gov/search/titles/results/?state=Nebraska&page=49&format=json: 50"
       ]
      },
      {
       "output_type": "stream",
       "stream": "stdout",
       "text": [
        "\n",
        "http://chroniclingamerica.loc.gov/search/titles/results/?state=Nebraska&page=50&format=json: 50"
       ]
      },
      {
       "output_type": "stream",
       "stream": "stdout",
       "text": [
        "\n",
        "http://chroniclingamerica.loc.gov/search/titles/results/?state=Nebraska&page=51&format=json: 50"
       ]
      },
      {
       "output_type": "stream",
       "stream": "stdout",
       "text": [
        "\n",
        "http://chroniclingamerica.loc.gov/search/titles/results/?state=Nebraska&page=52&format=json: 50"
       ]
      },
      {
       "output_type": "stream",
       "stream": "stdout",
       "text": [
        "\n",
        "http://chroniclingamerica.loc.gov/search/titles/results/?state=Nebraska&page=53&format=json: 50"
       ]
      },
      {
       "output_type": "stream",
       "stream": "stdout",
       "text": [
        "\n",
        "http://chroniclingamerica.loc.gov/search/titles/results/?state=Nebraska&page=54&format=json: 50"
       ]
      },
      {
       "output_type": "stream",
       "stream": "stdout",
       "text": [
        "\n",
        "http://chroniclingamerica.loc.gov/search/titles/results/?state=Nebraska&page=55&format=json: 50"
       ]
      },
      {
       "output_type": "stream",
       "stream": "stdout",
       "text": [
        "\n",
        "http://chroniclingamerica.loc.gov/search/titles/results/?state=Nebraska&page=56&format=json: 50"
       ]
      },
      {
       "output_type": "stream",
       "stream": "stdout",
       "text": [
        "\n",
        "http://chroniclingamerica.loc.gov/search/titles/results/?state=Nebraska&page=57&format=json: 50"
       ]
      },
      {
       "output_type": "stream",
       "stream": "stdout",
       "text": [
        "\n",
        "http://chroniclingamerica.loc.gov/search/titles/results/?state=Nebraska&page=58&format=json: 50"
       ]
      },
      {
       "output_type": "stream",
       "stream": "stdout",
       "text": [
        "\n",
        "http://chroniclingamerica.loc.gov/search/titles/results/?state=Nebraska&page=59&format=json: 50"
       ]
      },
      {
       "output_type": "stream",
       "stream": "stdout",
       "text": [
        "\n",
        "http://chroniclingamerica.loc.gov/search/titles/results/?state=Nebraska&page=60&format=json: 50"
       ]
      },
      {
       "output_type": "stream",
       "stream": "stdout",
       "text": [
        "\n",
        "http://chroniclingamerica.loc.gov/search/titles/results/?state=Nebraska&page=61&format=json: 50"
       ]
      },
      {
       "output_type": "stream",
       "stream": "stdout",
       "text": [
        "\n",
        "http://chroniclingamerica.loc.gov/search/titles/results/?state=Nebraska&page=62&format=json: 50"
       ]
      },
      {
       "output_type": "stream",
       "stream": "stdout",
       "text": [
        "\n",
        "http://chroniclingamerica.loc.gov/search/titles/results/?state=Nebraska&page=63&format=json: 50"
       ]
      },
      {
       "output_type": "stream",
       "stream": "stdout",
       "text": [
        "\n",
        "http://chroniclingamerica.loc.gov/search/titles/results/?state=Nebraska&page=64&format=json: 50"
       ]
      },
      {
       "output_type": "stream",
       "stream": "stdout",
       "text": [
        "\n",
        "http://chroniclingamerica.loc.gov/search/titles/results/?state=Nebraska&page=65&format=json: 50"
       ]
      },
      {
       "output_type": "stream",
       "stream": "stdout",
       "text": [
        "\n",
        "http://chroniclingamerica.loc.gov/search/titles/results/?state=Nebraska&page=66&format=json: 50"
       ]
      },
      {
       "output_type": "stream",
       "stream": "stdout",
       "text": [
        "\n",
        "http://chroniclingamerica.loc.gov/search/titles/results/?state=Nebraska&page=67&format=json: 50"
       ]
      },
      {
       "output_type": "stream",
       "stream": "stdout",
       "text": [
        "\n",
        "http://chroniclingamerica.loc.gov/search/titles/results/?state=Nebraska&page=68&format=json: 50"
       ]
      },
      {
       "output_type": "stream",
       "stream": "stdout",
       "text": [
        "\n",
        "http://chroniclingamerica.loc.gov/search/titles/results/?state=Nebraska&page=69&format=json: 50"
       ]
      },
      {
       "output_type": "stream",
       "stream": "stdout",
       "text": [
        "\n",
        "http://chroniclingamerica.loc.gov/search/titles/results/?state=Nebraska&page=70&format=json: 50"
       ]
      },
      {
       "output_type": "stream",
       "stream": "stdout",
       "text": [
        "\n",
        "http://chroniclingamerica.loc.gov/search/titles/results/?state=Nebraska&page=71&format=json: 50"
       ]
      },
      {
       "output_type": "stream",
       "stream": "stdout",
       "text": [
        "\n",
        "http://chroniclingamerica.loc.gov/search/titles/results/?state=Nebraska&page=72&format=json: 50"
       ]
      },
      {
       "output_type": "stream",
       "stream": "stdout",
       "text": [
        "\n",
        "http://chroniclingamerica.loc.gov/search/titles/results/?state=Nebraska&page=73&format=json: 50"
       ]
      },
      {
       "output_type": "stream",
       "stream": "stdout",
       "text": [
        "\n",
        "http://chroniclingamerica.loc.gov/search/titles/results/?state=Nebraska&page=74&format=json: 50"
       ]
      },
      {
       "output_type": "stream",
       "stream": "stdout",
       "text": [
        "\n",
        "http://chroniclingamerica.loc.gov/search/titles/results/?state=Nebraska&page=75&format=json: 50"
       ]
      },
      {
       "output_type": "stream",
       "stream": "stdout",
       "text": [
        "\n",
        "http://chroniclingamerica.loc.gov/search/titles/results/?state=Nebraska&page=76&format=json: 50"
       ]
      },
      {
       "output_type": "stream",
       "stream": "stdout",
       "text": [
        "\n",
        "http://chroniclingamerica.loc.gov/search/titles/results/?state=Nebraska&page=77&format=json: 50"
       ]
      },
      {
       "output_type": "stream",
       "stream": "stdout",
       "text": [
        "\n",
        "http://chroniclingamerica.loc.gov/search/titles/results/?state=Nebraska&page=78&format=json: 50"
       ]
      },
      {
       "output_type": "stream",
       "stream": "stdout",
       "text": [
        "\n",
        "http://chroniclingamerica.loc.gov/search/titles/results/?state=Nebraska&page=79&format=json: 38"
       ]
      },
      {
       "output_type": "stream",
       "stream": "stdout",
       "text": [
        "\n",
        "New hampshire\n",
        "\n",
        "{'state': 'New hampshire', 'format': 'json'}\n",
        "0"
       ]
      },
      {
       "output_type": "stream",
       "stream": "stdout",
       "text": [
        "\n",
        "New jersey\n",
        "\n",
        "{'state': 'New jersey', 'format': 'json'}\n",
        "0"
       ]
      },
      {
       "output_type": "stream",
       "stream": "stdout",
       "text": [
        "\n",
        "New mexico\n",
        "\n",
        "{'state': 'New mexico', 'format': 'json'}\n",
        "0"
       ]
      },
      {
       "output_type": "stream",
       "stream": "stdout",
       "text": [
        "\n",
        "Nevada\n",
        "\n",
        "{'state': 'Nevada', 'format': 'json'}\n",
        "664"
       ]
      },
      {
       "output_type": "stream",
       "stream": "stdout",
       "text": [
        "\n",
        "http://chroniclingamerica.loc.gov/search/titles/results/?state=Nevada&page=2&format=json: 50"
       ]
      },
      {
       "output_type": "stream",
       "stream": "stdout",
       "text": [
        "\n",
        "http://chroniclingamerica.loc.gov/search/titles/results/?state=Nevada&page=3&format=json: 50"
       ]
      },
      {
       "output_type": "stream",
       "stream": "stdout",
       "text": [
        "\n",
        "http://chroniclingamerica.loc.gov/search/titles/results/?state=Nevada&page=4&format=json: 50"
       ]
      },
      {
       "output_type": "stream",
       "stream": "stdout",
       "text": [
        "\n",
        "http://chroniclingamerica.loc.gov/search/titles/results/?state=Nevada&page=5&format=json: 50"
       ]
      },
      {
       "output_type": "stream",
       "stream": "stdout",
       "text": [
        "\n",
        "http://chroniclingamerica.loc.gov/search/titles/results/?state=Nevada&page=6&format=json: 50"
       ]
      },
      {
       "output_type": "stream",
       "stream": "stdout",
       "text": [
        "\n",
        "http://chroniclingamerica.loc.gov/search/titles/results/?state=Nevada&page=7&format=json: 50"
       ]
      },
      {
       "output_type": "stream",
       "stream": "stdout",
       "text": [
        "\n",
        "http://chroniclingamerica.loc.gov/search/titles/results/?state=Nevada&page=8&format=json: 50"
       ]
      },
      {
       "output_type": "stream",
       "stream": "stdout",
       "text": [
        "\n",
        "http://chroniclingamerica.loc.gov/search/titles/results/?state=Nevada&page=9&format=json: 50"
       ]
      },
      {
       "output_type": "stream",
       "stream": "stdout",
       "text": [
        "\n",
        "http://chroniclingamerica.loc.gov/search/titles/results/?state=Nevada&page=10&format=json: 50"
       ]
      },
      {
       "output_type": "stream",
       "stream": "stdout",
       "text": [
        "\n",
        "http://chroniclingamerica.loc.gov/search/titles/results/?state=Nevada&page=11&format=json: 50"
       ]
      },
      {
       "output_type": "stream",
       "stream": "stdout",
       "text": [
        "\n",
        "http://chroniclingamerica.loc.gov/search/titles/results/?state=Nevada&page=12&format=json: 50"
       ]
      },
      {
       "output_type": "stream",
       "stream": "stdout",
       "text": [
        "\n",
        "http://chroniclingamerica.loc.gov/search/titles/results/?state=Nevada&page=13&format=json: 50"
       ]
      },
      {
       "output_type": "stream",
       "stream": "stdout",
       "text": [
        "\n",
        "http://chroniclingamerica.loc.gov/search/titles/results/?state=Nevada&page=14&format=json: 14"
       ]
      },
      {
       "output_type": "stream",
       "stream": "stdout",
       "text": [
        "\n",
        "New york\n",
        "\n",
        "{'state': 'New york', 'format': 'json'}\n",
        "0"
       ]
      },
      {
       "output_type": "stream",
       "stream": "stdout",
       "text": [
        "\n",
        "Ohio\n",
        "\n",
        "{'state': 'Ohio', 'format': 'json'}\n",
        "7498"
       ]
      },
      {
       "output_type": "stream",
       "stream": "stdout",
       "text": [
        "\n",
        "http://chroniclingamerica.loc.gov/search/titles/results/?state=Ohio&page=2&format=json: 50"
       ]
      },
      {
       "output_type": "stream",
       "stream": "stdout",
       "text": [
        "\n",
        "http://chroniclingamerica.loc.gov/search/titles/results/?state=Ohio&page=3&format=json: 50"
       ]
      },
      {
       "output_type": "stream",
       "stream": "stdout",
       "text": [
        "\n",
        "http://chroniclingamerica.loc.gov/search/titles/results/?state=Ohio&page=4&format=json: 50"
       ]
      },
      {
       "output_type": "stream",
       "stream": "stdout",
       "text": [
        "\n",
        "http://chroniclingamerica.loc.gov/search/titles/results/?state=Ohio&page=5&format=json: 50"
       ]
      },
      {
       "output_type": "stream",
       "stream": "stdout",
       "text": [
        "\n",
        "http://chroniclingamerica.loc.gov/search/titles/results/?state=Ohio&page=6&format=json: 50"
       ]
      },
      {
       "output_type": "stream",
       "stream": "stdout",
       "text": [
        "\n",
        "http://chroniclingamerica.loc.gov/search/titles/results/?state=Ohio&page=7&format=json: 50"
       ]
      },
      {
       "output_type": "stream",
       "stream": "stdout",
       "text": [
        "\n",
        "http://chroniclingamerica.loc.gov/search/titles/results/?state=Ohio&page=8&format=json: 50"
       ]
      },
      {
       "output_type": "stream",
       "stream": "stdout",
       "text": [
        "\n",
        "http://chroniclingamerica.loc.gov/search/titles/results/?state=Ohio&page=9&format=json: 50"
       ]
      },
      {
       "output_type": "stream",
       "stream": "stdout",
       "text": [
        "\n",
        "http://chroniclingamerica.loc.gov/search/titles/results/?state=Ohio&page=10&format=json: 50"
       ]
      },
      {
       "output_type": "stream",
       "stream": "stdout",
       "text": [
        "\n",
        "http://chroniclingamerica.loc.gov/search/titles/results/?state=Ohio&page=11&format=json: 50"
       ]
      },
      {
       "output_type": "stream",
       "stream": "stdout",
       "text": [
        "\n",
        "http://chroniclingamerica.loc.gov/search/titles/results/?state=Ohio&page=12&format=json: 50"
       ]
      },
      {
       "output_type": "stream",
       "stream": "stdout",
       "text": [
        "\n",
        "http://chroniclingamerica.loc.gov/search/titles/results/?state=Ohio&page=13&format=json: 50"
       ]
      },
      {
       "output_type": "stream",
       "stream": "stdout",
       "text": [
        "\n",
        "http://chroniclingamerica.loc.gov/search/titles/results/?state=Ohio&page=14&format=json: 50"
       ]
      },
      {
       "output_type": "stream",
       "stream": "stdout",
       "text": [
        "\n",
        "http://chroniclingamerica.loc.gov/search/titles/results/?state=Ohio&page=15&format=json: 50"
       ]
      },
      {
       "output_type": "stream",
       "stream": "stdout",
       "text": [
        "\n",
        "http://chroniclingamerica.loc.gov/search/titles/results/?state=Ohio&page=16&format=json: 50"
       ]
      },
      {
       "output_type": "stream",
       "stream": "stdout",
       "text": [
        "\n",
        "http://chroniclingamerica.loc.gov/search/titles/results/?state=Ohio&page=17&format=json: 50"
       ]
      },
      {
       "output_type": "stream",
       "stream": "stdout",
       "text": [
        "\n",
        "http://chroniclingamerica.loc.gov/search/titles/results/?state=Ohio&page=18&format=json: 50"
       ]
      },
      {
       "output_type": "stream",
       "stream": "stdout",
       "text": [
        "\n",
        "http://chroniclingamerica.loc.gov/search/titles/results/?state=Ohio&page=19&format=json: 50"
       ]
      },
      {
       "output_type": "stream",
       "stream": "stdout",
       "text": [
        "\n",
        "http://chroniclingamerica.loc.gov/search/titles/results/?state=Ohio&page=20&format=json: 50"
       ]
      },
      {
       "output_type": "stream",
       "stream": "stdout",
       "text": [
        "\n",
        "http://chroniclingamerica.loc.gov/search/titles/results/?state=Ohio&page=21&format=json: 50"
       ]
      },
      {
       "output_type": "stream",
       "stream": "stdout",
       "text": [
        "\n",
        "http://chroniclingamerica.loc.gov/search/titles/results/?state=Ohio&page=22&format=json: 50"
       ]
      },
      {
       "output_type": "stream",
       "stream": "stdout",
       "text": [
        "\n",
        "http://chroniclingamerica.loc.gov/search/titles/results/?state=Ohio&page=23&format=json: 50"
       ]
      },
      {
       "output_type": "stream",
       "stream": "stdout",
       "text": [
        "\n",
        "http://chroniclingamerica.loc.gov/search/titles/results/?state=Ohio&page=24&format=json: 50"
       ]
      },
      {
       "output_type": "stream",
       "stream": "stdout",
       "text": [
        "\n",
        "http://chroniclingamerica.loc.gov/search/titles/results/?state=Ohio&page=25&format=json: 50"
       ]
      },
      {
       "output_type": "stream",
       "stream": "stdout",
       "text": [
        "\n",
        "http://chroniclingamerica.loc.gov/search/titles/results/?state=Ohio&page=26&format=json: 50"
       ]
      },
      {
       "output_type": "stream",
       "stream": "stdout",
       "text": [
        "\n",
        "http://chroniclingamerica.loc.gov/search/titles/results/?state=Ohio&page=27&format=json: 50"
       ]
      },
      {
       "output_type": "stream",
       "stream": "stdout",
       "text": [
        "\n",
        "http://chroniclingamerica.loc.gov/search/titles/results/?state=Ohio&page=28&format=json: 50"
       ]
      },
      {
       "output_type": "stream",
       "stream": "stdout",
       "text": [
        "\n",
        "http://chroniclingamerica.loc.gov/search/titles/results/?state=Ohio&page=29&format=json: 50"
       ]
      },
      {
       "output_type": "stream",
       "stream": "stdout",
       "text": [
        "\n",
        "http://chroniclingamerica.loc.gov/search/titles/results/?state=Ohio&page=30&format=json: 50"
       ]
      },
      {
       "output_type": "stream",
       "stream": "stdout",
       "text": [
        "\n",
        "http://chroniclingamerica.loc.gov/search/titles/results/?state=Ohio&page=31&format=json: 50"
       ]
      },
      {
       "output_type": "stream",
       "stream": "stdout",
       "text": [
        "\n",
        "http://chroniclingamerica.loc.gov/search/titles/results/?state=Ohio&page=32&format=json: 50"
       ]
      },
      {
       "output_type": "stream",
       "stream": "stdout",
       "text": [
        "\n",
        "http://chroniclingamerica.loc.gov/search/titles/results/?state=Ohio&page=33&format=json: 50"
       ]
      },
      {
       "output_type": "stream",
       "stream": "stdout",
       "text": [
        "\n",
        "http://chroniclingamerica.loc.gov/search/titles/results/?state=Ohio&page=34&format=json: 50"
       ]
      },
      {
       "output_type": "stream",
       "stream": "stdout",
       "text": [
        "\n",
        "http://chroniclingamerica.loc.gov/search/titles/results/?state=Ohio&page=35&format=json: 50"
       ]
      },
      {
       "output_type": "stream",
       "stream": "stdout",
       "text": [
        "\n",
        "http://chroniclingamerica.loc.gov/search/titles/results/?state=Ohio&page=36&format=json: 50"
       ]
      },
      {
       "output_type": "stream",
       "stream": "stdout",
       "text": [
        "\n",
        "http://chroniclingamerica.loc.gov/search/titles/results/?state=Ohio&page=37&format=json: 50"
       ]
      },
      {
       "output_type": "stream",
       "stream": "stdout",
       "text": [
        "\n",
        "http://chroniclingamerica.loc.gov/search/titles/results/?state=Ohio&page=38&format=json: 50"
       ]
      },
      {
       "output_type": "stream",
       "stream": "stdout",
       "text": [
        "\n",
        "http://chroniclingamerica.loc.gov/search/titles/results/?state=Ohio&page=39&format=json: 50"
       ]
      },
      {
       "output_type": "stream",
       "stream": "stdout",
       "text": [
        "\n",
        "http://chroniclingamerica.loc.gov/search/titles/results/?state=Ohio&page=40&format=json: 50"
       ]
      },
      {
       "output_type": "stream",
       "stream": "stdout",
       "text": [
        "\n",
        "http://chroniclingamerica.loc.gov/search/titles/results/?state=Ohio&page=41&format=json: 50"
       ]
      },
      {
       "output_type": "stream",
       "stream": "stdout",
       "text": [
        "\n",
        "http://chroniclingamerica.loc.gov/search/titles/results/?state=Ohio&page=42&format=json: 50"
       ]
      },
      {
       "output_type": "stream",
       "stream": "stdout",
       "text": [
        "\n",
        "http://chroniclingamerica.loc.gov/search/titles/results/?state=Ohio&page=43&format=json: 50"
       ]
      },
      {
       "output_type": "stream",
       "stream": "stdout",
       "text": [
        "\n",
        "http://chroniclingamerica.loc.gov/search/titles/results/?state=Ohio&page=44&format=json: 50"
       ]
      },
      {
       "output_type": "stream",
       "stream": "stdout",
       "text": [
        "\n",
        "http://chroniclingamerica.loc.gov/search/titles/results/?state=Ohio&page=45&format=json: 50"
       ]
      },
      {
       "output_type": "stream",
       "stream": "stdout",
       "text": [
        "\n",
        "http://chroniclingamerica.loc.gov/search/titles/results/?state=Ohio&page=46&format=json: 50"
       ]
      },
      {
       "output_type": "stream",
       "stream": "stdout",
       "text": [
        "\n",
        "http://chroniclingamerica.loc.gov/search/titles/results/?state=Ohio&page=47&format=json: 50"
       ]
      },
      {
       "output_type": "stream",
       "stream": "stdout",
       "text": [
        "\n",
        "http://chroniclingamerica.loc.gov/search/titles/results/?state=Ohio&page=48&format=json: 50"
       ]
      },
      {
       "output_type": "stream",
       "stream": "stdout",
       "text": [
        "\n",
        "http://chroniclingamerica.loc.gov/search/titles/results/?state=Ohio&page=49&format=json: 50"
       ]
      },
      {
       "output_type": "stream",
       "stream": "stdout",
       "text": [
        "\n",
        "http://chroniclingamerica.loc.gov/search/titles/results/?state=Ohio&page=50&format=json: 50"
       ]
      },
      {
       "output_type": "stream",
       "stream": "stdout",
       "text": [
        "\n",
        "http://chroniclingamerica.loc.gov/search/titles/results/?state=Ohio&page=51&format=json: 50"
       ]
      },
      {
       "output_type": "stream",
       "stream": "stdout",
       "text": [
        "\n",
        "http://chroniclingamerica.loc.gov/search/titles/results/?state=Ohio&page=52&format=json: 50"
       ]
      },
      {
       "output_type": "stream",
       "stream": "stdout",
       "text": [
        "\n",
        "http://chroniclingamerica.loc.gov/search/titles/results/?state=Ohio&page=53&format=json: 50"
       ]
      },
      {
       "output_type": "stream",
       "stream": "stdout",
       "text": [
        "\n",
        "http://chroniclingamerica.loc.gov/search/titles/results/?state=Ohio&page=54&format=json: 50"
       ]
      },
      {
       "output_type": "stream",
       "stream": "stdout",
       "text": [
        "\n",
        "http://chroniclingamerica.loc.gov/search/titles/results/?state=Ohio&page=55&format=json: 50"
       ]
      },
      {
       "output_type": "stream",
       "stream": "stdout",
       "text": [
        "\n",
        "http://chroniclingamerica.loc.gov/search/titles/results/?state=Ohio&page=56&format=json: 50"
       ]
      },
      {
       "output_type": "stream",
       "stream": "stdout",
       "text": [
        "\n",
        "http://chroniclingamerica.loc.gov/search/titles/results/?state=Ohio&page=57&format=json: 50"
       ]
      },
      {
       "output_type": "stream",
       "stream": "stdout",
       "text": [
        "\n",
        "http://chroniclingamerica.loc.gov/search/titles/results/?state=Ohio&page=58&format=json: 50"
       ]
      },
      {
       "output_type": "stream",
       "stream": "stdout",
       "text": [
        "\n",
        "http://chroniclingamerica.loc.gov/search/titles/results/?state=Ohio&page=59&format=json: 50"
       ]
      },
      {
       "output_type": "stream",
       "stream": "stdout",
       "text": [
        "\n",
        "http://chroniclingamerica.loc.gov/search/titles/results/?state=Ohio&page=60&format=json: 50"
       ]
      },
      {
       "output_type": "stream",
       "stream": "stdout",
       "text": [
        "\n",
        "http://chroniclingamerica.loc.gov/search/titles/results/?state=Ohio&page=61&format=json: 50"
       ]
      },
      {
       "output_type": "stream",
       "stream": "stdout",
       "text": [
        "\n",
        "http://chroniclingamerica.loc.gov/search/titles/results/?state=Ohio&page=62&format=json: 50"
       ]
      },
      {
       "output_type": "stream",
       "stream": "stdout",
       "text": [
        "\n",
        "http://chroniclingamerica.loc.gov/search/titles/results/?state=Ohio&page=63&format=json: 50"
       ]
      },
      {
       "output_type": "stream",
       "stream": "stdout",
       "text": [
        "\n",
        "http://chroniclingamerica.loc.gov/search/titles/results/?state=Ohio&page=64&format=json: 50"
       ]
      },
      {
       "output_type": "stream",
       "stream": "stdout",
       "text": [
        "\n",
        "http://chroniclingamerica.loc.gov/search/titles/results/?state=Ohio&page=65&format=json: 50"
       ]
      },
      {
       "output_type": "stream",
       "stream": "stdout",
       "text": [
        "\n",
        "http://chroniclingamerica.loc.gov/search/titles/results/?state=Ohio&page=66&format=json: 50"
       ]
      },
      {
       "output_type": "stream",
       "stream": "stdout",
       "text": [
        "\n",
        "http://chroniclingamerica.loc.gov/search/titles/results/?state=Ohio&page=67&format=json: 50"
       ]
      },
      {
       "output_type": "stream",
       "stream": "stdout",
       "text": [
        "\n",
        "http://chroniclingamerica.loc.gov/search/titles/results/?state=Ohio&page=68&format=json: 50"
       ]
      },
      {
       "output_type": "stream",
       "stream": "stdout",
       "text": [
        "\n",
        "http://chroniclingamerica.loc.gov/search/titles/results/?state=Ohio&page=69&format=json: 50"
       ]
      },
      {
       "output_type": "stream",
       "stream": "stdout",
       "text": [
        "\n",
        "http://chroniclingamerica.loc.gov/search/titles/results/?state=Ohio&page=70&format=json: 50"
       ]
      },
      {
       "output_type": "stream",
       "stream": "stdout",
       "text": [
        "\n",
        "http://chroniclingamerica.loc.gov/search/titles/results/?state=Ohio&page=71&format=json: 50"
       ]
      },
      {
       "output_type": "stream",
       "stream": "stdout",
       "text": [
        "\n",
        "http://chroniclingamerica.loc.gov/search/titles/results/?state=Ohio&page=72&format=json: 50"
       ]
      },
      {
       "output_type": "stream",
       "stream": "stdout",
       "text": [
        "\n",
        "http://chroniclingamerica.loc.gov/search/titles/results/?state=Ohio&page=73&format=json: 50"
       ]
      },
      {
       "output_type": "stream",
       "stream": "stdout",
       "text": [
        "\n",
        "http://chroniclingamerica.loc.gov/search/titles/results/?state=Ohio&page=74&format=json: 50"
       ]
      },
      {
       "output_type": "stream",
       "stream": "stdout",
       "text": [
        "\n",
        "http://chroniclingamerica.loc.gov/search/titles/results/?state=Ohio&page=75&format=json: 50"
       ]
      },
      {
       "output_type": "stream",
       "stream": "stdout",
       "text": [
        "\n",
        "http://chroniclingamerica.loc.gov/search/titles/results/?state=Ohio&page=76&format=json: 50"
       ]
      },
      {
       "output_type": "stream",
       "stream": "stdout",
       "text": [
        "\n",
        "http://chroniclingamerica.loc.gov/search/titles/results/?state=Ohio&page=77&format=json: 50"
       ]
      },
      {
       "output_type": "stream",
       "stream": "stdout",
       "text": [
        "\n",
        "http://chroniclingamerica.loc.gov/search/titles/results/?state=Ohio&page=78&format=json: 50"
       ]
      },
      {
       "output_type": "stream",
       "stream": "stdout",
       "text": [
        "\n",
        "http://chroniclingamerica.loc.gov/search/titles/results/?state=Ohio&page=79&format=json: 50"
       ]
      },
      {
       "output_type": "stream",
       "stream": "stdout",
       "text": [
        "\n",
        "http://chroniclingamerica.loc.gov/search/titles/results/?state=Ohio&page=80&format=json: 50"
       ]
      },
      {
       "output_type": "stream",
       "stream": "stdout",
       "text": [
        "\n",
        "http://chroniclingamerica.loc.gov/search/titles/results/?state=Ohio&page=81&format=json: 50"
       ]
      },
      {
       "output_type": "stream",
       "stream": "stdout",
       "text": [
        "\n",
        "http://chroniclingamerica.loc.gov/search/titles/results/?state=Ohio&page=82&format=json: 50"
       ]
      },
      {
       "output_type": "stream",
       "stream": "stdout",
       "text": [
        "\n",
        "http://chroniclingamerica.loc.gov/search/titles/results/?state=Ohio&page=83&format=json: 50"
       ]
      },
      {
       "output_type": "stream",
       "stream": "stdout",
       "text": [
        "\n",
        "http://chroniclingamerica.loc.gov/search/titles/results/?state=Ohio&page=84&format=json: 50"
       ]
      },
      {
       "output_type": "stream",
       "stream": "stdout",
       "text": [
        "\n",
        "http://chroniclingamerica.loc.gov/search/titles/results/?state=Ohio&page=85&format=json: 50"
       ]
      },
      {
       "output_type": "stream",
       "stream": "stdout",
       "text": [
        "\n",
        "http://chroniclingamerica.loc.gov/search/titles/results/?state=Ohio&page=86&format=json: 50"
       ]
      },
      {
       "output_type": "stream",
       "stream": "stdout",
       "text": [
        "\n",
        "http://chroniclingamerica.loc.gov/search/titles/results/?state=Ohio&page=87&format=json: 50"
       ]
      },
      {
       "output_type": "stream",
       "stream": "stdout",
       "text": [
        "\n",
        "http://chroniclingamerica.loc.gov/search/titles/results/?state=Ohio&page=88&format=json: 50"
       ]
      },
      {
       "output_type": "stream",
       "stream": "stdout",
       "text": [
        "\n",
        "http://chroniclingamerica.loc.gov/search/titles/results/?state=Ohio&page=89&format=json: 50"
       ]
      },
      {
       "output_type": "stream",
       "stream": "stdout",
       "text": [
        "\n",
        "http://chroniclingamerica.loc.gov/search/titles/results/?state=Ohio&page=90&format=json: 50"
       ]
      },
      {
       "output_type": "stream",
       "stream": "stdout",
       "text": [
        "\n",
        "http://chroniclingamerica.loc.gov/search/titles/results/?state=Ohio&page=91&format=json: 50"
       ]
      },
      {
       "output_type": "stream",
       "stream": "stdout",
       "text": [
        "\n",
        "http://chroniclingamerica.loc.gov/search/titles/results/?state=Ohio&page=92&format=json: 50"
       ]
      },
      {
       "output_type": "stream",
       "stream": "stdout",
       "text": [
        "\n",
        "http://chroniclingamerica.loc.gov/search/titles/results/?state=Ohio&page=93&format=json: 50"
       ]
      },
      {
       "output_type": "stream",
       "stream": "stdout",
       "text": [
        "\n",
        "http://chroniclingamerica.loc.gov/search/titles/results/?state=Ohio&page=94&format=json: 50"
       ]
      },
      {
       "output_type": "stream",
       "stream": "stdout",
       "text": [
        "\n",
        "http://chroniclingamerica.loc.gov/search/titles/results/?state=Ohio&page=95&format=json: 50"
       ]
      },
      {
       "output_type": "stream",
       "stream": "stdout",
       "text": [
        "\n",
        "http://chroniclingamerica.loc.gov/search/titles/results/?state=Ohio&page=96&format=json: 50"
       ]
      },
      {
       "output_type": "stream",
       "stream": "stdout",
       "text": [
        "\n",
        "http://chroniclingamerica.loc.gov/search/titles/results/?state=Ohio&page=97&format=json: 50"
       ]
      },
      {
       "output_type": "stream",
       "stream": "stdout",
       "text": [
        "\n",
        "http://chroniclingamerica.loc.gov/search/titles/results/?state=Ohio&page=98&format=json: 50"
       ]
      },
      {
       "output_type": "stream",
       "stream": "stdout",
       "text": [
        "\n",
        "http://chroniclingamerica.loc.gov/search/titles/results/?state=Ohio&page=99&format=json: 50"
       ]
      },
      {
       "output_type": "stream",
       "stream": "stdout",
       "text": [
        "\n",
        "http://chroniclingamerica.loc.gov/search/titles/results/?state=Ohio&page=100&format=json: 50"
       ]
      },
      {
       "output_type": "stream",
       "stream": "stdout",
       "text": [
        "\n",
        "http://chroniclingamerica.loc.gov/search/titles/results/?state=Ohio&page=101&format=json: 50"
       ]
      },
      {
       "output_type": "stream",
       "stream": "stdout",
       "text": [
        "\n",
        "http://chroniclingamerica.loc.gov/search/titles/results/?state=Ohio&page=102&format=json: 50"
       ]
      },
      {
       "output_type": "stream",
       "stream": "stdout",
       "text": [
        "\n",
        "http://chroniclingamerica.loc.gov/search/titles/results/?state=Ohio&page=103&format=json: 50"
       ]
      },
      {
       "output_type": "stream",
       "stream": "stdout",
       "text": [
        "\n",
        "http://chroniclingamerica.loc.gov/search/titles/results/?state=Ohio&page=104&format=json: 50"
       ]
      },
      {
       "output_type": "stream",
       "stream": "stdout",
       "text": [
        "\n",
        "http://chroniclingamerica.loc.gov/search/titles/results/?state=Ohio&page=105&format=json: 50"
       ]
      },
      {
       "output_type": "stream",
       "stream": "stdout",
       "text": [
        "\n",
        "http://chroniclingamerica.loc.gov/search/titles/results/?state=Ohio&page=106&format=json: 50"
       ]
      },
      {
       "output_type": "stream",
       "stream": "stdout",
       "text": [
        "\n",
        "http://chroniclingamerica.loc.gov/search/titles/results/?state=Ohio&page=107&format=json: 50"
       ]
      },
      {
       "output_type": "stream",
       "stream": "stdout",
       "text": [
        "\n",
        "http://chroniclingamerica.loc.gov/search/titles/results/?state=Ohio&page=108&format=json: 50"
       ]
      },
      {
       "output_type": "stream",
       "stream": "stdout",
       "text": [
        "\n",
        "http://chroniclingamerica.loc.gov/search/titles/results/?state=Ohio&page=109&format=json: 50"
       ]
      },
      {
       "output_type": "stream",
       "stream": "stdout",
       "text": [
        "\n",
        "http://chroniclingamerica.loc.gov/search/titles/results/?state=Ohio&page=110&format=json: 50"
       ]
      },
      {
       "output_type": "stream",
       "stream": "stdout",
       "text": [
        "\n",
        "http://chroniclingamerica.loc.gov/search/titles/results/?state=Ohio&page=111&format=json: 50"
       ]
      },
      {
       "output_type": "stream",
       "stream": "stdout",
       "text": [
        "\n",
        "http://chroniclingamerica.loc.gov/search/titles/results/?state=Ohio&page=112&format=json: 50"
       ]
      },
      {
       "output_type": "stream",
       "stream": "stdout",
       "text": [
        "\n",
        "http://chroniclingamerica.loc.gov/search/titles/results/?state=Ohio&page=113&format=json: 50"
       ]
      },
      {
       "output_type": "stream",
       "stream": "stdout",
       "text": [
        "\n",
        "http://chroniclingamerica.loc.gov/search/titles/results/?state=Ohio&page=114&format=json: 50"
       ]
      },
      {
       "output_type": "stream",
       "stream": "stdout",
       "text": [
        "\n",
        "http://chroniclingamerica.loc.gov/search/titles/results/?state=Ohio&page=115&format=json: 50"
       ]
      },
      {
       "output_type": "stream",
       "stream": "stdout",
       "text": [
        "\n",
        "http://chroniclingamerica.loc.gov/search/titles/results/?state=Ohio&page=116&format=json: 50"
       ]
      },
      {
       "output_type": "stream",
       "stream": "stdout",
       "text": [
        "\n",
        "http://chroniclingamerica.loc.gov/search/titles/results/?state=Ohio&page=117&format=json: 50"
       ]
      },
      {
       "output_type": "stream",
       "stream": "stdout",
       "text": [
        "\n",
        "http://chroniclingamerica.loc.gov/search/titles/results/?state=Ohio&page=118&format=json: 50"
       ]
      },
      {
       "output_type": "stream",
       "stream": "stdout",
       "text": [
        "\n",
        "http://chroniclingamerica.loc.gov/search/titles/results/?state=Ohio&page=119&format=json: 50"
       ]
      },
      {
       "output_type": "stream",
       "stream": "stdout",
       "text": [
        "\n",
        "http://chroniclingamerica.loc.gov/search/titles/results/?state=Ohio&page=120&format=json: 50"
       ]
      },
      {
       "output_type": "stream",
       "stream": "stdout",
       "text": [
        "\n",
        "http://chroniclingamerica.loc.gov/search/titles/results/?state=Ohio&page=121&format=json: 50"
       ]
      },
      {
       "output_type": "stream",
       "stream": "stdout",
       "text": [
        "\n",
        "http://chroniclingamerica.loc.gov/search/titles/results/?state=Ohio&page=122&format=json: 50"
       ]
      },
      {
       "output_type": "stream",
       "stream": "stdout",
       "text": [
        "\n",
        "http://chroniclingamerica.loc.gov/search/titles/results/?state=Ohio&page=123&format=json: 50"
       ]
      },
      {
       "output_type": "stream",
       "stream": "stdout",
       "text": [
        "\n",
        "http://chroniclingamerica.loc.gov/search/titles/results/?state=Ohio&page=124&format=json: 50"
       ]
      },
      {
       "output_type": "stream",
       "stream": "stdout",
       "text": [
        "\n",
        "http://chroniclingamerica.loc.gov/search/titles/results/?state=Ohio&page=125&format=json: 50"
       ]
      },
      {
       "output_type": "stream",
       "stream": "stdout",
       "text": [
        "\n",
        "http://chroniclingamerica.loc.gov/search/titles/results/?state=Ohio&page=126&format=json: 50"
       ]
      },
      {
       "output_type": "stream",
       "stream": "stdout",
       "text": [
        "\n",
        "http://chroniclingamerica.loc.gov/search/titles/results/?state=Ohio&page=127&format=json: 50"
       ]
      },
      {
       "output_type": "stream",
       "stream": "stdout",
       "text": [
        "\n",
        "http://chroniclingamerica.loc.gov/search/titles/results/?state=Ohio&page=128&format=json: 50"
       ]
      },
      {
       "output_type": "stream",
       "stream": "stdout",
       "text": [
        "\n",
        "http://chroniclingamerica.loc.gov/search/titles/results/?state=Ohio&page=129&format=json: 50"
       ]
      },
      {
       "output_type": "stream",
       "stream": "stdout",
       "text": [
        "\n",
        "http://chroniclingamerica.loc.gov/search/titles/results/?state=Ohio&page=130&format=json: 50"
       ]
      },
      {
       "output_type": "stream",
       "stream": "stdout",
       "text": [
        "\n",
        "http://chroniclingamerica.loc.gov/search/titles/results/?state=Ohio&page=131&format=json: 50"
       ]
      },
      {
       "output_type": "stream",
       "stream": "stdout",
       "text": [
        "\n",
        "http://chroniclingamerica.loc.gov/search/titles/results/?state=Ohio&page=132&format=json: 50"
       ]
      },
      {
       "output_type": "stream",
       "stream": "stdout",
       "text": [
        "\n",
        "http://chroniclingamerica.loc.gov/search/titles/results/?state=Ohio&page=133&format=json: 50"
       ]
      },
      {
       "output_type": "stream",
       "stream": "stdout",
       "text": [
        "\n",
        "http://chroniclingamerica.loc.gov/search/titles/results/?state=Ohio&page=134&format=json: 50"
       ]
      },
      {
       "output_type": "stream",
       "stream": "stdout",
       "text": [
        "\n",
        "http://chroniclingamerica.loc.gov/search/titles/results/?state=Ohio&page=135&format=json: 50"
       ]
      },
      {
       "output_type": "stream",
       "stream": "stdout",
       "text": [
        "\n",
        "http://chroniclingamerica.loc.gov/search/titles/results/?state=Ohio&page=136&format=json: 50"
       ]
      },
      {
       "output_type": "stream",
       "stream": "stdout",
       "text": [
        "\n",
        "http://chroniclingamerica.loc.gov/search/titles/results/?state=Ohio&page=137&format=json: 50"
       ]
      },
      {
       "output_type": "stream",
       "stream": "stdout",
       "text": [
        "\n",
        "http://chroniclingamerica.loc.gov/search/titles/results/?state=Ohio&page=138&format=json: 50"
       ]
      },
      {
       "output_type": "stream",
       "stream": "stdout",
       "text": [
        "\n",
        "http://chroniclingamerica.loc.gov/search/titles/results/?state=Ohio&page=139&format=json: 50"
       ]
      },
      {
       "output_type": "stream",
       "stream": "stdout",
       "text": [
        "\n",
        "http://chroniclingamerica.loc.gov/search/titles/results/?state=Ohio&page=140&format=json: 50"
       ]
      },
      {
       "output_type": "stream",
       "stream": "stdout",
       "text": [
        "\n",
        "http://chroniclingamerica.loc.gov/search/titles/results/?state=Ohio&page=141&format=json: 50"
       ]
      },
      {
       "output_type": "stream",
       "stream": "stdout",
       "text": [
        "\n",
        "http://chroniclingamerica.loc.gov/search/titles/results/?state=Ohio&page=142&format=json: 50"
       ]
      },
      {
       "output_type": "stream",
       "stream": "stdout",
       "text": [
        "\n",
        "http://chroniclingamerica.loc.gov/search/titles/results/?state=Ohio&page=143&format=json: 50"
       ]
      },
      {
       "output_type": "stream",
       "stream": "stdout",
       "text": [
        "\n",
        "http://chroniclingamerica.loc.gov/search/titles/results/?state=Ohio&page=144&format=json: 50"
       ]
      },
      {
       "output_type": "stream",
       "stream": "stdout",
       "text": [
        "\n",
        "http://chroniclingamerica.loc.gov/search/titles/results/?state=Ohio&page=145&format=json: 50"
       ]
      },
      {
       "output_type": "stream",
       "stream": "stdout",
       "text": [
        "\n",
        "http://chroniclingamerica.loc.gov/search/titles/results/?state=Ohio&page=146&format=json: 50"
       ]
      },
      {
       "output_type": "stream",
       "stream": "stdout",
       "text": [
        "\n",
        "http://chroniclingamerica.loc.gov/search/titles/results/?state=Ohio&page=147&format=json: 50"
       ]
      },
      {
       "output_type": "stream",
       "stream": "stdout",
       "text": [
        "\n",
        "http://chroniclingamerica.loc.gov/search/titles/results/?state=Ohio&page=148&format=json: 50"
       ]
      },
      {
       "output_type": "stream",
       "stream": "stdout",
       "text": [
        "\n",
        "http://chroniclingamerica.loc.gov/search/titles/results/?state=Ohio&page=149&format=json: 50"
       ]
      },
      {
       "output_type": "stream",
       "stream": "stdout",
       "text": [
        "\n",
        "http://chroniclingamerica.loc.gov/search/titles/results/?state=Ohio&page=150&format=json: 48"
       ]
      },
      {
       "output_type": "stream",
       "stream": "stdout",
       "text": [
        "\n",
        "Oklahoma\n",
        "\n",
        "{'state': 'Oklahoma', 'format': 'json'}\n",
        "3623"
       ]
      },
      {
       "output_type": "stream",
       "stream": "stdout",
       "text": [
        "\n",
        "http://chroniclingamerica.loc.gov/search/titles/results/?state=Oklahoma&page=2&format=json: 50"
       ]
      },
      {
       "output_type": "stream",
       "stream": "stdout",
       "text": [
        "\n",
        "http://chroniclingamerica.loc.gov/search/titles/results/?state=Oklahoma&page=3&format=json: 50"
       ]
      },
      {
       "output_type": "stream",
       "stream": "stdout",
       "text": [
        "\n",
        "http://chroniclingamerica.loc.gov/search/titles/results/?state=Oklahoma&page=4&format=json: 50"
       ]
      },
      {
       "output_type": "stream",
       "stream": "stdout",
       "text": [
        "\n",
        "http://chroniclingamerica.loc.gov/search/titles/results/?state=Oklahoma&page=5&format=json: 50"
       ]
      },
      {
       "output_type": "stream",
       "stream": "stdout",
       "text": [
        "\n",
        "http://chroniclingamerica.loc.gov/search/titles/results/?state=Oklahoma&page=6&format=json: 50"
       ]
      },
      {
       "output_type": "stream",
       "stream": "stdout",
       "text": [
        "\n",
        "http://chroniclingamerica.loc.gov/search/titles/results/?state=Oklahoma&page=7&format=json: 50"
       ]
      },
      {
       "output_type": "stream",
       "stream": "stdout",
       "text": [
        "\n",
        "http://chroniclingamerica.loc.gov/search/titles/results/?state=Oklahoma&page=8&format=json: 50"
       ]
      },
      {
       "output_type": "stream",
       "stream": "stdout",
       "text": [
        "\n",
        "http://chroniclingamerica.loc.gov/search/titles/results/?state=Oklahoma&page=9&format=json: 50"
       ]
      },
      {
       "output_type": "stream",
       "stream": "stdout",
       "text": [
        "\n",
        "http://chroniclingamerica.loc.gov/search/titles/results/?state=Oklahoma&page=10&format=json: 50"
       ]
      },
      {
       "output_type": "stream",
       "stream": "stdout",
       "text": [
        "\n",
        "http://chroniclingamerica.loc.gov/search/titles/results/?state=Oklahoma&page=11&format=json: 50"
       ]
      },
      {
       "output_type": "stream",
       "stream": "stdout",
       "text": [
        "\n",
        "http://chroniclingamerica.loc.gov/search/titles/results/?state=Oklahoma&page=12&format=json: 50"
       ]
      },
      {
       "output_type": "stream",
       "stream": "stdout",
       "text": [
        "\n",
        "http://chroniclingamerica.loc.gov/search/titles/results/?state=Oklahoma&page=13&format=json: 50"
       ]
      },
      {
       "output_type": "stream",
       "stream": "stdout",
       "text": [
        "\n",
        "http://chroniclingamerica.loc.gov/search/titles/results/?state=Oklahoma&page=14&format=json: 50"
       ]
      },
      {
       "output_type": "stream",
       "stream": "stdout",
       "text": [
        "\n",
        "http://chroniclingamerica.loc.gov/search/titles/results/?state=Oklahoma&page=15&format=json: 50"
       ]
      },
      {
       "output_type": "stream",
       "stream": "stdout",
       "text": [
        "\n",
        "http://chroniclingamerica.loc.gov/search/titles/results/?state=Oklahoma&page=16&format=json: 50"
       ]
      },
      {
       "output_type": "stream",
       "stream": "stdout",
       "text": [
        "\n",
        "http://chroniclingamerica.loc.gov/search/titles/results/?state=Oklahoma&page=17&format=json: 50"
       ]
      },
      {
       "output_type": "stream",
       "stream": "stdout",
       "text": [
        "\n",
        "http://chroniclingamerica.loc.gov/search/titles/results/?state=Oklahoma&page=18&format=json: 50"
       ]
      },
      {
       "output_type": "stream",
       "stream": "stdout",
       "text": [
        "\n",
        "http://chroniclingamerica.loc.gov/search/titles/results/?state=Oklahoma&page=19&format=json: 50"
       ]
      },
      {
       "output_type": "stream",
       "stream": "stdout",
       "text": [
        "\n",
        "http://chroniclingamerica.loc.gov/search/titles/results/?state=Oklahoma&page=20&format=json: 50"
       ]
      },
      {
       "output_type": "stream",
       "stream": "stdout",
       "text": [
        "\n",
        "http://chroniclingamerica.loc.gov/search/titles/results/?state=Oklahoma&page=21&format=json: 50"
       ]
      },
      {
       "output_type": "stream",
       "stream": "stdout",
       "text": [
        "\n",
        "http://chroniclingamerica.loc.gov/search/titles/results/?state=Oklahoma&page=22&format=json: 50"
       ]
      },
      {
       "output_type": "stream",
       "stream": "stdout",
       "text": [
        "\n",
        "http://chroniclingamerica.loc.gov/search/titles/results/?state=Oklahoma&page=23&format=json: 50"
       ]
      },
      {
       "output_type": "stream",
       "stream": "stdout",
       "text": [
        "\n",
        "http://chroniclingamerica.loc.gov/search/titles/results/?state=Oklahoma&page=24&format=json: 50"
       ]
      },
      {
       "output_type": "stream",
       "stream": "stdout",
       "text": [
        "\n",
        "http://chroniclingamerica.loc.gov/search/titles/results/?state=Oklahoma&page=25&format=json: 50"
       ]
      },
      {
       "output_type": "stream",
       "stream": "stdout",
       "text": [
        "\n",
        "http://chroniclingamerica.loc.gov/search/titles/results/?state=Oklahoma&page=26&format=json: 50"
       ]
      },
      {
       "output_type": "stream",
       "stream": "stdout",
       "text": [
        "\n",
        "http://chroniclingamerica.loc.gov/search/titles/results/?state=Oklahoma&page=27&format=json: 50"
       ]
      },
      {
       "output_type": "stream",
       "stream": "stdout",
       "text": [
        "\n",
        "http://chroniclingamerica.loc.gov/search/titles/results/?state=Oklahoma&page=28&format=json: 50"
       ]
      },
      {
       "output_type": "stream",
       "stream": "stdout",
       "text": [
        "\n",
        "http://chroniclingamerica.loc.gov/search/titles/results/?state=Oklahoma&page=29&format=json: 50"
       ]
      },
      {
       "output_type": "stream",
       "stream": "stdout",
       "text": [
        "\n",
        "http://chroniclingamerica.loc.gov/search/titles/results/?state=Oklahoma&page=30&format=json: 50"
       ]
      },
      {
       "output_type": "stream",
       "stream": "stdout",
       "text": [
        "\n",
        "http://chroniclingamerica.loc.gov/search/titles/results/?state=Oklahoma&page=31&format=json: 50"
       ]
      },
      {
       "output_type": "stream",
       "stream": "stdout",
       "text": [
        "\n",
        "http://chroniclingamerica.loc.gov/search/titles/results/?state=Oklahoma&page=32&format=json: 50"
       ]
      },
      {
       "output_type": "stream",
       "stream": "stdout",
       "text": [
        "\n",
        "http://chroniclingamerica.loc.gov/search/titles/results/?state=Oklahoma&page=33&format=json: 50"
       ]
      },
      {
       "output_type": "stream",
       "stream": "stdout",
       "text": [
        "\n",
        "http://chroniclingamerica.loc.gov/search/titles/results/?state=Oklahoma&page=34&format=json: 50"
       ]
      },
      {
       "output_type": "stream",
       "stream": "stdout",
       "text": [
        "\n",
        "http://chroniclingamerica.loc.gov/search/titles/results/?state=Oklahoma&page=35&format=json: 50"
       ]
      },
      {
       "output_type": "stream",
       "stream": "stdout",
       "text": [
        "\n",
        "http://chroniclingamerica.loc.gov/search/titles/results/?state=Oklahoma&page=36&format=json: 50"
       ]
      },
      {
       "output_type": "stream",
       "stream": "stdout",
       "text": [
        "\n",
        "http://chroniclingamerica.loc.gov/search/titles/results/?state=Oklahoma&page=37&format=json: 50"
       ]
      },
      {
       "output_type": "stream",
       "stream": "stdout",
       "text": [
        "\n",
        "http://chroniclingamerica.loc.gov/search/titles/results/?state=Oklahoma&page=38&format=json: 50"
       ]
      },
      {
       "output_type": "stream",
       "stream": "stdout",
       "text": [
        "\n",
        "http://chroniclingamerica.loc.gov/search/titles/results/?state=Oklahoma&page=39&format=json: 50"
       ]
      },
      {
       "output_type": "stream",
       "stream": "stdout",
       "text": [
        "\n",
        "http://chroniclingamerica.loc.gov/search/titles/results/?state=Oklahoma&page=40&format=json: 50"
       ]
      },
      {
       "output_type": "stream",
       "stream": "stdout",
       "text": [
        "\n",
        "http://chroniclingamerica.loc.gov/search/titles/results/?state=Oklahoma&page=41&format=json: 50"
       ]
      },
      {
       "output_type": "stream",
       "stream": "stdout",
       "text": [
        "\n",
        "http://chroniclingamerica.loc.gov/search/titles/results/?state=Oklahoma&page=42&format=json: 50"
       ]
      },
      {
       "output_type": "stream",
       "stream": "stdout",
       "text": [
        "\n",
        "http://chroniclingamerica.loc.gov/search/titles/results/?state=Oklahoma&page=43&format=json: 50"
       ]
      },
      {
       "output_type": "stream",
       "stream": "stdout",
       "text": [
        "\n",
        "http://chroniclingamerica.loc.gov/search/titles/results/?state=Oklahoma&page=44&format=json: 50"
       ]
      },
      {
       "output_type": "stream",
       "stream": "stdout",
       "text": [
        "\n",
        "http://chroniclingamerica.loc.gov/search/titles/results/?state=Oklahoma&page=45&format=json: 50"
       ]
      },
      {
       "output_type": "stream",
       "stream": "stdout",
       "text": [
        "\n",
        "http://chroniclingamerica.loc.gov/search/titles/results/?state=Oklahoma&page=46&format=json: 50"
       ]
      },
      {
       "output_type": "stream",
       "stream": "stdout",
       "text": [
        "\n",
        "http://chroniclingamerica.loc.gov/search/titles/results/?state=Oklahoma&page=47&format=json: 50"
       ]
      },
      {
       "output_type": "stream",
       "stream": "stdout",
       "text": [
        "\n",
        "http://chroniclingamerica.loc.gov/search/titles/results/?state=Oklahoma&page=48&format=json: 50"
       ]
      },
      {
       "output_type": "stream",
       "stream": "stdout",
       "text": [
        "\n",
        "http://chroniclingamerica.loc.gov/search/titles/results/?state=Oklahoma&page=49&format=json: 50"
       ]
      },
      {
       "output_type": "stream",
       "stream": "stdout",
       "text": [
        "\n",
        "http://chroniclingamerica.loc.gov/search/titles/results/?state=Oklahoma&page=50&format=json: 50"
       ]
      },
      {
       "output_type": "stream",
       "stream": "stdout",
       "text": [
        "\n",
        "http://chroniclingamerica.loc.gov/search/titles/results/?state=Oklahoma&page=51&format=json: 50"
       ]
      },
      {
       "output_type": "stream",
       "stream": "stdout",
       "text": [
        "\n",
        "http://chroniclingamerica.loc.gov/search/titles/results/?state=Oklahoma&page=52&format=json: 50"
       ]
      },
      {
       "output_type": "stream",
       "stream": "stdout",
       "text": [
        "\n",
        "http://chroniclingamerica.loc.gov/search/titles/results/?state=Oklahoma&page=53&format=json: 50"
       ]
      },
      {
       "output_type": "stream",
       "stream": "stdout",
       "text": [
        "\n",
        "http://chroniclingamerica.loc.gov/search/titles/results/?state=Oklahoma&page=54&format=json: 50"
       ]
      },
      {
       "output_type": "stream",
       "stream": "stdout",
       "text": [
        "\n",
        "http://chroniclingamerica.loc.gov/search/titles/results/?state=Oklahoma&page=55&format=json: 50"
       ]
      },
      {
       "output_type": "stream",
       "stream": "stdout",
       "text": [
        "\n",
        "http://chroniclingamerica.loc.gov/search/titles/results/?state=Oklahoma&page=56&format=json: 50"
       ]
      },
      {
       "output_type": "stream",
       "stream": "stdout",
       "text": [
        "\n",
        "http://chroniclingamerica.loc.gov/search/titles/results/?state=Oklahoma&page=57&format=json: 50"
       ]
      },
      {
       "output_type": "stream",
       "stream": "stdout",
       "text": [
        "\n",
        "http://chroniclingamerica.loc.gov/search/titles/results/?state=Oklahoma&page=58&format=json: 50"
       ]
      },
      {
       "output_type": "stream",
       "stream": "stdout",
       "text": [
        "\n",
        "http://chroniclingamerica.loc.gov/search/titles/results/?state=Oklahoma&page=59&format=json: 50"
       ]
      },
      {
       "output_type": "stream",
       "stream": "stdout",
       "text": [
        "\n",
        "http://chroniclingamerica.loc.gov/search/titles/results/?state=Oklahoma&page=60&format=json: 50"
       ]
      },
      {
       "output_type": "stream",
       "stream": "stdout",
       "text": [
        "\n",
        "http://chroniclingamerica.loc.gov/search/titles/results/?state=Oklahoma&page=61&format=json: 50"
       ]
      },
      {
       "output_type": "stream",
       "stream": "stdout",
       "text": [
        "\n",
        "http://chroniclingamerica.loc.gov/search/titles/results/?state=Oklahoma&page=62&format=json: 50"
       ]
      },
      {
       "output_type": "stream",
       "stream": "stdout",
       "text": [
        "\n",
        "http://chroniclingamerica.loc.gov/search/titles/results/?state=Oklahoma&page=63&format=json: 50"
       ]
      },
      {
       "output_type": "stream",
       "stream": "stdout",
       "text": [
        "\n",
        "http://chroniclingamerica.loc.gov/search/titles/results/?state=Oklahoma&page=64&format=json: 50"
       ]
      },
      {
       "output_type": "stream",
       "stream": "stdout",
       "text": [
        "\n",
        "http://chroniclingamerica.loc.gov/search/titles/results/?state=Oklahoma&page=65&format=json: 50"
       ]
      },
      {
       "output_type": "stream",
       "stream": "stdout",
       "text": [
        "\n",
        "http://chroniclingamerica.loc.gov/search/titles/results/?state=Oklahoma&page=66&format=json: 50"
       ]
      },
      {
       "output_type": "stream",
       "stream": "stdout",
       "text": [
        "\n",
        "http://chroniclingamerica.loc.gov/search/titles/results/?state=Oklahoma&page=67&format=json: 50"
       ]
      },
      {
       "output_type": "stream",
       "stream": "stdout",
       "text": [
        "\n",
        "http://chroniclingamerica.loc.gov/search/titles/results/?state=Oklahoma&page=68&format=json: 50"
       ]
      },
      {
       "output_type": "stream",
       "stream": "stdout",
       "text": [
        "\n",
        "http://chroniclingamerica.loc.gov/search/titles/results/?state=Oklahoma&page=69&format=json: 50"
       ]
      },
      {
       "output_type": "stream",
       "stream": "stdout",
       "text": [
        "\n",
        "http://chroniclingamerica.loc.gov/search/titles/results/?state=Oklahoma&page=70&format=json: 50"
       ]
      },
      {
       "output_type": "stream",
       "stream": "stdout",
       "text": [
        "\n",
        "http://chroniclingamerica.loc.gov/search/titles/results/?state=Oklahoma&page=71&format=json: 50"
       ]
      },
      {
       "output_type": "stream",
       "stream": "stdout",
       "text": [
        "\n",
        "http://chroniclingamerica.loc.gov/search/titles/results/?state=Oklahoma&page=72&format=json: 50"
       ]
      },
      {
       "output_type": "stream",
       "stream": "stdout",
       "text": [
        "\n",
        "http://chroniclingamerica.loc.gov/search/titles/results/?state=Oklahoma&page=73&format=json: 23"
       ]
      },
      {
       "output_type": "stream",
       "stream": "stdout",
       "text": [
        "\n",
        "Oregon\n",
        "\n",
        "{'state': 'Oregon', 'format': 'json'}\n",
        "1587"
       ]
      },
      {
       "output_type": "stream",
       "stream": "stdout",
       "text": [
        "\n",
        "http://chroniclingamerica.loc.gov/search/titles/results/?state=Oregon&page=2&format=json: 50"
       ]
      },
      {
       "output_type": "stream",
       "stream": "stdout",
       "text": [
        "\n",
        "http://chroniclingamerica.loc.gov/search/titles/results/?state=Oregon&page=3&format=json: 50"
       ]
      },
      {
       "output_type": "stream",
       "stream": "stdout",
       "text": [
        "\n",
        "http://chroniclingamerica.loc.gov/search/titles/results/?state=Oregon&page=4&format=json: 50"
       ]
      },
      {
       "output_type": "stream",
       "stream": "stdout",
       "text": [
        "\n",
        "http://chroniclingamerica.loc.gov/search/titles/results/?state=Oregon&page=5&format=json: 50"
       ]
      },
      {
       "output_type": "stream",
       "stream": "stdout",
       "text": [
        "\n",
        "http://chroniclingamerica.loc.gov/search/titles/results/?state=Oregon&page=6&format=json: 50"
       ]
      },
      {
       "output_type": "stream",
       "stream": "stdout",
       "text": [
        "\n",
        "http://chroniclingamerica.loc.gov/search/titles/results/?state=Oregon&page=7&format=json: 50"
       ]
      },
      {
       "output_type": "stream",
       "stream": "stdout",
       "text": [
        "\n",
        "http://chroniclingamerica.loc.gov/search/titles/results/?state=Oregon&page=8&format=json: 50"
       ]
      },
      {
       "output_type": "stream",
       "stream": "stdout",
       "text": [
        "\n",
        "http://chroniclingamerica.loc.gov/search/titles/results/?state=Oregon&page=9&format=json: 50"
       ]
      },
      {
       "output_type": "stream",
       "stream": "stdout",
       "text": [
        "\n",
        "http://chroniclingamerica.loc.gov/search/titles/results/?state=Oregon&page=10&format=json: 50"
       ]
      },
      {
       "output_type": "stream",
       "stream": "stdout",
       "text": [
        "\n",
        "http://chroniclingamerica.loc.gov/search/titles/results/?state=Oregon&page=11&format=json: 50"
       ]
      },
      {
       "output_type": "stream",
       "stream": "stdout",
       "text": [
        "\n",
        "http://chroniclingamerica.loc.gov/search/titles/results/?state=Oregon&page=12&format=json: 50"
       ]
      },
      {
       "output_type": "stream",
       "stream": "stdout",
       "text": [
        "\n",
        "http://chroniclingamerica.loc.gov/search/titles/results/?state=Oregon&page=13&format=json: 50"
       ]
      },
      {
       "output_type": "stream",
       "stream": "stdout",
       "text": [
        "\n",
        "http://chroniclingamerica.loc.gov/search/titles/results/?state=Oregon&page=14&format=json: 50"
       ]
      },
      {
       "output_type": "stream",
       "stream": "stdout",
       "text": [
        "\n",
        "http://chroniclingamerica.loc.gov/search/titles/results/?state=Oregon&page=15&format=json: 50"
       ]
      },
      {
       "output_type": "stream",
       "stream": "stdout",
       "text": [
        "\n",
        "http://chroniclingamerica.loc.gov/search/titles/results/?state=Oregon&page=16&format=json: 50"
       ]
      },
      {
       "output_type": "stream",
       "stream": "stdout",
       "text": [
        "\n",
        "http://chroniclingamerica.loc.gov/search/titles/results/?state=Oregon&page=17&format=json: 50"
       ]
      },
      {
       "output_type": "stream",
       "stream": "stdout",
       "text": [
        "\n",
        "http://chroniclingamerica.loc.gov/search/titles/results/?state=Oregon&page=18&format=json: 50"
       ]
      },
      {
       "output_type": "stream",
       "stream": "stdout",
       "text": [
        "\n",
        "http://chroniclingamerica.loc.gov/search/titles/results/?state=Oregon&page=19&format=json: 50"
       ]
      },
      {
       "output_type": "stream",
       "stream": "stdout",
       "text": [
        "\n",
        "http://chroniclingamerica.loc.gov/search/titles/results/?state=Oregon&page=20&format=json: 50"
       ]
      },
      {
       "output_type": "stream",
       "stream": "stdout",
       "text": [
        "\n",
        "http://chroniclingamerica.loc.gov/search/titles/results/?state=Oregon&page=21&format=json: 50"
       ]
      },
      {
       "output_type": "stream",
       "stream": "stdout",
       "text": [
        "\n",
        "http://chroniclingamerica.loc.gov/search/titles/results/?state=Oregon&page=22&format=json: 50"
       ]
      },
      {
       "output_type": "stream",
       "stream": "stdout",
       "text": [
        "\n",
        "http://chroniclingamerica.loc.gov/search/titles/results/?state=Oregon&page=23&format=json: 50"
       ]
      },
      {
       "output_type": "stream",
       "stream": "stdout",
       "text": [
        "\n",
        "http://chroniclingamerica.loc.gov/search/titles/results/?state=Oregon&page=24&format=json: 50"
       ]
      },
      {
       "output_type": "stream",
       "stream": "stdout",
       "text": [
        "\n",
        "http://chroniclingamerica.loc.gov/search/titles/results/?state=Oregon&page=25&format=json: 50"
       ]
      },
      {
       "output_type": "stream",
       "stream": "stdout",
       "text": [
        "\n",
        "http://chroniclingamerica.loc.gov/search/titles/results/?state=Oregon&page=26&format=json: 50"
       ]
      },
      {
       "output_type": "stream",
       "stream": "stdout",
       "text": [
        "\n",
        "http://chroniclingamerica.loc.gov/search/titles/results/?state=Oregon&page=27&format=json: 50"
       ]
      },
      {
       "output_type": "stream",
       "stream": "stdout",
       "text": [
        "\n",
        "http://chroniclingamerica.loc.gov/search/titles/results/?state=Oregon&page=28&format=json: 50"
       ]
      },
      {
       "output_type": "stream",
       "stream": "stdout",
       "text": [
        "\n",
        "http://chroniclingamerica.loc.gov/search/titles/results/?state=Oregon&page=29&format=json: 50"
       ]
      },
      {
       "output_type": "stream",
       "stream": "stdout",
       "text": [
        "\n",
        "http://chroniclingamerica.loc.gov/search/titles/results/?state=Oregon&page=30&format=json: 50"
       ]
      },
      {
       "output_type": "stream",
       "stream": "stdout",
       "text": [
        "\n",
        "http://chroniclingamerica.loc.gov/search/titles/results/?state=Oregon&page=31&format=json: 50"
       ]
      },
      {
       "output_type": "stream",
       "stream": "stdout",
       "text": [
        "\n",
        "http://chroniclingamerica.loc.gov/search/titles/results/?state=Oregon&page=32&format=json: 37"
       ]
      },
      {
       "output_type": "stream",
       "stream": "stdout",
       "text": [
        "\n",
        "Pennsylvania\n",
        "\n",
        "{'state': 'Pennsylvania', 'format': 'json'}\n",
        "7940"
       ]
      },
      {
       "output_type": "stream",
       "stream": "stdout",
       "text": [
        "\n",
        "http://chroniclingamerica.loc.gov/search/titles/results/?state=Pennsylvania&page=2&format=json: 50"
       ]
      },
      {
       "output_type": "stream",
       "stream": "stdout",
       "text": [
        "\n",
        "http://chroniclingamerica.loc.gov/search/titles/results/?state=Pennsylvania&page=3&format=json: 50"
       ]
      },
      {
       "output_type": "stream",
       "stream": "stdout",
       "text": [
        "\n",
        "http://chroniclingamerica.loc.gov/search/titles/results/?state=Pennsylvania&page=4&format=json: 50"
       ]
      },
      {
       "output_type": "stream",
       "stream": "stdout",
       "text": [
        "\n",
        "http://chroniclingamerica.loc.gov/search/titles/results/?state=Pennsylvania&page=5&format=json: 50"
       ]
      },
      {
       "output_type": "stream",
       "stream": "stdout",
       "text": [
        "\n",
        "http://chroniclingamerica.loc.gov/search/titles/results/?state=Pennsylvania&page=6&format=json: 50"
       ]
      },
      {
       "output_type": "stream",
       "stream": "stdout",
       "text": [
        "\n",
        "http://chroniclingamerica.loc.gov/search/titles/results/?state=Pennsylvania&page=7&format=json: 50"
       ]
      },
      {
       "output_type": "stream",
       "stream": "stdout",
       "text": [
        "\n",
        "http://chroniclingamerica.loc.gov/search/titles/results/?state=Pennsylvania&page=8&format=json: 50"
       ]
      },
      {
       "output_type": "stream",
       "stream": "stdout",
       "text": [
        "\n",
        "http://chroniclingamerica.loc.gov/search/titles/results/?state=Pennsylvania&page=9&format=json: 50"
       ]
      },
      {
       "output_type": "stream",
       "stream": "stdout",
       "text": [
        "\n",
        "http://chroniclingamerica.loc.gov/search/titles/results/?state=Pennsylvania&page=10&format=json: 50"
       ]
      },
      {
       "output_type": "stream",
       "stream": "stdout",
       "text": [
        "\n",
        "http://chroniclingamerica.loc.gov/search/titles/results/?state=Pennsylvania&page=11&format=json: 50"
       ]
      },
      {
       "output_type": "stream",
       "stream": "stdout",
       "text": [
        "\n",
        "http://chroniclingamerica.loc.gov/search/titles/results/?state=Pennsylvania&page=12&format=json: 50"
       ]
      },
      {
       "output_type": "stream",
       "stream": "stdout",
       "text": [
        "\n",
        "http://chroniclingamerica.loc.gov/search/titles/results/?state=Pennsylvania&page=13&format=json: 50"
       ]
      },
      {
       "output_type": "stream",
       "stream": "stdout",
       "text": [
        "\n",
        "http://chroniclingamerica.loc.gov/search/titles/results/?state=Pennsylvania&page=14&format=json: 50"
       ]
      },
      {
       "output_type": "stream",
       "stream": "stdout",
       "text": [
        "\n",
        "http://chroniclingamerica.loc.gov/search/titles/results/?state=Pennsylvania&page=15&format=json: 50"
       ]
      },
      {
       "output_type": "stream",
       "stream": "stdout",
       "text": [
        "\n",
        "http://chroniclingamerica.loc.gov/search/titles/results/?state=Pennsylvania&page=16&format=json: 50"
       ]
      },
      {
       "output_type": "stream",
       "stream": "stdout",
       "text": [
        "\n",
        "http://chroniclingamerica.loc.gov/search/titles/results/?state=Pennsylvania&page=17&format=json: 50"
       ]
      },
      {
       "output_type": "stream",
       "stream": "stdout",
       "text": [
        "\n",
        "http://chroniclingamerica.loc.gov/search/titles/results/?state=Pennsylvania&page=18&format=json: 50"
       ]
      },
      {
       "output_type": "stream",
       "stream": "stdout",
       "text": [
        "\n",
        "http://chroniclingamerica.loc.gov/search/titles/results/?state=Pennsylvania&page=19&format=json: 50"
       ]
      },
      {
       "output_type": "stream",
       "stream": "stdout",
       "text": [
        "\n",
        "http://chroniclingamerica.loc.gov/search/titles/results/?state=Pennsylvania&page=20&format=json: 50"
       ]
      },
      {
       "output_type": "stream",
       "stream": "stdout",
       "text": [
        "\n",
        "http://chroniclingamerica.loc.gov/search/titles/results/?state=Pennsylvania&page=21&format=json: 50"
       ]
      },
      {
       "output_type": "stream",
       "stream": "stdout",
       "text": [
        "\n",
        "http://chroniclingamerica.loc.gov/search/titles/results/?state=Pennsylvania&page=22&format=json: 50"
       ]
      },
      {
       "output_type": "stream",
       "stream": "stdout",
       "text": [
        "\n",
        "http://chroniclingamerica.loc.gov/search/titles/results/?state=Pennsylvania&page=23&format=json: 50"
       ]
      },
      {
       "output_type": "stream",
       "stream": "stdout",
       "text": [
        "\n",
        "http://chroniclingamerica.loc.gov/search/titles/results/?state=Pennsylvania&page=24&format=json: 50"
       ]
      },
      {
       "output_type": "stream",
       "stream": "stdout",
       "text": [
        "\n",
        "http://chroniclingamerica.loc.gov/search/titles/results/?state=Pennsylvania&page=25&format=json: 50"
       ]
      },
      {
       "output_type": "stream",
       "stream": "stdout",
       "text": [
        "\n",
        "http://chroniclingamerica.loc.gov/search/titles/results/?state=Pennsylvania&page=26&format=json: 50"
       ]
      },
      {
       "output_type": "stream",
       "stream": "stdout",
       "text": [
        "\n",
        "http://chroniclingamerica.loc.gov/search/titles/results/?state=Pennsylvania&page=27&format=json: 50"
       ]
      },
      {
       "output_type": "stream",
       "stream": "stdout",
       "text": [
        "\n",
        "http://chroniclingamerica.loc.gov/search/titles/results/?state=Pennsylvania&page=28&format=json: 50"
       ]
      },
      {
       "output_type": "stream",
       "stream": "stdout",
       "text": [
        "\n",
        "http://chroniclingamerica.loc.gov/search/titles/results/?state=Pennsylvania&page=29&format=json: 50"
       ]
      },
      {
       "output_type": "stream",
       "stream": "stdout",
       "text": [
        "\n",
        "http://chroniclingamerica.loc.gov/search/titles/results/?state=Pennsylvania&page=30&format=json: 50"
       ]
      },
      {
       "output_type": "stream",
       "stream": "stdout",
       "text": [
        "\n",
        "http://chroniclingamerica.loc.gov/search/titles/results/?state=Pennsylvania&page=31&format=json: 50"
       ]
      },
      {
       "output_type": "stream",
       "stream": "stdout",
       "text": [
        "\n",
        "http://chroniclingamerica.loc.gov/search/titles/results/?state=Pennsylvania&page=32&format=json: 50"
       ]
      },
      {
       "output_type": "stream",
       "stream": "stdout",
       "text": [
        "\n",
        "http://chroniclingamerica.loc.gov/search/titles/results/?state=Pennsylvania&page=33&format=json: 50"
       ]
      },
      {
       "output_type": "stream",
       "stream": "stdout",
       "text": [
        "\n",
        "http://chroniclingamerica.loc.gov/search/titles/results/?state=Pennsylvania&page=34&format=json: 50"
       ]
      },
      {
       "output_type": "stream",
       "stream": "stdout",
       "text": [
        "\n",
        "http://chroniclingamerica.loc.gov/search/titles/results/?state=Pennsylvania&page=35&format=json: 50"
       ]
      },
      {
       "output_type": "stream",
       "stream": "stdout",
       "text": [
        "\n",
        "http://chroniclingamerica.loc.gov/search/titles/results/?state=Pennsylvania&page=36&format=json: 50"
       ]
      },
      {
       "output_type": "stream",
       "stream": "stdout",
       "text": [
        "\n",
        "http://chroniclingamerica.loc.gov/search/titles/results/?state=Pennsylvania&page=37&format=json: 50"
       ]
      },
      {
       "output_type": "stream",
       "stream": "stdout",
       "text": [
        "\n",
        "http://chroniclingamerica.loc.gov/search/titles/results/?state=Pennsylvania&page=38&format=json: 50"
       ]
      },
      {
       "output_type": "stream",
       "stream": "stdout",
       "text": [
        "\n",
        "http://chroniclingamerica.loc.gov/search/titles/results/?state=Pennsylvania&page=39&format=json: 50"
       ]
      },
      {
       "output_type": "stream",
       "stream": "stdout",
       "text": [
        "\n",
        "http://chroniclingamerica.loc.gov/search/titles/results/?state=Pennsylvania&page=40&format=json: 50"
       ]
      },
      {
       "output_type": "stream",
       "stream": "stdout",
       "text": [
        "\n",
        "http://chroniclingamerica.loc.gov/search/titles/results/?state=Pennsylvania&page=41&format=json: 50"
       ]
      },
      {
       "output_type": "stream",
       "stream": "stdout",
       "text": [
        "\n",
        "http://chroniclingamerica.loc.gov/search/titles/results/?state=Pennsylvania&page=42&format=json: 50"
       ]
      },
      {
       "output_type": "stream",
       "stream": "stdout",
       "text": [
        "\n",
        "http://chroniclingamerica.loc.gov/search/titles/results/?state=Pennsylvania&page=43&format=json: 50"
       ]
      },
      {
       "output_type": "stream",
       "stream": "stdout",
       "text": [
        "\n",
        "http://chroniclingamerica.loc.gov/search/titles/results/?state=Pennsylvania&page=44&format=json: 50"
       ]
      },
      {
       "output_type": "stream",
       "stream": "stdout",
       "text": [
        "\n",
        "http://chroniclingamerica.loc.gov/search/titles/results/?state=Pennsylvania&page=45&format=json: 50"
       ]
      },
      {
       "output_type": "stream",
       "stream": "stdout",
       "text": [
        "\n",
        "http://chroniclingamerica.loc.gov/search/titles/results/?state=Pennsylvania&page=46&format=json: 50"
       ]
      },
      {
       "output_type": "stream",
       "stream": "stdout",
       "text": [
        "\n",
        "http://chroniclingamerica.loc.gov/search/titles/results/?state=Pennsylvania&page=47&format=json: 50"
       ]
      },
      {
       "output_type": "stream",
       "stream": "stdout",
       "text": [
        "\n",
        "http://chroniclingamerica.loc.gov/search/titles/results/?state=Pennsylvania&page=48&format=json: 50"
       ]
      },
      {
       "output_type": "stream",
       "stream": "stdout",
       "text": [
        "\n",
        "http://chroniclingamerica.loc.gov/search/titles/results/?state=Pennsylvania&page=49&format=json: 50"
       ]
      },
      {
       "output_type": "stream",
       "stream": "stdout",
       "text": [
        "\n",
        "http://chroniclingamerica.loc.gov/search/titles/results/?state=Pennsylvania&page=50&format=json: 50"
       ]
      },
      {
       "output_type": "stream",
       "stream": "stdout",
       "text": [
        "\n",
        "http://chroniclingamerica.loc.gov/search/titles/results/?state=Pennsylvania&page=51&format=json: 50"
       ]
      },
      {
       "output_type": "stream",
       "stream": "stdout",
       "text": [
        "\n",
        "http://chroniclingamerica.loc.gov/search/titles/results/?state=Pennsylvania&page=52&format=json: 50"
       ]
      },
      {
       "output_type": "stream",
       "stream": "stdout",
       "text": [
        "\n",
        "http://chroniclingamerica.loc.gov/search/titles/results/?state=Pennsylvania&page=53&format=json: 50"
       ]
      },
      {
       "output_type": "stream",
       "stream": "stdout",
       "text": [
        "\n",
        "http://chroniclingamerica.loc.gov/search/titles/results/?state=Pennsylvania&page=54&format=json: 50"
       ]
      },
      {
       "output_type": "stream",
       "stream": "stdout",
       "text": [
        "\n",
        "http://chroniclingamerica.loc.gov/search/titles/results/?state=Pennsylvania&page=55&format=json: 50"
       ]
      },
      {
       "output_type": "stream",
       "stream": "stdout",
       "text": [
        "\n",
        "http://chroniclingamerica.loc.gov/search/titles/results/?state=Pennsylvania&page=56&format=json: 50"
       ]
      },
      {
       "output_type": "stream",
       "stream": "stdout",
       "text": [
        "\n",
        "http://chroniclingamerica.loc.gov/search/titles/results/?state=Pennsylvania&page=57&format=json: 50"
       ]
      },
      {
       "output_type": "stream",
       "stream": "stdout",
       "text": [
        "\n",
        "http://chroniclingamerica.loc.gov/search/titles/results/?state=Pennsylvania&page=58&format=json: 50"
       ]
      },
      {
       "output_type": "stream",
       "stream": "stdout",
       "text": [
        "\n",
        "http://chroniclingamerica.loc.gov/search/titles/results/?state=Pennsylvania&page=59&format=json: 50"
       ]
      },
      {
       "output_type": "stream",
       "stream": "stdout",
       "text": [
        "\n",
        "http://chroniclingamerica.loc.gov/search/titles/results/?state=Pennsylvania&page=60&format=json: 50"
       ]
      },
      {
       "output_type": "stream",
       "stream": "stdout",
       "text": [
        "\n",
        "http://chroniclingamerica.loc.gov/search/titles/results/?state=Pennsylvania&page=61&format=json: 50"
       ]
      },
      {
       "output_type": "stream",
       "stream": "stdout",
       "text": [
        "\n",
        "http://chroniclingamerica.loc.gov/search/titles/results/?state=Pennsylvania&page=62&format=json: 50"
       ]
      },
      {
       "output_type": "stream",
       "stream": "stdout",
       "text": [
        "\n",
        "http://chroniclingamerica.loc.gov/search/titles/results/?state=Pennsylvania&page=63&format=json: 50"
       ]
      },
      {
       "output_type": "stream",
       "stream": "stdout",
       "text": [
        "\n",
        "http://chroniclingamerica.loc.gov/search/titles/results/?state=Pennsylvania&page=64&format=json: 50"
       ]
      },
      {
       "output_type": "stream",
       "stream": "stdout",
       "text": [
        "\n",
        "http://chroniclingamerica.loc.gov/search/titles/results/?state=Pennsylvania&page=65&format=json: 50"
       ]
      },
      {
       "output_type": "stream",
       "stream": "stdout",
       "text": [
        "\n",
        "http://chroniclingamerica.loc.gov/search/titles/results/?state=Pennsylvania&page=66&format=json: 50"
       ]
      },
      {
       "output_type": "stream",
       "stream": "stdout",
       "text": [
        "\n",
        "http://chroniclingamerica.loc.gov/search/titles/results/?state=Pennsylvania&page=67&format=json: 50"
       ]
      },
      {
       "output_type": "stream",
       "stream": "stdout",
       "text": [
        "\n",
        "http://chroniclingamerica.loc.gov/search/titles/results/?state=Pennsylvania&page=68&format=json: 50"
       ]
      },
      {
       "output_type": "stream",
       "stream": "stdout",
       "text": [
        "\n",
        "http://chroniclingamerica.loc.gov/search/titles/results/?state=Pennsylvania&page=69&format=json: 50"
       ]
      },
      {
       "output_type": "stream",
       "stream": "stdout",
       "text": [
        "\n",
        "http://chroniclingamerica.loc.gov/search/titles/results/?state=Pennsylvania&page=70&format=json: 50"
       ]
      },
      {
       "output_type": "stream",
       "stream": "stdout",
       "text": [
        "\n",
        "http://chroniclingamerica.loc.gov/search/titles/results/?state=Pennsylvania&page=71&format=json: 50"
       ]
      },
      {
       "output_type": "stream",
       "stream": "stdout",
       "text": [
        "\n",
        "http://chroniclingamerica.loc.gov/search/titles/results/?state=Pennsylvania&page=72&format=json: 50"
       ]
      },
      {
       "output_type": "stream",
       "stream": "stdout",
       "text": [
        "\n",
        "http://chroniclingamerica.loc.gov/search/titles/results/?state=Pennsylvania&page=73&format=json: 50"
       ]
      },
      {
       "output_type": "stream",
       "stream": "stdout",
       "text": [
        "\n",
        "http://chroniclingamerica.loc.gov/search/titles/results/?state=Pennsylvania&page=74&format=json: 50"
       ]
      },
      {
       "output_type": "stream",
       "stream": "stdout",
       "text": [
        "\n",
        "http://chroniclingamerica.loc.gov/search/titles/results/?state=Pennsylvania&page=75&format=json: 50"
       ]
      },
      {
       "output_type": "stream",
       "stream": "stdout",
       "text": [
        "\n",
        "http://chroniclingamerica.loc.gov/search/titles/results/?state=Pennsylvania&page=76&format=json: 50"
       ]
      },
      {
       "output_type": "stream",
       "stream": "stdout",
       "text": [
        "\n",
        "http://chroniclingamerica.loc.gov/search/titles/results/?state=Pennsylvania&page=77&format=json: 50"
       ]
      },
      {
       "output_type": "stream",
       "stream": "stdout",
       "text": [
        "\n",
        "http://chroniclingamerica.loc.gov/search/titles/results/?state=Pennsylvania&page=78&format=json: 50"
       ]
      },
      {
       "output_type": "stream",
       "stream": "stdout",
       "text": [
        "\n",
        "http://chroniclingamerica.loc.gov/search/titles/results/?state=Pennsylvania&page=79&format=json: 50"
       ]
      },
      {
       "output_type": "stream",
       "stream": "stdout",
       "text": [
        "\n",
        "http://chroniclingamerica.loc.gov/search/titles/results/?state=Pennsylvania&page=80&format=json: 50"
       ]
      },
      {
       "output_type": "stream",
       "stream": "stdout",
       "text": [
        "\n",
        "http://chroniclingamerica.loc.gov/search/titles/results/?state=Pennsylvania&page=81&format=json: 50"
       ]
      },
      {
       "output_type": "stream",
       "stream": "stdout",
       "text": [
        "\n",
        "http://chroniclingamerica.loc.gov/search/titles/results/?state=Pennsylvania&page=82&format=json: 50"
       ]
      },
      {
       "output_type": "stream",
       "stream": "stdout",
       "text": [
        "\n",
        "http://chroniclingamerica.loc.gov/search/titles/results/?state=Pennsylvania&page=83&format=json: 50"
       ]
      },
      {
       "output_type": "stream",
       "stream": "stdout",
       "text": [
        "\n",
        "http://chroniclingamerica.loc.gov/search/titles/results/?state=Pennsylvania&page=84&format=json: 50"
       ]
      },
      {
       "output_type": "stream",
       "stream": "stdout",
       "text": [
        "\n",
        "http://chroniclingamerica.loc.gov/search/titles/results/?state=Pennsylvania&page=85&format=json: 50"
       ]
      },
      {
       "output_type": "stream",
       "stream": "stdout",
       "text": [
        "\n",
        "http://chroniclingamerica.loc.gov/search/titles/results/?state=Pennsylvania&page=86&format=json: 50"
       ]
      },
      {
       "output_type": "stream",
       "stream": "stdout",
       "text": [
        "\n",
        "http://chroniclingamerica.loc.gov/search/titles/results/?state=Pennsylvania&page=87&format=json: 50"
       ]
      },
      {
       "output_type": "stream",
       "stream": "stdout",
       "text": [
        "\n",
        "http://chroniclingamerica.loc.gov/search/titles/results/?state=Pennsylvania&page=88&format=json: 50"
       ]
      },
      {
       "output_type": "stream",
       "stream": "stdout",
       "text": [
        "\n",
        "http://chroniclingamerica.loc.gov/search/titles/results/?state=Pennsylvania&page=89&format=json: 50"
       ]
      },
      {
       "output_type": "stream",
       "stream": "stdout",
       "text": [
        "\n",
        "http://chroniclingamerica.loc.gov/search/titles/results/?state=Pennsylvania&page=90&format=json: 50"
       ]
      },
      {
       "output_type": "stream",
       "stream": "stdout",
       "text": [
        "\n",
        "http://chroniclingamerica.loc.gov/search/titles/results/?state=Pennsylvania&page=91&format=json: 50"
       ]
      },
      {
       "output_type": "stream",
       "stream": "stdout",
       "text": [
        "\n",
        "http://chroniclingamerica.loc.gov/search/titles/results/?state=Pennsylvania&page=92&format=json: 50"
       ]
      },
      {
       "output_type": "stream",
       "stream": "stdout",
       "text": [
        "\n",
        "http://chroniclingamerica.loc.gov/search/titles/results/?state=Pennsylvania&page=93&format=json: 50"
       ]
      },
      {
       "output_type": "stream",
       "stream": "stdout",
       "text": [
        "\n",
        "http://chroniclingamerica.loc.gov/search/titles/results/?state=Pennsylvania&page=94&format=json: 50"
       ]
      },
      {
       "output_type": "stream",
       "stream": "stdout",
       "text": [
        "\n",
        "http://chroniclingamerica.loc.gov/search/titles/results/?state=Pennsylvania&page=95&format=json: 50"
       ]
      },
      {
       "output_type": "stream",
       "stream": "stdout",
       "text": [
        "\n",
        "http://chroniclingamerica.loc.gov/search/titles/results/?state=Pennsylvania&page=96&format=json: 50"
       ]
      },
      {
       "output_type": "stream",
       "stream": "stdout",
       "text": [
        "\n",
        "http://chroniclingamerica.loc.gov/search/titles/results/?state=Pennsylvania&page=97&format=json: 50"
       ]
      },
      {
       "output_type": "stream",
       "stream": "stdout",
       "text": [
        "\n",
        "http://chroniclingamerica.loc.gov/search/titles/results/?state=Pennsylvania&page=98&format=json: 50"
       ]
      },
      {
       "output_type": "stream",
       "stream": "stdout",
       "text": [
        "\n",
        "http://chroniclingamerica.loc.gov/search/titles/results/?state=Pennsylvania&page=99&format=json: 50"
       ]
      },
      {
       "output_type": "stream",
       "stream": "stdout",
       "text": [
        "\n",
        "http://chroniclingamerica.loc.gov/search/titles/results/?state=Pennsylvania&page=100&format=json: 50"
       ]
      },
      {
       "output_type": "stream",
       "stream": "stdout",
       "text": [
        "\n",
        "http://chroniclingamerica.loc.gov/search/titles/results/?state=Pennsylvania&page=101&format=json: 50"
       ]
      },
      {
       "output_type": "stream",
       "stream": "stdout",
       "text": [
        "\n",
        "http://chroniclingamerica.loc.gov/search/titles/results/?state=Pennsylvania&page=102&format=json: 50"
       ]
      },
      {
       "output_type": "stream",
       "stream": "stdout",
       "text": [
        "\n",
        "http://chroniclingamerica.loc.gov/search/titles/results/?state=Pennsylvania&page=103&format=json: 50"
       ]
      },
      {
       "output_type": "stream",
       "stream": "stdout",
       "text": [
        "\n",
        "http://chroniclingamerica.loc.gov/search/titles/results/?state=Pennsylvania&page=104&format=json: 50"
       ]
      },
      {
       "output_type": "stream",
       "stream": "stdout",
       "text": [
        "\n",
        "http://chroniclingamerica.loc.gov/search/titles/results/?state=Pennsylvania&page=105&format=json: 50"
       ]
      },
      {
       "output_type": "stream",
       "stream": "stdout",
       "text": [
        "\n",
        "http://chroniclingamerica.loc.gov/search/titles/results/?state=Pennsylvania&page=106&format=json: 50"
       ]
      },
      {
       "output_type": "stream",
       "stream": "stdout",
       "text": [
        "\n",
        "http://chroniclingamerica.loc.gov/search/titles/results/?state=Pennsylvania&page=107&format=json: 50"
       ]
      },
      {
       "output_type": "stream",
       "stream": "stdout",
       "text": [
        "\n",
        "http://chroniclingamerica.loc.gov/search/titles/results/?state=Pennsylvania&page=108&format=json: 50"
       ]
      },
      {
       "output_type": "stream",
       "stream": "stdout",
       "text": [
        "\n",
        "http://chroniclingamerica.loc.gov/search/titles/results/?state=Pennsylvania&page=109&format=json: 50"
       ]
      },
      {
       "output_type": "stream",
       "stream": "stdout",
       "text": [
        "\n",
        "http://chroniclingamerica.loc.gov/search/titles/results/?state=Pennsylvania&page=110&format=json: 50"
       ]
      },
      {
       "output_type": "stream",
       "stream": "stdout",
       "text": [
        "\n",
        "http://chroniclingamerica.loc.gov/search/titles/results/?state=Pennsylvania&page=111&format=json: 50"
       ]
      },
      {
       "output_type": "stream",
       "stream": "stdout",
       "text": [
        "\n",
        "http://chroniclingamerica.loc.gov/search/titles/results/?state=Pennsylvania&page=112&format=json: 50"
       ]
      },
      {
       "output_type": "stream",
       "stream": "stdout",
       "text": [
        "\n",
        "http://chroniclingamerica.loc.gov/search/titles/results/?state=Pennsylvania&page=113&format=json: 50"
       ]
      },
      {
       "output_type": "stream",
       "stream": "stdout",
       "text": [
        "\n",
        "http://chroniclingamerica.loc.gov/search/titles/results/?state=Pennsylvania&page=114&format=json: 50"
       ]
      },
      {
       "output_type": "stream",
       "stream": "stdout",
       "text": [
        "\n",
        "http://chroniclingamerica.loc.gov/search/titles/results/?state=Pennsylvania&page=115&format=json: 50"
       ]
      },
      {
       "output_type": "stream",
       "stream": "stdout",
       "text": [
        "\n",
        "http://chroniclingamerica.loc.gov/search/titles/results/?state=Pennsylvania&page=116&format=json: 50"
       ]
      },
      {
       "output_type": "stream",
       "stream": "stdout",
       "text": [
        "\n",
        "http://chroniclingamerica.loc.gov/search/titles/results/?state=Pennsylvania&page=117&format=json: 50"
       ]
      },
      {
       "output_type": "stream",
       "stream": "stdout",
       "text": [
        "\n",
        "http://chroniclingamerica.loc.gov/search/titles/results/?state=Pennsylvania&page=118&format=json: 50"
       ]
      },
      {
       "output_type": "stream",
       "stream": "stdout",
       "text": [
        "\n",
        "http://chroniclingamerica.loc.gov/search/titles/results/?state=Pennsylvania&page=119&format=json: 50"
       ]
      },
      {
       "output_type": "stream",
       "stream": "stdout",
       "text": [
        "\n",
        "http://chroniclingamerica.loc.gov/search/titles/results/?state=Pennsylvania&page=120&format=json: 50"
       ]
      },
      {
       "output_type": "stream",
       "stream": "stdout",
       "text": [
        "\n",
        "http://chroniclingamerica.loc.gov/search/titles/results/?state=Pennsylvania&page=121&format=json: 50"
       ]
      },
      {
       "output_type": "stream",
       "stream": "stdout",
       "text": [
        "\n",
        "http://chroniclingamerica.loc.gov/search/titles/results/?state=Pennsylvania&page=122&format=json: 50"
       ]
      },
      {
       "output_type": "stream",
       "stream": "stdout",
       "text": [
        "\n",
        "http://chroniclingamerica.loc.gov/search/titles/results/?state=Pennsylvania&page=123&format=json: 50"
       ]
      },
      {
       "output_type": "stream",
       "stream": "stdout",
       "text": [
        "\n",
        "http://chroniclingamerica.loc.gov/search/titles/results/?state=Pennsylvania&page=124&format=json: 50"
       ]
      },
      {
       "output_type": "stream",
       "stream": "stdout",
       "text": [
        "\n",
        "http://chroniclingamerica.loc.gov/search/titles/results/?state=Pennsylvania&page=125&format=json: 50"
       ]
      },
      {
       "output_type": "stream",
       "stream": "stdout",
       "text": [
        "\n",
        "http://chroniclingamerica.loc.gov/search/titles/results/?state=Pennsylvania&page=126&format=json: 50"
       ]
      },
      {
       "output_type": "stream",
       "stream": "stdout",
       "text": [
        "\n",
        "http://chroniclingamerica.loc.gov/search/titles/results/?state=Pennsylvania&page=127&format=json: 50"
       ]
      },
      {
       "output_type": "stream",
       "stream": "stdout",
       "text": [
        "\n",
        "http://chroniclingamerica.loc.gov/search/titles/results/?state=Pennsylvania&page=128&format=json: 50"
       ]
      },
      {
       "output_type": "stream",
       "stream": "stdout",
       "text": [
        "\n",
        "http://chroniclingamerica.loc.gov/search/titles/results/?state=Pennsylvania&page=129&format=json: 50"
       ]
      },
      {
       "output_type": "stream",
       "stream": "stdout",
       "text": [
        "\n",
        "http://chroniclingamerica.loc.gov/search/titles/results/?state=Pennsylvania&page=130&format=json: 50"
       ]
      },
      {
       "output_type": "stream",
       "stream": "stdout",
       "text": [
        "\n",
        "http://chroniclingamerica.loc.gov/search/titles/results/?state=Pennsylvania&page=131&format=json: 50"
       ]
      },
      {
       "output_type": "stream",
       "stream": "stdout",
       "text": [
        "\n",
        "http://chroniclingamerica.loc.gov/search/titles/results/?state=Pennsylvania&page=132&format=json: 50"
       ]
      },
      {
       "output_type": "stream",
       "stream": "stdout",
       "text": [
        "\n",
        "http://chroniclingamerica.loc.gov/search/titles/results/?state=Pennsylvania&page=133&format=json: 50"
       ]
      },
      {
       "output_type": "stream",
       "stream": "stdout",
       "text": [
        "\n",
        "http://chroniclingamerica.loc.gov/search/titles/results/?state=Pennsylvania&page=134&format=json: 50"
       ]
      },
      {
       "output_type": "stream",
       "stream": "stdout",
       "text": [
        "\n",
        "http://chroniclingamerica.loc.gov/search/titles/results/?state=Pennsylvania&page=135&format=json: 50"
       ]
      },
      {
       "output_type": "stream",
       "stream": "stdout",
       "text": [
        "\n",
        "http://chroniclingamerica.loc.gov/search/titles/results/?state=Pennsylvania&page=136&format=json: 50"
       ]
      },
      {
       "output_type": "stream",
       "stream": "stdout",
       "text": [
        "\n",
        "http://chroniclingamerica.loc.gov/search/titles/results/?state=Pennsylvania&page=137&format=json: 50"
       ]
      },
      {
       "output_type": "stream",
       "stream": "stdout",
       "text": [
        "\n",
        "http://chroniclingamerica.loc.gov/search/titles/results/?state=Pennsylvania&page=138&format=json: 50"
       ]
      },
      {
       "output_type": "stream",
       "stream": "stdout",
       "text": [
        "\n",
        "http://chroniclingamerica.loc.gov/search/titles/results/?state=Pennsylvania&page=139&format=json: 50"
       ]
      },
      {
       "output_type": "stream",
       "stream": "stdout",
       "text": [
        "\n",
        "http://chroniclingamerica.loc.gov/search/titles/results/?state=Pennsylvania&page=140&format=json: 50"
       ]
      },
      {
       "output_type": "stream",
       "stream": "stdout",
       "text": [
        "\n",
        "http://chroniclingamerica.loc.gov/search/titles/results/?state=Pennsylvania&page=141&format=json: 50"
       ]
      },
      {
       "output_type": "stream",
       "stream": "stdout",
       "text": [
        "\n",
        "http://chroniclingamerica.loc.gov/search/titles/results/?state=Pennsylvania&page=142&format=json: 50"
       ]
      },
      {
       "output_type": "stream",
       "stream": "stdout",
       "text": [
        "\n",
        "http://chroniclingamerica.loc.gov/search/titles/results/?state=Pennsylvania&page=143&format=json: 50"
       ]
      },
      {
       "output_type": "stream",
       "stream": "stdout",
       "text": [
        "\n",
        "http://chroniclingamerica.loc.gov/search/titles/results/?state=Pennsylvania&page=144&format=json: 50"
       ]
      },
      {
       "output_type": "stream",
       "stream": "stdout",
       "text": [
        "\n",
        "http://chroniclingamerica.loc.gov/search/titles/results/?state=Pennsylvania&page=145&format=json: 50"
       ]
      },
      {
       "output_type": "stream",
       "stream": "stdout",
       "text": [
        "\n",
        "http://chroniclingamerica.loc.gov/search/titles/results/?state=Pennsylvania&page=146&format=json: 50"
       ]
      },
      {
       "output_type": "stream",
       "stream": "stdout",
       "text": [
        "\n",
        "http://chroniclingamerica.loc.gov/search/titles/results/?state=Pennsylvania&page=147&format=json: 50"
       ]
      },
      {
       "output_type": "stream",
       "stream": "stdout",
       "text": [
        "\n",
        "http://chroniclingamerica.loc.gov/search/titles/results/?state=Pennsylvania&page=148&format=json: 50"
       ]
      },
      {
       "output_type": "stream",
       "stream": "stdout",
       "text": [
        "\n",
        "http://chroniclingamerica.loc.gov/search/titles/results/?state=Pennsylvania&page=149&format=json: 50"
       ]
      },
      {
       "output_type": "stream",
       "stream": "stdout",
       "text": [
        "\n",
        "http://chroniclingamerica.loc.gov/search/titles/results/?state=Pennsylvania&page=150&format=json: 50"
       ]
      },
      {
       "output_type": "stream",
       "stream": "stdout",
       "text": [
        "\n",
        "http://chroniclingamerica.loc.gov/search/titles/results/?state=Pennsylvania&page=151&format=json: 50"
       ]
      },
      {
       "output_type": "stream",
       "stream": "stdout",
       "text": [
        "\n",
        "http://chroniclingamerica.loc.gov/search/titles/results/?state=Pennsylvania&page=152&format=json: 50"
       ]
      },
      {
       "output_type": "stream",
       "stream": "stdout",
       "text": [
        "\n",
        "http://chroniclingamerica.loc.gov/search/titles/results/?state=Pennsylvania&page=153&format=json: 50"
       ]
      },
      {
       "output_type": "stream",
       "stream": "stdout",
       "text": [
        "\n",
        "http://chroniclingamerica.loc.gov/search/titles/results/?state=Pennsylvania&page=154&format=json: 50"
       ]
      },
      {
       "output_type": "stream",
       "stream": "stdout",
       "text": [
        "\n",
        "http://chroniclingamerica.loc.gov/search/titles/results/?state=Pennsylvania&page=155&format=json: 50"
       ]
      },
      {
       "output_type": "stream",
       "stream": "stdout",
       "text": [
        "\n",
        "http://chroniclingamerica.loc.gov/search/titles/results/?state=Pennsylvania&page=156&format=json: 50"
       ]
      },
      {
       "output_type": "stream",
       "stream": "stdout",
       "text": [
        "\n",
        "http://chroniclingamerica.loc.gov/search/titles/results/?state=Pennsylvania&page=157&format=json: 50"
       ]
      },
      {
       "output_type": "stream",
       "stream": "stdout",
       "text": [
        "\n",
        "http://chroniclingamerica.loc.gov/search/titles/results/?state=Pennsylvania&page=158&format=json: 50"
       ]
      },
      {
       "output_type": "stream",
       "stream": "stdout",
       "text": [
        "\n",
        "http://chroniclingamerica.loc.gov/search/titles/results/?state=Pennsylvania&page=159&format=json: 40"
       ]
      },
      {
       "output_type": "stream",
       "stream": "stdout",
       "text": [
        "\n",
        "Rhode island\n",
        "\n",
        "{'state': 'Rhode island', 'format': 'json'}\n",
        "0"
       ]
      },
      {
       "output_type": "stream",
       "stream": "stdout",
       "text": [
        "\n",
        "South carolina\n",
        "\n",
        "{'state': 'South carolina', 'format': 'json'}\n",
        "0"
       ]
      },
      {
       "output_type": "stream",
       "stream": "stdout",
       "text": [
        "\n",
        "South dakota\n",
        "\n",
        "{'state': 'South dakota', 'format': 'json'}\n",
        "0"
       ]
      },
      {
       "output_type": "stream",
       "stream": "stdout",
       "text": [
        "\n",
        "Tennessee\n",
        "\n",
        "{'state': 'Tennessee', 'format': 'json'}\n",
        "2727"
       ]
      },
      {
       "output_type": "stream",
       "stream": "stdout",
       "text": [
        "\n",
        "http://chroniclingamerica.loc.gov/search/titles/results/?state=Tennessee&page=2&format=json: 50"
       ]
      },
      {
       "output_type": "stream",
       "stream": "stdout",
       "text": [
        "\n",
        "http://chroniclingamerica.loc.gov/search/titles/results/?state=Tennessee&page=3&format=json: 50"
       ]
      },
      {
       "output_type": "stream",
       "stream": "stdout",
       "text": [
        "\n",
        "http://chroniclingamerica.loc.gov/search/titles/results/?state=Tennessee&page=4&format=json: 50"
       ]
      },
      {
       "output_type": "stream",
       "stream": "stdout",
       "text": [
        "\n",
        "http://chroniclingamerica.loc.gov/search/titles/results/?state=Tennessee&page=5&format=json: 50"
       ]
      },
      {
       "output_type": "stream",
       "stream": "stdout",
       "text": [
        "\n",
        "http://chroniclingamerica.loc.gov/search/titles/results/?state=Tennessee&page=6&format=json: 50"
       ]
      },
      {
       "output_type": "stream",
       "stream": "stdout",
       "text": [
        "\n",
        "http://chroniclingamerica.loc.gov/search/titles/results/?state=Tennessee&page=7&format=json: 50"
       ]
      },
      {
       "output_type": "stream",
       "stream": "stdout",
       "text": [
        "\n",
        "http://chroniclingamerica.loc.gov/search/titles/results/?state=Tennessee&page=8&format=json: 50"
       ]
      },
      {
       "output_type": "stream",
       "stream": "stdout",
       "text": [
        "\n",
        "http://chroniclingamerica.loc.gov/search/titles/results/?state=Tennessee&page=9&format=json: 50"
       ]
      },
      {
       "output_type": "stream",
       "stream": "stdout",
       "text": [
        "\n",
        "http://chroniclingamerica.loc.gov/search/titles/results/?state=Tennessee&page=10&format=json: 50"
       ]
      },
      {
       "output_type": "stream",
       "stream": "stdout",
       "text": [
        "\n",
        "http://chroniclingamerica.loc.gov/search/titles/results/?state=Tennessee&page=11&format=json: 50"
       ]
      },
      {
       "output_type": "stream",
       "stream": "stdout",
       "text": [
        "\n",
        "http://chroniclingamerica.loc.gov/search/titles/results/?state=Tennessee&page=12&format=json: 50"
       ]
      },
      {
       "output_type": "stream",
       "stream": "stdout",
       "text": [
        "\n",
        "http://chroniclingamerica.loc.gov/search/titles/results/?state=Tennessee&page=13&format=json: 50"
       ]
      },
      {
       "output_type": "stream",
       "stream": "stdout",
       "text": [
        "\n",
        "http://chroniclingamerica.loc.gov/search/titles/results/?state=Tennessee&page=14&format=json: 50"
       ]
      },
      {
       "output_type": "stream",
       "stream": "stdout",
       "text": [
        "\n",
        "http://chroniclingamerica.loc.gov/search/titles/results/?state=Tennessee&page=15&format=json: 50"
       ]
      },
      {
       "output_type": "stream",
       "stream": "stdout",
       "text": [
        "\n",
        "http://chroniclingamerica.loc.gov/search/titles/results/?state=Tennessee&page=16&format=json: 50"
       ]
      },
      {
       "output_type": "stream",
       "stream": "stdout",
       "text": [
        "\n",
        "http://chroniclingamerica.loc.gov/search/titles/results/?state=Tennessee&page=17&format=json: 50"
       ]
      },
      {
       "output_type": "stream",
       "stream": "stdout",
       "text": [
        "\n",
        "http://chroniclingamerica.loc.gov/search/titles/results/?state=Tennessee&page=18&format=json: 50"
       ]
      },
      {
       "output_type": "stream",
       "stream": "stdout",
       "text": [
        "\n",
        "http://chroniclingamerica.loc.gov/search/titles/results/?state=Tennessee&page=19&format=json: 50"
       ]
      },
      {
       "output_type": "stream",
       "stream": "stdout",
       "text": [
        "\n",
        "http://chroniclingamerica.loc.gov/search/titles/results/?state=Tennessee&page=20&format=json: 50"
       ]
      },
      {
       "output_type": "stream",
       "stream": "stdout",
       "text": [
        "\n",
        "http://chroniclingamerica.loc.gov/search/titles/results/?state=Tennessee&page=21&format=json: 50"
       ]
      },
      {
       "output_type": "stream",
       "stream": "stdout",
       "text": [
        "\n",
        "http://chroniclingamerica.loc.gov/search/titles/results/?state=Tennessee&page=22&format=json: 50"
       ]
      },
      {
       "output_type": "stream",
       "stream": "stdout",
       "text": [
        "\n",
        "http://chroniclingamerica.loc.gov/search/titles/results/?state=Tennessee&page=23&format=json: 50"
       ]
      },
      {
       "output_type": "stream",
       "stream": "stdout",
       "text": [
        "\n",
        "http://chroniclingamerica.loc.gov/search/titles/results/?state=Tennessee&page=24&format=json: 50"
       ]
      },
      {
       "output_type": "stream",
       "stream": "stdout",
       "text": [
        "\n",
        "http://chroniclingamerica.loc.gov/search/titles/results/?state=Tennessee&page=25&format=json: 50"
       ]
      },
      {
       "output_type": "stream",
       "stream": "stdout",
       "text": [
        "\n",
        "http://chroniclingamerica.loc.gov/search/titles/results/?state=Tennessee&page=26&format=json: 50"
       ]
      },
      {
       "output_type": "stream",
       "stream": "stdout",
       "text": [
        "\n",
        "http://chroniclingamerica.loc.gov/search/titles/results/?state=Tennessee&page=27&format=json: 50"
       ]
      },
      {
       "output_type": "stream",
       "stream": "stdout",
       "text": [
        "\n",
        "http://chroniclingamerica.loc.gov/search/titles/results/?state=Tennessee&page=28&format=json: 50"
       ]
      },
      {
       "output_type": "stream",
       "stream": "stdout",
       "text": [
        "\n",
        "http://chroniclingamerica.loc.gov/search/titles/results/?state=Tennessee&page=29&format=json: 50"
       ]
      },
      {
       "output_type": "stream",
       "stream": "stdout",
       "text": [
        "\n",
        "http://chroniclingamerica.loc.gov/search/titles/results/?state=Tennessee&page=30&format=json: 50"
       ]
      },
      {
       "output_type": "stream",
       "stream": "stdout",
       "text": [
        "\n",
        "http://chroniclingamerica.loc.gov/search/titles/results/?state=Tennessee&page=31&format=json: 50"
       ]
      },
      {
       "output_type": "stream",
       "stream": "stdout",
       "text": [
        "\n",
        "http://chroniclingamerica.loc.gov/search/titles/results/?state=Tennessee&page=32&format=json: 50"
       ]
      },
      {
       "output_type": "stream",
       "stream": "stdout",
       "text": [
        "\n",
        "http://chroniclingamerica.loc.gov/search/titles/results/?state=Tennessee&page=33&format=json: 50"
       ]
      },
      {
       "output_type": "stream",
       "stream": "stdout",
       "text": [
        "\n",
        "http://chroniclingamerica.loc.gov/search/titles/results/?state=Tennessee&page=34&format=json: 50"
       ]
      },
      {
       "output_type": "stream",
       "stream": "stdout",
       "text": [
        "\n",
        "http://chroniclingamerica.loc.gov/search/titles/results/?state=Tennessee&page=35&format=json: 50"
       ]
      },
      {
       "output_type": "stream",
       "stream": "stdout",
       "text": [
        "\n",
        "http://chroniclingamerica.loc.gov/search/titles/results/?state=Tennessee&page=36&format=json: 50"
       ]
      },
      {
       "output_type": "stream",
       "stream": "stdout",
       "text": [
        "\n",
        "http://chroniclingamerica.loc.gov/search/titles/results/?state=Tennessee&page=37&format=json: 50"
       ]
      },
      {
       "output_type": "stream",
       "stream": "stdout",
       "text": [
        "\n",
        "http://chroniclingamerica.loc.gov/search/titles/results/?state=Tennessee&page=38&format=json: 50"
       ]
      },
      {
       "output_type": "stream",
       "stream": "stdout",
       "text": [
        "\n",
        "http://chroniclingamerica.loc.gov/search/titles/results/?state=Tennessee&page=39&format=json: 50"
       ]
      },
      {
       "output_type": "stream",
       "stream": "stdout",
       "text": [
        "\n",
        "http://chroniclingamerica.loc.gov/search/titles/results/?state=Tennessee&page=40&format=json: 50"
       ]
      },
      {
       "output_type": "stream",
       "stream": "stdout",
       "text": [
        "\n",
        "http://chroniclingamerica.loc.gov/search/titles/results/?state=Tennessee&page=41&format=json: 50"
       ]
      },
      {
       "output_type": "stream",
       "stream": "stdout",
       "text": [
        "\n",
        "http://chroniclingamerica.loc.gov/search/titles/results/?state=Tennessee&page=42&format=json: 50"
       ]
      },
      {
       "output_type": "stream",
       "stream": "stdout",
       "text": [
        "\n",
        "http://chroniclingamerica.loc.gov/search/titles/results/?state=Tennessee&page=43&format=json: 50"
       ]
      },
      {
       "output_type": "stream",
       "stream": "stdout",
       "text": [
        "\n",
        "http://chroniclingamerica.loc.gov/search/titles/results/?state=Tennessee&page=44&format=json: 50"
       ]
      },
      {
       "output_type": "stream",
       "stream": "stdout",
       "text": [
        "\n",
        "http://chroniclingamerica.loc.gov/search/titles/results/?state=Tennessee&page=45&format=json: 50"
       ]
      },
      {
       "output_type": "stream",
       "stream": "stdout",
       "text": [
        "\n",
        "http://chroniclingamerica.loc.gov/search/titles/results/?state=Tennessee&page=46&format=json: 50"
       ]
      },
      {
       "output_type": "stream",
       "stream": "stdout",
       "text": [
        "\n",
        "http://chroniclingamerica.loc.gov/search/titles/results/?state=Tennessee&page=47&format=json: 50"
       ]
      },
      {
       "output_type": "stream",
       "stream": "stdout",
       "text": [
        "\n",
        "http://chroniclingamerica.loc.gov/search/titles/results/?state=Tennessee&page=48&format=json: 50"
       ]
      },
      {
       "output_type": "stream",
       "stream": "stdout",
       "text": [
        "\n",
        "http://chroniclingamerica.loc.gov/search/titles/results/?state=Tennessee&page=49&format=json: 50"
       ]
      },
      {
       "output_type": "stream",
       "stream": "stdout",
       "text": [
        "\n",
        "http://chroniclingamerica.loc.gov/search/titles/results/?state=Tennessee&page=50&format=json: 50"
       ]
      },
      {
       "output_type": "stream",
       "stream": "stdout",
       "text": [
        "\n",
        "http://chroniclingamerica.loc.gov/search/titles/results/?state=Tennessee&page=51&format=json: 50"
       ]
      },
      {
       "output_type": "stream",
       "stream": "stdout",
       "text": [
        "\n",
        "http://chroniclingamerica.loc.gov/search/titles/results/?state=Tennessee&page=52&format=json: 50"
       ]
      },
      {
       "output_type": "stream",
       "stream": "stdout",
       "text": [
        "\n",
        "http://chroniclingamerica.loc.gov/search/titles/results/?state=Tennessee&page=53&format=json: 50"
       ]
      },
      {
       "output_type": "stream",
       "stream": "stdout",
       "text": [
        "\n",
        "http://chroniclingamerica.loc.gov/search/titles/results/?state=Tennessee&page=54&format=json: 50"
       ]
      },
      {
       "output_type": "stream",
       "stream": "stdout",
       "text": [
        "\n",
        "http://chroniclingamerica.loc.gov/search/titles/results/?state=Tennessee&page=55&format=json: 27"
       ]
      },
      {
       "output_type": "stream",
       "stream": "stdout",
       "text": [
        "\n",
        "Texas\n",
        "\n",
        "{'state': 'Texas', 'format': 'json'}\n",
        "5779"
       ]
      },
      {
       "output_type": "stream",
       "stream": "stdout",
       "text": [
        "\n",
        "http://chroniclingamerica.loc.gov/search/titles/results/?state=Texas&page=2&format=json: 50"
       ]
      },
      {
       "output_type": "stream",
       "stream": "stdout",
       "text": [
        "\n",
        "http://chroniclingamerica.loc.gov/search/titles/results/?state=Texas&page=3&format=json: 50"
       ]
      },
      {
       "output_type": "stream",
       "stream": "stdout",
       "text": [
        "\n",
        "http://chroniclingamerica.loc.gov/search/titles/results/?state=Texas&page=4&format=json: 50"
       ]
      },
      {
       "output_type": "stream",
       "stream": "stdout",
       "text": [
        "\n",
        "http://chroniclingamerica.loc.gov/search/titles/results/?state=Texas&page=5&format=json: 50"
       ]
      },
      {
       "output_type": "stream",
       "stream": "stdout",
       "text": [
        "\n",
        "http://chroniclingamerica.loc.gov/search/titles/results/?state=Texas&page=6&format=json: 50"
       ]
      },
      {
       "output_type": "stream",
       "stream": "stdout",
       "text": [
        "\n",
        "http://chroniclingamerica.loc.gov/search/titles/results/?state=Texas&page=7&format=json: 50"
       ]
      },
      {
       "output_type": "stream",
       "stream": "stdout",
       "text": [
        "\n",
        "http://chroniclingamerica.loc.gov/search/titles/results/?state=Texas&page=8&format=json: 50"
       ]
      },
      {
       "output_type": "stream",
       "stream": "stdout",
       "text": [
        "\n",
        "http://chroniclingamerica.loc.gov/search/titles/results/?state=Texas&page=9&format=json: 50"
       ]
      },
      {
       "output_type": "stream",
       "stream": "stdout",
       "text": [
        "\n",
        "http://chroniclingamerica.loc.gov/search/titles/results/?state=Texas&page=10&format=json: 50"
       ]
      },
      {
       "output_type": "stream",
       "stream": "stdout",
       "text": [
        "\n",
        "http://chroniclingamerica.loc.gov/search/titles/results/?state=Texas&page=11&format=json: 50"
       ]
      },
      {
       "output_type": "stream",
       "stream": "stdout",
       "text": [
        "\n",
        "http://chroniclingamerica.loc.gov/search/titles/results/?state=Texas&page=12&format=json: 50"
       ]
      },
      {
       "output_type": "stream",
       "stream": "stdout",
       "text": [
        "\n",
        "http://chroniclingamerica.loc.gov/search/titles/results/?state=Texas&page=13&format=json: 50"
       ]
      },
      {
       "output_type": "stream",
       "stream": "stdout",
       "text": [
        "\n",
        "http://chroniclingamerica.loc.gov/search/titles/results/?state=Texas&page=14&format=json: 50"
       ]
      },
      {
       "output_type": "stream",
       "stream": "stdout",
       "text": [
        "\n",
        "http://chroniclingamerica.loc.gov/search/titles/results/?state=Texas&page=15&format=json: 50"
       ]
      },
      {
       "output_type": "stream",
       "stream": "stdout",
       "text": [
        "\n",
        "http://chroniclingamerica.loc.gov/search/titles/results/?state=Texas&page=16&format=json: 50"
       ]
      },
      {
       "output_type": "stream",
       "stream": "stdout",
       "text": [
        "\n",
        "http://chroniclingamerica.loc.gov/search/titles/results/?state=Texas&page=17&format=json: 50"
       ]
      },
      {
       "output_type": "stream",
       "stream": "stdout",
       "text": [
        "\n",
        "http://chroniclingamerica.loc.gov/search/titles/results/?state=Texas&page=18&format=json: 50"
       ]
      },
      {
       "output_type": "stream",
       "stream": "stdout",
       "text": [
        "\n",
        "http://chroniclingamerica.loc.gov/search/titles/results/?state=Texas&page=19&format=json: 50"
       ]
      },
      {
       "output_type": "stream",
       "stream": "stdout",
       "text": [
        "\n",
        "http://chroniclingamerica.loc.gov/search/titles/results/?state=Texas&page=20&format=json: 50"
       ]
      },
      {
       "output_type": "stream",
       "stream": "stdout",
       "text": [
        "\n",
        "http://chroniclingamerica.loc.gov/search/titles/results/?state=Texas&page=21&format=json: 50"
       ]
      },
      {
       "output_type": "stream",
       "stream": "stdout",
       "text": [
        "\n",
        "http://chroniclingamerica.loc.gov/search/titles/results/?state=Texas&page=22&format=json: 50"
       ]
      },
      {
       "output_type": "stream",
       "stream": "stdout",
       "text": [
        "\n",
        "http://chroniclingamerica.loc.gov/search/titles/results/?state=Texas&page=23&format=json: 50"
       ]
      },
      {
       "output_type": "stream",
       "stream": "stdout",
       "text": [
        "\n",
        "http://chroniclingamerica.loc.gov/search/titles/results/?state=Texas&page=24&format=json: 50"
       ]
      },
      {
       "output_type": "stream",
       "stream": "stdout",
       "text": [
        "\n",
        "http://chroniclingamerica.loc.gov/search/titles/results/?state=Texas&page=25&format=json: 50"
       ]
      },
      {
       "output_type": "stream",
       "stream": "stdout",
       "text": [
        "\n",
        "http://chroniclingamerica.loc.gov/search/titles/results/?state=Texas&page=26&format=json: 50"
       ]
      },
      {
       "output_type": "stream",
       "stream": "stdout",
       "text": [
        "\n",
        "http://chroniclingamerica.loc.gov/search/titles/results/?state=Texas&page=27&format=json: 50"
       ]
      },
      {
       "output_type": "stream",
       "stream": "stdout",
       "text": [
        "\n",
        "http://chroniclingamerica.loc.gov/search/titles/results/?state=Texas&page=28&format=json: 50"
       ]
      },
      {
       "output_type": "stream",
       "stream": "stdout",
       "text": [
        "\n",
        "http://chroniclingamerica.loc.gov/search/titles/results/?state=Texas&page=29&format=json: 50"
       ]
      },
      {
       "output_type": "stream",
       "stream": "stdout",
       "text": [
        "\n",
        "http://chroniclingamerica.loc.gov/search/titles/results/?state=Texas&page=30&format=json: 50"
       ]
      },
      {
       "output_type": "stream",
       "stream": "stdout",
       "text": [
        "\n",
        "http://chroniclingamerica.loc.gov/search/titles/results/?state=Texas&page=31&format=json: 50"
       ]
      },
      {
       "output_type": "stream",
       "stream": "stdout",
       "text": [
        "\n",
        "http://chroniclingamerica.loc.gov/search/titles/results/?state=Texas&page=32&format=json: 50"
       ]
      },
      {
       "output_type": "stream",
       "stream": "stdout",
       "text": [
        "\n",
        "http://chroniclingamerica.loc.gov/search/titles/results/?state=Texas&page=33&format=json: 50"
       ]
      },
      {
       "output_type": "stream",
       "stream": "stdout",
       "text": [
        "\n",
        "http://chroniclingamerica.loc.gov/search/titles/results/?state=Texas&page=34&format=json: 50"
       ]
      },
      {
       "output_type": "stream",
       "stream": "stdout",
       "text": [
        "\n",
        "http://chroniclingamerica.loc.gov/search/titles/results/?state=Texas&page=35&format=json: 50"
       ]
      },
      {
       "output_type": "stream",
       "stream": "stdout",
       "text": [
        "\n",
        "http://chroniclingamerica.loc.gov/search/titles/results/?state=Texas&page=36&format=json: 50"
       ]
      },
      {
       "output_type": "stream",
       "stream": "stdout",
       "text": [
        "\n",
        "http://chroniclingamerica.loc.gov/search/titles/results/?state=Texas&page=37&format=json: 50"
       ]
      },
      {
       "output_type": "stream",
       "stream": "stdout",
       "text": [
        "\n",
        "http://chroniclingamerica.loc.gov/search/titles/results/?state=Texas&page=38&format=json: 50"
       ]
      },
      {
       "output_type": "stream",
       "stream": "stdout",
       "text": [
        "\n",
        "http://chroniclingamerica.loc.gov/search/titles/results/?state=Texas&page=39&format=json: 50"
       ]
      },
      {
       "output_type": "stream",
       "stream": "stdout",
       "text": [
        "\n",
        "http://chroniclingamerica.loc.gov/search/titles/results/?state=Texas&page=40&format=json: 50"
       ]
      },
      {
       "output_type": "stream",
       "stream": "stdout",
       "text": [
        "\n",
        "http://chroniclingamerica.loc.gov/search/titles/results/?state=Texas&page=41&format=json: 50"
       ]
      },
      {
       "output_type": "stream",
       "stream": "stdout",
       "text": [
        "\n",
        "http://chroniclingamerica.loc.gov/search/titles/results/?state=Texas&page=42&format=json: 50"
       ]
      },
      {
       "output_type": "stream",
       "stream": "stdout",
       "text": [
        "\n",
        "http://chroniclingamerica.loc.gov/search/titles/results/?state=Texas&page=43&format=json: 50"
       ]
      },
      {
       "output_type": "stream",
       "stream": "stdout",
       "text": [
        "\n",
        "http://chroniclingamerica.loc.gov/search/titles/results/?state=Texas&page=44&format=json: 50"
       ]
      },
      {
       "output_type": "stream",
       "stream": "stdout",
       "text": [
        "\n",
        "http://chroniclingamerica.loc.gov/search/titles/results/?state=Texas&page=45&format=json: 50"
       ]
      },
      {
       "output_type": "stream",
       "stream": "stdout",
       "text": [
        "\n",
        "http://chroniclingamerica.loc.gov/search/titles/results/?state=Texas&page=46&format=json: 50"
       ]
      },
      {
       "output_type": "stream",
       "stream": "stdout",
       "text": [
        "\n",
        "http://chroniclingamerica.loc.gov/search/titles/results/?state=Texas&page=47&format=json: 50"
       ]
      },
      {
       "output_type": "stream",
       "stream": "stdout",
       "text": [
        "\n",
        "http://chroniclingamerica.loc.gov/search/titles/results/?state=Texas&page=48&format=json: 50"
       ]
      },
      {
       "output_type": "stream",
       "stream": "stdout",
       "text": [
        "\n",
        "http://chroniclingamerica.loc.gov/search/titles/results/?state=Texas&page=49&format=json: 50"
       ]
      },
      {
       "output_type": "stream",
       "stream": "stdout",
       "text": [
        "\n",
        "http://chroniclingamerica.loc.gov/search/titles/results/?state=Texas&page=50&format=json: 50"
       ]
      },
      {
       "output_type": "stream",
       "stream": "stdout",
       "text": [
        "\n",
        "http://chroniclingamerica.loc.gov/search/titles/results/?state=Texas&page=51&format=json: 50"
       ]
      },
      {
       "output_type": "stream",
       "stream": "stdout",
       "text": [
        "\n",
        "http://chroniclingamerica.loc.gov/search/titles/results/?state=Texas&page=52&format=json: 50"
       ]
      },
      {
       "output_type": "stream",
       "stream": "stdout",
       "text": [
        "\n",
        "http://chroniclingamerica.loc.gov/search/titles/results/?state=Texas&page=53&format=json: 50"
       ]
      },
      {
       "output_type": "stream",
       "stream": "stdout",
       "text": [
        "\n",
        "http://chroniclingamerica.loc.gov/search/titles/results/?state=Texas&page=54&format=json: 50"
       ]
      },
      {
       "output_type": "stream",
       "stream": "stdout",
       "text": [
        "\n",
        "http://chroniclingamerica.loc.gov/search/titles/results/?state=Texas&page=55&format=json: 50"
       ]
      },
      {
       "output_type": "stream",
       "stream": "stdout",
       "text": [
        "\n",
        "http://chroniclingamerica.loc.gov/search/titles/results/?state=Texas&page=56&format=json: 50"
       ]
      },
      {
       "output_type": "stream",
       "stream": "stdout",
       "text": [
        "\n",
        "http://chroniclingamerica.loc.gov/search/titles/results/?state=Texas&page=57&format=json: 50"
       ]
      },
      {
       "output_type": "stream",
       "stream": "stdout",
       "text": [
        "\n",
        "http://chroniclingamerica.loc.gov/search/titles/results/?state=Texas&page=58&format=json: 50"
       ]
      },
      {
       "output_type": "stream",
       "stream": "stdout",
       "text": [
        "\n",
        "http://chroniclingamerica.loc.gov/search/titles/results/?state=Texas&page=59&format=json: 50"
       ]
      },
      {
       "output_type": "stream",
       "stream": "stdout",
       "text": [
        "\n",
        "http://chroniclingamerica.loc.gov/search/titles/results/?state=Texas&page=60&format=json: 50"
       ]
      },
      {
       "output_type": "stream",
       "stream": "stdout",
       "text": [
        "\n",
        "http://chroniclingamerica.loc.gov/search/titles/results/?state=Texas&page=61&format=json: 50"
       ]
      },
      {
       "output_type": "stream",
       "stream": "stdout",
       "text": [
        "\n",
        "http://chroniclingamerica.loc.gov/search/titles/results/?state=Texas&page=62&format=json: 50"
       ]
      },
      {
       "output_type": "stream",
       "stream": "stdout",
       "text": [
        "\n",
        "http://chroniclingamerica.loc.gov/search/titles/results/?state=Texas&page=63&format=json: 50"
       ]
      },
      {
       "output_type": "stream",
       "stream": "stdout",
       "text": [
        "\n",
        "http://chroniclingamerica.loc.gov/search/titles/results/?state=Texas&page=64&format=json: 50"
       ]
      },
      {
       "output_type": "stream",
       "stream": "stdout",
       "text": [
        "\n",
        "http://chroniclingamerica.loc.gov/search/titles/results/?state=Texas&page=65&format=json: 50"
       ]
      },
      {
       "output_type": "stream",
       "stream": "stdout",
       "text": [
        "\n",
        "http://chroniclingamerica.loc.gov/search/titles/results/?state=Texas&page=66&format=json: 50"
       ]
      },
      {
       "output_type": "stream",
       "stream": "stdout",
       "text": [
        "\n",
        "http://chroniclingamerica.loc.gov/search/titles/results/?state=Texas&page=67&format=json: 50"
       ]
      },
      {
       "output_type": "stream",
       "stream": "stdout",
       "text": [
        "\n",
        "http://chroniclingamerica.loc.gov/search/titles/results/?state=Texas&page=68&format=json: 50"
       ]
      },
      {
       "output_type": "stream",
       "stream": "stdout",
       "text": [
        "\n",
        "http://chroniclingamerica.loc.gov/search/titles/results/?state=Texas&page=69&format=json: 50"
       ]
      },
      {
       "output_type": "stream",
       "stream": "stdout",
       "text": [
        "\n",
        "http://chroniclingamerica.loc.gov/search/titles/results/?state=Texas&page=70&format=json: 50"
       ]
      },
      {
       "output_type": "stream",
       "stream": "stdout",
       "text": [
        "\n",
        "http://chroniclingamerica.loc.gov/search/titles/results/?state=Texas&page=71&format=json: 50"
       ]
      },
      {
       "output_type": "stream",
       "stream": "stdout",
       "text": [
        "\n",
        "http://chroniclingamerica.loc.gov/search/titles/results/?state=Texas&page=72&format=json: 50"
       ]
      },
      {
       "output_type": "stream",
       "stream": "stdout",
       "text": [
        "\n",
        "http://chroniclingamerica.loc.gov/search/titles/results/?state=Texas&page=73&format=json: 50"
       ]
      },
      {
       "output_type": "stream",
       "stream": "stdout",
       "text": [
        "\n",
        "http://chroniclingamerica.loc.gov/search/titles/results/?state=Texas&page=74&format=json: 50"
       ]
      },
      {
       "output_type": "stream",
       "stream": "stdout",
       "text": [
        "\n",
        "http://chroniclingamerica.loc.gov/search/titles/results/?state=Texas&page=75&format=json: 50"
       ]
      },
      {
       "output_type": "stream",
       "stream": "stdout",
       "text": [
        "\n",
        "http://chroniclingamerica.loc.gov/search/titles/results/?state=Texas&page=76&format=json: 50"
       ]
      },
      {
       "output_type": "stream",
       "stream": "stdout",
       "text": [
        "\n",
        "http://chroniclingamerica.loc.gov/search/titles/results/?state=Texas&page=77&format=json: 50"
       ]
      },
      {
       "output_type": "stream",
       "stream": "stdout",
       "text": [
        "\n",
        "http://chroniclingamerica.loc.gov/search/titles/results/?state=Texas&page=78&format=json: 50"
       ]
      },
      {
       "output_type": "stream",
       "stream": "stdout",
       "text": [
        "\n",
        "http://chroniclingamerica.loc.gov/search/titles/results/?state=Texas&page=79&format=json: 50"
       ]
      },
      {
       "output_type": "stream",
       "stream": "stdout",
       "text": [
        "\n",
        "http://chroniclingamerica.loc.gov/search/titles/results/?state=Texas&page=80&format=json: 50"
       ]
      },
      {
       "output_type": "stream",
       "stream": "stdout",
       "text": [
        "\n",
        "http://chroniclingamerica.loc.gov/search/titles/results/?state=Texas&page=81&format=json: 50"
       ]
      },
      {
       "output_type": "stream",
       "stream": "stdout",
       "text": [
        "\n",
        "http://chroniclingamerica.loc.gov/search/titles/results/?state=Texas&page=82&format=json: 50"
       ]
      },
      {
       "output_type": "stream",
       "stream": "stdout",
       "text": [
        "\n",
        "http://chroniclingamerica.loc.gov/search/titles/results/?state=Texas&page=83&format=json: 50"
       ]
      },
      {
       "output_type": "stream",
       "stream": "stdout",
       "text": [
        "\n",
        "http://chroniclingamerica.loc.gov/search/titles/results/?state=Texas&page=84&format=json: 50"
       ]
      },
      {
       "output_type": "stream",
       "stream": "stdout",
       "text": [
        "\n",
        "http://chroniclingamerica.loc.gov/search/titles/results/?state=Texas&page=85&format=json: 50"
       ]
      },
      {
       "output_type": "stream",
       "stream": "stdout",
       "text": [
        "\n",
        "http://chroniclingamerica.loc.gov/search/titles/results/?state=Texas&page=86&format=json: 50"
       ]
      },
      {
       "output_type": "stream",
       "stream": "stdout",
       "text": [
        "\n",
        "http://chroniclingamerica.loc.gov/search/titles/results/?state=Texas&page=87&format=json: 50"
       ]
      },
      {
       "output_type": "stream",
       "stream": "stdout",
       "text": [
        "\n",
        "http://chroniclingamerica.loc.gov/search/titles/results/?state=Texas&page=88&format=json: 50"
       ]
      },
      {
       "output_type": "stream",
       "stream": "stdout",
       "text": [
        "\n",
        "http://chroniclingamerica.loc.gov/search/titles/results/?state=Texas&page=89&format=json: 50"
       ]
      },
      {
       "output_type": "stream",
       "stream": "stdout",
       "text": [
        "\n",
        "http://chroniclingamerica.loc.gov/search/titles/results/?state=Texas&page=90&format=json: 50"
       ]
      },
      {
       "output_type": "stream",
       "stream": "stdout",
       "text": [
        "\n",
        "http://chroniclingamerica.loc.gov/search/titles/results/?state=Texas&page=91&format=json: 50"
       ]
      },
      {
       "output_type": "stream",
       "stream": "stdout",
       "text": [
        "\n",
        "http://chroniclingamerica.loc.gov/search/titles/results/?state=Texas&page=92&format=json: 50"
       ]
      },
      {
       "output_type": "stream",
       "stream": "stdout",
       "text": [
        "\n",
        "http://chroniclingamerica.loc.gov/search/titles/results/?state=Texas&page=93&format=json: 50"
       ]
      },
      {
       "output_type": "stream",
       "stream": "stdout",
       "text": [
        "\n",
        "http://chroniclingamerica.loc.gov/search/titles/results/?state=Texas&page=94&format=json: 50"
       ]
      },
      {
       "output_type": "stream",
       "stream": "stdout",
       "text": [
        "\n",
        "http://chroniclingamerica.loc.gov/search/titles/results/?state=Texas&page=95&format=json: 50"
       ]
      },
      {
       "output_type": "stream",
       "stream": "stdout",
       "text": [
        "\n",
        "http://chroniclingamerica.loc.gov/search/titles/results/?state=Texas&page=96&format=json: 50"
       ]
      },
      {
       "output_type": "stream",
       "stream": "stdout",
       "text": [
        "\n",
        "http://chroniclingamerica.loc.gov/search/titles/results/?state=Texas&page=97&format=json: 50"
       ]
      },
      {
       "output_type": "stream",
       "stream": "stdout",
       "text": [
        "\n",
        "http://chroniclingamerica.loc.gov/search/titles/results/?state=Texas&page=98&format=json: 50"
       ]
      },
      {
       "output_type": "stream",
       "stream": "stdout",
       "text": [
        "\n",
        "http://chroniclingamerica.loc.gov/search/titles/results/?state=Texas&page=99&format=json: 50"
       ]
      },
      {
       "output_type": "stream",
       "stream": "stdout",
       "text": [
        "\n",
        "http://chroniclingamerica.loc.gov/search/titles/results/?state=Texas&page=100&format=json: 50"
       ]
      },
      {
       "output_type": "stream",
       "stream": "stdout",
       "text": [
        "\n",
        "http://chroniclingamerica.loc.gov/search/titles/results/?state=Texas&page=101&format=json: 50"
       ]
      },
      {
       "output_type": "stream",
       "stream": "stdout",
       "text": [
        "\n",
        "http://chroniclingamerica.loc.gov/search/titles/results/?state=Texas&page=102&format=json: 50"
       ]
      },
      {
       "output_type": "stream",
       "stream": "stdout",
       "text": [
        "\n",
        "http://chroniclingamerica.loc.gov/search/titles/results/?state=Texas&page=103&format=json: 50"
       ]
      },
      {
       "output_type": "stream",
       "stream": "stdout",
       "text": [
        "\n",
        "http://chroniclingamerica.loc.gov/search/titles/results/?state=Texas&page=104&format=json: 50"
       ]
      },
      {
       "output_type": "stream",
       "stream": "stdout",
       "text": [
        "\n",
        "http://chroniclingamerica.loc.gov/search/titles/results/?state=Texas&page=105&format=json: 50"
       ]
      },
      {
       "output_type": "stream",
       "stream": "stdout",
       "text": [
        "\n",
        "http://chroniclingamerica.loc.gov/search/titles/results/?state=Texas&page=106&format=json: 50"
       ]
      },
      {
       "output_type": "stream",
       "stream": "stdout",
       "text": [
        "\n",
        "http://chroniclingamerica.loc.gov/search/titles/results/?state=Texas&page=107&format=json: 50"
       ]
      },
      {
       "output_type": "stream",
       "stream": "stdout",
       "text": [
        "\n",
        "http://chroniclingamerica.loc.gov/search/titles/results/?state=Texas&page=108&format=json: 50"
       ]
      },
      {
       "output_type": "stream",
       "stream": "stdout",
       "text": [
        "\n",
        "http://chroniclingamerica.loc.gov/search/titles/results/?state=Texas&page=109&format=json: 50"
       ]
      },
      {
       "output_type": "stream",
       "stream": "stdout",
       "text": [
        "\n",
        "http://chroniclingamerica.loc.gov/search/titles/results/?state=Texas&page=110&format=json: 50"
       ]
      },
      {
       "output_type": "stream",
       "stream": "stdout",
       "text": [
        "\n",
        "http://chroniclingamerica.loc.gov/search/titles/results/?state=Texas&page=111&format=json: 50"
       ]
      },
      {
       "output_type": "stream",
       "stream": "stdout",
       "text": [
        "\n",
        "http://chroniclingamerica.loc.gov/search/titles/results/?state=Texas&page=112&format=json: 50"
       ]
      },
      {
       "output_type": "stream",
       "stream": "stdout",
       "text": [
        "\n",
        "http://chroniclingamerica.loc.gov/search/titles/results/?state=Texas&page=113&format=json: 50"
       ]
      },
      {
       "output_type": "stream",
       "stream": "stdout",
       "text": [
        "\n",
        "http://chroniclingamerica.loc.gov/search/titles/results/?state=Texas&page=114&format=json: 50"
       ]
      },
      {
       "output_type": "stream",
       "stream": "stdout",
       "text": [
        "\n",
        "http://chroniclingamerica.loc.gov/search/titles/results/?state=Texas&page=115&format=json: 50"
       ]
      },
      {
       "output_type": "stream",
       "stream": "stdout",
       "text": [
        "\n",
        "http://chroniclingamerica.loc.gov/search/titles/results/?state=Texas&page=116&format=json: 29"
       ]
      },
      {
       "output_type": "stream",
       "stream": "stdout",
       "text": [
        "\n",
        "Utah\n",
        "\n",
        "{'state': 'Utah', 'format': 'json'}\n",
        "592"
       ]
      },
      {
       "output_type": "stream",
       "stream": "stdout",
       "text": [
        "\n",
        "http://chroniclingamerica.loc.gov/search/titles/results/?state=Utah&page=2&format=json: 50"
       ]
      },
      {
       "output_type": "stream",
       "stream": "stdout",
       "text": [
        "\n",
        "http://chroniclingamerica.loc.gov/search/titles/results/?state=Utah&page=3&format=json: 50"
       ]
      },
      {
       "output_type": "stream",
       "stream": "stdout",
       "text": [
        "\n",
        "http://chroniclingamerica.loc.gov/search/titles/results/?state=Utah&page=4&format=json: 50"
       ]
      },
      {
       "output_type": "stream",
       "stream": "stdout",
       "text": [
        "\n",
        "http://chroniclingamerica.loc.gov/search/titles/results/?state=Utah&page=5&format=json: 50"
       ]
      },
      {
       "output_type": "stream",
       "stream": "stdout",
       "text": [
        "\n",
        "http://chroniclingamerica.loc.gov/search/titles/results/?state=Utah&page=6&format=json: 50"
       ]
      },
      {
       "output_type": "stream",
       "stream": "stdout",
       "text": [
        "\n",
        "http://chroniclingamerica.loc.gov/search/titles/results/?state=Utah&page=7&format=json: 50"
       ]
      },
      {
       "output_type": "stream",
       "stream": "stdout",
       "text": [
        "\n",
        "http://chroniclingamerica.loc.gov/search/titles/results/?state=Utah&page=8&format=json: 50"
       ]
      },
      {
       "output_type": "stream",
       "stream": "stdout",
       "text": [
        "\n",
        "http://chroniclingamerica.loc.gov/search/titles/results/?state=Utah&page=9&format=json: 50"
       ]
      },
      {
       "output_type": "stream",
       "stream": "stdout",
       "text": [
        "\n",
        "http://chroniclingamerica.loc.gov/search/titles/results/?state=Utah&page=10&format=json: 50"
       ]
      },
      {
       "output_type": "stream",
       "stream": "stdout",
       "text": [
        "\n",
        "http://chroniclingamerica.loc.gov/search/titles/results/?state=Utah&page=11&format=json: 50"
       ]
      },
      {
       "output_type": "stream",
       "stream": "stdout",
       "text": [
        "\n",
        "http://chroniclingamerica.loc.gov/search/titles/results/?state=Utah&page=12&format=json: 42"
       ]
      },
      {
       "output_type": "stream",
       "stream": "stdout",
       "text": [
        "\n",
        "Virginia\n",
        "\n",
        "{'state': 'Virginia', 'format': 'json'}\n",
        "2856"
       ]
      },
      {
       "output_type": "stream",
       "stream": "stdout",
       "text": [
        "\n",
        "http://chroniclingamerica.loc.gov/search/titles/results/?state=Virginia&page=2&format=json: 50"
       ]
      },
      {
       "output_type": "stream",
       "stream": "stdout",
       "text": [
        "\n",
        "http://chroniclingamerica.loc.gov/search/titles/results/?state=Virginia&page=3&format=json: 50"
       ]
      },
      {
       "output_type": "stream",
       "stream": "stdout",
       "text": [
        "\n",
        "http://chroniclingamerica.loc.gov/search/titles/results/?state=Virginia&page=4&format=json: 50"
       ]
      },
      {
       "output_type": "stream",
       "stream": "stdout",
       "text": [
        "\n",
        "http://chroniclingamerica.loc.gov/search/titles/results/?state=Virginia&page=5&format=json: 50"
       ]
      },
      {
       "output_type": "stream",
       "stream": "stdout",
       "text": [
        "\n",
        "http://chroniclingamerica.loc.gov/search/titles/results/?state=Virginia&page=6&format=json: 50"
       ]
      },
      {
       "output_type": "stream",
       "stream": "stdout",
       "text": [
        "\n",
        "http://chroniclingamerica.loc.gov/search/titles/results/?state=Virginia&page=7&format=json: 50"
       ]
      },
      {
       "output_type": "stream",
       "stream": "stdout",
       "text": [
        "\n",
        "http://chroniclingamerica.loc.gov/search/titles/results/?state=Virginia&page=8&format=json: 50"
       ]
      },
      {
       "output_type": "stream",
       "stream": "stdout",
       "text": [
        "\n",
        "http://chroniclingamerica.loc.gov/search/titles/results/?state=Virginia&page=9&format=json: 50"
       ]
      },
      {
       "output_type": "stream",
       "stream": "stdout",
       "text": [
        "\n",
        "http://chroniclingamerica.loc.gov/search/titles/results/?state=Virginia&page=10&format=json: 50"
       ]
      },
      {
       "output_type": "stream",
       "stream": "stdout",
       "text": [
        "\n",
        "http://chroniclingamerica.loc.gov/search/titles/results/?state=Virginia&page=11&format=json: 50"
       ]
      },
      {
       "output_type": "stream",
       "stream": "stdout",
       "text": [
        "\n",
        "http://chroniclingamerica.loc.gov/search/titles/results/?state=Virginia&page=12&format=json: 50"
       ]
      },
      {
       "output_type": "stream",
       "stream": "stdout",
       "text": [
        "\n",
        "http://chroniclingamerica.loc.gov/search/titles/results/?state=Virginia&page=13&format=json: 50"
       ]
      },
      {
       "output_type": "stream",
       "stream": "stdout",
       "text": [
        "\n",
        "http://chroniclingamerica.loc.gov/search/titles/results/?state=Virginia&page=14&format=json: 50"
       ]
      },
      {
       "output_type": "stream",
       "stream": "stdout",
       "text": [
        "\n",
        "http://chroniclingamerica.loc.gov/search/titles/results/?state=Virginia&page=15&format=json: 50"
       ]
      },
      {
       "output_type": "stream",
       "stream": "stdout",
       "text": [
        "\n",
        "http://chroniclingamerica.loc.gov/search/titles/results/?state=Virginia&page=16&format=json: 50"
       ]
      },
      {
       "output_type": "stream",
       "stream": "stdout",
       "text": [
        "\n",
        "http://chroniclingamerica.loc.gov/search/titles/results/?state=Virginia&page=17&format=json: 50"
       ]
      },
      {
       "output_type": "stream",
       "stream": "stdout",
       "text": [
        "\n",
        "http://chroniclingamerica.loc.gov/search/titles/results/?state=Virginia&page=18&format=json: 50"
       ]
      },
      {
       "output_type": "stream",
       "stream": "stdout",
       "text": [
        "\n",
        "http://chroniclingamerica.loc.gov/search/titles/results/?state=Virginia&page=19&format=json: 50"
       ]
      },
      {
       "output_type": "stream",
       "stream": "stdout",
       "text": [
        "\n",
        "http://chroniclingamerica.loc.gov/search/titles/results/?state=Virginia&page=20&format=json: 50"
       ]
      },
      {
       "output_type": "stream",
       "stream": "stdout",
       "text": [
        "\n",
        "http://chroniclingamerica.loc.gov/search/titles/results/?state=Virginia&page=21&format=json: 50"
       ]
      },
      {
       "output_type": "stream",
       "stream": "stdout",
       "text": [
        "\n",
        "http://chroniclingamerica.loc.gov/search/titles/results/?state=Virginia&page=22&format=json: 50"
       ]
      },
      {
       "output_type": "stream",
       "stream": "stdout",
       "text": [
        "\n",
        "http://chroniclingamerica.loc.gov/search/titles/results/?state=Virginia&page=23&format=json: 50"
       ]
      },
      {
       "output_type": "stream",
       "stream": "stdout",
       "text": [
        "\n",
        "http://chroniclingamerica.loc.gov/search/titles/results/?state=Virginia&page=24&format=json: 50"
       ]
      },
      {
       "output_type": "stream",
       "stream": "stdout",
       "text": [
        "\n",
        "http://chroniclingamerica.loc.gov/search/titles/results/?state=Virginia&page=25&format=json: 50"
       ]
      },
      {
       "output_type": "stream",
       "stream": "stdout",
       "text": [
        "\n",
        "http://chroniclingamerica.loc.gov/search/titles/results/?state=Virginia&page=26&format=json: 50"
       ]
      },
      {
       "output_type": "stream",
       "stream": "stdout",
       "text": [
        "\n",
        "http://chroniclingamerica.loc.gov/search/titles/results/?state=Virginia&page=27&format=json: 50"
       ]
      },
      {
       "output_type": "stream",
       "stream": "stdout",
       "text": [
        "\n",
        "http://chroniclingamerica.loc.gov/search/titles/results/?state=Virginia&page=28&format=json: 50"
       ]
      },
      {
       "output_type": "stream",
       "stream": "stdout",
       "text": [
        "\n",
        "http://chroniclingamerica.loc.gov/search/titles/results/?state=Virginia&page=29&format=json: 50"
       ]
      },
      {
       "output_type": "stream",
       "stream": "stdout",
       "text": [
        "\n",
        "http://chroniclingamerica.loc.gov/search/titles/results/?state=Virginia&page=30&format=json: 50"
       ]
      },
      {
       "output_type": "stream",
       "stream": "stdout",
       "text": [
        "\n",
        "http://chroniclingamerica.loc.gov/search/titles/results/?state=Virginia&page=31&format=json: 50"
       ]
      },
      {
       "output_type": "stream",
       "stream": "stdout",
       "text": [
        "\n",
        "http://chroniclingamerica.loc.gov/search/titles/results/?state=Virginia&page=32&format=json: 50"
       ]
      },
      {
       "output_type": "stream",
       "stream": "stdout",
       "text": [
        "\n",
        "http://chroniclingamerica.loc.gov/search/titles/results/?state=Virginia&page=33&format=json: 50"
       ]
      },
      {
       "output_type": "stream",
       "stream": "stdout",
       "text": [
        "\n",
        "http://chroniclingamerica.loc.gov/search/titles/results/?state=Virginia&page=34&format=json: 50"
       ]
      },
      {
       "output_type": "stream",
       "stream": "stdout",
       "text": [
        "\n",
        "http://chroniclingamerica.loc.gov/search/titles/results/?state=Virginia&page=35&format=json: 50"
       ]
      },
      {
       "output_type": "stream",
       "stream": "stdout",
       "text": [
        "\n",
        "http://chroniclingamerica.loc.gov/search/titles/results/?state=Virginia&page=36&format=json: 50"
       ]
      },
      {
       "output_type": "stream",
       "stream": "stdout",
       "text": [
        "\n",
        "http://chroniclingamerica.loc.gov/search/titles/results/?state=Virginia&page=37&format=json: 50"
       ]
      },
      {
       "output_type": "stream",
       "stream": "stdout",
       "text": [
        "\n",
        "http://chroniclingamerica.loc.gov/search/titles/results/?state=Virginia&page=38&format=json: 50"
       ]
      },
      {
       "output_type": "stream",
       "stream": "stdout",
       "text": [
        "\n",
        "http://chroniclingamerica.loc.gov/search/titles/results/?state=Virginia&page=39&format=json: 50"
       ]
      },
      {
       "output_type": "stream",
       "stream": "stdout",
       "text": [
        "\n",
        "http://chroniclingamerica.loc.gov/search/titles/results/?state=Virginia&page=40&format=json: 50"
       ]
      },
      {
       "output_type": "stream",
       "stream": "stdout",
       "text": [
        "\n",
        "http://chroniclingamerica.loc.gov/search/titles/results/?state=Virginia&page=41&format=json: 50"
       ]
      },
      {
       "output_type": "stream",
       "stream": "stdout",
       "text": [
        "\n",
        "http://chroniclingamerica.loc.gov/search/titles/results/?state=Virginia&page=42&format=json: 50"
       ]
      },
      {
       "output_type": "stream",
       "stream": "stdout",
       "text": [
        "\n",
        "http://chroniclingamerica.loc.gov/search/titles/results/?state=Virginia&page=43&format=json: 50"
       ]
      },
      {
       "output_type": "stream",
       "stream": "stdout",
       "text": [
        "\n",
        "http://chroniclingamerica.loc.gov/search/titles/results/?state=Virginia&page=44&format=json: 50"
       ]
      },
      {
       "output_type": "stream",
       "stream": "stdout",
       "text": [
        "\n",
        "http://chroniclingamerica.loc.gov/search/titles/results/?state=Virginia&page=45&format=json: 50"
       ]
      },
      {
       "output_type": "stream",
       "stream": "stdout",
       "text": [
        "\n",
        "http://chroniclingamerica.loc.gov/search/titles/results/?state=Virginia&page=46&format=json: 50"
       ]
      },
      {
       "output_type": "stream",
       "stream": "stdout",
       "text": [
        "\n",
        "http://chroniclingamerica.loc.gov/search/titles/results/?state=Virginia&page=47&format=json: 50"
       ]
      },
      {
       "output_type": "stream",
       "stream": "stdout",
       "text": [
        "\n",
        "http://chroniclingamerica.loc.gov/search/titles/results/?state=Virginia&page=48&format=json: 50"
       ]
      },
      {
       "output_type": "stream",
       "stream": "stdout",
       "text": [
        "\n",
        "http://chroniclingamerica.loc.gov/search/titles/results/?state=Virginia&page=49&format=json: 50"
       ]
      },
      {
       "output_type": "stream",
       "stream": "stdout",
       "text": [
        "\n",
        "http://chroniclingamerica.loc.gov/search/titles/results/?state=Virginia&page=50&format=json: 50"
       ]
      },
      {
       "output_type": "stream",
       "stream": "stdout",
       "text": [
        "\n",
        "http://chroniclingamerica.loc.gov/search/titles/results/?state=Virginia&page=51&format=json: 50"
       ]
      },
      {
       "output_type": "stream",
       "stream": "stdout",
       "text": [
        "\n",
        "http://chroniclingamerica.loc.gov/search/titles/results/?state=Virginia&page=52&format=json: 50"
       ]
      },
      {
       "output_type": "stream",
       "stream": "stdout",
       "text": [
        "\n",
        "http://chroniclingamerica.loc.gov/search/titles/results/?state=Virginia&page=53&format=json: 50"
       ]
      },
      {
       "output_type": "stream",
       "stream": "stdout",
       "text": [
        "\n",
        "http://chroniclingamerica.loc.gov/search/titles/results/?state=Virginia&page=54&format=json: 50"
       ]
      },
      {
       "output_type": "stream",
       "stream": "stdout",
       "text": [
        "\n",
        "http://chroniclingamerica.loc.gov/search/titles/results/?state=Virginia&page=55&format=json: 50"
       ]
      },
      {
       "output_type": "stream",
       "stream": "stdout",
       "text": [
        "\n",
        "http://chroniclingamerica.loc.gov/search/titles/results/?state=Virginia&page=56&format=json: 50"
       ]
      },
      {
       "output_type": "stream",
       "stream": "stdout",
       "text": [
        "\n",
        "http://chroniclingamerica.loc.gov/search/titles/results/?state=Virginia&page=57&format=json: 50"
       ]
      },
      {
       "output_type": "stream",
       "stream": "stdout",
       "text": [
        "\n",
        "http://chroniclingamerica.loc.gov/search/titles/results/?state=Virginia&page=58&format=json: 6"
       ]
      },
      {
       "output_type": "stream",
       "stream": "stdout",
       "text": [
        "\n",
        "Vermont\n",
        "\n",
        "{'state': 'Vermont', 'format': 'json'}\n",
        "1075"
       ]
      },
      {
       "output_type": "stream",
       "stream": "stdout",
       "text": [
        "\n",
        "http://chroniclingamerica.loc.gov/search/titles/results/?state=Vermont&page=2&format=json: 50"
       ]
      },
      {
       "output_type": "stream",
       "stream": "stdout",
       "text": [
        "\n",
        "http://chroniclingamerica.loc.gov/search/titles/results/?state=Vermont&page=3&format=json: 50"
       ]
      },
      {
       "output_type": "stream",
       "stream": "stdout",
       "text": [
        "\n",
        "http://chroniclingamerica.loc.gov/search/titles/results/?state=Vermont&page=4&format=json: 50"
       ]
      },
      {
       "output_type": "stream",
       "stream": "stdout",
       "text": [
        "\n",
        "http://chroniclingamerica.loc.gov/search/titles/results/?state=Vermont&page=5&format=json: 50"
       ]
      },
      {
       "output_type": "stream",
       "stream": "stdout",
       "text": [
        "\n",
        "http://chroniclingamerica.loc.gov/search/titles/results/?state=Vermont&page=6&format=json: 50"
       ]
      },
      {
       "output_type": "stream",
       "stream": "stdout",
       "text": [
        "\n",
        "http://chroniclingamerica.loc.gov/search/titles/results/?state=Vermont&page=7&format=json: 50"
       ]
      },
      {
       "output_type": "stream",
       "stream": "stdout",
       "text": [
        "\n",
        "http://chroniclingamerica.loc.gov/search/titles/results/?state=Vermont&page=8&format=json: 50"
       ]
      },
      {
       "output_type": "stream",
       "stream": "stdout",
       "text": [
        "\n",
        "http://chroniclingamerica.loc.gov/search/titles/results/?state=Vermont&page=9&format=json: 50"
       ]
      },
      {
       "output_type": "stream",
       "stream": "stdout",
       "text": [
        "\n",
        "http://chroniclingamerica.loc.gov/search/titles/results/?state=Vermont&page=10&format=json: 50"
       ]
      },
      {
       "output_type": "stream",
       "stream": "stdout",
       "text": [
        "\n",
        "http://chroniclingamerica.loc.gov/search/titles/results/?state=Vermont&page=11&format=json: 50"
       ]
      },
      {
       "output_type": "stream",
       "stream": "stdout",
       "text": [
        "\n",
        "http://chroniclingamerica.loc.gov/search/titles/results/?state=Vermont&page=12&format=json: 50"
       ]
      },
      {
       "output_type": "stream",
       "stream": "stdout",
       "text": [
        "\n",
        "http://chroniclingamerica.loc.gov/search/titles/results/?state=Vermont&page=13&format=json: 50"
       ]
      },
      {
       "output_type": "stream",
       "stream": "stdout",
       "text": [
        "\n",
        "http://chroniclingamerica.loc.gov/search/titles/results/?state=Vermont&page=14&format=json: 50"
       ]
      },
      {
       "output_type": "stream",
       "stream": "stdout",
       "text": [
        "\n",
        "http://chroniclingamerica.loc.gov/search/titles/results/?state=Vermont&page=15&format=json: 50"
       ]
      },
      {
       "output_type": "stream",
       "stream": "stdout",
       "text": [
        "\n",
        "http://chroniclingamerica.loc.gov/search/titles/results/?state=Vermont&page=16&format=json: 50"
       ]
      },
      {
       "output_type": "stream",
       "stream": "stdout",
       "text": [
        "\n",
        "http://chroniclingamerica.loc.gov/search/titles/results/?state=Vermont&page=17&format=json: 50"
       ]
      },
      {
       "output_type": "stream",
       "stream": "stdout",
       "text": [
        "\n",
        "http://chroniclingamerica.loc.gov/search/titles/results/?state=Vermont&page=18&format=json: 50"
       ]
      },
      {
       "output_type": "stream",
       "stream": "stdout",
       "text": [
        "\n",
        "http://chroniclingamerica.loc.gov/search/titles/results/?state=Vermont&page=19&format=json: 50"
       ]
      },
      {
       "output_type": "stream",
       "stream": "stdout",
       "text": [
        "\n",
        "http://chroniclingamerica.loc.gov/search/titles/results/?state=Vermont&page=20&format=json: 50"
       ]
      },
      {
       "output_type": "stream",
       "stream": "stdout",
       "text": [
        "\n",
        "http://chroniclingamerica.loc.gov/search/titles/results/?state=Vermont&page=21&format=json: 50"
       ]
      },
      {
       "output_type": "stream",
       "stream": "stdout",
       "text": [
        "\n",
        "http://chroniclingamerica.loc.gov/search/titles/results/?state=Vermont&page=22&format=json: 25"
       ]
      },
      {
       "output_type": "stream",
       "stream": "stdout",
       "text": [
        "\n",
        "Washington\n",
        "\n",
        "{'state': 'Washington', 'format': 'json'}\n",
        "2894"
       ]
      },
      {
       "output_type": "stream",
       "stream": "stdout",
       "text": [
        "\n",
        "http://chroniclingamerica.loc.gov/search/titles/results/?state=Washington&page=2&format=json: 50"
       ]
      },
      {
       "output_type": "stream",
       "stream": "stdout",
       "text": [
        "\n",
        "http://chroniclingamerica.loc.gov/search/titles/results/?state=Washington&page=3&format=json: 50"
       ]
      },
      {
       "output_type": "stream",
       "stream": "stdout",
       "text": [
        "\n",
        "http://chroniclingamerica.loc.gov/search/titles/results/?state=Washington&page=4&format=json: 50"
       ]
      },
      {
       "output_type": "stream",
       "stream": "stdout",
       "text": [
        "\n",
        "http://chroniclingamerica.loc.gov/search/titles/results/?state=Washington&page=5&format=json: 50"
       ]
      },
      {
       "output_type": "stream",
       "stream": "stdout",
       "text": [
        "\n",
        "http://chroniclingamerica.loc.gov/search/titles/results/?state=Washington&page=6&format=json: 50"
       ]
      },
      {
       "output_type": "stream",
       "stream": "stdout",
       "text": [
        "\n",
        "http://chroniclingamerica.loc.gov/search/titles/results/?state=Washington&page=7&format=json: 50"
       ]
      },
      {
       "output_type": "stream",
       "stream": "stdout",
       "text": [
        "\n",
        "http://chroniclingamerica.loc.gov/search/titles/results/?state=Washington&page=8&format=json: 50"
       ]
      },
      {
       "output_type": "stream",
       "stream": "stdout",
       "text": [
        "\n",
        "http://chroniclingamerica.loc.gov/search/titles/results/?state=Washington&page=9&format=json: 50"
       ]
      },
      {
       "output_type": "stream",
       "stream": "stdout",
       "text": [
        "\n",
        "http://chroniclingamerica.loc.gov/search/titles/results/?state=Washington&page=10&format=json: 50"
       ]
      },
      {
       "output_type": "stream",
       "stream": "stdout",
       "text": [
        "\n",
        "http://chroniclingamerica.loc.gov/search/titles/results/?state=Washington&page=11&format=json: 50"
       ]
      },
      {
       "output_type": "stream",
       "stream": "stdout",
       "text": [
        "\n",
        "http://chroniclingamerica.loc.gov/search/titles/results/?state=Washington&page=12&format=json: 50"
       ]
      },
      {
       "output_type": "stream",
       "stream": "stdout",
       "text": [
        "\n",
        "http://chroniclingamerica.loc.gov/search/titles/results/?state=Washington&page=13&format=json: 50"
       ]
      },
      {
       "output_type": "stream",
       "stream": "stdout",
       "text": [
        "\n",
        "http://chroniclingamerica.loc.gov/search/titles/results/?state=Washington&page=14&format=json: 50"
       ]
      },
      {
       "output_type": "stream",
       "stream": "stdout",
       "text": [
        "\n",
        "http://chroniclingamerica.loc.gov/search/titles/results/?state=Washington&page=15&format=json: 50"
       ]
      },
      {
       "output_type": "stream",
       "stream": "stdout",
       "text": [
        "\n",
        "http://chroniclingamerica.loc.gov/search/titles/results/?state=Washington&page=16&format=json: 50"
       ]
      },
      {
       "output_type": "stream",
       "stream": "stdout",
       "text": [
        "\n",
        "http://chroniclingamerica.loc.gov/search/titles/results/?state=Washington&page=17&format=json: 50"
       ]
      },
      {
       "output_type": "stream",
       "stream": "stdout",
       "text": [
        "\n",
        "http://chroniclingamerica.loc.gov/search/titles/results/?state=Washington&page=18&format=json: 50"
       ]
      },
      {
       "output_type": "stream",
       "stream": "stdout",
       "text": [
        "\n",
        "http://chroniclingamerica.loc.gov/search/titles/results/?state=Washington&page=19&format=json: 50"
       ]
      },
      {
       "output_type": "stream",
       "stream": "stdout",
       "text": [
        "\n",
        "http://chroniclingamerica.loc.gov/search/titles/results/?state=Washington&page=20&format=json: 50"
       ]
      },
      {
       "output_type": "stream",
       "stream": "stdout",
       "text": [
        "\n",
        "http://chroniclingamerica.loc.gov/search/titles/results/?state=Washington&page=21&format=json: 50"
       ]
      },
      {
       "output_type": "stream",
       "stream": "stdout",
       "text": [
        "\n",
        "http://chroniclingamerica.loc.gov/search/titles/results/?state=Washington&page=22&format=json: 50"
       ]
      },
      {
       "output_type": "stream",
       "stream": "stdout",
       "text": [
        "\n",
        "http://chroniclingamerica.loc.gov/search/titles/results/?state=Washington&page=23&format=json: 50"
       ]
      },
      {
       "output_type": "stream",
       "stream": "stdout",
       "text": [
        "\n",
        "http://chroniclingamerica.loc.gov/search/titles/results/?state=Washington&page=24&format=json: 50"
       ]
      },
      {
       "output_type": "stream",
       "stream": "stdout",
       "text": [
        "\n",
        "http://chroniclingamerica.loc.gov/search/titles/results/?state=Washington&page=25&format=json: 50"
       ]
      },
      {
       "output_type": "stream",
       "stream": "stdout",
       "text": [
        "\n",
        "http://chroniclingamerica.loc.gov/search/titles/results/?state=Washington&page=26&format=json: 50"
       ]
      },
      {
       "output_type": "stream",
       "stream": "stdout",
       "text": [
        "\n",
        "http://chroniclingamerica.loc.gov/search/titles/results/?state=Washington&page=27&format=json: 50"
       ]
      },
      {
       "output_type": "stream",
       "stream": "stdout",
       "text": [
        "\n",
        "http://chroniclingamerica.loc.gov/search/titles/results/?state=Washington&page=28&format=json: 50"
       ]
      },
      {
       "output_type": "stream",
       "stream": "stdout",
       "text": [
        "\n",
        "http://chroniclingamerica.loc.gov/search/titles/results/?state=Washington&page=29&format=json: 50"
       ]
      },
      {
       "output_type": "stream",
       "stream": "stdout",
       "text": [
        "\n",
        "http://chroniclingamerica.loc.gov/search/titles/results/?state=Washington&page=30&format=json: 50"
       ]
      },
      {
       "output_type": "stream",
       "stream": "stdout",
       "text": [
        "\n",
        "http://chroniclingamerica.loc.gov/search/titles/results/?state=Washington&page=31&format=json: 50"
       ]
      },
      {
       "output_type": "stream",
       "stream": "stdout",
       "text": [
        "\n",
        "http://chroniclingamerica.loc.gov/search/titles/results/?state=Washington&page=32&format=json: 50"
       ]
      },
      {
       "output_type": "stream",
       "stream": "stdout",
       "text": [
        "\n",
        "http://chroniclingamerica.loc.gov/search/titles/results/?state=Washington&page=33&format=json: 50"
       ]
      },
      {
       "output_type": "stream",
       "stream": "stdout",
       "text": [
        "\n",
        "http://chroniclingamerica.loc.gov/search/titles/results/?state=Washington&page=34&format=json: 50"
       ]
      },
      {
       "output_type": "stream",
       "stream": "stdout",
       "text": [
        "\n",
        "http://chroniclingamerica.loc.gov/search/titles/results/?state=Washington&page=35&format=json: 50"
       ]
      },
      {
       "output_type": "stream",
       "stream": "stdout",
       "text": [
        "\n",
        "http://chroniclingamerica.loc.gov/search/titles/results/?state=Washington&page=36&format=json: 50"
       ]
      },
      {
       "output_type": "stream",
       "stream": "stdout",
       "text": [
        "\n",
        "http://chroniclingamerica.loc.gov/search/titles/results/?state=Washington&page=37&format=json: 50"
       ]
      },
      {
       "output_type": "stream",
       "stream": "stdout",
       "text": [
        "\n",
        "http://chroniclingamerica.loc.gov/search/titles/results/?state=Washington&page=38&format=json: 50"
       ]
      },
      {
       "output_type": "stream",
       "stream": "stdout",
       "text": [
        "\n",
        "http://chroniclingamerica.loc.gov/search/titles/results/?state=Washington&page=39&format=json: 50"
       ]
      },
      {
       "output_type": "stream",
       "stream": "stdout",
       "text": [
        "\n",
        "http://chroniclingamerica.loc.gov/search/titles/results/?state=Washington&page=40&format=json: 50"
       ]
      },
      {
       "output_type": "stream",
       "stream": "stdout",
       "text": [
        "\n",
        "http://chroniclingamerica.loc.gov/search/titles/results/?state=Washington&page=41&format=json: 50"
       ]
      },
      {
       "output_type": "stream",
       "stream": "stdout",
       "text": [
        "\n",
        "http://chroniclingamerica.loc.gov/search/titles/results/?state=Washington&page=42&format=json: 50"
       ]
      },
      {
       "output_type": "stream",
       "stream": "stdout",
       "text": [
        "\n",
        "http://chroniclingamerica.loc.gov/search/titles/results/?state=Washington&page=43&format=json: 50"
       ]
      },
      {
       "output_type": "stream",
       "stream": "stdout",
       "text": [
        "\n",
        "http://chroniclingamerica.loc.gov/search/titles/results/?state=Washington&page=44&format=json: 50"
       ]
      },
      {
       "output_type": "stream",
       "stream": "stdout",
       "text": [
        "\n",
        "http://chroniclingamerica.loc.gov/search/titles/results/?state=Washington&page=45&format=json: 50"
       ]
      },
      {
       "output_type": "stream",
       "stream": "stdout",
       "text": [
        "\n",
        "http://chroniclingamerica.loc.gov/search/titles/results/?state=Washington&page=46&format=json: 50"
       ]
      },
      {
       "output_type": "stream",
       "stream": "stdout",
       "text": [
        "\n",
        "http://chroniclingamerica.loc.gov/search/titles/results/?state=Washington&page=47&format=json: 50"
       ]
      },
      {
       "output_type": "stream",
       "stream": "stdout",
       "text": [
        "\n",
        "http://chroniclingamerica.loc.gov/search/titles/results/?state=Washington&page=48&format=json: 50"
       ]
      },
      {
       "output_type": "stream",
       "stream": "stdout",
       "text": [
        "\n",
        "http://chroniclingamerica.loc.gov/search/titles/results/?state=Washington&page=49&format=json: 50"
       ]
      },
      {
       "output_type": "stream",
       "stream": "stdout",
       "text": [
        "\n",
        "http://chroniclingamerica.loc.gov/search/titles/results/?state=Washington&page=50&format=json: 50"
       ]
      },
      {
       "output_type": "stream",
       "stream": "stdout",
       "text": [
        "\n",
        "http://chroniclingamerica.loc.gov/search/titles/results/?state=Washington&page=51&format=json: 50"
       ]
      },
      {
       "output_type": "stream",
       "stream": "stdout",
       "text": [
        "\n",
        "http://chroniclingamerica.loc.gov/search/titles/results/?state=Washington&page=52&format=json: 50"
       ]
      },
      {
       "output_type": "stream",
       "stream": "stdout",
       "text": [
        "\n",
        "http://chroniclingamerica.loc.gov/search/titles/results/?state=Washington&page=53&format=json: 50"
       ]
      },
      {
       "output_type": "stream",
       "stream": "stdout",
       "text": [
        "\n",
        "http://chroniclingamerica.loc.gov/search/titles/results/?state=Washington&page=54&format=json: 50"
       ]
      },
      {
       "output_type": "stream",
       "stream": "stdout",
       "text": [
        "\n",
        "http://chroniclingamerica.loc.gov/search/titles/results/?state=Washington&page=55&format=json: 50"
       ]
      },
      {
       "output_type": "stream",
       "stream": "stdout",
       "text": [
        "\n",
        "http://chroniclingamerica.loc.gov/search/titles/results/?state=Washington&page=56&format=json: 50"
       ]
      },
      {
       "output_type": "stream",
       "stream": "stdout",
       "text": [
        "\n",
        "http://chroniclingamerica.loc.gov/search/titles/results/?state=Washington&page=57&format=json: 50"
       ]
      },
      {
       "output_type": "stream",
       "stream": "stdout",
       "text": [
        "\n",
        "http://chroniclingamerica.loc.gov/search/titles/results/?state=Washington&page=58&format=json: 44"
       ]
      },
      {
       "output_type": "stream",
       "stream": "stdout",
       "text": [
        "\n",
        "Wisconsin\n",
        "\n",
        "{'state': 'Wisconsin', 'format': 'json'}\n",
        "3479"
       ]
      },
      {
       "output_type": "stream",
       "stream": "stdout",
       "text": [
        "\n",
        "http://chroniclingamerica.loc.gov/search/titles/results/?state=Wisconsin&page=2&format=json: 50"
       ]
      },
      {
       "output_type": "stream",
       "stream": "stdout",
       "text": [
        "\n",
        "http://chroniclingamerica.loc.gov/search/titles/results/?state=Wisconsin&page=3&format=json: 50"
       ]
      },
      {
       "output_type": "stream",
       "stream": "stdout",
       "text": [
        "\n",
        "http://chroniclingamerica.loc.gov/search/titles/results/?state=Wisconsin&page=4&format=json: 50"
       ]
      },
      {
       "output_type": "stream",
       "stream": "stdout",
       "text": [
        "\n",
        "http://chroniclingamerica.loc.gov/search/titles/results/?state=Wisconsin&page=5&format=json: 50"
       ]
      },
      {
       "output_type": "stream",
       "stream": "stdout",
       "text": [
        "\n",
        "http://chroniclingamerica.loc.gov/search/titles/results/?state=Wisconsin&page=6&format=json: 50"
       ]
      },
      {
       "output_type": "stream",
       "stream": "stdout",
       "text": [
        "\n",
        "http://chroniclingamerica.loc.gov/search/titles/results/?state=Wisconsin&page=7&format=json: 50"
       ]
      },
      {
       "output_type": "stream",
       "stream": "stdout",
       "text": [
        "\n",
        "http://chroniclingamerica.loc.gov/search/titles/results/?state=Wisconsin&page=8&format=json: 50"
       ]
      },
      {
       "output_type": "stream",
       "stream": "stdout",
       "text": [
        "\n",
        "http://chroniclingamerica.loc.gov/search/titles/results/?state=Wisconsin&page=9&format=json: 50"
       ]
      },
      {
       "output_type": "stream",
       "stream": "stdout",
       "text": [
        "\n",
        "http://chroniclingamerica.loc.gov/search/titles/results/?state=Wisconsin&page=10&format=json: 50"
       ]
      },
      {
       "output_type": "stream",
       "stream": "stdout",
       "text": [
        "\n",
        "http://chroniclingamerica.loc.gov/search/titles/results/?state=Wisconsin&page=11&format=json: 50"
       ]
      },
      {
       "output_type": "stream",
       "stream": "stdout",
       "text": [
        "\n",
        "http://chroniclingamerica.loc.gov/search/titles/results/?state=Wisconsin&page=12&format=json: 50"
       ]
      },
      {
       "output_type": "stream",
       "stream": "stdout",
       "text": [
        "\n",
        "http://chroniclingamerica.loc.gov/search/titles/results/?state=Wisconsin&page=13&format=json: 50"
       ]
      },
      {
       "output_type": "stream",
       "stream": "stdout",
       "text": [
        "\n",
        "http://chroniclingamerica.loc.gov/search/titles/results/?state=Wisconsin&page=14&format=json: 50"
       ]
      },
      {
       "output_type": "stream",
       "stream": "stdout",
       "text": [
        "\n",
        "http://chroniclingamerica.loc.gov/search/titles/results/?state=Wisconsin&page=15&format=json: 50"
       ]
      },
      {
       "output_type": "stream",
       "stream": "stdout",
       "text": [
        "\n",
        "http://chroniclingamerica.loc.gov/search/titles/results/?state=Wisconsin&page=16&format=json: 50"
       ]
      },
      {
       "output_type": "stream",
       "stream": "stdout",
       "text": [
        "\n",
        "http://chroniclingamerica.loc.gov/search/titles/results/?state=Wisconsin&page=17&format=json: 50"
       ]
      },
      {
       "output_type": "stream",
       "stream": "stdout",
       "text": [
        "\n",
        "http://chroniclingamerica.loc.gov/search/titles/results/?state=Wisconsin&page=18&format=json: 50"
       ]
      },
      {
       "output_type": "stream",
       "stream": "stdout",
       "text": [
        "\n",
        "http://chroniclingamerica.loc.gov/search/titles/results/?state=Wisconsin&page=19&format=json: 50"
       ]
      },
      {
       "output_type": "stream",
       "stream": "stdout",
       "text": [
        "\n",
        "http://chroniclingamerica.loc.gov/search/titles/results/?state=Wisconsin&page=20&format=json: 50"
       ]
      },
      {
       "output_type": "stream",
       "stream": "stdout",
       "text": [
        "\n",
        "http://chroniclingamerica.loc.gov/search/titles/results/?state=Wisconsin&page=21&format=json: 50"
       ]
      },
      {
       "output_type": "stream",
       "stream": "stdout",
       "text": [
        "\n",
        "http://chroniclingamerica.loc.gov/search/titles/results/?state=Wisconsin&page=22&format=json: 50"
       ]
      },
      {
       "output_type": "stream",
       "stream": "stdout",
       "text": [
        "\n",
        "http://chroniclingamerica.loc.gov/search/titles/results/?state=Wisconsin&page=23&format=json: 50"
       ]
      },
      {
       "output_type": "stream",
       "stream": "stdout",
       "text": [
        "\n",
        "http://chroniclingamerica.loc.gov/search/titles/results/?state=Wisconsin&page=24&format=json: 50"
       ]
      },
      {
       "output_type": "stream",
       "stream": "stdout",
       "text": [
        "\n",
        "http://chroniclingamerica.loc.gov/search/titles/results/?state=Wisconsin&page=25&format=json: 50"
       ]
      },
      {
       "output_type": "stream",
       "stream": "stdout",
       "text": [
        "\n",
        "http://chroniclingamerica.loc.gov/search/titles/results/?state=Wisconsin&page=26&format=json: 50"
       ]
      },
      {
       "output_type": "stream",
       "stream": "stdout",
       "text": [
        "\n",
        "http://chroniclingamerica.loc.gov/search/titles/results/?state=Wisconsin&page=27&format=json: 50"
       ]
      },
      {
       "output_type": "stream",
       "stream": "stdout",
       "text": [
        "\n",
        "http://chroniclingamerica.loc.gov/search/titles/results/?state=Wisconsin&page=28&format=json: 50"
       ]
      },
      {
       "output_type": "stream",
       "stream": "stdout",
       "text": [
        "\n",
        "http://chroniclingamerica.loc.gov/search/titles/results/?state=Wisconsin&page=29&format=json: 50"
       ]
      },
      {
       "output_type": "stream",
       "stream": "stdout",
       "text": [
        "\n",
        "http://chroniclingamerica.loc.gov/search/titles/results/?state=Wisconsin&page=30&format=json: 50"
       ]
      },
      {
       "output_type": "stream",
       "stream": "stdout",
       "text": [
        "\n",
        "http://chroniclingamerica.loc.gov/search/titles/results/?state=Wisconsin&page=31&format=json: 50"
       ]
      },
      {
       "output_type": "stream",
       "stream": "stdout",
       "text": [
        "\n",
        "http://chroniclingamerica.loc.gov/search/titles/results/?state=Wisconsin&page=32&format=json: 50"
       ]
      },
      {
       "output_type": "stream",
       "stream": "stdout",
       "text": [
        "\n",
        "http://chroniclingamerica.loc.gov/search/titles/results/?state=Wisconsin&page=33&format=json: 50"
       ]
      },
      {
       "output_type": "stream",
       "stream": "stdout",
       "text": [
        "\n",
        "http://chroniclingamerica.loc.gov/search/titles/results/?state=Wisconsin&page=34&format=json: 50"
       ]
      },
      {
       "output_type": "stream",
       "stream": "stdout",
       "text": [
        "\n",
        "http://chroniclingamerica.loc.gov/search/titles/results/?state=Wisconsin&page=35&format=json: 50"
       ]
      },
      {
       "output_type": "stream",
       "stream": "stdout",
       "text": [
        "\n",
        "http://chroniclingamerica.loc.gov/search/titles/results/?state=Wisconsin&page=36&format=json: 50"
       ]
      },
      {
       "output_type": "stream",
       "stream": "stdout",
       "text": [
        "\n",
        "http://chroniclingamerica.loc.gov/search/titles/results/?state=Wisconsin&page=37&format=json: 50"
       ]
      },
      {
       "output_type": "stream",
       "stream": "stdout",
       "text": [
        "\n",
        "http://chroniclingamerica.loc.gov/search/titles/results/?state=Wisconsin&page=38&format=json: 50"
       ]
      },
      {
       "output_type": "stream",
       "stream": "stdout",
       "text": [
        "\n",
        "http://chroniclingamerica.loc.gov/search/titles/results/?state=Wisconsin&page=39&format=json: 50"
       ]
      },
      {
       "output_type": "stream",
       "stream": "stdout",
       "text": [
        "\n",
        "http://chroniclingamerica.loc.gov/search/titles/results/?state=Wisconsin&page=40&format=json: 50"
       ]
      },
      {
       "output_type": "stream",
       "stream": "stdout",
       "text": [
        "\n",
        "http://chroniclingamerica.loc.gov/search/titles/results/?state=Wisconsin&page=41&format=json: 50"
       ]
      },
      {
       "output_type": "stream",
       "stream": "stdout",
       "text": [
        "\n",
        "http://chroniclingamerica.loc.gov/search/titles/results/?state=Wisconsin&page=42&format=json: 50"
       ]
      },
      {
       "output_type": "stream",
       "stream": "stdout",
       "text": [
        "\n",
        "http://chroniclingamerica.loc.gov/search/titles/results/?state=Wisconsin&page=43&format=json: 50"
       ]
      },
      {
       "output_type": "stream",
       "stream": "stdout",
       "text": [
        "\n",
        "http://chroniclingamerica.loc.gov/search/titles/results/?state=Wisconsin&page=44&format=json: 50"
       ]
      },
      {
       "output_type": "stream",
       "stream": "stdout",
       "text": [
        "\n",
        "http://chroniclingamerica.loc.gov/search/titles/results/?state=Wisconsin&page=45&format=json: 50"
       ]
      },
      {
       "output_type": "stream",
       "stream": "stdout",
       "text": [
        "\n",
        "http://chroniclingamerica.loc.gov/search/titles/results/?state=Wisconsin&page=46&format=json: 50"
       ]
      },
      {
       "output_type": "stream",
       "stream": "stdout",
       "text": [
        "\n",
        "http://chroniclingamerica.loc.gov/search/titles/results/?state=Wisconsin&page=47&format=json: 50"
       ]
      },
      {
       "output_type": "stream",
       "stream": "stdout",
       "text": [
        "\n",
        "http://chroniclingamerica.loc.gov/search/titles/results/?state=Wisconsin&page=48&format=json: 50"
       ]
      },
      {
       "output_type": "stream",
       "stream": "stdout",
       "text": [
        "\n",
        "http://chroniclingamerica.loc.gov/search/titles/results/?state=Wisconsin&page=49&format=json: 50"
       ]
      },
      {
       "output_type": "stream",
       "stream": "stdout",
       "text": [
        "\n",
        "http://chroniclingamerica.loc.gov/search/titles/results/?state=Wisconsin&page=50&format=json: 50"
       ]
      },
      {
       "output_type": "stream",
       "stream": "stdout",
       "text": [
        "\n",
        "http://chroniclingamerica.loc.gov/search/titles/results/?state=Wisconsin&page=51&format=json: 50"
       ]
      },
      {
       "output_type": "stream",
       "stream": "stdout",
       "text": [
        "\n",
        "http://chroniclingamerica.loc.gov/search/titles/results/?state=Wisconsin&page=52&format=json: 50"
       ]
      },
      {
       "output_type": "stream",
       "stream": "stdout",
       "text": [
        "\n",
        "http://chroniclingamerica.loc.gov/search/titles/results/?state=Wisconsin&page=53&format=json: 50"
       ]
      },
      {
       "output_type": "stream",
       "stream": "stdout",
       "text": [
        "\n",
        "http://chroniclingamerica.loc.gov/search/titles/results/?state=Wisconsin&page=54&format=json: 50"
       ]
      },
      {
       "output_type": "stream",
       "stream": "stdout",
       "text": [
        "\n",
        "http://chroniclingamerica.loc.gov/search/titles/results/?state=Wisconsin&page=55&format=json: 50"
       ]
      },
      {
       "output_type": "stream",
       "stream": "stdout",
       "text": [
        "\n",
        "http://chroniclingamerica.loc.gov/search/titles/results/?state=Wisconsin&page=56&format=json: 50"
       ]
      },
      {
       "output_type": "stream",
       "stream": "stdout",
       "text": [
        "\n",
        "http://chroniclingamerica.loc.gov/search/titles/results/?state=Wisconsin&page=57&format=json: 50"
       ]
      },
      {
       "output_type": "stream",
       "stream": "stdout",
       "text": [
        "\n",
        "http://chroniclingamerica.loc.gov/search/titles/results/?state=Wisconsin&page=58&format=json: 50"
       ]
      },
      {
       "output_type": "stream",
       "stream": "stdout",
       "text": [
        "\n",
        "http://chroniclingamerica.loc.gov/search/titles/results/?state=Wisconsin&page=59&format=json: 50"
       ]
      },
      {
       "output_type": "stream",
       "stream": "stdout",
       "text": [
        "\n",
        "http://chroniclingamerica.loc.gov/search/titles/results/?state=Wisconsin&page=60&format=json: 50"
       ]
      },
      {
       "output_type": "stream",
       "stream": "stdout",
       "text": [
        "\n",
        "http://chroniclingamerica.loc.gov/search/titles/results/?state=Wisconsin&page=61&format=json: 50"
       ]
      },
      {
       "output_type": "stream",
       "stream": "stdout",
       "text": [
        "\n",
        "http://chroniclingamerica.loc.gov/search/titles/results/?state=Wisconsin&page=62&format=json: 50"
       ]
      },
      {
       "output_type": "stream",
       "stream": "stdout",
       "text": [
        "\n",
        "http://chroniclingamerica.loc.gov/search/titles/results/?state=Wisconsin&page=63&format=json: 50"
       ]
      },
      {
       "output_type": "stream",
       "stream": "stdout",
       "text": [
        "\n",
        "http://chroniclingamerica.loc.gov/search/titles/results/?state=Wisconsin&page=64&format=json: 50"
       ]
      },
      {
       "output_type": "stream",
       "stream": "stdout",
       "text": [
        "\n",
        "http://chroniclingamerica.loc.gov/search/titles/results/?state=Wisconsin&page=65&format=json: 50"
       ]
      },
      {
       "output_type": "stream",
       "stream": "stdout",
       "text": [
        "\n",
        "http://chroniclingamerica.loc.gov/search/titles/results/?state=Wisconsin&page=66&format=json: 50"
       ]
      },
      {
       "output_type": "stream",
       "stream": "stdout",
       "text": [
        "\n",
        "http://chroniclingamerica.loc.gov/search/titles/results/?state=Wisconsin&page=67&format=json: 50"
       ]
      },
      {
       "output_type": "stream",
       "stream": "stdout",
       "text": [
        "\n",
        "http://chroniclingamerica.loc.gov/search/titles/results/?state=Wisconsin&page=68&format=json: 50"
       ]
      },
      {
       "output_type": "stream",
       "stream": "stdout",
       "text": [
        "\n",
        "http://chroniclingamerica.loc.gov/search/titles/results/?state=Wisconsin&page=69&format=json: 50"
       ]
      },
      {
       "output_type": "stream",
       "stream": "stdout",
       "text": [
        "\n",
        "http://chroniclingamerica.loc.gov/search/titles/results/?state=Wisconsin&page=70&format=json: 29"
       ]
      },
      {
       "output_type": "stream",
       "stream": "stdout",
       "text": [
        "\n",
        "West virginia\n",
        "\n",
        "{'state': 'West virginia', 'format': 'json'}\n",
        "0"
       ]
      },
      {
       "output_type": "stream",
       "stream": "stdout",
       "text": [
        "\n",
        "Wyoming\n",
        "\n",
        "{'state': 'Wyoming', 'format': 'json'}\n",
        "571"
       ]
      },
      {
       "output_type": "stream",
       "stream": "stdout",
       "text": [
        "\n",
        "http://chroniclingamerica.loc.gov/search/titles/results/?state=Wyoming&page=2&format=json: 50"
       ]
      },
      {
       "output_type": "stream",
       "stream": "stdout",
       "text": [
        "\n",
        "http://chroniclingamerica.loc.gov/search/titles/results/?state=Wyoming&page=3&format=json: 50"
       ]
      },
      {
       "output_type": "stream",
       "stream": "stdout",
       "text": [
        "\n",
        "http://chroniclingamerica.loc.gov/search/titles/results/?state=Wyoming&page=4&format=json: 50"
       ]
      },
      {
       "output_type": "stream",
       "stream": "stdout",
       "text": [
        "\n",
        "http://chroniclingamerica.loc.gov/search/titles/results/?state=Wyoming&page=5&format=json: 50"
       ]
      },
      {
       "output_type": "stream",
       "stream": "stdout",
       "text": [
        "\n",
        "http://chroniclingamerica.loc.gov/search/titles/results/?state=Wyoming&page=6&format=json: 50"
       ]
      },
      {
       "output_type": "stream",
       "stream": "stdout",
       "text": [
        "\n",
        "http://chroniclingamerica.loc.gov/search/titles/results/?state=Wyoming&page=7&format=json: 50"
       ]
      },
      {
       "output_type": "stream",
       "stream": "stdout",
       "text": [
        "\n",
        "http://chroniclingamerica.loc.gov/search/titles/results/?state=Wyoming&page=8&format=json: 50"
       ]
      },
      {
       "output_type": "stream",
       "stream": "stdout",
       "text": [
        "\n",
        "http://chroniclingamerica.loc.gov/search/titles/results/?state=Wyoming&page=9&format=json: 50"
       ]
      },
      {
       "output_type": "stream",
       "stream": "stdout",
       "text": [
        "\n",
        "http://chroniclingamerica.loc.gov/search/titles/results/?state=Wyoming&page=10&format=json: 50"
       ]
      },
      {
       "output_type": "stream",
       "stream": "stdout",
       "text": [
        "\n",
        "http://chroniclingamerica.loc.gov/search/titles/results/?state=Wyoming&page=11&format=json: 50"
       ]
      },
      {
       "output_type": "stream",
       "stream": "stdout",
       "text": [
        "\n",
        "http://chroniclingamerica.loc.gov/search/titles/results/?state=Wyoming&page=12&format=json: 21"
       ]
      },
      {
       "output_type": "stream",
       "stream": "stdout",
       "text": [
        "\n"
       ]
      }
     ],
     "prompt_number": 78
    },
    {
     "cell_type": "code",
     "collapsed": false,
     "input": [
      "newspapers"
     ],
     "language": "python",
     "metadata": {},
     "outputs": [
      {
       "html": [
        "<pre>\n",
        "&lt;class 'pandas.core.frame.DataFrame'&gt;\n",
        "Int64Index: 151196 entries, 0 to 151195\n",
        "Data columns (total 23 columns):\n",
        "alt_title               151196  non-null values\n",
        "city                    151196  non-null values\n",
        "country                 151196  non-null values\n",
        "county                  151196  non-null values\n",
        "edition                 3014  non-null values\n",
        "end_year                151196  non-null values\n",
        "essay                   151196  non-null values\n",
        "frequency               146053  non-null values\n",
        "holding_type            151196  non-null values\n",
        "id                      151196  non-null values\n",
        "language                151196  non-null values\n",
        "lccn                    151196  non-null values\n",
        "note                    151196  non-null values\n",
        "place                   151196  non-null values\n",
        "place_of_publication    151185  non-null values\n",
        "publisher               150965  non-null values\n",
        "start_year              151196  non-null values\n",
        "state                   151196  non-null values\n",
        "subject                 151196  non-null values\n",
        "title                   151196  non-null values\n",
        "title_normal            151196  non-null values\n",
        "type                    151196  non-null values\n",
        "url                     151196  non-null values\n",
        "dtypes: int64(2), object(21)\n",
        "</pre>"
       ],
       "output_type": "pyout",
       "prompt_number": 173,
       "text": [
        "<class 'pandas.core.frame.DataFrame'>\n",
        "Int64Index: 151196 entries, 0 to 151195\n",
        "Data columns (total 23 columns):\n",
        "alt_title               151196  non-null values\n",
        "city                    151196  non-null values\n",
        "country                 151196  non-null values\n",
        "county                  151196  non-null values\n",
        "edition                 3014  non-null values\n",
        "end_year                151196  non-null values\n",
        "essay                   151196  non-null values\n",
        "frequency               146053  non-null values\n",
        "holding_type            151196  non-null values\n",
        "id                      151196  non-null values\n",
        "language                151196  non-null values\n",
        "lccn                    151196  non-null values\n",
        "note                    151196  non-null values\n",
        "place                   151196  non-null values\n",
        "place_of_publication    151185  non-null values\n",
        "publisher               150965  non-null values\n",
        "start_year              151196  non-null values\n",
        "state                   151196  non-null values\n",
        "subject                 151196  non-null values\n",
        "title                   151196  non-null values\n",
        "title_normal            151196  non-null values\n",
        "type                    151196  non-null values\n",
        "url                     151196  non-null values\n",
        "dtypes: int64(2), object(21)"
       ]
      }
     ],
     "prompt_number": 173
    },
    {
     "cell_type": "code",
     "collapsed": false,
     "input": [
      "def get_cities(paper):\n",
      "    listCities = paper['city']\n",
      "    listStates = paper['state']\n",
      "    \n",
      "    for i, city in enumerate(listCities):\n",
      "        state = listStates[i]\n",
      "        if not state:\n",
      "            state = ''\n",
      "        if not city:\n",
      "            fullName = state\n",
      "        else:\n",
      "            fullName = city + ', ' + state\n",
      "        if fullName in cities:\n",
      "            val = cities[fullName][2] + 1\n",
      "        else:\n",
      "            val = 1\n",
      "        cities[fullName] = (city, state, val)"
     ],
     "language": "python",
     "metadata": {},
     "outputs": [],
     "prompt_number": 185
    },
    {
     "cell_type": "code",
     "collapsed": false,
     "input": [
      "cities = {}\n",
      "test = newspapers.apply(get_cities, axis=1)"
     ],
     "language": "python",
     "metadata": {},
     "outputs": [],
     "prompt_number": 186
    },
    {
     "cell_type": "code",
     "collapsed": false,
     "input": [
      "city_papers = DataFrame(cities, index=['city', 'state', 'numPapers']).transpose()"
     ],
     "language": "python",
     "metadata": {},
     "outputs": [],
     "prompt_number": 187
    },
    {
     "cell_type": "code",
     "collapsed": false,
     "input": [
      "city_papers"
     ],
     "language": "python",
     "metadata": {},
     "outputs": [
      {
       "html": [
        "<pre>\n",
        "&lt;class 'pandas.core.frame.DataFrame'&gt;\n",
        "Index: 20105 entries,  to d Seney, Michigan\n",
        "Data columns (total 3 columns):\n",
        "city         20052  non-null values\n",
        "state        20105  non-null values\n",
        "numPapers    20105  non-null values\n",
        "dtypes: object(3)\n",
        "</pre>"
       ],
       "output_type": "pyout",
       "prompt_number": 242,
       "text": [
        "<class 'pandas.core.frame.DataFrame'>\n",
        "Index: 20105 entries,  to d Seney, Michigan\n",
        "Data columns (total 3 columns):\n",
        "city         20052  non-null values\n",
        "state        20105  non-null values\n",
        "numPapers    20105  non-null values\n",
        "dtypes: object(3)"
       ]
      }
     ],
     "prompt_number": 242
    },
    {
     "cell_type": "code",
     "collapsed": false,
     "input": [
      "census_cities"
     ],
     "language": "python",
     "metadata": {},
     "outputs": [
      {
       "html": [
        "<pre>\n",
        "&lt;class 'pandas.core.frame.DataFrame'&gt;\n",
        "Index: 10159 entries, Abbeville, Alabama to Worland, Wyoming\n",
        "Data columns (total 15 columns):\n",
        "GEOID                                                                                              10159  non-null values\n",
        "ANSICODE                                                                                           10159  non-null values\n",
        "LSAD                                                                                               10159  non-null values\n",
        "FUNCSTAT                                                                                           10159  non-null values\n",
        "POP10                                                                                              10159  non-null values\n",
        "HU10                                                                                               10159  non-null values\n",
        "ALAND                                                                                              10159  non-null values\n",
        "AWATER                                                                                             10159  non-null values\n",
        "ALAND_SQMI                                                                                         10159  non-null values\n",
        "AWATER_SQMI                                                                                        10159  non-null values\n",
        "INTPTLAT                                                                                           10159  non-null values\n",
        "INTPTLONG                                                                                          10159  non-null values\n",
        "TYPE                                                                                               10159  non-null values\n",
        "state                                                                                              10159  non-null values\n",
        "city                                                                                               10159  non-null values\n",
        "dtypes: float64(4), int64(6), object(5)\n",
        "</pre>"
       ],
       "output_type": "pyout",
       "prompt_number": 243,
       "text": [
        "<class 'pandas.core.frame.DataFrame'>\n",
        "Index: 10159 entries, Abbeville, Alabama to Worland, Wyoming\n",
        "Data columns (total 15 columns):\n",
        "GEOID                                                                                              10159  non-null values\n",
        "ANSICODE                                                                                           10159  non-null values\n",
        "LSAD                                                                                               10159  non-null values\n",
        "FUNCSTAT                                                                                           10159  non-null values\n",
        "POP10                                                                                              10159  non-null values\n",
        "HU10                                                                                               10159  non-null values\n",
        "ALAND                                                                                              10159  non-null values\n",
        "AWATER                                                                                             10159  non-null values\n",
        "ALAND_SQMI                                                                                         10159  non-null values\n",
        "AWATER_SQMI                                                                                        10159  non-null values\n",
        "INTPTLAT                                                                                           10159  non-null values\n",
        "INTPTLONG                                                                                          10159  non-null values\n",
        "TYPE                                                                                               10159  non-null values\n",
        "state                                                                                              10159  non-null values\n",
        "city                                                                                               10159  non-null values\n",
        "dtypes: float64(4), int64(6), object(5)"
       ]
      }
     ],
     "prompt_number": 243
    },
    {
     "cell_type": "code",
     "collapsed": false,
     "input": [
      "census_cities['state'] = census_cities['USPS'].map(lambda x: code_to_state[x])\n",
      "census_cities['city'] = census_cities['NAME']"
     ],
     "language": "python",
     "metadata": {},
     "outputs": [],
     "prompt_number": 237
    },
    {
     "cell_type": "code",
     "collapsed": false,
     "input": [
      "census_cities['fullName'] = census_cities.apply(lambda x: x['city'] + ', ' + x['state'], axis=1)"
     ],
     "language": "python",
     "metadata": {},
     "outputs": [],
     "prompt_number": 238
    },
    {
     "cell_type": "code",
     "collapsed": false,
     "input": [
      "census_cities.index = census_cities['fullName']\n",
      "del(census_cities['fullName'], census_cities['NAME'],census_cities['USPS'])"
     ],
     "language": "python",
     "metadata": {},
     "outputs": [],
     "prompt_number": 239
    },
    {
     "cell_type": "code",
     "collapsed": false,
     "input": [
      "census_cities[:10]"
     ],
     "language": "python",
     "metadata": {},
     "outputs": [
      {
       "html": [
        "<div style=\"max-height:1000px;max-width:1500px;overflow:auto;\">\n",
        "<table border=\"1\" class=\"dataframe\">\n",
        "  <thead>\n",
        "    <tr style=\"text-align: right;\">\n",
        "      <th></th>\n",
        "      <th>GEOID</th>\n",
        "      <th>ANSICODE</th>\n",
        "      <th>LSAD</th>\n",
        "      <th>FUNCSTAT</th>\n",
        "      <th>POP10</th>\n",
        "      <th>HU10</th>\n",
        "      <th>ALAND</th>\n",
        "      <th>AWATER</th>\n",
        "      <th>ALAND_SQMI</th>\n",
        "      <th>AWATER_SQMI</th>\n",
        "      <th>INTPTLAT</th>\n",
        "      <th>INTPTLONG                                                                                      </th>\n",
        "      <th>TYPE</th>\n",
        "      <th>state</th>\n",
        "      <th>city</th>\n",
        "    </tr>\n",
        "    <tr>\n",
        "      <th>fullName</th>\n",
        "      <th></th>\n",
        "      <th></th>\n",
        "      <th></th>\n",
        "      <th></th>\n",
        "      <th></th>\n",
        "      <th></th>\n",
        "      <th></th>\n",
        "      <th></th>\n",
        "      <th></th>\n",
        "      <th></th>\n",
        "      <th></th>\n",
        "      <th></th>\n",
        "      <th></th>\n",
        "      <th></th>\n",
        "      <th></th>\n",
        "    </tr>\n",
        "  </thead>\n",
        "  <tbody>\n",
        "    <tr>\n",
        "      <th>Abbeville, Alabama</th>\n",
        "      <td> 100124</td>\n",
        "      <td> 2403054</td>\n",
        "      <td> 25</td>\n",
        "      <td> A</td>\n",
        "      <td>  2688</td>\n",
        "      <td>  1255</td>\n",
        "      <td>  40255352</td>\n",
        "      <td> 107642</td>\n",
        "      <td> 15.543</td>\n",
        "      <td> 0.042</td>\n",
        "      <td> 31.564216</td>\n",
        "      <td>-85.259634</td>\n",
        "      <td> city</td>\n",
        "      <td> Alabama</td>\n",
        "      <td>      Abbeville</td>\n",
        "    </tr>\n",
        "    <tr>\n",
        "      <th>Adamsville, Alabama</th>\n",
        "      <td> 100460</td>\n",
        "      <td> 2403063</td>\n",
        "      <td> 25</td>\n",
        "      <td> A</td>\n",
        "      <td>  4522</td>\n",
        "      <td>  1990</td>\n",
        "      <td>  65083153</td>\n",
        "      <td>  29719</td>\n",
        "      <td> 25.129</td>\n",
        "      <td> 0.011</td>\n",
        "      <td> 33.605750</td>\n",
        "      <td>-86.974650</td>\n",
        "      <td> city</td>\n",
        "      <td> Alabama</td>\n",
        "      <td>     Adamsville</td>\n",
        "    </tr>\n",
        "    <tr>\n",
        "      <th>Alabaster, Alabama</th>\n",
        "      <td> 100820</td>\n",
        "      <td> 2403069</td>\n",
        "      <td> 25</td>\n",
        "      <td> A</td>\n",
        "      <td> 30352</td>\n",
        "      <td> 11295</td>\n",
        "      <td>  64860720</td>\n",
        "      <td> 747585</td>\n",
        "      <td> 25.043</td>\n",
        "      <td> 0.289</td>\n",
        "      <td> 33.214355</td>\n",
        "      <td>-86.823080</td>\n",
        "      <td> city</td>\n",
        "      <td> Alabama</td>\n",
        "      <td>      Alabaster</td>\n",
        "    </tr>\n",
        "    <tr>\n",
        "      <th>Albertville, Alabama</th>\n",
        "      <td> 100988</td>\n",
        "      <td> 2403074</td>\n",
        "      <td> 25</td>\n",
        "      <td> A</td>\n",
        "      <td> 21160</td>\n",
        "      <td>  8128</td>\n",
        "      <td>  68780663</td>\n",
        "      <td> 258708</td>\n",
        "      <td> 26.556</td>\n",
        "      <td> 0.100</td>\n",
        "      <td> 34.263130</td>\n",
        "      <td>-86.210660</td>\n",
        "      <td> city</td>\n",
        "      <td> Alabama</td>\n",
        "      <td>    Albertville</td>\n",
        "    </tr>\n",
        "    <tr>\n",
        "      <th>Alexander City, Alabama</th>\n",
        "      <td> 101132</td>\n",
        "      <td> 2403077</td>\n",
        "      <td> 25</td>\n",
        "      <td> A</td>\n",
        "      <td> 14875</td>\n",
        "      <td>  6834</td>\n",
        "      <td> 105771865</td>\n",
        "      <td> 737649</td>\n",
        "      <td> 40.839</td>\n",
        "      <td> 0.285</td>\n",
        "      <td> 32.927240</td>\n",
        "      <td>-85.937122</td>\n",
        "      <td> city</td>\n",
        "      <td> Alabama</td>\n",
        "      <td> Alexander City</td>\n",
        "    </tr>\n",
        "    <tr>\n",
        "      <th>Aliceville, Alabama</th>\n",
        "      <td> 101228</td>\n",
        "      <td> 2403080</td>\n",
        "      <td> 25</td>\n",
        "      <td> A</td>\n",
        "      <td>  2486</td>\n",
        "      <td>  1164</td>\n",
        "      <td>  11814094</td>\n",
        "      <td>      0</td>\n",
        "      <td>  4.561</td>\n",
        "      <td> 0.000</td>\n",
        "      <td> 33.123744</td>\n",
        "      <td>-88.159445</td>\n",
        "      <td> city</td>\n",
        "      <td> Alabama</td>\n",
        "      <td>     Aliceville</td>\n",
        "    </tr>\n",
        "    <tr>\n",
        "      <th>Andalusia, Alabama</th>\n",
        "      <td> 101708</td>\n",
        "      <td> 2403097</td>\n",
        "      <td> 25</td>\n",
        "      <td> A</td>\n",
        "      <td>  9015</td>\n",
        "      <td>  4356</td>\n",
        "      <td>  50909454</td>\n",
        "      <td> 405923</td>\n",
        "      <td> 19.656</td>\n",
        "      <td> 0.157</td>\n",
        "      <td> 31.309436</td>\n",
        "      <td>-86.478031</td>\n",
        "      <td> city</td>\n",
        "      <td> Alabama</td>\n",
        "      <td>      Andalusia</td>\n",
        "    </tr>\n",
        "    <tr>\n",
        "      <th>Anniston, Alabama</th>\n",
        "      <td> 101852</td>\n",
        "      <td> 2403101</td>\n",
        "      <td> 25</td>\n",
        "      <td> A</td>\n",
        "      <td> 23106</td>\n",
        "      <td> 11599</td>\n",
        "      <td> 118195671</td>\n",
        "      <td> 179314</td>\n",
        "      <td> 45.636</td>\n",
        "      <td> 0.069</td>\n",
        "      <td> 33.673440</td>\n",
        "      <td>-85.810918</td>\n",
        "      <td> city</td>\n",
        "      <td> Alabama</td>\n",
        "      <td>       Anniston</td>\n",
        "    </tr>\n",
        "    <tr>\n",
        "      <th>Arab, Alabama</th>\n",
        "      <td> 102116</td>\n",
        "      <td> 2403104</td>\n",
        "      <td> 25</td>\n",
        "      <td> A</td>\n",
        "      <td>  8050</td>\n",
        "      <td>  3693</td>\n",
        "      <td>  33622862</td>\n",
        "      <td> 345993</td>\n",
        "      <td> 12.982</td>\n",
        "      <td> 0.134</td>\n",
        "      <td> 34.330328</td>\n",
        "      <td>-86.500771</td>\n",
        "      <td> city</td>\n",
        "      <td> Alabama</td>\n",
        "      <td>           Arab</td>\n",
        "    </tr>\n",
        "    <tr>\n",
        "      <th>Ashville, Alabama</th>\n",
        "      <td> 102908</td>\n",
        "      <td> 2403122</td>\n",
        "      <td> 25</td>\n",
        "      <td> A</td>\n",
        "      <td>  2212</td>\n",
        "      <td>   888</td>\n",
        "      <td>  49762892</td>\n",
        "      <td> 487142</td>\n",
        "      <td> 19.214</td>\n",
        "      <td> 0.188</td>\n",
        "      <td> 33.836160</td>\n",
        "      <td>-86.271667</td>\n",
        "      <td> city</td>\n",
        "      <td> Alabama</td>\n",
        "      <td>       Ashville</td>\n",
        "    </tr>\n",
        "  </tbody>\n",
        "</table>\n",
        "</div>"
       ],
       "output_type": "pyout",
       "prompt_number": 240,
       "text": [
        "                          GEOID  ANSICODE LSAD FUNCSTAT  POP10   HU10  \\\n",
        "fullName                                                                \n",
        "Abbeville, Alabama       100124   2403054   25        A   2688   1255   \n",
        "Adamsville, Alabama      100460   2403063   25        A   4522   1990   \n",
        "Alabaster, Alabama       100820   2403069   25        A  30352  11295   \n",
        "Albertville, Alabama     100988   2403074   25        A  21160   8128   \n",
        "Alexander City, Alabama  101132   2403077   25        A  14875   6834   \n",
        "Aliceville, Alabama      101228   2403080   25        A   2486   1164   \n",
        "Andalusia, Alabama       101708   2403097   25        A   9015   4356   \n",
        "Anniston, Alabama        101852   2403101   25        A  23106  11599   \n",
        "Arab, Alabama            102116   2403104   25        A   8050   3693   \n",
        "Ashville, Alabama        102908   2403122   25        A   2212    888   \n",
        "\n",
        "                             ALAND  AWATER  ALAND_SQMI  AWATER_SQMI  \\\n",
        "fullName                                                              \n",
        "Abbeville, Alabama        40255352  107642      15.543        0.042   \n",
        "Adamsville, Alabama       65083153   29719      25.129        0.011   \n",
        "Alabaster, Alabama        64860720  747585      25.043        0.289   \n",
        "Albertville, Alabama      68780663  258708      26.556        0.100   \n",
        "Alexander City, Alabama  105771865  737649      40.839        0.285   \n",
        "Aliceville, Alabama       11814094       0       4.561        0.000   \n",
        "Andalusia, Alabama        50909454  405923      19.656        0.157   \n",
        "Anniston, Alabama        118195671  179314      45.636        0.069   \n",
        "Arab, Alabama             33622862  345993      12.982        0.134   \n",
        "Ashville, Alabama         49762892  487142      19.214        0.188   \n",
        "\n",
        "                          INTPTLAT  \\\n",
        "fullName                             \n",
        "Abbeville, Alabama       31.564216   \n",
        "Adamsville, Alabama      33.605750   \n",
        "Alabaster, Alabama       33.214355   \n",
        "Albertville, Alabama     34.263130   \n",
        "Alexander City, Alabama  32.927240   \n",
        "Aliceville, Alabama      33.123744   \n",
        "Andalusia, Alabama       31.309436   \n",
        "Anniston, Alabama        33.673440   \n",
        "Arab, Alabama            34.330328   \n",
        "Ashville, Alabama        33.836160   \n",
        "\n",
        "                         INTPTLONG                                                                                        \\\n",
        "fullName                                                                                                                   \n",
        "Abbeville, Alabama                                              -85.259634                                                 \n",
        "Adamsville, Alabama                                             -86.974650                                                 \n",
        "Alabaster, Alabama                                              -86.823080                                                 \n",
        "Albertville, Alabama                                            -86.210660                                                 \n",
        "Alexander City, Alabama                                         -85.937122                                                 \n",
        "Aliceville, Alabama                                             -88.159445                                                 \n",
        "Andalusia, Alabama                                              -86.478031                                                 \n",
        "Anniston, Alabama                                               -85.810918                                                 \n",
        "Arab, Alabama                                                   -86.500771                                                 \n",
        "Ashville, Alabama                                               -86.271667                                                 \n",
        "\n",
        "                         TYPE    state            city  \n",
        "fullName                                                \n",
        "Abbeville, Alabama       city  Alabama       Abbeville  \n",
        "Adamsville, Alabama      city  Alabama      Adamsville  \n",
        "Alabaster, Alabama       city  Alabama       Alabaster  \n",
        "Albertville, Alabama     city  Alabama     Albertville  \n",
        "Alexander City, Alabama  city  Alabama  Alexander City  \n",
        "Aliceville, Alabama      city  Alabama      Aliceville  \n",
        "Andalusia, Alabama       city  Alabama       Andalusia  \n",
        "Anniston, Alabama        city  Alabama        Anniston  \n",
        "Arab, Alabama            city  Alabama            Arab  \n",
        "Ashville, Alabama        city  Alabama        Ashville  "
       ]
      }
     ],
     "prompt_number": 240
    },
    {
     "cell_type": "code",
     "collapsed": false,
     "input": [
      "paper_census = pd.concat([census_cities, city_papers])\n",
      "paper_census['log'] = paper_census['numPapers'][paper_census['numPapers'].notnull()]"
     ],
     "language": "python",
     "metadata": {},
     "outputs": [],
     "prompt_number": 287
    },
    {
     "cell_type": "code",
     "collapsed": false,
     "input": [
      "paper_census"
     ],
     "language": "python",
     "metadata": {},
     "outputs": [
      {
       "html": [
        "<pre>\n",
        "&lt;class 'pandas.core.frame.DataFrame'&gt;\n",
        "Index: 30264 entries, Abbeville, Alabama to d Seney, Michigan\n",
        "Data columns (total 17 columns):\n",
        "ALAND                                                                                              10159  non-null values\n",
        "ALAND_SQMI                                                                                         10159  non-null values\n",
        "ANSICODE                                                                                           10159  non-null values\n",
        "AWATER                                                                                             10159  non-null values\n",
        "AWATER_SQMI                                                                                        10159  non-null values\n",
        "FUNCSTAT                                                                                           10159  non-null values\n",
        "GEOID                                                                                              10159  non-null values\n",
        "HU10                                                                                               10159  non-null values\n",
        "INTPTLAT                                                                                           10159  non-null values\n",
        "INTPTLONG                                                                                          10159  non-null values\n",
        "LSAD                                                                                               10159  non-null values\n",
        "POP10                                                                                              10159  non-null values\n",
        "TYPE                                                                                               10159  non-null values\n",
        "city                                                                                               30211  non-null values\n",
        "numPapers                                                                                          20105  non-null values\n",
        "state                                                                                              30264  non-null values\n",
        "log                                                                                                27868  non-null values\n",
        "dtypes: float64(10), object(7)\n",
        "</pre>"
       ],
       "output_type": "pyout",
       "prompt_number": 293,
       "text": [
        "<class 'pandas.core.frame.DataFrame'>\n",
        "Index: 30264 entries, Abbeville, Alabama to d Seney, Michigan\n",
        "Data columns (total 17 columns):\n",
        "ALAND                                                                                              10159  non-null values\n",
        "ALAND_SQMI                                                                                         10159  non-null values\n",
        "ANSICODE                                                                                           10159  non-null values\n",
        "AWATER                                                                                             10159  non-null values\n",
        "AWATER_SQMI                                                                                        10159  non-null values\n",
        "FUNCSTAT                                                                                           10159  non-null values\n",
        "GEOID                                                                                              10159  non-null values\n",
        "HU10                                                                                               10159  non-null values\n",
        "INTPTLAT                                                                                           10159  non-null values\n",
        "INTPTLONG                                                                                          10159  non-null values\n",
        "LSAD                                                                                               10159  non-null values\n",
        "POP10                                                                                              10159  non-null values\n",
        "TYPE                                                                                               10159  non-null values\n",
        "city                                                                                               30211  non-null values\n",
        "numPapers                                                                                          20105  non-null values\n",
        "state                                                                                              30264  non-null values\n",
        "log                                                                                                27868  non-null values\n",
        "dtypes: float64(10), object(7)"
       ]
      }
     ],
     "prompt_number": 293
    },
    {
     "cell_type": "code",
     "collapsed": false,
     "input": [],
     "language": "python",
     "metadata": {},
     "outputs": []
    }
   ],
   "metadata": {}
  }
 ]
}